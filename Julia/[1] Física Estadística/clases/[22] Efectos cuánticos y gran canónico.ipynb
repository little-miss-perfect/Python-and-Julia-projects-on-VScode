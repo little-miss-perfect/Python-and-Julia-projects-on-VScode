{
 "cells": [
  {
   "cell_type": "markdown",
   "id": "8c35ee1e",
   "metadata": {
    "slideshow": {
     "slide_type": "slide"
    }
   },
   "source": [
    "# Resumen del semestre hasta el momento"
   ]
  },
  {
   "cell_type": "markdown",
   "id": "cae18adc",
   "metadata": {
    "slideshow": {
     "slide_type": "notes"
    }
   },
   "source": [
    "Estaba preparando la clase y me di cuenta que hemos visto muchas cosas que parecían en desorden en el curso, así que creo que antes de comenzar el nuevo tema, es buena idea hacer un resumen de lo que hemos visto, para que ahora, a distancia puedan conectar mejor todo lo que hemos estado viendo. Es importante el ejercicio, porque sí ayuda a entender dónde, cuándo y con qué estrategia pueden aplicar lo que han aprendido/hecho en este curso. \n",
    "\n",
    "Quizá se sentirá como que nos tomamos demasiado tiempo en recordar (como esos capítulos de refritos de las series de televisión), pero realmente creo que vale la pena, así que, aquí va. \n",
    "\n",
    "Primero vimos: "
   ]
  },
  {
   "cell_type": "markdown",
   "id": "77be905a",
   "metadata": {
    "slideshow": {
     "slide_type": "fragment"
    }
   },
   "source": [
    "- Fundamentos de probabilidad"
   ]
  },
  {
   "cell_type": "markdown",
   "id": "c3c5f29e",
   "metadata": {
    "slideshow": {
     "slide_type": "notes"
    }
   },
   "source": [
    "Ya todos aquí deben saber bien plantear cómo calcular la probabilidad de que ocurra un evento o de que una variable aleatoria tenga algún valor o bien que se encuentre entre un conjunto de valores. Luego, calcular esa probabilidad puede ser complicada, porque implica integrales que no siempre son fáciles de hacer, pero eso es un problema de cálculo, no de probabilidad. Lo importante es que sepan plantearla. \n",
    "\n",
    "También deben de saber aplicar el teorema de probabilidad total y el teorema de Bayes. Dos teoremas para darle la vuelta a los cálculos complicados. "
   ]
  },
  {
   "cell_type": "markdown",
   "id": "4d0f6d04",
   "metadata": {
    "slideshow": {
     "slide_type": "fragment"
    }
   },
   "source": [
    "- Probabilidad combinatoria"
   ]
  },
  {
   "cell_type": "markdown",
   "id": "026a6330",
   "metadata": {
    "slideshow": {
     "slide_type": "notes"
    }
   },
   "source": [
    "Deberían saber las fórmulas para contar el número de configuraciones en varias situaciones. Sé que en esto aún les falta algo de práctica. Vimos solo una partecita de probabilidad combinatoria, porque hay cientos de fórmulas raras. Ramanujan, ese famoso matemático indio que fue descubierto por Hardy, hizo sobre todo hipótesis en teoría combinatoria, así que pueden imaginar que hay montonal de teoremas en combinatoria que no vimos. Igual, deben saber al menos calcular factoriales, permutaciones, combinaciones y particiones y con eso tienen para bastantes cuentitas. "
   ]
  },
  {
   "cell_type": "markdown",
   "id": "f7f9eb06",
   "metadata": {
    "slideshow": {
     "slide_type": "fragment"
    }
   },
   "source": [
    "- Aproximación de Stirling y función $\\Gamma$"
   ]
  },
  {
   "cell_type": "markdown",
   "id": "52732c4a",
   "metadata": {
    "slideshow": {
     "slide_type": "notes"
    }
   },
   "source": [
    "Deberían ya saber cómo aproximar el factorial por una exponencial de forma bastante razonable. También deberían saber que la función gamma de Rimman, que es una función continua basada en una integral, es una generalización del factorial, así que en general podemos cambiar factoriales por funciones gamma. La ventaja es que la función gamma está definida en los reales y no sólo en los enteros. "
   ]
  },
  {
   "cell_type": "markdown",
   "id": "ccfb5392",
   "metadata": {
    "slideshow": {
     "slide_type": "fragment"
    }
   },
   "source": [
    "- Teorema de límite central y caminantes aleatorios"
   ]
  },
  {
   "cell_type": "markdown",
   "id": "28c6f901",
   "metadata": {
    "slideshow": {
     "slide_type": "notes"
    }
   },
   "source": [
    "Ya deberían saber qué sumar variables aleatorias les lleva frecuentemente a una variable aleatoria con distribución normal en particular y deberían poder aproximar esa suma de variables aleatorias por la correspondiente variable con distribución normal, es decir, estimar su valor esperado y su varianza. \n",
    "\n",
    "Por otro lado, también vimos que las gaussianas son la solución de la ecuación de difusión y que el desplazamiento cuadrático medio corresponde a la varianza. Esto nos sirve para relacionar el caminante aleatorio con un sistema físico, pues ahí el coeficiende de difusión depende de la viscosidad y la temperatura, en vez del tamaño de paso y la probabilidad de moverse en cada dirección.\n",
    "\n",
    "También demostramos que la probabilidad en 1D de volver al origen es 1 si la probabilidad de moverse a la izquierda o derecha es la misma. De paso dimos argumentos para demostrar lo mismo en 2D. Aunque no lo demostramos (volveremos a esto más adelante), sí lo mencionamos que el caminante aleatorio en 3D no tiene la misma probabilidad de volver al origen. Si dos personas juegan apuestas con volados, en algún momento tendrán el mismo dinero, pero si 3 personas juegan apuestas con alguna variable aleatoria excluyente, hay una probabilidad de más o menos 1/4 de que nunca vuelvan a tener el mismo dinero todos!!"
   ]
  },
  {
   "cell_type": "markdown",
   "id": "79be0931",
   "metadata": {
    "slideshow": {
     "slide_type": "fragment"
    }
   },
   "source": [
    "- $S = k_B \\log(\\Omega)$"
   ]
  },
  {
   "cell_type": "markdown",
   "id": "733c2814",
   "metadata": {
    "slideshow": {
     "slide_type": "notes"
    }
   },
   "source": [
    "Vimos que la entropía termodinámica, definida en el equilibrio, corresponde microscópicamente al logaritmo del número de microestados, que dependen de la energía, el volumen y el número de partículas, es decir, del ensamble microcanónico. Por lo tanto, si podemos calcular el número de micro-estados como función de la energía, número de partículas y volumen, podemos obtener vía la ecuación $TdS$ las propiedades termodinámicas del sistema. \n",
    "\n",
    "Lo bonito de esto es que aplica para cualquier sistema, así que no necesitamos que sea un sistema termodinámico típico. Si hay muchas partículas y podemos definir una \"energía\", un \"volumen\" y un número de partículas, entonces podemos calcular la entropía y por lo tanto las propiedades \"termodinámicas\" de esto. Esto implica que podemos hacer \"termodinámica\" de sistemas sociales, biológicos, de estrellas, de granos de arena, etc. \n",
    "\n",
    "Es decir, esta ecuación es un poco como el principio de Hamilton, que nos permite pasar de estudiar sistemas mecánicos a sistemas hamiltonianos, que incluyen más que sistemas meramente mecánicos. Igual con la física estadística, pasamos de estudiar sistemas termodinámicos, a cualquier sistema de muchas partículas donde podemos definir una energía y de hecho, de forma más general, un hamiltoniano. "
   ]
  },
  {
   "cell_type": "markdown",
   "id": "1f1a2676",
   "metadata": {
    "slideshow": {
     "slide_type": "fragment"
    }
   },
   "source": [
    "- $H(\\rho) = -\\int_{-\\infty}^\\infty \\rho \\log(\\rho) dx$ como medida de la desviación a una guassiana"
   ]
  },
  {
   "cell_type": "markdown",
   "id": "52d5068b",
   "metadata": {
    "slideshow": {
     "slide_type": "notes"
    }
   },
   "source": [
    "Inspirados en el caminante aleatorio y tratando de dar una medida de cuándo ya tenemos suficiente estadística para hablar de su comportamiento, llegamos a que si tenemos una suma de variables aleatorias y queremos comparar qué tan lejos o cerca estamos de la gaussiana que le corresponde podemos medir esta cantidad. Esta se va a maximizar cuando $\\rho$ sea la distribución gaussiana. Esto es pensando en la distribución de la variable aleatoria. \n",
    "\n"
   ]
  },
  {
   "cell_type": "markdown",
   "id": "65f60c61",
   "metadata": {
    "slideshow": {
     "slide_type": "fragment"
    }
   },
   "source": [
    "- $ S(E,V,N) = H(E,V,N)$ en el equilibrio, es decir, cuando $H$ es máxima. "
   ]
  },
  {
   "cell_type": "markdown",
   "id": "51823466",
   "metadata": {
    "slideshow": {
     "slide_type": "notes"
    }
   },
   "source": [
    "Si pensamos en térmonos de los posibles estados, vimos que esto significa que todos los estados tienen la misma probabilidad. En principio podríamos tener algunas sumas que fueran más probables, por ejemplo $1+2$ que fuera más probable que $2+1$, sea lo que sea que eso signifique. Vimos que maximizar $H$ también significa que todas las sumas tengan la misma probabilidad, o bien, que haya equiprobabilidad de los estados. Lo que nos llevó a la equivalencia entre las entropías de Boltzmann y Shannon en el equilibrio (o sea, la entropía de Shannon es más general, no aplica sólo en el equilibrio). "
   ]
  },
  {
   "cell_type": "markdown",
   "id": "f127e86b",
   "metadata": {
    "slideshow": {
     "slide_type": "fragment"
    }
   },
   "source": [
    "- Relación entre transformadas de Laplace y Lagrange \n",
    "\n",
    "$\\Omega(E,V,N) \\rightarrow Z(T,V,N) = \\int \\Omega(E)e^{-\\beta E} dE$ \n",
    "\n",
    "$TS(E,V,N) = k_BT\\log(\\Omega) \\rightarrow F(T,V,N) = -k_B T \\log(Z) = E-TS$"
   ]
  },
  {
   "cell_type": "markdown",
   "id": "199a2481",
   "metadata": {
    "slideshow": {
     "slide_type": "notes"
    }
   },
   "source": [
    "También vimos una forma de pasar de un ensamble a a otro. En particular estudiamos el ensamble canónico y de paso también vimos como cambiar al gran canónico, que es lo que nos ocupará hoy. "
   ]
  },
  {
   "cell_type": "markdown",
   "id": "9dd8d955",
   "metadata": {
    "slideshow": {
     "slide_type": "fragment"
    }
   },
   "source": [
    "- $$\\langle E \\rangle = -\\frac{\\partial}{\\partial \\beta} \\log(Z)$$\n",
    "\n",
    "\n",
    "$$ C_v = \\frac{1}{k_B T^2}\\frac{\\partial^2}{\\partial \\beta^2} \\log(Z) $$\n",
    "\n",
    "y\n",
    "\n",
    "$$ P = k_B T \\frac{\\partial}{\\partial V} \\log(Z) $$"
   ]
  },
  {
   "cell_type": "markdown",
   "id": "f7e22744",
   "metadata": {
    "slideshow": {
     "slide_type": "notes"
    }
   },
   "source": [
    "Esta formulitas las podemos usar en general. El chiste está en calcular el ensamble canónico. "
   ]
  },
  {
   "cell_type": "markdown",
   "id": "572fb18a",
   "metadata": {
    "slideshow": {
     "slide_type": "fragment"
    }
   },
   "source": [
    "- Algoritmos de Monte-Carlo"
   ]
  },
  {
   "cell_type": "markdown",
   "id": "67f85d70",
   "metadata": {
    "slideshow": {
     "slide_type": "notes"
    }
   },
   "source": [
    "Como no es siempre trivial calcular $Z$, vimos una manera de hacer simulaciones para estimar de forma indirecta $Z$ numéricamente y así poder hacer los cálculos de $C_v$, energía promedio, presión, o lo que necesitemos calcular. Insisto, esto es mucho más que sólo sistemas termodinámicos. En los últimos 20 años ya se ha explotado algo el expandir a sistemas no termodinámicos típicos, sino sistemas complejos, pero aún hay muchísimo que se puede hacer. Hacia el final del curso espero mostrarles algunos ejemplos de esto. Van desde sistemas sociales, hasta inteligencia artificial. Realmente la física estadística ha entrado en todas las ramas de la ciencia, no sólo de la física. "
   ]
  },
  {
   "cell_type": "markdown",
   "id": "9ad7ed35",
   "metadata": {
    "slideshow": {
     "slide_type": "fragment"
    }
   },
   "source": [
    "- Ejemplos curiosos: Gas ideal (incluida la distribución de Maxwell-Boltzmann), sólido paramagnético (Ley de Curie y temperaturas negativas), modelo del hule, sólido de Einstein (capacidad calorífica de sólidos cristalinos), migración de átomos en sólidos, gas de moléculas diatómicas, etc..."
   ]
  },
  {
   "cell_type": "markdown",
   "id": "974d7953",
   "metadata": {
    "slideshow": {
     "slide_type": "notes"
    }
   },
   "source": [
    "Además, vimos algunos ejemplos interesantes. En particular quiero resaltar el sólido paramagnético por esto de las temperaturas negativas y el sólido de Einstein. En el caso de las temperaturas negativas, es algo raro y vamos a ver en la clase relajada un experimento donde veamos en acción esto de las temperaturas negativas (a medias). Creo que en esa clase además les platicaré más sobre esto y las teorías cosmológicas al respecto. Raro y quizá posible. Una teoría aún muy muy verde, pero interesante. Ya les platicaré. \n",
    "\n",
    "Sobre el sólido de Einstein, quiero mencionar que también vimos que hay un error con lo que se observa experimentalmente a bajas temperaturas. El error viene por dos lados. En primer lugar, no consideró la interacción entre las partículas. Luego haremos el cálculo con interacción. Se vuelve mucho más difícil, pero vale la pena hacerlo. Por otro lado, no consideró los efectos cuánticos que aparecen a bajas temperaturas y esa es la razón que nos hayamos esperado para ese cálculo. "
   ]
  },
  {
   "cell_type": "markdown",
   "id": "03e27d8e",
   "metadata": {
    "slideshow": {
     "slide_type": "fragment"
    }
   },
   "source": [
    "- para el gas ideal $Z = \\frac{V^N}{N!}\\Big(\\frac{2\\pi m}{\\beta h^2}\\Big)^{3N/2} = \\frac{1}{N!}\\Big(\\frac{V}{ \\lambda_T^3}\\Big)^N$, con la longitud de onda térmica $\\lambda_T = \\sqrt{\\frac{\\beta h^2}{2\\pi m} } = \\lambda_B(E= \\pi k_BT ) = \\frac{h}{\\sqrt{2mE}}$"
   ]
  },
  {
   "cell_type": "markdown",
   "id": "a68d3aaf",
   "metadata": {
    "slideshow": {
     "slide_type": "notes"
    }
   },
   "source": [
    "Lo importante aquí es que vimos que $\\lambda$ tiene unidades de longitud, por lo que $\\frac{V}{\\lambda^3}$ es un número de \"cajitas\" cúbicas de lado $\\lambda$. \n",
    "\n",
    "Vimos además que $\\lambda$ sirve como medida de qué tantos efectos cuánticos tendremos. Si $\\lambda \\sim 0$ no hay efectos cuánticos, pero si $\\lambda$ se aproxima a la distancia intermolecular, entonces sí habrá efectos cuánticos. Es decir, si la densidad es alta o si la temperatura es baja, tendremos efectos cuánticos!!!"
   ]
  },
  {
   "cell_type": "markdown",
   "id": "bab36ec6",
   "metadata": {
    "slideshow": {
     "slide_type": "slide"
    }
   },
   "source": [
    "## Partículas idénticas, cajitas idénticas"
   ]
  },
  {
   "cell_type": "markdown",
   "id": "0d8437bb",
   "metadata": {
    "slideshow": {
     "slide_type": "notes"
    }
   },
   "source": [
    "Ya consideramos algo de cuántica al dividir $Z$ por $N!$, pues ese paso lo hicimos porque las partículas son idénticas, y como discutimos antes, eso no podría ocurrir clásicamente, pues el hecho de darles una posición y una velocidad nos permite seguirlas y por lo tanto etiquetarlas. Así que ya consideramos algo \"cuántico\" en todo esto. Pero también vimos que eso no tiene una relevancia mayor cuando calculamos la ecuación de estado. Además, eso lo hicimos sólo en el gas ideal, porque en los sólidos sí fijamos una posición, así que la parte cuántica la despreciamos completamente y es justamente en los sólidos donde la parte cuántica debería ser más relevante, porque típicamente están a una menor temperatura y tienen una mayor densidad de partículas, así que según el análisis sobre $\\lambda$ justamente en esas condiciones aparecen los efectos cuánticos, que discutimos corresponden a el principio de exclusión de Pauli. \n",
    "\n",
    "Aquí quiero aclarar que no sólo aparece el principio de exclusión de Pauli y de hecho es un poco más impresionante lo que sucede por la falta del principio de exclusión. ¿Pero si no es el principio de exclusión de Pauli qué es lo que aparece? \n",
    "\n",
    "Para esto conviene escribir $Z$ del gas como: \n",
    "\n"
   ]
  },
  {
   "cell_type": "markdown",
   "id": "f1fb4f5b",
   "metadata": {
    "slideshow": {
     "slide_type": "fragment"
    }
   },
   "source": [
    "$$ Z = \\frac{M^N}{N!} = \\Omega$$"
   ]
  },
  {
   "cell_type": "markdown",
   "id": "28fc04b6",
   "metadata": {
    "slideshow": {
     "slide_type": "notes"
    }
   },
   "source": [
    "Donde $M$ es el número de cajas. Esto es claro, el ensamble canónico, pero también el microcanónico. A propósito no pongo las variables termodinámicas por eso. \n",
    "\n",
    "Este es el conjunto de configuraciones que tenemos de acomodar $N$ partículas indistinguibles en $M$ cajas distinguibles. Si son $M$ cajas y $N$ partículas, entonces la partícula 1 la podemos poner en $M$ lugares, lo mismo la $2$, la $3$, etc. Por lo tanto hay $M^N$ configuraciones posibles, pero esto considera que acomodamos con todos los posibles ordenes las partículas, pero como son indistinguibles las partículas, da lo mismo el orden en que las acomodemos, así que hay que dividir entre el número de permutaciones, que son simplemente $N!$. \n",
    "\n",
    "Ahora, $\\lambda_T$ es una longitud de onda que depende de la energía térmica del sistema. Si recordamos de dónde salen los términos de $\\lambda_T$, estos salen de considerar el problema de una partícula cuántica en una caja y claramente, esta partícula no es realmente partícula, sino onda-partícula, y por lo tanto tiene asociada una longitud de onda. Cuando la longitud es suficientemente grande como para que las ondas se sumen y las probabilidades de encontrar las partículas sigan un patrón de difracción fuera de lo que esperaríamos clásicamente, entran los efectos cuánticos. Esto ocurre si la energía de las partículas es baja (por el principio de incertidumbre). Esa energía la podemos estimar en conjunto vía la energía térmica, que es más o menos $k_B T$. Así que \"los efectos cuánticos\" que ocurren son en realidad por la superposición de las ondas de cada partícula. Esto puede verse como el principio de exclusión de Pauli cuando se trata de Ferminones, o como una atracción bosónica cuando se trata de Bosones. \n",
    "\n",
    "Entonces, ¿cuándo se vuelve el sistema \"cuántico\"? Con la discusión anterior llegamos a la conclusión de que nuestras cajas no están realmente separadas. En realidad no son cajas, son gaussianas que se \"ven\" definidas hasta una cierta distancia. Estamos suponiendo que la desviación estándar de estas cajas es lo que nos hace verlas definidas. Pero si son gaussianas muy aplastadas, las cajas ya no están tan definidas y de hecho no podemos distinguir una caja de la otra. "
   ]
  },
  {
   "attachments": {
    "image.png": {
     "image/png": "[encoded data removed]"
    }
   },
   "cell_type": "markdown",
   "id": "6b868d8b",
   "metadata": {
    "slideshow": {
     "slide_type": "fragment"
    }
   },
   "source": [
    "![image.png](attachment:image.png)"
   ]
  },
  {
   "cell_type": "markdown",
   "id": "96ec753f",
   "metadata": {
    "slideshow": {
     "slide_type": "notes"
    }
   },
   "source": [
    "Así que los efectos cuántigos vienen de que no sean distinguibles las cajas, no sólo las partículas, que de alguna forma parte de no poder reconocer las partículas. \n",
    "\n",
    "En la aproximación de Boltzmann, que es la de $M^N/N!$, aunque decimos que son indistinguibles las partículas, sí tienen una posición suficientemente definida. No sabemos exactamente dónde están, pero sabemos que están en la caja tal o cual. Si quitamos esa aproximación, entonces tampoco podemos reconocer las cajas, pues las cajas están asociadas a las partículas en realidad. Así que debemos considerar que las cajas son indistinguibles. Pero hay algo más. Si se trata de bosones, es sólo eso, pero si se trata de Fermiones, hay que agregar el que no se puedan poner más de una partícula por caja por el principio de exclusión de Pauli. "
   ]
  },
  {
   "cell_type": "markdown",
   "id": "05869836",
   "metadata": {
    "slideshow": {
     "slide_type": "fragment"
    }
   },
   "source": [
    "### Propiedades imortantes de los Bosones y Fermiones: "
   ]
  },
  {
   "cell_type": "markdown",
   "id": "0d248095",
   "metadata": {
    "slideshow": {
     "slide_type": "fragment"
    }
   },
   "source": [
    "- Bosones tienen espín entero"
   ]
  },
  {
   "cell_type": "markdown",
   "id": "fb38d851",
   "metadata": {
    "slideshow": {
     "slide_type": "fragment"
    }
   },
   "source": [
    "- Ferminones tienen espín semi-entero"
   ]
  },
  {
   "cell_type": "markdown",
   "id": "71175fe9",
   "metadata": {
    "slideshow": {
     "slide_type": "fragment"
    }
   },
   "source": [
    "- Puede haber tantos bosones como sea en cada nivel energético. "
   ]
  },
  {
   "cell_type": "markdown",
   "id": "b8e1f44f",
   "metadata": {
    "slideshow": {
     "slide_type": "fragment"
    }
   },
   "source": [
    "- Hay a lo más 1 Fermión por cada nivel energético (y por cada degeneración). "
   ]
  },
  {
   "cell_type": "markdown",
   "id": "56cbe6f5",
   "metadata": {
    "slideshow": {
     "slide_type": "fragment"
    }
   },
   "source": [
    "- Dos bosones forman un bosón. "
   ]
  },
  {
   "cell_type": "markdown",
   "id": "50c2fcfb",
   "metadata": {
    "slideshow": {
     "slide_type": "fragment"
    }
   },
   "source": [
    "- Dos fermiones forman también un bosón!!"
   ]
  },
  {
   "cell_type": "markdown",
   "id": "707cd322",
   "metadata": {
    "slideshow": {
     "slide_type": "notes"
    }
   },
   "source": [
    "Esto último es importante para explicar la superconductividad y la superfluides del $He_3$. Se forman pares de fermiones que se entrelazan y forman un bosón y son esos pares los que se condensan generando la superfluides o superconductividad. Hablaremos vagamente del tema cuando hablemos del condensado de Bose. \n",
    "\n",
    "Lo importante es que los espines semi-enteros llevan a una ecuación de onda que resulta en el principio de exclusión, mientras que los espines enteros no tienen ese problema. Ahora sí, resolvamos el problema del examen, ya sabiendo que estamos haciendo los casos semi-clásico, bosónico y fermiónico. \n",
    "\n"
   ]
  },
  {
   "cell_type": "markdown",
   "id": "fd3b4c27",
   "metadata": {
    "slideshow": {
     "slide_type": "fragment"
    }
   },
   "source": [
    "#### Bosones: \n",
    "\n",
    "Calcular el número de configuraciones de $N$ partículas en $M$ cajas si no hay restricción de número de partícula por caja y tanto las cajas como las partículas son indistinguibles:"
   ]
  },
  {
   "cell_type": "markdown",
   "id": "578dd7f6",
   "metadata": {
    "slideshow": {
     "slide_type": "fragment"
    }
   },
   "source": [
    "$$|000|000|00|0||\\dots||00|0||000||0|$$"
   ]
  },
  {
   "cell_type": "markdown",
   "id": "3c4ff9ee",
   "metadata": {
    "slideshow": {
     "slide_type": "notes"
    }
   },
   "source": [
    "En este \"dibujo\" pongo las partículas con $0$'s y las cajas con $|$. Fijo el primer $|$, luego, cada caja nueva es un $|$ más. Cada partícula es un $0$. La barra también está fija. No hay $0$ ni antes de la priemra barra, ni después de la última, así que la podemos descartar, poruqe no podemos mover de lugar esa última barra. Hay por lo tanto $M-1$ barras móviles y $N$ $0$'s. Así que en total tenemos $M-1 + N$ objetos que podemos acompodar como querramos. Así las cajas no tienen etiqueta, porque no reconocemos un $|$ de otro $|$. Tampoco las partículas se reconocen. Tenemos $M-1+N$ objetos separados en 2 grupos, uno de $M-1$ objetos (las barras) y otro de $N$ (los $0$'s) y nos preguntamos cuantas formas hay de acomodarlos. Eso es justamente el número de particiones de $M-1+N$ en $N$ y $M-1$ objetos, es decir: "
   ]
  },
  {
   "cell_type": "markdown",
   "id": "eb813032",
   "metadata": {
    "slideshow": {
     "slide_type": "fragment"
    }
   },
   "source": [
    "Hay \n",
    "\n",
    "$$\\binom{M-1+N}{M-1,N} = \\frac{(M+N-1)!}{N!(M-1)!} = \\Omega$$\n",
    "\n",
    "configuraciones posibles.\n"
   ]
  },
  {
   "cell_type": "markdown",
   "id": "b3abd504",
   "metadata": {
    "slideshow": {
     "slide_type": "notes"
    }
   },
   "source": [
    "Que sustituyendo $M$ por su valor en $\\lambda$ nos da el ensamble canónico de los bosones. \n",
    "\n",
    "Ahora, para los fermiones: "
   ]
  },
  {
   "cell_type": "markdown",
   "id": "f9afd8b2",
   "metadata": {
    "slideshow": {
     "slide_type": "fragment"
    }
   },
   "source": [
    "#### Fermiones: \n",
    "\n",
    "Calcular el número de configuraciones de $N$ partículas en $M$ cajas si hay a lo más una partícula por caja y tanto las cajas como las partículas son indistinguibles:"
   ]
  },
  {
   "cell_type": "markdown",
   "id": "80582425",
   "metadata": {
    "slideshow": {
     "slide_type": "notes"
    }
   },
   "source": [
    "Queremos seguir teniendo cajas y partículas indistinguibles, pero ahora restringimos las partículas, pues si hay una partícula, tiene que cerrar la caja. Es decir, cada partícula tiene de su lado derecho una barra. Así que ahora el dibujo lo hacemos con: "
   ]
  },
  {
   "cell_type": "markdown",
   "id": "c44fc58e",
   "metadata": {
    "slideshow": {
     "slide_type": "fragment"
    }
   },
   "source": [
    "partículas $0|$\n",
    "\n",
    "cajas $|$\n",
    "\n",
    "dibujo $|*$(paticula o caja)$*$(paticula o caja)$\\dots *$(paticula o caja) = $|||0|0|||\\dots 0|0||0|$"
   ]
  },
  {
   "cell_type": "markdown",
   "id": "644e2fda",
   "metadata": {
    "slideshow": {
     "slide_type": "fragment"
    }
   },
   "source": [
    "Ahora hay en total $M$ objetos + la barra del inicio. Sólo hay $M$ objetos, porque ahora las partículas incluyen una barra. Así que como tenemos $M$ barras (además de la del inicio), tenemos $M$ objetos. $N$ son $0|$ y $M-N$ son $|$. Nuevamente esto nos lleva a una particion de $M$ objetos en dos conjuntos, uno con $N$ objetos y otro con $M-N$ objetos, lo que nos da:  "
   ]
  },
  {
   "cell_type": "markdown",
   "id": "4b758794",
   "metadata": {
    "slideshow": {
     "slide_type": "fragment"
    }
   },
   "source": [
    "Hay \n",
    "\n",
    "$$\\binom{M}{N, M-N} = \\frac{M!}{N!(M-N)!} = \\Omega$$\n",
    "\n",
    "configuraciones (particiones) posibles. "
   ]
  },
  {
   "cell_type": "markdown",
   "id": "960eb211",
   "metadata": {
    "slideshow": {
     "slide_type": "notes"
    }
   },
   "source": [
    "Con esto ya tenemos el microcanónico y el canónico para los ensambles cuánticos. \n",
    "\n",
    "Ahora, voy a mostrarles que este último en el límite donde $M >> N$ o sea en donde $T$ tiende a infinito o donde la densidad es baja, esto tiende al ensamble de Boltzmann."
   ]
  },
  {
   "cell_type": "markdown",
   "id": "80b08efd",
   "metadata": {
    "slideshow": {
     "slide_type": "fragment"
    }
   },
   "source": [
    "\n",
    "$$ \\frac{M!}{N!(M-N)!} = \\frac{M\\cdot(M-1)\\cdots (M-N+1)}{N!} = \\frac{M^N \\cdot (1-1/M)\\cdots (1-(N-1)/M)}{N!} \\le \\frac{M^N}{N!}$$\n",
    "\n",
    "$$\\frac{M^N \\cdot (1-1/M)\\cdots (1-(N-1)/M)}{N!} \\ge \\frac{M^N \\cdot (1-N/M)\\cdots (1-N/M)}{N!} = \\frac{M^N (1-N/M)^N}{N!}$$\n"
   ]
  },
  {
   "cell_type": "markdown",
   "id": "6161feca",
   "metadata": {
    "slideshow": {
     "slide_type": "fragment"
    }
   },
   "source": [
    "Ahora como $M >> N$ podemos ponde $M =  N/a$ con $1>> a > 0$\n",
    "\n",
    "por lo que\n",
    "\n",
    "$$ \\frac{M^N (1-N/M)^N}{N!} =  \\frac{M^N (1-a/N)^N}{N!}$$"
   ]
  },
  {
   "cell_type": "markdown",
   "id": "62169327",
   "metadata": {
    "slideshow": {
     "slide_type": "fragment"
    }
   },
   "source": [
    "pero $(1-a/x)^x \\rightarrow \\exp(-a)$ si $x\\rightarrow \\infty$\n",
    "\n",
    "así que: \n",
    "\n",
    "$$\\approx \\frac{M^N \\exp(-a)}{N!} \\approx \\frac{M^N}{N!}$$"
   ]
  },
  {
   "cell_type": "markdown",
   "id": "b3f0b9dd",
   "metadata": {
    "slideshow": {
     "slide_type": "fragment"
    }
   },
   "source": [
    "Por lo tanto: \n",
    "\n",
    "$$\\frac{M!}{N!(M-N)!}\\approx \\frac{M^N}{N!}$$ \n",
    "\n",
    "si $M>> N$"
   ]
  },
  {
   "cell_type": "markdown",
   "id": "dbc70185",
   "metadata": {
    "slideshow": {
     "slide_type": "notes"
    }
   },
   "source": [
    "Algo similar para el caso bosónico, aunque la convercencia no es igual de rápida. No nos importa por ahora, sólo importa si hacen \"segunda cuantización\", que no haremos, porque es mega talachudo. Para un curso de posgrado, no porque requieran herramientas sofisticadísimas, sino porque uno no se avienta la talacha a menos que quiera especializarse en el tema. \n",
    "\n",
    "En fin, con eso ya demostramos que un gas de fermiones tiende a uno de Boltzmann en el límite de temperaturas altas o densidades bajas. Les había comentado (luego hacen de tarea-examen el cálculo con los datos correctos), que eso implica algo así como una temperatura de aproxiamdamente $10^4 K$ los electrones dejan de comportarse cuánticamente. O sea, básicamente toda la estructura eléctrica de la materia es cuántica, excepto en plasmas donde ya pueden usar la aproximación clásica. En el caso de los bosones, la cosa cambia completamente y los efectos cuánticos aparecen a micro o nano Kelvins. Lo harán de examen. Básicamente tendrán que sustituir constantes y tamaños dentro de la longitud de onda térmica. \n",
    "\n",
    "Ahora, tratemos de hacer algo con esta función de partición microcanónica/canónica. \n"
   ]
  },
  {
   "cell_type": "markdown",
   "id": "8cc01d6e",
   "metadata": {
    "slideshow": {
     "slide_type": "subslide"
    }
   },
   "source": [
    "## Número promedio de ocupación $\\langle n_l \\rangle$"
   ]
  },
  {
   "cell_type": "markdown",
   "id": "3558c904",
   "metadata": {
    "slideshow": {
     "slide_type": "notes"
    }
   },
   "source": [
    "Voy a hacer una deducción muy poco convencional. No van a encontrarla en los libros, pero me gusta mi versión, porque ayuda a entender una variable termodinámica con la que no tenemos práctica los físicos. También creo que con esta versión aunque es más \"rara\", se termina entendiendo mejor que es $\\langle n_l \\rangle$. \n",
    "\n",
    "Pensemos en $M$ como posibles niveles energéticos de las partículas. Como los niveles energéticos de los electrones en un átomo, pero de forma más general, ahora pueden ser los niveles energéticos de un átomo en una caja, etc. Cada nivel energético tiene $n_l$ partículas, de forma que: "
   ]
  },
  {
   "cell_type": "markdown",
   "id": "8f4c68c3",
   "metadata": {
    "slideshow": {
     "slide_type": "fragment"
    }
   },
   "source": [
    "$$\\sum n_l = N$$"
   ]
  },
  {
   "cell_type": "markdown",
   "id": "d35e039a",
   "metadata": {
    "slideshow": {
     "slide_type": "notes"
    }
   },
   "source": [
    "Ahora escribimos la energía libre de Hemholtz, por eso de que nuestro ensamble es algo así como microcanónico-canónico. Primero intenté con la entropía directamente y no salió, así que me di cuenta que era mejor usar la energía libre de Hemholtz, que ya sugería por estar teniendo un ensamble microcanónico que surgió de un canónico: "
   ]
  },
  {
   "cell_type": "markdown",
   "id": "508c7343",
   "metadata": {
    "slideshow": {
     "slide_type": "fragment"
    }
   },
   "source": [
    "$$F = E-TS = \\sum_l (n_l \\epsilon_l - k_B T \\log(\\Omega_l))$$"
   ]
  },
  {
   "cell_type": "markdown",
   "id": "eb6055e9",
   "metadata": {
    "slideshow": {
     "slide_type": "notes"
    }
   },
   "source": [
    "Aquí simplemente multiplicamos el número de partículas de cada nivel por la energía de ese nivel para obtener $E$ y para obtener la entropía usamos la ecuación de Boltzmann, que obtuvimos por nivel, para que sea a energía constante. Aquí es importante hacer notar que los niveles son fijos, así que no se puede trasmitir energía de un nivel a otro a menos que se migre una partícula de un nivel a otro. Por eso la entropía total es simplemente la suma de las entropías y podemos separar las $\\Omega$s. También, quiero mencionar que aquí se ve porque la mayoría usa el ensamble gran canónico en vez del microcanónico. Hay migración de partículas.\n",
    "\n",
    "En fin, ahora vamos a fijarnos en el nivel energético $j$, cuyo número de ocupación es $n_j$. Como $N$ está fijo en el microcanónico: "
   ]
  },
  {
   "cell_type": "markdown",
   "id": "3e31fbe4",
   "metadata": {
    "slideshow": {
     "slide_type": "fragment"
    }
   },
   "source": [
    "$$n_j = N-\\sum_{l\\ne j} n_l$$"
   ]
  },
  {
   "cell_type": "markdown",
   "id": "117beb33",
   "metadata": {
    "slideshow": {
     "slide_type": "notes"
    }
   },
   "source": [
    "Aquí elegí $j$ arbitrariamente. Lo importante es que hay una variable de número que no es independiente. Voy a separar ahora $F$ en términos de las $l$s y $j$"
   ]
  },
  {
   "cell_type": "markdown",
   "id": "5a7a7032",
   "metadata": {
    "slideshow": {
     "slide_type": "fragment"
    }
   },
   "source": [
    "$$F = \\sum_{l\\ne j} (n_l \\epsilon_l - k_B T \\log(\\Omega_l)) + (n_j \\epsilon_j - k_B T \\log(\\Omega_j))$$"
   ]
  },
  {
   "cell_type": "markdown",
   "id": "275d7a51",
   "metadata": {
    "slideshow": {
     "slide_type": "notes"
    }
   },
   "source": [
    "Esto lo hago, porque, como $n_j$ es \"diferente\", si buscamos un extremo de $F$, necesitamos que todas las derivadas de $F$ respecto de cada $n_l$ sean $0$, pero $n_j$ es dependiente, así que las derivadas de $n_j$ con respecto de los $n_l$ no son 0. "
   ]
  },
  {
   "cell_type": "markdown",
   "id": "1c98ffa3",
   "metadata": {
    "slideshow": {
     "slide_type": "fragment"
    }
   },
   "source": [
    "$$\\frac{\\partial n_j}{\\partial n_l} = -1$$"
   ]
  },
  {
   "cell_type": "markdown",
   "id": "ba86e18a",
   "metadata": {
    "slideshow": {
     "slide_type": "fragment"
    }
   },
   "source": [
    "$$0 = \\frac{\\partial F}{\\partial n_l} = \\epsilon_l - k_B T \\frac{\\partial \\log(\\Omega_l)}{\\partial n_l} - \\Big(\\epsilon_j - k_B T \\frac{\\partial \\log(\\Omega_j)}{\\partial n_l}\\Big)$$\n",
    "\n",
    "$$ \\Rightarrow\\epsilon_l - k_B T \\frac{\\partial \\log(\\Omega_l)}{\\partial n_l} = \\epsilon_j - k_B T \\frac{\\partial \\log(\\Omega_j)}{\\partial n_l} = \\mu$$"
   ]
  },
  {
   "cell_type": "markdown",
   "id": "72d78f81",
   "metadata": {
    "slideshow": {
     "slide_type": "notes"
    }
   },
   "source": [
    "donde $\\mu$ es una contate, pues en realidad no había nada de especial sobre $j$ o sobre $l$, pude haber tomado cualquier otro par, así que todos los $\\epsilon - k_B T \\frac{\\partial \\log(\\Omega)}{\\partial n}$ son el mismo y son $ \\mu$. Por lo tanto: "
   ]
  },
  {
   "cell_type": "markdown",
   "id": "9fabb8d0",
   "metadata": {
    "slideshow": {
     "slide_type": "fragment"
    }
   },
   "source": [
    "$$\\frac{\\partial \\log(\\Omega_l)}{\\partial n_l} = \\beta (\\epsilon_l -\\mu)$$"
   ]
  },
  {
   "cell_type": "markdown",
   "id": "687b11a0",
   "metadata": {
    "slideshow": {
     "slide_type": "notes"
    }
   },
   "source": [
    "Esto es muy general, aplica para cualquier $\\Omega$. Ahora podemos sustituir nuestras $\\Omega$s de Bose y de Fermi-Dirac:"
   ]
  },
  {
   "cell_type": "markdown",
   "id": "da657bad",
   "metadata": {
    "slideshow": {
     "slide_type": "fragment"
    }
   },
   "source": [
    "$$\\log(\\Omega_l) = \\pm M \\log(M) \\mp (M \\mp n_l) \\log(M\\mp n_l)- n_l\\log(n_l)$$"
   ]
  },
  {
   "cell_type": "markdown",
   "id": "f9f3a7d0",
   "metadata": {
    "slideshow": {
     "slide_type": "fragment"
    }
   },
   "source": [
    "$$\\frac{ \\partial \\log(\\Omega_l)}{\\partial n_l} = \\log\\Big(\\frac{M\\mp n_l}{n_l}\\Big) = \\beta(\\epsilon_l -\\mu)$$"
   ]
  },
  {
   "cell_type": "markdown",
   "id": "1ebc5386",
   "metadata": {
    "slideshow": {
     "slide_type": "fragment"
    }
   },
   "source": [
    "$$\\Rightarrow \\frac{M}{n_l}\\mp 1 = \\exp(\\beta (\\epsilon_l -\\mu))$$\n",
    "\n",
    "$$\\Rightarrow \\frac{n_l}{M} = \\langle n_l \\rangle = \\frac{1}{\\exp(\\beta (\\epsilon_l -\\mu))\\pm 1}$$"
   ]
  },
  {
   "cell_type": "markdown",
   "id": "69c951d0",
   "metadata": {
    "slideshow": {
     "slide_type": "notes"
    }
   },
   "source": [
    "\n",
    "Esa constante $\\mu$ vamos a ver la próxima clase, es el potencial químico, que pueden adivinar aparece por la transformada de Laplace para ir al gran canónico: "
   ]
  },
  {
   "cell_type": "markdown",
   "id": "1f03302e",
   "metadata": {
    "slideshow": {
     "slide_type": "fragment"
    }
   },
   "source": [
    "#### Recordatorio del ensamble gran canónico: \n",
    "\n",
    "$$ \\mathscr{Z}(T,V,\\mu) = \\int_0^\\infty Z(T,V,N) e^{\\beta \\mu N} dN $$\n",
    "\n",
    "\n",
    "$$= \\int_0^\\infty \\int_0^\\infty  \\Omega(E) e^{\\beta (\\mu N-E)} dE dN$$"
   ]
  },
  {
   "cell_type": "markdown",
   "id": "e191de88",
   "metadata": {
    "slideshow": {
     "slide_type": "notes"
    }
   },
   "source": [
    "Ahora en la exponencial tenemos el potencial químico y la energía invertidas y en vez de poner la energía total y el potencial químico multiplicado por $N$, los tenemos en su versión microscópica. Ya veremos pronto porque sale así y empezaremos a sacarle provecho a estas fórmulas. \n",
    "\n",
    "Lo importante, $\\langle n \\rangle$ es el promedio del número de ocupación, o sea, el número de partículas que están en el estado $l$, dividido entre el número de partículas totales. Es un valor que a lo más es 1 y lo menos es $0$. Es como una densidad de probabilidad de encontrarnos con esa energía $\\epsilon l$. \n",
    "\n",
    "Por otro lado, el potencial químico es la energía del nivel $l$ menos el cambio en la entropía cuando variamos el número de partículas y eso es constante, así que de alguna forma nos mide cuanta energía nos cuesta cambiar el número de partículas, meter o quitar partículas en el sistema. "
   ]
  },
  {
   "cell_type": "markdown",
   "id": "fb19648e",
   "metadata": {
    "slideshow": {
     "slide_type": "slide"
    }
   },
   "source": [
    "## Qué nos interesa de los efectos cuánticos: "
   ]
  },
  {
   "cell_type": "markdown",
   "id": "1541339c",
   "metadata": {
    "slideshow": {
     "slide_type": "notes"
    }
   },
   "source": [
    "Por último, como esta es una clase para introducir el tema, quiero mencionar porque nos interesa estudiar los efectos cuanticos y qué vamos a estudiar en este tema: "
   ]
  },
  {
   "cell_type": "markdown",
   "id": "fd636d3e",
   "metadata": {
    "slideshow": {
     "slide_type": "fragment"
    }
   },
   "source": [
    "- Porque los electrones son básicamente siempre cuánticos, así que las propiedades eléctricas de los materiales sólo se pueden ver cuánticamente. "
   ]
  },
  {
   "cell_type": "markdown",
   "id": "fc27a1fe",
   "metadata": {
    "slideshow": {
     "slide_type": "notes"
    }
   },
   "source": [
    "Aquí debo decir que esto es casi verdadero. Sí hay algunos casos muy interesantes donde podemos hacer aproximación clásica y voy a tratar de mostrarles algunos de los cálculos. Son difíciles, pero lo intentaré. También es bonito ver la versión clásica de todo esto, que es la versión que intentó Lorentz y por la que varios negacionistas de la cuántica terminaron aceptando la teoría. Hoy en día los experimentos en este límite \"clasico\" son curiosamente con cosas muy cuánticas, con superconductores. "
   ]
  },
  {
   "cell_type": "markdown",
   "id": "8926e2b1",
   "metadata": {
    "slideshow": {
     "slide_type": "fragment"
    }
   },
   "source": [
    "- Explicar la radiación del cuerpo negro."
   ]
  },
  {
   "cell_type": "markdown",
   "id": "78ea40f1",
   "metadata": {
    "slideshow": {
     "slide_type": "notes"
    }
   },
   "source": [
    "Esto es lo que haremos la próxima clase. Es realmente bonita la teoría detrás del cuerpo negro y tiene varias aplicaciones, pasando por teóricas-cosmológicas, y técnicas de espionaje, etc. Pero sobre todo, es la razón de que se creara la teoría cuántica. Nadie podía explicar este fenómeno, hasta que plank llegó con un cuchareo tremendo y sin entender lo que hacía obtuvo una formula extremadamente adecuada.  "
   ]
  },
  {
   "cell_type": "markdown",
   "id": "d6a42021",
   "metadata": {
    "slideshow": {
     "slide_type": "fragment"
    }
   },
   "source": [
    "- Condensado de Bose."
   ]
  },
  {
   "cell_type": "markdown",
   "id": "804a673d",
   "metadata": {
    "slideshow": {
     "slide_type": "notes"
    }
   },
   "source": [
    "Sólo por el hecho de tener un condensado de Bose en la UNAM, ya es razón para que lo estudiemos. No hay muchos en el mundo y aquí podemos hacer uno y trabajar con él. Necesitan por lo tanto entenderlo. Pero además, hay algunas cuestiones por demás llamativas en cuanto a la dimensionalidad. Depasadita, explica la superconductividad y superfluidez. Si tenemos esperanza de encontrar un superconductor de temperatura ambiente, es primero entendiendo la teoría. Sería un revolución tecnológica tremenda. Un sueño que lleva 100 años sin lograrse, pero sería bello lograrlo. Además, hay condensados de Bose de fotones (que se transforman en láseres súper poderosos), que es raro. Luego explico porque es raro, pero de entrada se siente como que no deberían existir. En fin, la teoría y la práctica son sorprendentes. \n"
   ]
  },
  {
   "cell_type": "markdown",
   "id": "6ee9b99a",
   "metadata": {
    "slideshow": {
     "slide_type": "fragment"
    }
   },
   "source": [
    "- Explicación del efecto fotoeléctrico y termiónico"
   ]
  },
  {
   "cell_type": "markdown",
   "id": "1f4ea54c",
   "metadata": {
    "slideshow": {
     "slide_type": "notes"
    }
   },
   "source": [
    "Por cierto, para este punto espero que ya hayan notado que asociados a estos problemas hay como 8 premios Nobel. El efecto fotoeleéctrico, que se explica prácticamente igual que el termiónico, dieron 2 premion Nobel, uno de ellos es el de Einstein. \n",
    "\n",
    "Y finalmente: "
   ]
  },
  {
   "cell_type": "markdown",
   "id": "097bb48a",
   "metadata": {
    "slideshow": {
     "slide_type": "fragment"
    }
   },
   "source": [
    "- Corrección al cálculo de la capacidad calorífica de los sólidos. "
   ]
  },
  {
   "cell_type": "markdown",
   "id": "3b1070ba",
   "metadata": {
    "slideshow": {
     "slide_type": "notes"
    }
   },
   "source": [
    "Es una talachita larga, pero no es TAN tediosa y lo importante es que nos va a dar una técnica para estudiar la capacidad calorífica de los sólidos. La de los cristales ya con esto queda entendida perfecto. Pero sólo la de los cristales. Los materiales amorfos y los cuasicristalinos no los explica. En el caso de los amorfos hay algo extraño que aún no se sabe explicar bien. Ha habido avances muy buenos, pero aún hay una discrepancia con la teoría. En el caso de los cuasicristales, estos son como \"cristales de dimensiónes altas\", 6, 12 dimensiones, y eso genera un nuevo tipo de partículas que deben influir en el cálculo correcto de la capacidad calorífica. Nadie se ha aventado aún el cálculo preciso, pero pueden salir propiedades exóticas muy interesantes. \n",
    "\n",
    "Les comento lo que sigue, porque ya tienen las herramientas básicas para la vida si no van a hacer: \n",
    "\n",
    "- Estado sólido o en general, cuántica de muchas partículas \n",
    "- Transiciones de fase, vítreas, etc..\n",
    "- Sistemas complejos\n",
    "- Astrofísica/cosmología\n",
    "\n",
    "Así que estoy tentado a separar el grupo y decirles: Los que ya no les interesan estos temas, los evaluo con los exámenes que ya hicieron y pueden irse. Los que se queden, serán evaluados con los otros 2 exámenes. ¿Qué opinan?"
   ]
  }
 ],
 "metadata": {
  "celltoolbar": "Slideshow",
  "kernelspec": {
   "display_name": "Julia 1.11.1",
   "language": "julia",
   "name": "julia-1.11"
  },
  "language_info": {
   "file_extension": ".jl",
   "mimetype": "application/julia",
   "name": "julia",
   "version": "1.11.1"
  }
 },
 "nbformat": 4,
 "nbformat_minor": 5
}
