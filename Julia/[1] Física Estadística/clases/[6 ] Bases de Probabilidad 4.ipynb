{
 "cells": [
  {
   "cell_type": "markdown",
   "id": "4f3dde35",
   "metadata": {
    "slideshow": {
     "slide_type": "notes"
    }
   },
   "source": [
    "La clase pasada terminamos viendo la ley de probabilidad total. La idea es que, si tenemos una partición del espacio de muestreo, la que querramos, podamos usarla para descomponer la probabilidad de un evento en específico, uno que sea difícil de calcular su probabilidad, en la probabiildad de los elementos de la partición (que se nos haga más sencillo de calcular) multiplicados por las probabilidades condicionales del evento complicado dados los eventos de la partición. \n",
    "\n",
    "O sea, la ley de probabilidad total descompone una probabilidad dificil en muchas más sencillas. "
   ]
  },
  {
   "cell_type": "markdown",
   "id": "32e9d1d6",
   "metadata": {
    "slideshow": {
     "slide_type": "fragment"
    }
   },
   "source": [
    "### Ley de probabilidad total"
   ]
  },
  {
   "cell_type": "markdown",
   "id": "150364b0",
   "metadata": {
    "slideshow": {
     "slide_type": "fragment"
    }
   },
   "source": [
    "Sea $\\{A_i\\}$ una partición de $\\Omega$. Entonces\n",
    "\n",
    "$$P(B) = P(B\\cap \\Omega) = P(\\cup_i (B \\cap A_i)) = \\sum_i P(B\\cap A_i) = \\sum_i P(A_i) P(B|A_i)$$"
   ]
  },
  {
   "cell_type": "markdown",
   "id": "dcfffe93",
   "metadata": {
    "slideshow": {
     "slide_type": "notes"
    }
   },
   "source": [
    "Esta regla puede ser en extremo poderosa, pero requiere pensar en qué partición usar, de tal forma que tanto las probabilidades $P(A_i)$ como las probabilidades $P(B|A_i)$ sean fáciles de calcular, o bien, que la probabilidad $P(B|A_i)$ sea una función de $P(B)$, en cuyo caso podamos despejar $P(B)$ en términos de las $P(A_i)$. \n",
    "\n",
    "Entonces, por ahora tenemos dos estrategias para encontrar la probabiildad de un evento $B$. La primera es medir el tamaño del evento y el tamaño del espacio de muestreo y obtener la razón de ambos. Esa es la forma más directa de medir la probabilidad. Por ejemplo, así medimos la probabilidad de las agujas de buffon, de que haya dos personas que cumplan el mismo día, etc. Aunque no tan obvio, también es lo que hicimos primero con el problema de la bacteria. No es tan obvio en ese caso, porque ahí no había equiprobabilidad, así que tuvimos que construir una nueva medida de la probabilidad del evento. \n",
    "\n",
    "La dificultad de esta versión es casi siempre el definir adecuadamente qué es el evento, como para poderlo medir. Como frecuentemente es muy difícil definir el evento, solemos buscar estrategias, como el calcular la probabilidad del complemento, o sólo dar una aproximación a la medida del evento completo (como cuando hicimos la serie sólo hasta $r^4$ correctamente y después paramos). \n",
    "\n",
    "La otra opción es utilizar la ley de probabilidad total. El problema de esta estrategia es que requiere de creatividad. No basta con ser buenos con la talacha. Se requiere encontrar la buena partición y eso no es siempre fácil y no hay una sola opción efectiva. En el caso de la bacteria era obvia la partición. Había que comenzar por el caso más sencillo, el de lo que sucede en el primer minuto. \n"
   ]
  },
  {
   "cell_type": "markdown",
   "id": "2bd27f54",
   "metadata": {
    "slideshow": {
     "slide_type": "fragment"
    }
   },
   "source": [
    "$$P(E) = P(M) P(E|M) + P(D) P(E|D)$$"
   ]
  },
  {
   "cell_type": "markdown",
   "id": "9644ee41",
   "metadata": {
    "slideshow": {
     "slide_type": "notes"
    }
   },
   "source": [
    "De aquí, la probabilidad de morir nos la dan, la probabilidad de extinguirse dado que se murió la primera bacteria es también obvio que es 1, la probabilidad de dividirse es la del complemento, así que es $1-r$ y la de extinguirse dado que se dividió es $p^2$ si asumimos independencia porque hay 2 bacterias si ya se dividió. Esto nos lleva a esta ecuación: "
   ]
  },
  {
   "cell_type": "markdown",
   "id": "acee1d3f",
   "metadata": {
    "slideshow": {
     "slide_type": "fragment"
    }
   },
   "source": [
    "$$p(r) = r + (1-r) p(r)^2$$"
   ]
  },
  {
   "cell_type": "markdown",
   "id": "e4605b9d",
   "metadata": {
    "slideshow": {
     "slide_type": "fragment"
    }
   },
   "source": [
    "$$\\Rightarrow p(r) =\\frac{1}{2(1-r)}(1 \\pm |2r-1|) $$\n",
    "\n",
    "$$\\Rightarrow p(r) = \\begin{cases}\n",
    "\t\t\t\\frac{r}{1-r}, & \\text{si $r<1/2$}\\\\\n",
    "            1, & \\text{en otro caso}\n",
    "\t\t \\end{cases}$$"
   ]
  },
  {
   "cell_type": "markdown",
   "id": "a6c9368d",
   "metadata": {
    "slideshow": {
     "slide_type": "notes"
    }
   },
   "source": [
    "Pero no siempre es tan obvia la partición que hay que usar. Vamos a ver otro ejemplo \"sencillo\". Lo veremos también con ambas estrategias. \n",
    "\n"
   ]
  },
  {
   "cell_type": "markdown",
   "id": "5f04e10d",
   "metadata": {
    "slideshow": {
     "slide_type": "subslide"
    }
   },
   "source": [
    "**Problema 2:** Un juego de dados consiste en lo siguiente. Un jugador tira dos dados. Si sale 7 u 11, el jugador gana. Si sale 2,3 o 12, pierde. En otro caso, puede volver a tirar. Para ganar debe sacar el mismo número otra vez antes que 7. Si saca 7 en los tiros subsecuentes al primer tiro, pierde. \n",
    "\n",
    "¿Cuál es la probabilidad de que un jugador gane si en su primer tiro sale 8?"
   ]
  },
  {
   "cell_type": "markdown",
   "id": "9b71d55c",
   "metadata": {
    "slideshow": {
     "slide_type": "notes"
    }
   },
   "source": [
    "Primero fuerza bruta. \n",
    "\n",
    "La probabilidad de ganar $P(W)$ es la suma de las probabilidades de ganar en el segundo tiro, tercer tiro, etc. La del segundo tiro es simplemente la probabilidad de sacar un 8. La del tercer tiro será la probabilidad de sacar algo diferente de 7 y 8 en el segundo tiro y 8 en el tercero. Luego lo mismo para cada tiro. Es decir: \n",
    "\n",
    "$P(W) = \\sum_{i= 1}^\\infty P(W_n)$\n",
    "\n",
    "$P(W_1) = P(8) = 5/36$\n",
    "\n",
    "$P(NP) = 1- P(8\\cup 7) = 1- \\Big(\\frac{5}{36}+\\frac{6}{36}\\Big) = \\frac{5^2}{6^2}$\n",
    "\n",
    "$P(W) = \\sum_{i= 1}^\\infty \\Big(\\frac{25}{36}\\Big)^{i-1} \\frac{5}{36} = \\frac{5}{36} \\Big(\\frac{1}{1-25/36}\\Big) = \\frac{5}{11}$\n"
   ]
  },
  {
   "cell_type": "markdown",
   "id": "8e486e57",
   "metadata": {
    "slideshow": {
     "slide_type": "notes"
    }
   },
   "source": [
    "No es que sea una forma larguísima y tiene cierta elegancia reconocer las series, en este caso, la suma telescópica, pero como mencioné en el ejercicio anterior, esto a veces no es nada sencillo y sólo escribir la serie puede ser en extremo tedioso. \n",
    "\n",
    "Igual que antes, tenemos que un caso nos lleva a la misma situación a la previa, que es cuando sacamos algo diferente de 8 o 7. Da lo mismo cuántos tiros hayamos hecho, volvemos a la misma situación y eso inspira a que podremos escribirlo como una ecuación recursiva, despejar y obtener el valor de la probabilidad. Hagámoslo. Otra vez, usemos la ley de probabilidad total. \n",
    "\n",
    "$P(W) = P(8)P(W|8) + P(7)P(W|7) + P(NP)P(W|NP)$\n",
    "\n",
    "La probabilidad de ganar dado que salió 8 es 1, la de ganar dado que salió 7, es 0 y la de ganar dado que salió algo diferente de 7 y 8 es la probabilidad de ganar, así que la ecuación se transforma en: \n",
    "\n",
    "$P(W) = P(8) + P(NP)P(W) = \\frac{5}{36} + \\frac{25}{36} P(W)$\n",
    "\n",
    "Despejando queda: \n",
    "\n",
    "$P(W) = \\frac{5/36}{11/36} = \\frac{5}{11}$\n",
    "\n",
    "Esto nos lleva a plantear un resultado más general: "
   ]
  },
  {
   "cell_type": "markdown",
   "id": "528ef975",
   "metadata": {
    "slideshow": {
     "slide_type": "fragment"
    }
   },
   "source": [
    "**Problema 3:** Supón que tienes 2 eventos mutuamente exluyentes $A$ y $B$ (al menos uno con probabilidad positiva). Si se hace un experimento aleatorio repetidamente, ¿Cuál es la probabilidad de que $A$ ocurra antes que $B$?"
   ]
  },
  {
   "cell_type": "markdown",
   "id": "175ed6be",
   "metadata": {
    "slideshow": {
     "slide_type": "notes"
    }
   },
   "source": [
    "Hacemos exactamente lo mismo que arriba. \n",
    "\n",
    "$P(W) = P(A)P(W|A) + P(B)P(W|B) + P(O)P(W|O) = P(A) + P(O)P(W)$, pero $P(O)$ es la probabilidad del complemento, es decir $P(O) = 1- P(A) - P(B)$, así que, despejando: \n",
    "\n",
    "$P(W) = \\frac{P(A)}{1-P(O)} = \\frac{P(A)}{P(A)+P(B)}$\n",
    "\n",
    "Esto nos da una fórmula fantástica para diseñar juegos de mesa. \n",
    "\n",
    "¿Cuál es la probabilidad de ganar en el juego pasado, no sólo considerando que uno saca 8 en el primer tiro. \n",
    "\n",
    "$P(7) + P(11) + P(4)P(W|4)+ P(5)P(W|5)+ P(6)P(W|6)+ P(8)P(W|8)+ P(9)P(W|9)+ P(10)P(W|10)$\n",
    "\n",
    "$P(7) = 6/36$, $P(11) = 2/36$, $P(W|n) = P(n)/(P(n)+P(7)) = P(n)/(P(n)+6/36)$\n",
    "\n",
    "$P(W) = 8/36 + \\frac{3}{36}\\frac{3}{9}+ \\frac{4}{36}\\frac{4}{10}+ \\frac{5}{36}\\frac{5}{11}+ \\frac{5}{36}\\frac{5}{11}+ \\frac{4}{36}\\frac{4}{10}+ \\frac{3}{36}\\frac{3}{9} $\n",
    "\n",
    "$= \\frac{2}{9}+\\frac{3}{36}\\frac{2}{3} + \\frac{2}{9}\\frac{4}{10} + \\frac{5}{18}\\frac{5}{11}$\n",
    "\n",
    "$ = \\frac{244}{495} \\approx 0.493$\n",
    "\n",
    "Es decir, se gana un poco menos de la mitad de las veces, aunque en la mayoría de los casos se gana en el primer tiro, así que puede dar la sensación de que se gana más frecuentemente de lo que se pierde, porque en el primer tiro 1/4 ganan contra 1/9 que pierden.\n",
    "\n",
    "Creo que con estos dos ejemplos ya hemos demostrado que no siempre la fuerza bruta es la mejor estrategia. \n"
   ]
  },
  {
   "cell_type": "markdown",
   "id": "09f3dc18",
   "metadata": {
    "slideshow": {
     "slide_type": "subslide"
    }
   },
   "source": [
    "## Probabilidad Bayesiana"
   ]
  },
  {
   "cell_type": "markdown",
   "id": "d019ac46",
   "metadata": {
    "slideshow": {
     "slide_type": "notes"
    }
   },
   "source": [
    "Ahora quisiera regresar al problema del volado. Digamos que somos investigadores de fraudes en los casinos y nos han informado que alguien está usando una moneda cargada, que tiene probabilidad de $0.4$ de sacar sol. Hay dos tiradores de volados, pero no sabemos quién está usando la moneda trucada. ¿Cómo podemos desenmascarar quien tiene la moneda trucada? \n",
    "\n",
    "Seguro ya pensaron que una forma es lanzar ambas monedas $10,000$ veces y estimar la probabilidad de sacar sol y decidir cuál es la que está trucada. Pero hay 2 problemas con esta estrategia. 1. Que no sabemos si $10,000$ es suficiente o deberíamos tirar $100,000$ o si basta con $100$ tiros. El otro problema es que estamos desaprovechando la información que ya tenemos, hay $50\\%$ de probabilidad de que la primera moneda que tomemos sea la trucada. Y quizá, si nos soplan algo más de información, podríamos estimar que es $70$%, o $90$. Claro que esa información la obtenemos vía intuición, pero la intución es todo un sistema de cómputo subconsiente, que nos está arrojando probabilidades muchas veces aceptables. \n",
    "\n",
    "De hecho, si uno pregunta a cientos o miles de personas el peso de algo, va a tener una estimación bastante razonable de ese peso. Lo mismo con el volumen y otras muchas medidas. Nuestra intuición no es para nada perfecta, pero sí nos da alguna aproximación. Así que, por qué no usar esa información? \n",
    "\n",
    "La idea de Bayes fue tratar justamente de aprovechar esa información y después refinarla haciendo nuevos experiemtnos. Él en el fondo no estaba pensando en probabilidades condicionales, sino en estrategias para estimar más rápido la probabilidad de que ocurra un evento (un milagro). \n",
    "\n",
    "Regresando al problema del detective. Toma la moneda de uno de los lanzadores y la lanza 10 veces. Salen 4 soles. Piensa \"justo lo que debería salir si fuera la moneda trucada\". Pero ¿cuál es la probabilidad de que sea realmente la moneda trucada? \n",
    "\n",
    "Enconcreto:\n"
   ]
  },
  {
   "cell_type": "markdown",
   "id": "9fd4c2b9",
   "metadata": {
    "slideshow": {
     "slide_type": "fragment"
    }
   },
   "source": [
    "$B =$ Salen 4 soles\n",
    "\n",
    "$A_j =$ Es la moneda cargada\n",
    "\n",
    "Queremos saber: \n",
    "\n",
    "$P(A_j|B)$"
   ]
  },
  {
   "cell_type": "markdown",
   "id": "6b7fe6eb",
   "metadata": {
    "slideshow": {
     "slide_type": "notes"
    }
   },
   "source": [
    "Dirán, calculamos la probabilidad de la intersección y lo dividimos entre la probabilidad de $B$. Pero no es tan obvia la intersección entre que salgan 4 soles y que sea la moneda trucada. No es realmente para nada obvio. \n",
    "\n",
    "Lo que sí podemos calcular es la probabilidad de que salgan 4 soles dado que tenemos una moneda trucada, es decir $P(B|A_j)$. Necesitamos hacer unas cuentitas pesadas, pero posibles. Cada tiro es independiente del anteriror, así que una configuración en específico de tiros, por ejemplo, $ssssaaaaaa$, tendrá una probabilidad de $0.4^4 \\times 0.6^6$. Para calcular la probabilidad de todos los elementos del espacio de muestreo donde salen 4 soles y 6 águilas, sólo necesitamos contar todas las configuraciones que cumplen con ese requisito y multiplicarlo por $0.4^4 \\times 0.6^6$. No voy a explicar aún como contar ese número de configuraciones, pero en este caso son 210. \n",
    "\n",
    "Así que tenemos todas las probabilidades excepto $P(A_j|B)$, que es la que nos interesa. Así que para obtener esa probabilidad podemos aplicar el mismo truco de antes, el de reconocer que la intersección conmuta, por lo que: "
   ]
  },
  {
   "cell_type": "markdown",
   "id": "6b941047",
   "metadata": {
    "slideshow": {
     "slide_type": "fragment"
    }
   },
   "source": [
    "$$P(A_j|B) = \\frac{P(B\\cap A_j)}{P(B)} =  \\frac{P(A_j)P(B|A_j)}{P(B)} =  \\frac{P(A_j)P(B|A_j)}{\\sum_i P(A_i)P(B|A_i)}$$\n"
   ]
  },
  {
   "cell_type": "markdown",
   "id": "4f65be5e",
   "metadata": {
    "slideshow": {
     "slide_type": "notes"
    }
   },
   "source": [
    "que deja la probabilidad que queremos calcular en términos de las probabilidades que sí conocemos. \n",
    "\n",
    "Esto es justamente el famoso teorema de Bayes. "
   ]
  },
  {
   "cell_type": "markdown",
   "id": "abf31a29",
   "metadata": {
    "slideshow": {
     "slide_type": "fragment"
    }
   },
   "source": [
    "### Teorema de Bayes\n",
    "\n",
    "$$P(A_j|B) = \\frac{P(A_j)P(B|A_j)}{\\sum_i P(A_i)P(B|A_i)}$$"
   ]
  },
  {
   "cell_type": "markdown",
   "id": "8ba1e798",
   "metadata": {
    "slideshow": {
     "slide_type": "notes"
    }
   },
   "source": [
    "Noten que aquí tenemos la probabilidad de $A_j$ de un lado de la ecuación y la probabilidad de $A_j$ dado $B$ del otro lado. Aquí es donde entra la idea de aprovechar la información que ya tenemos. Si elegimos adecuadamente el evento $B$, podemos actualizar la probabiildad de $A_j$ como la probabilidad de $A_j$ dado $B$. En este caso, los $A_j$ son el evento donde la moneda es bien balanceada y la moneda que es trucada. \n",
    "\n",
    "Así, la primera vez que aplicamos esta fórmula, ponemos $P(A_j)$ como nuestra intuición de cuanto debe de valer. Después, se actualiza con cada siclo donde ocurre el evento $B$. "
   ]
  },
  {
   "cell_type": "markdown",
   "id": "ecbf803f",
   "metadata": {
    "slideshow": {
     "slide_type": "fragment"
    }
   },
   "source": [
    "$P(A_j|B) = \\frac{1/2 0.2508}{(0.5^{10} \\cdot 210 + 0.4^4 \\cdot 0.6^6 \\cdot 210)/2} \\approx 0.55$"
   ]
  },
  {
   "cell_type": "code",
   "execution_count": 1,
   "id": "c98cc06a",
   "metadata": {
    "slideshow": {
     "slide_type": "fragment"
    }
   },
   "outputs": [
    {
     "data": {
      "text/plain": [
       "(0.5501693931074885, 0.4498306068925116)"
      ]
     },
     "execution_count": 1,
     "metadata": {},
     "output_type": "execute_result"
    }
   ],
   "source": [
    "(1/2 * 0.4^4 * 0.6^6 * 210)/((0.5^10 * 210 + 0.4^4 * 0.6^6 * 210)/2), (1/2 * 0.5^4 * 0.5^6 * 210)/((0.5^10 * 210 + 0.4^4 * 0.6^6 * 210)/2)"
   ]
  },
  {
   "cell_type": "markdown",
   "id": "89963f21",
   "metadata": {
    "slideshow": {
     "slide_type": "notes"
    }
   },
   "source": [
    "Esta probabilidad se puede usar ahora como la nueva probabilidad de que la moneda que tenemos sea la moneda trucada. Si volvemos a hacer 10 tiros más, podemos actualizar su valor. En este caso estamos partiendo del desconocimiento total, pero no siempre tenemos que partir de equiprobabilidad. Uno puede estimar por pura intuición. No sé si es la moneda trucada, pero me la dió un amigo que es todo un bromista. Le calculo que tiene una probabilidad del 80% de ser una moneda trucada y comienzo desde ahí mi cuenta. \n",
    "\n",
    "Esto nos da una herramienta poderosísima para justificar el cuchareo y eso hace a la probabilidad (estadística) bayesiana una herramienta para desconfiar. Funciona de maravilla, pero abre las puertas a hacer invetigación con lo que yo me imagine...\n",
    "\n",
    "Ahora un ejemplo. \n"
   ]
  },
  {
   "cell_type": "markdown",
   "id": "6389a596",
   "metadata": {
    "slideshow": {
     "slide_type": "fragment"
    }
   },
   "source": [
    "### Ejemplo: \n",
    "\n",
    "Una prueba de VHI-SIDA de saliva tiene una eficiencia de 95%. Esto quiere decir que se tomaron a $n$ personas con SIDA y $n$ sin SIDA ($n$ típicamente arriva de 1000) y se les aplicó la prueba de saliva. De ellas, entre los que tenían SIDA, a aproximadamente el 95% les marcó positiva la prueba y 5% les marcó erroneamente negativo. En el caso de los que no tienen SIDA, al 95% les marcó negativo y al 5% restante les marcó erroneamente positivo. \n",
    "\n",
    "Alguien se hace una de estas pruevas y sale positiva. ¿Cuál es la probabilidad de que tenga VIH?\n",
    "\n",
    "**Nota: en México más o menos uno de cada 400 adultos tiene SIDA.**"
   ]
  },
  {
   "cell_type": "markdown",
   "id": "ca526d68",
   "metadata": {
    "slideshow": {
     "slide_type": "notes"
    }
   },
   "source": [
    "Ya definimos qué es una probabilidad de forma bastante precisa y general, dimos algunos ejemplos de probabilidades, especialmente las equiprobabilidades, tanto en conjuntos finitos como infinito y hoy introdujimos el concepto de probabilidad condicional creo que de forma razonablemente formal. \n",
    "\n",
    "Sin embargo, al definir la probabilidad, tomamos en cuenta el espacio de muestreo, que es el conjunto de todos los posibles resultados de un experimento. Aún nos falta el detalle de explicar cómo definir una medida a partir de la forma en la que se hacen los experimentos. Para eso necesitaremos definir lo que es una variable aleatoria y estudiar las propiedades de diferentes variables aleatorias. Al final, la forma en la que se hace un experimento delimita la probabilidad de que ocurra un elemento de $\\Omega$ u otro. Así que, entre las propiedades de la variable aleatoria estará la probabilidad con la que ocurre cada elemento. \n",
    "\n",
    "La idea es tratar de encontrar propiedades generales de todas las variables aleatorias y herramientas para estudiar esas propiedades, pero también estudiar algunos tipos de variables aleatorias que son muy frecuentes. Ya les he spoileado un poco al respecto. Hay muchos experimentos probabilísticos de los que el resultado es que las probabilidades con las que ocurren cada elemento de un espacio de muestreo sigue un histograma de \"campana\". Eso nos empuja a estudiar la variable aleatoria donde esto sucede, para que englobemos todos esos experimentos y podamos hablar de sus propiedades en conjunto. Por supuesto, también la equiprobabilidad es algo común, así que conviene estudiar la variable aleatoria que forma equiprobabilidades, tanto discretas, como continuas. Hay unos cuantos casos más de variables aleatorias que son muy frecuentes, o que en algún límite se vuelven una de las variables \"comunes\". Así que cuando veamos el tema de variables aleatorias, nos detendremos a estudiar algunos de esos casos particulares. \n",
    "\n",
    "Sobre esos casos particulares, el de equiprobabilidad es el más sencillo y el primero que salta a la vista. Además, como les he mencionado, físicamente la equiprobabilidad tiene un significado muy particular e interesante, que hace que sea extremadamente común. Por lo tanto, conviene dedicarle su tiempo a estudiar este caso. Entre los casos de equiprobabilidad, el caso discreto es el que conceptualmente es más sencillo, sólo requerimos contar el número de elementos de $\\Omega$ y de $E$. Suena fácil, pero no siempre es fácil, contar los elementos de $E$ suele ser no trivial. \n",
    "\n",
    "Por ejemplo, ya hablamos de los volados. Digamos que $\\Omega$ representa $10$ volados. Entonces habrá $2^{10}$ elementos en $\\Omega$. Eso no fue tan difícil, pero ¿cuántos elementos tendrá $E$ si $E = $ el conjunto de los resultados donde hubo 4 soles y 6 águilas?. Hace un momento les dije que eran 210. Podemos escribirlos todos. 210 no son tantos. Pero qué tal si les digo que fueron 100 volados, 40 soles y 60 águilas? ¿Cómo contamos esto? \n",
    "\n",
    "Estoy (casi-)seguro que algunos de ustedes saben cómo hacerlo, pero también estoy (casi-)seguro que no es la mayoría. En mi experiencia dando este curso, he visto que la mayoría pueden calcular bien $\\Omega$, pero tienen dificultades para calcular $E$, e incluso algunos no logran calcular $E$, así que vamos a tomarnos un tiempecito para aprender a contar."
   ]
  },
  {
   "cell_type": "markdown",
   "id": "8a67185d",
   "metadata": {
    "slideshow": {
     "slide_type": "slide"
    }
   },
   "source": [
    "# Combinatoria"
   ]
  },
  {
   "cell_type": "markdown",
   "id": "7e6b8c83",
   "metadata": {
    "slideshow": {
     "slide_type": "notes"
    }
   },
   "source": [
    "En combinatoria hay $n$ problemas abiertos, así que esta parte del curso podría ir a un nivel altamente complejo. Yo creo que es de las ramas de las matemáticas donde hay más problemas suelen parecer sencillos (todo mundo los entiende), pero la solución suele ser bastante elavorada y en muchos casos, aún no encontramos la solución. Es también una de las ramas de las matemáticas más aplicada y de hecho se aplica al resto de las ramas de las matemáticas, porque saber contar suele ser necesario para resolver muchos problemas. Por eso, aunque no hayan llevado un curso de combinatoria, ya han aprendido varias de las fórmulas. Aquí no veremos en realidad nada nuevo, pero igual creo que vale la pena que repasemos, porque sí es un tema que suele confundir a la mayoría de los estudiantes. \n",
    "\n",
    "Revisaremos básicamente 4 formas de contar, la regla básica de conteo, el conteo de permutaciones, el conteo de combinaciones y el conteo de particiones. \n",
    "\n",
    "La primera regla para contar es realmente muy básica. Pensemos que queremos hacer una app de una red social y para ello daremos al los usuarios la posibilidad de hacer su ávatar. Les damos a elegir entre diferentes opciones de pelo, color de piel, color de ojos, etc. Queremos asegurarnos que cada quien tenga un ávatar único, así que queremos dar al menos 100 posibilidades de ávatar por cada persona en el mundo, unos 80billones de posibilidades. ¿Cómo calculamos el número de posibilidades? \n",
    "\n",
    "Como dije, la regla es realmente básica, simplemente multiplicamos el número de opciones que tiene cada característica y listo. \n",
    "\n",
    "Por ejemplo, en WhatsApp hay 24 tipos de piel, 132 peinados, 28 colores de pelo, 6 formas de la cara, 3 tipos de grosor, 132 tipos de ropa, lo que da 8,781,696 ávatars diferentes. No es aún el número de usuarios, pero empieza a representar a una gran cantidad de personas. "
   ]
  },
  {
   "cell_type": "markdown",
   "id": "59a354cc",
   "metadata": {
    "slideshow": {
     "slide_type": "fragment"
    }
   },
   "source": [
    "### Regla básica de conteo\n",
    "\n",
    "Si tienen $n$ acciones con $r_i$ posibilidades para la acción $i$, entonces el número total de posibles  acciones es: \n",
    "\n",
    "$$\\Pi_i r_i$$"
   ]
  },
  {
   "cell_type": "markdown",
   "id": "62905172",
   "metadata": {
    "slideshow": {
     "slide_type": "notes"
    }
   },
   "source": [
    "Es en realidad una regla simple, pero poderosa. Por ejemplo, para estimar el número de combinaciones en un candado, o el número de posibles placas de automovil, números de teléfono posibles, etc, es una regla útil. \n",
    "\n",
    "A pesar de su utilidad, sólo haremos un ejemplo, porque es en realidad una regla sencilla. "
   ]
  },
  {
   "cell_type": "markdown",
   "id": "af57e286",
   "metadata": {
    "slideshow": {
     "slide_type": "fragment"
    }
   },
   "source": [
    "**Ejemplo regla básica de conteo: muestreo ordenado con remplazo**\n",
    "\n",
    "Tengo $m$ objetos en una bolsa. Saco 5, de uno en uno, siempre regresando el objeto a la bolsa. ¿Cuántas posibles configuraciones tengo?"
   ]
  },
  {
   "cell_type": "markdown",
   "id": "987af974",
   "metadata": {},
   "source": [
    "La respuesta es simplemente $n^5$, porque cada vez hay $n$ posibilidades. Es un problema muy sencillo, pero importante. Por ejemplo, en el problema del cumpleaños, para calcular la medida del espacio de muestreo justamente teníamos este caso. De una bolsa con 365 bolitas sacábamos una y la regresábamos. Eso es justamente el número de posibilidades. Cada bolita sacada corresponde al cumpleaños de una persona.  \n",
    "\n",
    "Aquí quiero hacer notar que el problema es sencillo porque estamos suponiendo que el orden en el que se extrae cada objeto importa. Si no importara la cosa cambia totalmente y el problema deja de ser tan simple. Lo veremos en un momento, pero antes quiero revisar un caso más simple. \n",
    "\n",
    "Supongamos que ahora tenemos la misma bolsa con $m$ objentos y queremos sacar $r$ objetos de ahí, pero sin regresarlos a la bolsa. Sacándolos en orden. O sea, hacemos un muestreo ordenado, pero sin remplazo. Por ejemplo, si aleatoriamente saco nombres de una bolsa para pedirles que pasen a resolver un ejercicio. \n",
    "\n",
    "A cada una de las posibles configuraciones de los $r$ objetos se le llama una permutación. Más precisamente:"
   ]
  },
  {
   "cell_type": "markdown",
   "id": "22341ce2",
   "metadata": {
    "slideshow": {
     "slide_type": "fragment"
    }
   },
   "source": [
    "### Permutaciones\n",
    "\n",
    "Diremos que una permutación de $r$ objetos tomados de una colección de $m$ objetos posibles, es cualquier arreglo ordenado de $r$ objetos **distintos** de entre los $m$ objetos posibles. "
   ]
  },
  {
   "cell_type": "markdown",
   "id": "6e804182",
   "metadata": {
    "slideshow": {
     "slide_type": "notes"
    }
   },
   "source": [
    "La pregunta nuevamente es ¿Cuántas permutaciones de $r$ objetos de entre $m$ posibles, hay? \n",
    "\n",
    "Para calcular cuantas posibilidades hay, notemos que para el primer objeto tenemos $m$ posibilidades, para el segundo ya una está ocupada, así que nos quedan $m-1$ posibilidades, etc. Así que, usando la regla básica del conteo, tendremos $m(m-1)(m-2)\\cdots (m-r+1)$ posibles permutaciones. Que podemos escribir como: "
   ]
  },
  {
   "cell_type": "markdown",
   "id": "4c840689",
   "metadata": {
    "slideshow": {
     "slide_type": "fragment"
    }
   },
   "source": [
    "Hay\n",
    "\n",
    "$$(m)_r = \\frac{m!}{(m-r)!}$$\n",
    "\n",
    "permutaciones posibles. "
   ]
  },
  {
   "cell_type": "markdown",
   "id": "cfcada42",
   "metadata": {
    "slideshow": {
     "slide_type": "notes"
    }
   },
   "source": [
    "Esto es lo que usamos implícitamente en el problema del cumpleaños. Apréndanselo de memoria. Si tenemos $r$ objetos de entre $m$ posibilidades, habrá este número de posibles configuraciones distintas. Si se permite repetir, entonces es simplemente $m^r$ por la regla básica de conteo. Estos son los muestreos ordenados con remplazo y sin remplazo.  \n",
    "\n",
    "Como ejemplo:"
   ]
  },
  {
   "cell_type": "markdown",
   "id": "b048af87",
   "metadata": {
    "slideshow": {
     "slide_type": "fragment"
    }
   },
   "source": [
    "**Ejemplo** En las carreras de 100m de las olimpiadas corren 8 competidores al mismo tiempo. No importan el tiempo en el que llegan, sólo el orden. ¿Cuantos posibles resultados hay?"
   ]
  },
  {
   "cell_type": "markdown",
   "id": "23e37a56",
   "metadata": {
    "slideshow": {
     "slide_type": "notes"
    }
   },
   "source": [
    "Por supuesto, en este caso sólo hay que aplicar la regla donde hay 8 objetos de entre 8 posibles, así que la regla nos lleva a el factorial de $8$. \n",
    "\n",
    "Pasemos a un ejemplo ligeramente más difícil. "
   ]
  },
  {
   "cell_type": "markdown",
   "id": "3e89fafb",
   "metadata": {
    "slideshow": {
     "slide_type": "fragment"
    }
   },
   "source": [
    "**Problema:** Supongamos que les pidiera a todos que echaran su celular en una bolsa, porque quiero hacer un examen y decidí que quiero ser estricto. Después, cuando se termina su examen, se los regreso y decido sacar aleatoriamente uno por uno los celulares y entregarlos en el mismo orden en el que los recogí. ¿Cuál es la probabilidad de que reciban su celular? "
   ]
  },
  {
   "cell_type": "markdown",
   "id": "20695bb6",
   "metadata": {
    "slideshow": {
     "slide_type": "notes"
    }
   },
   "source": [
    "Aquí tengo que aclarar con lo que quiero decir por \"que reciban su celular\". Hay dos posibles significados:  \n",
    "\n",
    "¿Cuál es la probabilidad de que todos reciban su celular? \n",
    "\n",
    "y\n",
    "\n",
    "¿Cuál es la probabilidad de que una persona específica (tú) reciba(s) (tu)su celular? \n",
    "\n",
    "Estoy sacando ordenadamente los celulares, así que el espacio de muestreo corresponde al conjunto de todas las permutaciones. Si asumimos equiprobabilidad, entonces la proabilidad de que todos reciban su celular es $1/|\\Omega|$. El número de permutaciones es simplemente el factorial del número de personas, así que la probabilidad es $1/m!$. La probabilidad de que una persona específica reciba su celular es independiente del proceso con el que saqué cada celular, así que es $1/m$. \n"
   ]
  },
  {
   "cell_type": "markdown",
   "id": "6b722a3c",
   "metadata": {
    "slideshow": {
     "slide_type": "notes"
    }
   },
   "source": [
    "**Reto:** ¿Cuál es la probabilidad de que al menos uno de los estudiantes reciba su celular?\n"
   ]
  },
  {
   "cell_type": "markdown",
   "id": "afe61324",
   "metadata": {
    "slideshow": {
     "slide_type": "notes"
    }
   },
   "source": [
    "El reto parece inocente y súper sencillo, pero no lo es tanto. Inténtenlo si se creen muy listos. Si logran la respuesta, compártanla en telegram o en la próxima clase al inicio. \n",
    "\n",
    "Lo siguiente es preguntarnos por la cantidad de configuraciones sin importarnos el orden. Es lo que se conoce como un muestreo sin remplazo y sin orden, o como las combinaciones posibles. Igual que en el caso de las permutaciones, se tienen $r$ objetos de entre $m$ objetos posibles, pero esta vez no nos importa el orden con el que obtenemos estos objetos. "
   ]
  }
 ],
 "metadata": {
  "celltoolbar": "Slideshow",
  "kernelspec": {
   "display_name": "Julia 1.10.3",
   "language": "julia",
   "name": "julia-1.10"
  },
  "language_info": {
   "file_extension": ".jl",
   "mimetype": "application/julia",
   "name": "julia",
   "version": "1.10.3"
  }
 },
 "nbformat": 4,
 "nbformat_minor": 5
}
