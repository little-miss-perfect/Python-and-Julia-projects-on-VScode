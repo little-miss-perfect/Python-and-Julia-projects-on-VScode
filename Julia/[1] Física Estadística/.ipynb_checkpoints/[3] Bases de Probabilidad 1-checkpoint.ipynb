{
 "cells": [
  {
   "cell_type": "markdown",
   "id": "b299ea7c",
   "metadata": {
    "slideshow": {
     "slide_type": "slide"
    }
   },
   "source": [
    "# Probabilidad ¿Es una rama (importante) de las matemática? "
   ]
  },
  {
   "cell_type": "markdown",
   "id": "24878a15",
   "metadata": {
    "slideshow": {
     "slide_type": "notes"
    }
   },
   "source": [
    "Las matemáticas tienen la fama de ser una \"ciencia exacta\". Es más, en la UNAM dividen las categorías de ciencia, en sociales, naturales, y exactas y en \"exactas\" está básicamente sólo matemáticas. La probabilidad es la rama de las matemáticas de lo que no podemos decir con precisión y eso la hace rara y genera una especie de adversión entre muchos matemáticos. Sin embargo es una de las ramas más importantes en términos de aplicación. Actuaría básicamente es una carrera dedicada a la probabilidad y saben bien que los actuarios son famosos en la facultad por conseguir empleo antes de terminar la carrera (y luego por eso tener un bajo nivel de titulación). En ciencias sociales, definitivamente probabilidad y estadística es lo que más se usa. Se diseñan las encuestas, con las que se mide previo a una elección quién ganará, pero no sólo sirven para medir, sino para verificar que la elección se haya hecho sin trampas. En venezuela hay disturbios hoy, porque aunque su instituto electoral dice que ganó Maduro, las encuestas marcaban a otro ganador y con un porcentaje de las actas que tiene la oposición en su poder, sale otro ganador, así que pueden cuestionar al gobierno. \n",
    "\n",
    "Para todos los experimentales, también la probabilidad resulta básica. Saben que un resultado experimental sin barras de error es un mal resultado experimental. No podemos comparar bien la teoría con la experimentación sin un poco de probabilidad. Además hay datos como \"qué porcentaje de especies aún no conocemos\" o \"el porcentaje de materia oscura o energía oscura que no podemos detectar\", que ya son afirmaciones sobre medir lo que no podemos medir. \n",
    "\n",
    "Pero como dije antes, sin embargo, muchos matemáticos las han despreciado. Quizá justo porque otras ciencias de las han adueñado, quizá porque se siente como que raya en lo seudocientífico. En la facultad, por ejemplo, se intentó por años poner la materia de probabilidad como una obligatoria para los matemáticos, después de todo, es una de las materias que más se solicita en el mundo laboral. Hoy en día, hacer ciencia de datos o modelos de inteligencia artificial, por ejemplo, son en gran medida aplicar la probabilidad a modelos computacionales. Sin embargo, un grupo de profesores se negó y nunca se logró poner probabilidad como materia obligatoria, fue más fácil hacer una nueva carrera, matemáticas aplicadas. Aunque no fue la única razón, fue una de las razones de peso para crear esa carrera, la oposición de un grupo de profesores a que se pusiera como una materia obligatoria. \n",
    "\n",
    "Y uno entiende porque cuando asiste a sus curso de análisis matemático o teoría de la medida. Mencionan una y otra vez que probabilidad es sólo un caso particular. Y sí, desde un punto de vista formal, todo lo que necesitan es la medida de Lebesgue, de ahí viene la integral, sus valores esperados, etc. Así que ese es el argumento de los matemáticos que desprecian la probabilidad. \"La probabilidad es un ejercicio del inicio de curso de teoría de la medida\". Y se burlan, los actuarios les lleva 4 años resolver ese ejercicio de 5min. Pero como en el caso de cuántica, yo les respondería, lo que pasa es que no han entendido que no entienden. Una cosa es el formalismo que da la base, otra muy diferente es el contexto y el contexto lo es todo. De hecho, sin formalismo se pudieron obtener muchísimos resultados. Gauss hizo el teorema del límite central sin esa base formal, por ejemplo. La base formal no llegó sino hasta Kolmogorov, que es de los años 60's. Para darse una idea. "
   ]
  },
  {
   "cell_type": "markdown",
   "id": "e7b71173",
   "metadata": {
    "slideshow": {
     "slide_type": "fragment"
    }
   },
   "source": [
    "## Regresando a las preguntas de la clase anterior:"
   ]
  },
  {
   "cell_type": "markdown",
   "id": "6887eb46",
   "metadata": {
    "slideshow": {
     "slide_type": "fragment"
    }
   },
   "source": [
    "¿Qué entienden por probabilidad?\n",
    "\n",
    "¿Qué significa que alguien diga que hay una probabilidad de 1/2 de que salga sol en un volado?\n",
    "\n",
    "¿Qué significa que la probabilidad de que llueva mañana es de 70%?\n",
    "\n",
    "¿Un conjunto de eventos puede tener diferentes probabilidades? por ejemplo ¿Puede un dado de 6 caras tener una probabilidad de 1/4 de salir 1 y otro tener una probabilidad de 1/6?\n",
    "\n",
    "Supongamos que tenemos un conjunto de posibilidades de un sistema. ¿Puede pasar que todas las posibilidades tengan probabilidad 0?\n",
    "\n",
    "¿Algo puede tener probabilidad mayor a 1? ¿Qué significaría?\n",
    "\n",
    "¿Algo puede tener probabilidad menor que 0? ¿Qué significaría?\n",
    "\n",
    "Digamos que tenemos un sistema con sólo 2 posibilidades, por ejemplo, salir águila o sol en un volado. ¿Cuál es la probabilidad de que salga águila o sol?\n",
    "\n",
    "Si tenemos n posibilidades ¿cuál es la probabilidad de que el sistema esté en la posibilidad 1, o la 2, o la 3 o la 4 o la... n?\n",
    "\n",
    "¿Cuál es la probabilidad de que salga la posibilidad 1 o la 5? ¿puedes demostrar tu afirmación?\n",
    "\n",
    "¿Cómo calculas la probabilidad de que en un volado salga sol? ¿Estás seguro? ¿por qué?"
   ]
  },
  {
   "cell_type": "markdown",
   "id": "d241d209",
   "metadata": {
    "slideshow": {
     "slide_type": "fragment"
    }
   },
   "source": [
    "### Porcentaje"
   ]
  },
  {
   "cell_type": "markdown",
   "id": "c10075dc",
   "metadata": {
    "slideshow": {
     "slide_type": "notes"
    }
   },
   "source": [
    "Vamos a tratar a partir de estas preguntas, ir obteniendo algunos conceptos importantes que nos sirvan para definir la probabilidad. Comencemos con el de porcentaje. En la primaria aprendimos a calcular los porcentajes de la siguiente forma. Uno tenía un conjunto de datos. Entonces, calcula el porcentaje de que ocurra un dato en particular, contando el número de veces que ocurre ese dato, divide después ese número por el número total de datos y luego lo multiplica por 100. "
   ]
  },
  {
   "cell_type": "code",
   "execution_count": 151,
   "id": "c0152560",
   "metadata": {
    "slideshow": {
     "slide_type": "fragment"
    }
   },
   "outputs": [
    {
     "data": {
      "text/plain": [
       "porcentaje (generic function with 1 method)"
      ]
     },
     "execution_count": 151,
     "metadata": {},
     "output_type": "execute_result"
    }
   ],
   "source": [
    "function porcentaje(número_de_datos_totales, número_de_veces_que_se_repite_un_dato) \n",
    "    100*número_de_veces_que_se_repite_un_dato/número_de_datos_totales\n",
    "end"
   ]
  },
  {
   "cell_type": "code",
   "execution_count": 152,
   "id": "084997a4",
   "metadata": {
    "slideshow": {
     "slide_type": "fragment"
    }
   },
   "outputs": [
    {
     "data": {
      "text/plain": [
       "28.571428571428573"
      ]
     },
     "execution_count": 152,
     "metadata": {},
     "output_type": "execute_result"
    }
   ],
   "source": [
    "hombres = 10\n",
    "mujeres = 4\n",
    "porcentaje(hombres+mujeres, mujeres)"
   ]
  },
  {
   "cell_type": "markdown",
   "id": "c09fbbeb",
   "metadata": {
    "slideshow": {
     "slide_type": "notes"
    }
   },
   "source": [
    "Esta versión está bien, pero ¿para qué multiplicamos por 100? Sólo porque a alguien se le ocurrió que eso era pedagógico, pero en realidad es un trabajo extra. Ya está tan metido el concepto de porcentaje en la población, que ni siquiera pensamos que 1. La palabra nos está diciendo que se debe multiplicar por cien (porcentaje), y que el simbolito nos está diciendo que se divide una candidad entre otra. Así que cuando hablen con gente que no esté clavada en cosas de matemáticas, sí usen los porcentajes, pero para nosotros, reslta sólo una carga el tener que multiplicar por 100 cada vez. Así que definamos una cantidad que no requiera ese 100. "
   ]
  },
  {
   "cell_type": "code",
   "execution_count": 153,
   "id": "f5c8ff26",
   "metadata": {
    "slideshow": {
     "slide_type": "fragment"
    }
   },
   "outputs": [
    {
     "data": {
      "text/plain": [
       "porunaje (generic function with 1 method)"
      ]
     },
     "execution_count": 153,
     "metadata": {},
     "output_type": "execute_result"
    }
   ],
   "source": [
    "function porunaje(número_de_datos_totales, número_de_veces_que_se_repite_un_dato) \n",
    "    número_de_veces_que_se_repite_un_dato/número_de_datos_totales\n",
    "end"
   ]
  },
  {
   "cell_type": "markdown",
   "id": "85ec5ee5",
   "metadata": {
    "slideshow": {
     "slide_type": "notes"
    }
   },
   "source": [
    "Quizá algunos digan, pues eso es una probabilidad. Pero no. Es una división. En algún contexto puede ser una probabilidad, pero sin ese contexto es una división. \n",
    "\n",
    "En español usamos la misma palabra para lo que queremos medidr y lo que medimos en el caso de probabilidad y eso lo hace un poco confuso. En inglés lo que queremos medir es el \"likehood\", que es qué tan \"posible\" es que algo ocurra. La medida de que tan posible es, es la probabilidad. Es un poco problemático medir algo que aún no ocurre. Si ya ocurrió, pues tenemos la información, así que podemos decir que la probabilidad es total. Por ejemplo, qué tan probable es que yo les haya dado la clase el lunes? Es seguro. Así que de alguna forma, la probabilidad también es una medida de nuestro desconocimiento. Con cosas que tratan de predecir el futuro con cierta probabilidad, resulta extremadamente engañoso. Va a llover con 70% de probabilidad. ¿Qué significa? ¿cómo miden esa probabilidad? Si me dicen que con 50% de probabilidad cae sol en un volado, puedo adivinar que están pensando que hay 2 caras y asumen que las 2 pueden caer con igual probabilidad (equiprobabilidad), pero en el caso de llover o no llover? \n",
    "\n",
    "Vamos ahora al concepto de equiprobabilidad"
   ]
  },
  {
   "cell_type": "markdown",
   "id": "acbbd6c5",
   "metadata": {
    "slideshow": {
     "slide_type": "fragment"
    }
   },
   "source": [
    "### Equiprobabilidad"
   ]
  },
  {
   "cell_type": "markdown",
   "id": "d4072a78",
   "metadata": {
    "slideshow": {
     "slide_type": "notes"
    }
   },
   "source": [
    "Es una estrategia que usaremos mucho. Cuando no sabemos suficiente sobre que tan posible es que ocurra un resultado entre un conjunto de posibles resultados, podemos asumir que todos son equiprobables como primer intento. Eso nos permite usar nuestra función de pounaje si es que el conjnto de datos es finito. "
   ]
  },
  {
   "cell_type": "markdown",
   "id": "d2798c75",
   "metadata": {
    "slideshow": {
     "slide_type": "fragment"
    }
   },
   "source": [
    "Asumir que todos los posibles datos son igualmente posibles de ocurrir. "
   ]
  },
  {
   "cell_type": "markdown",
   "id": "5690ecd1",
   "metadata": {
    "slideshow": {
     "slide_type": "notes"
    }
   },
   "source": [
    "Por ejemplo, cuál es la probabilidad de que al azar elija una mujer o un hombre para que me aprenda su nombre? Si no sabemos nada sobre como elijo, podemos asumir que es igualmente posible que elija a cualquiera de ustedes. Entonces tengo que buscar quienes son mujeres y contarlos y después usar la función porunaje. \n",
    "\n",
    "Ahora bien, ¿qué son la lista de datos? Son ustedes y sus características. Vamos a pensar por ejemplo en un dado. ¿Qué son la lista de datos? Son los números entre 1 y 6, cierto. Es más, voy a simular un dado. "
   ]
  },
  {
   "cell_type": "code",
   "execution_count": 154,
   "id": "b1f4a121",
   "metadata": {
    "slideshow": {
     "slide_type": "fragment"
    }
   },
   "outputs": [
    {
     "data": {
      "text/plain": [
       "dado (generic function with 1 method)"
      ]
     },
     "execution_count": 154,
     "metadata": {},
     "output_type": "execute_result"
    }
   ],
   "source": [
    "dado() = rand(1:6)"
   ]
  },
  {
   "cell_type": "code",
   "execution_count": 161,
   "id": "9d62c551",
   "metadata": {
    "slideshow": {
     "slide_type": "fragment"
    }
   },
   "outputs": [
    {
     "data": {
      "text/plain": [
       "4"
      ]
     },
     "execution_count": 161,
     "metadata": {},
     "output_type": "execute_result"
    }
   ],
   "source": [
    "dado()"
   ]
  },
  {
   "cell_type": "markdown",
   "id": "e62bd334",
   "metadata": {
    "slideshow": {
     "slide_type": "notes"
    }
   },
   "source": [
    "Sobre ese dado, puedo preguntar cual es la probabilidad de que caiga 1, 2, 3, 4, 5 y 6. Como asumo equiprobabilidad, de todos los casos es 1/6. Quiero hacer énfasis en que en realidad, para calcular la probabilidad estoy asumiendo algo y no puedo de otra forma. Puedo asumir otras cosas y voy a llegar a medidas diferentes. Regresaremos a esta discusión más adelante. Por ahora, les pregunto, hay alguna otra probabilidad que podría calcular sobre este dado con esta suposición? \n",
    "\n",
    "(notesé que ni siquiera hemos definido formalmente qué es una probabilidad, pero ya estamos haciendo cálculos). "
   ]
  },
  {
   "cell_type": "markdown",
   "id": "61644734",
   "metadata": {
    "slideshow": {
     "slide_type": "fragment"
    }
   },
   "source": [
    "### Eventos"
   ]
  },
  {
   "cell_type": "markdown",
   "id": "379b590c",
   "metadata": {
    "slideshow": {
     "slide_type": "notes"
    }
   },
   "source": [
    "Así es, puedo calcular cosas como la probabilidad de que salga un número mayor a 3, o la de que salga 4 o 5, o cualquier combinación de números, uno u otro. Para lo de calcular la probabilidad de que salgan n números seguidos o una secuencia, requiero asumir otras cosas, así que no, eso no lo puedo hacer. En realidad es algo que asumo después del primer tiro, pero al menos en el primer tiro, sólo asumí equiprobabilidad. Igual, regresaremos a ello. "
   ]
  },
  {
   "cell_type": "markdown",
   "id": "15aa0a78",
   "metadata": {
    "slideshow": {
     "slide_type": "fragment"
    }
   },
   "source": [
    "**Espacio de muestreo** $\\Omega$: Es el conjunto de todos los posibles resultados de un experimento. \n",
    "\n",
    "**Evento $E$**: Es un subconjunto de $\\Omega$. "
   ]
  },
  {
   "cell_type": "markdown",
   "id": "3e3b5e16",
   "metadata": {
    "slideshow": {
     "slide_type": "notes"
    }
   },
   "source": [
    "Deno primero notar dos cosas, primero, que el evento $E$ es cualquier subconjunto, no sólo un elemento de $\\Omega$, de hecho, podría ser $\\Omega$ completo o el conjunto vacío, que es un subconjunto de cualquier conjunto. \n",
    "\n",
    "Lo segundo que quiero recalcar es que generalicé mucho. Un conjunto no tiene porque ser finito, ni siquiera numerable. Así que tenemos un problema. Nuestra función porunaje requiere que demos un número finito llamado \"cardinalidad\" del conjunto. Era algo así: "
   ]
  },
  {
   "cell_type": "markdown",
   "id": "5d2c7d37",
   "metadata": {
    "slideshow": {
     "slide_type": "fragment"
    }
   },
   "source": [
    "$porunaje = \\frac{\\#E}{\\#\\Omega}$"
   ]
  },
  {
   "cell_type": "markdown",
   "id": "d7cef6bd",
   "metadata": {
    "slideshow": {
     "slide_type": "notes"
    }
   },
   "source": [
    "Si la cardinalidad es infinito (no se diga no numerable, tiene problemas. "
   ]
  },
  {
   "cell_type": "code",
   "execution_count": 162,
   "id": "02b7d63b",
   "metadata": {
    "slideshow": {
     "slide_type": "fragment"
    }
   },
   "outputs": [
    {
     "data": {
      "text/plain": [
       "NaN"
      ]
     },
     "execution_count": 162,
     "metadata": {},
     "output_type": "execute_result"
    }
   ],
   "source": [
    "porunaje(Inf, Inf)"
   ]
  },
  {
   "cell_type": "markdown",
   "id": "cedbee12",
   "metadata": {
    "slideshow": {
     "slide_type": "notes"
    }
   },
   "source": [
    "Si sólo la cardinalidad de $\\Omega$ fuera infinita, sabemos que es 0 la probabilidad y deja de haber problema, pero si por ejemplo, consideramos el conjunto de rasionales entre 0 y 1 como $\\Omega$ y el conjunto de racionales entre 0 y 0.5 como $E$, estaremos en problemas. "
   ]
  },
  {
   "cell_type": "markdown",
   "id": "31f0aa77",
   "metadata": {
    "slideshow": {
     "slide_type": "notes"
    }
   },
   "source": [
    "Es cursioso que cosas tan simples como estas no hubieran saltado antes a la vista de los matemáticos como para que dijeran, necesitamos una forma de estimar esta clase de cosas formalmente. La culpa la tiene la buena intuición. Por ejemplo, un área es un conjunto infinito de puntos, pero visualmente es claramente finita y nos arroja un número finito, así que podíamos calcular muchas de estas cosas raras pasando a áreas y volúmenes. Si era un conjunto infinito, intentábamos meterlo en un segmento, área o volumen y con ello calculábamos. Y luego, con la llegada del cálculo, mucho se pudo hacer con integrales y listo. Técnicamente no fue necesario formalizar esta parte por ello hasta que se atoraron con las ideas de Cantor. \n",
    "\n",
    "Veremos como resolver este problema, pero hagamos algunos ejercicios antes, porque creo que necesitamos entender primero bien el concepto de evento y de espacio muestral. "
   ]
  },
  {
   "cell_type": "markdown",
   "id": "6bdf1614",
   "metadata": {
    "slideshow": {
     "slide_type": "fragment"
    }
   },
   "source": [
    "Se tiran 2 volados. \n",
    "\n",
    "$\\Omega = $\n",
    "\n",
    "Di todos los posibles eventos. \n",
    "\n",
    "$E = $ \n",
    "\n",
    "Calcula todas las probabilidades. \n",
    "\n",
    "$P(E) = $"
   ]
  },
  {
   "cell_type": "markdown",
   "id": "f4e0bbb3",
   "metadata": {
    "slideshow": {
     "slide_type": "fragment"
    }
   },
   "source": [
    "Se tiene un tiro al blanco en un área cuadrada de 2x2. Se dispara.  \n",
    "\n",
    "$ \\Omega = $ \n",
    "\n",
    "$E = $ Disparar y darle a un círculo inscrito de radio 1. \n",
    "\n",
    "$P(E) = $"
   ]
  },
  {
   "cell_type": "markdown",
   "id": "c08544f1",
   "metadata": {
    "slideshow": {
     "slide_type": "fragment"
    }
   },
   "source": [
    "Decimos que $P(E)$ es la probabilidad de que **ocurra** el evento $E$. \n",
    "\n",
    "Si $A$ y $B \\subseteq \\Omega$, qué significa $P(E)$ con \n",
    "\n",
    "$E = A\\cap B$\n",
    "\n",
    "$E = A \\cup B$\n",
    "\n",
    "$E = A^c$"
   ]
  },
  {
   "cell_type": "markdown",
   "id": "d1ecba0c",
   "metadata": {
    "slideshow": {
     "slide_type": "fragment"
    }
   },
   "source": [
    "Calcula $P(E)$ en una baraja (con 52 cartas; 2,3,... J, Q, R,A, ♤,♡,♧,♢) donde se saca una carta y $E$ es una de las 3 versiones del ejercicio anterior. \n",
    "\n",
    "\n",
    "$\\Omega = $ \n",
    "\n",
    "$A = $ ♡\n",
    "\n",
    "$B = $ pares\n"
   ]
  },
  {
   "cell_type": "markdown",
   "id": "23330434",
   "metadata": {
    "slideshow": {
     "slide_type": "subslide"
    }
   },
   "source": [
    "## Medida"
   ]
  },
  {
   "cell_type": "markdown",
   "id": "f391983e",
   "metadata": {
    "slideshow": {
     "slide_type": "notes"
    }
   },
   "source": [
    "Espero que con estos ejemplos ya tengan algo claro los conceptos de espacio muestral y evento y sobre todo, que tengan muy claro que se refiere a conjuntos en general y por lo tanto, que se entienda porque necesitamos una definición de medida de un conjunto. \n",
    "\n",
    "Como ya dijimos antes, si el conjunto es finito, sonaba bien medirlo con la cardinalidad, pero si el conjunto es infinito, deja de ser funcional esto de medir con la cardinalidad. Necesitamos una definición que sí incluya a la cardinalidad, pero a muchas otras. ¿Qué debe de cumplir una medida? "
   ]
  },
  {
   "cell_type": "markdown",
   "id": "5bdc3d7d",
   "metadata": {
    "slideshow": {
     "slide_type": "fragment"
    }
   },
   "source": [
    "Una medida es una función que va de un conjunto de conjuntos a los reales positivos. \n",
    "\n",
    "Además queremos que \n",
    "\n",
    "- $m(A) \\le m(B)$ sí $A \\subset B$  "
   ]
  },
  {
   "cell_type": "markdown",
   "id": "616b3055",
   "metadata": {
    "slideshow": {
     "slide_type": "notes"
    }
   },
   "source": [
    "No queremos que un subconjunto de algo sea más grande que ese algo. \n",
    "\n",
    "Un poco menos intuitivo, queremos que si dos subconjuntos son disjuntos, entonces:"
   ]
  },
  {
   "cell_type": "markdown",
   "id": "58320ef2",
   "metadata": {
    "slideshow": {
     "slide_type": "fragment"
    }
   },
   "source": [
    "- $m(A\\cup B) = m(A) + m(B)$ si $A\\cap B = \\phi$"
   ]
  },
  {
   "cell_type": "markdown",
   "id": "3e89f9d1",
   "metadata": {
    "slideshow": {
     "slide_type": "notes"
    }
   },
   "source": [
    "Esta regla se puede extender facilmente a la unión de un conjunto numerable de subconjuntos de $\\Omega$, pues sólo tenemos que aplicar esta regla iterativamente, es decir, podemos demostrar que la regla es verdadera para cualquier número natural de subconjuntos de $\\Omega$ vía inducción. Luego, es verdadera para un conjunto numerable de subconjuntos. Sin embargo, es importante recalcar que la inducción no se puede aplicar para un conjunto no numerable de subconjuntos.   \n",
    "\n",
    "Por otro lado, tenemos un problema aquí para usar esta definición como la medida para calcular las probabilidades y es que si por ejemplo, todas las medidas fueran infinitas, cumpliría tanto el primer punto, como el segundo, pero no nos serviría para nuestra fórmula de probabilidad, de hecho, la cardinalidad cumple con estas reglas, pero es problemática para conjuntos infinitos. Así que necesitamos poner una cota en el máximo valor que puede tener nuestra medida para que sea útil en todas las probabilidades. Si ya vamos a poner una cota, qué mejor que esa cota sea 1. "
   ]
  },
  {
   "cell_type": "markdown",
   "id": "b03f328f",
   "metadata": {
    "slideshow": {
     "slide_type": "fragment"
    }
   },
   "source": [
    "- $m(\\Omega) = 1$"
   ]
  },
  {
   "cell_type": "markdown",
   "id": "622e3967",
   "metadata": {
    "slideshow": {
     "slide_type": "notes"
    }
   },
   "source": [
    "Esta restricción sobre la medida hace que nuestra función porunaje se vuelva simplemente: "
   ]
  },
  {
   "cell_type": "markdown",
   "id": "7fcaccd8",
   "metadata": {
    "slideshow": {
     "slide_type": "fragment"
    }
   },
   "source": [
    "$P_{\\Omega}(E) = \\frac{m(E)}{m(\\Omega)} = m(E)$"
   ]
  },
  {
   "cell_type": "markdown",
   "id": "3f0045e3",
   "metadata": {
    "slideshow": {
     "slide_type": "notes"
    }
   },
   "source": [
    "Así que nuestra probabilidad es simplemente una medida donde el máximo valor posible es 1... \n",
    "\n",
    "Bueno, antes de cantar victoria, chequemos que sí nos va a servir. La cardinalidad en el caso de un espacio de muestreo finito va a cumplir esto si dividimos esa cardinalidad por el tamaño del espacio de muestreo, que es justamente lo que estabamos haciendo para calcular las probabilidades, así que sí pega. Esta definición sí generaliza a la de la cardinalidad. \n",
    "\n",
    "En el caso de las áreas, también. Funciona! \n",
    "\n",
    "¿Hay ejemplos que sean raros? \n",
    "\n",
    "Pensemos por ejemplo donde todas las probabilidades son 0, excepto las que contengan un elemento en particular, esas tienen una medida de 1. Eso cumple con todos los requicitos. ¿Tiene algún problema? "
   ]
  },
  {
   "cell_type": "markdown",
   "id": "1947208a",
   "metadata": {
    "slideshow": {
     "slide_type": "fragment"
    }
   },
   "source": [
    "¿Hay algún problema con esta definición? O ¿podemos cantar victoria?"
   ]
  },
  {
   "cell_type": "markdown",
   "id": "c9177741",
   "metadata": {
    "slideshow": {
     "slide_type": "notes"
    }
   },
   "source": [
    "Si hay algún problema, no es obvio. Aunque es extraño, porque podemos definir toda clase de probabilidades sobre un mismo conjunto. No existe una única probabilidad para un espacio de muestreo, son infinitas y eso es extraño y también nos demuestra que las bases para definir una probabilidad no es lo importante, lo importante va a ser el contexto ¿cómo definimos una probabilidad en concreto?\n",
    "\n",
    "Ya tenemos una buena técnica para proponer probabilidades y es asumir equiprobabilidad, todos los elementos de un espacio de muestreo tienen la misma probabilidad. Eso funciona bien para conjuntos finitos, pero si se trata de conjuntos infinitos, esa equiprobabilidad lleva a que todos los elementos tengan una probabilidad 0. ¿Es eso posible?"
   ]
  },
  {
   "cell_type": "markdown",
   "id": "6a07ad30",
   "metadata": {
    "slideshow": {
     "slide_type": "fragment"
    }
   },
   "source": [
    "¿Se puede tener una probabilidad donde todos los elementos del espacio de muestreo tengan la misma probabilidad, pero que el espacio de muestreo tenga infinitos elementos?"
   ]
  },
  {
   "cell_type": "markdown",
   "id": "acd9c099",
   "metadata": {
    "slideshow": {
     "slide_type": "notes"
    }
   },
   "source": [
    "Suena raro primero y la primera impresión es \"no, no se puede\", si todos los elementos de $\\Omega$ valen 0, entonces la unión de ellos, que es $\\Omega$, dará 0 también, porque la probabilidad de la unión de conjuntos disjuntos es la suma de las probabiildades de cada conjunto, pero si la probabilidad de que $\\Omega$ ocurra es 0, entonces se viola uno de los axiomas; sin embargo, el axioma sólo aplica para un conjunto numerable de subconjuntos de $\\Omega$. \n",
    "\n",
    "Sin embargo, ya antes mencionamos, esto sólo aplica para conjuntos numerables. En el caso de conjuntos no numerables, podría haber una salida. De hecho, pensar en áreas o más simple, en intervalos, hace pensar que esa es la salida. Después de todo, la longitud de un intervalo se siente como una medida y un intervalo contiene un número no numerable de números reales y la longitud de un intervalo que contiene un solo punto es 0. Así que si nuestra medida fuera la longitud de un intervalo, podría cumplir con lo que pedimos. Recordemos, es necesario que la cardinalidad de $\\Omega$ sea no numerable. Pensemos en el siguiente ejemplo. "
   ]
  },
  {
   "cell_type": "markdown",
   "id": "c03a794a",
   "metadata": {
    "slideshow": {
     "slide_type": "fragment"
    }
   },
   "source": [
    "**Intento 1** $\\Omega$ es el conjunto de todos los reales entre 0 y 1. \n",
    "\n",
    "$P(E) =$ la longitud del más pequeño que contenga a todos los elementos de $E$."
   ]
  },
  {
   "cell_type": "markdown",
   "id": "630a35f7",
   "metadata": {
    "slideshow": {
     "slide_type": "notes"
    }
   },
   "source": [
    "El intervalo más pequeño que contiene a todos los racionales entre $0$ y $1$, es justamente el intervalo [0,1], así que la probabilidad de $\\Omega$ es 1, y cumple con la definición de probabilidad. Si tuvieramos un intervalo más grande, podríamos dividir la longitud entre la del intervalo que contiene a todos los números que quiéramos medir. Si $A \\subset B$, entonces el intervalo que contiene a $A$ será necesariamente más chico o igual en tamaño que el que contiene a $B$, así que se cumple el primer requicito. \n",
    "\n",
    "Sin embargo, si $A$ son los racionales entre $0$ y $1$ y $B$ los irracionales, $A$ y $B$ son disjuntos, la media de la unión es 1, pero también es la medida tanto de $A$, como de $B$. \n",
    "\n",
    "El ejemplo falló. \n",
    "\n",
    "El problema es que sólo tomábamos un intervalo. Si pudiéramos romper esto en subintervalos, el problema se podría corregir, pero ¿Cómo? \n",
    "\n",
    "¿Qué tal si asociamos intervalos a sólo las regiones continuas y el resto tiene medida 0? Suena bien, pero falla por la misma razón. $A$ y $B$ como los racionales e irracionales, ambos tendrían medida 0, pero la unión sería el intervalo completo. \n",
    "\n",
    "¿Qué tal si pensamos en intervalos sólo si se trata de regiones con una cardinalidad no numerable? \n",
    "\n",
    "Esto último se acerca más, pero ¿Cómo elegimos los intervalos? Por ejemplo, el conjunto de Cantor es no numerable, pero es discontinuo. Eso hace, podamos elegir al intervalo [0,1], pero después, también podemos elegir los dos intervalos [0,1/3] y [2/3,1], etc... Cada vez reduciendo a 2/3 la medida del conjunto de intervalos anteriores. Además, podría haber un número no numerable de intervalos ¿cómo los sumamos? La suma está definida para conjuntos numerables. \n",
    "\n",
    "Una alternativa es cubrir con un conjunto numerable de intervalos abiertos disjuntos nuestro subconjunto $A$. Si $A$ está compuesto de un conjunto numerable de elementos, los intervalos tendrán todos longitud 0 y la suma de ellos dará una longitud 0 también, pues es una suma numerable de 0's. Si en cambio, tenemos un subconjunto no numerable de elementos en $A$, los intervalos que utilicemos para cubrirlos tendrán que ser no todos de longitud 0, pues sólo puede ser un conjunto numerable de intervalos. Sin embargo, sigue sucediendo el problema del conjunto de Cantor, hay una infinidad de posibilidades. Tomemos la más chica de ellas. "
   ]
  },
  {
   "cell_type": "markdown",
   "id": "cb29ff09",
   "metadata": {
    "slideshow": {
     "slide_type": "fragment"
    }
   },
   "source": [
    "**Intento 2** $\\Omega$ el conjunto de los reales entre 0 y 1. \n",
    "\n",
    "$P(E) = \\inf(\\{\\Sigma_j l(I_j): E \\subset \\cup_j I_j \\})$, donde $l(I_j)$ es la longitud del intervalo abierto $I_j$ y $I_i \\cap I_k = \\phi$ para todo $i,k \\in \\mathbb{N}$"
   ]
  },
  {
   "cell_type": "markdown",
   "id": "bdef4be3",
   "metadata": {
    "slideshow": {
     "slide_type": "notes"
    }
   },
   "source": [
    "Esta es la definición de medida de Lebesgue, que por supuesto, se puede generalizar usando en vez de intervalos, rectángulos, prismas o su equivalente $n$-dimensional. \n",
    "\n",
    "La definición se puede aplicar, naturalmente, a todos los $E$ formados por intervalos abiertos, pero con lo general que es, se podría aplciar a cualquier subconjunto del intervalo [0,1]. Sin embargo, no todas esas medidas estarían bien definidas en el sentido de cumplir con los axiomas de probabilidad, así que tenemos que descartar algunos casos. \n",
    "\n",
    "No voy a entrar tanto en detalle, pero podemos hacer una definición equivalente, donde busquemos el supremo de la medida de todos los conjuntos compactos de A (conjuntos cerrados y finitos). Si ambas medidas coinciden, entonces diremos que el conjunto es medible. \n",
    "\n",
    "La medida de Lebesgue es una especie de generalización de la longitud de un intervalo. Esto nos permite crear una generalización de las sumas de Riemman."
   ]
  },
  {
   "cell_type": "markdown",
   "id": "e6c6e09b",
   "metadata": {
    "slideshow": {
     "slide_type": "fragment"
    }
   },
   "source": [
    "### Integral de Lebesgue\n",
    "\n",
    "$\\int_0^1 f(x)dx = lim_{n \\uparrow} \\Sigma_{k = 1}^\\infty \\frac{(k-1)}{2^n} P(\\{0\\le x\\le 1: (k-1) 2^{-n} \\le f(x) < k 2^{-n} \\})$"
   ]
  },
  {
   "cell_type": "markdown",
   "id": "c7722aef",
   "metadata": {
    "slideshow": {
     "slide_type": "notes"
    }
   },
   "source": [
    "Esta definición sólo funciona para valores positivos de f(x), pues la medida es siempre positiva. A cambio, en realidad no necesitamos que f sea una función, podemos evaluar también relaciones. Y para resolver el problema de que no sea positiva, podemos obtener $f^- = (|f|-f)/2$, lo que nos dará sólo la parte negativa de la función. Algo similar con $f^+ = (|f| + f)/2$ que nos dará sólo la parte positiva. Entonces, $\\int f = \\int f^+ - \\int f^-$. \n",
    "\n",
    "Para modificar el intervalo, en realidad basta con definir la probabilidad arriba para cualquier intervalo que queramos. Otra alternativa es contraer $f(x)$. Por ejemplo, si $g(x)$ la definimos en el intervalo $[a,b]$, entonces, $g(x) = f\\big(\\frac{x-a}{b-a}\\big)$. En ese caso, (b-a)$\\int_0^1 f(x)dx = \\int_a^b g(x)dx$ que está bien definido. \n",
    "\n",
    "En general, $\\int_a^b g(x)dx = (b-a)\\int_0^1 (|f(x)|+f(x))/2 dx -(b-a) \\int_0^1 (|f(x)|-f(x))/2 dx$. \n",
    "\n",
    "Esta integral generaliza la de Riemman, así que donde la de Riemman funciona, podemos usar simplemente la de Riemman, pues en esos casos la diferencia es sólo que los rectángulos están acostados en vez de parados, pero eso es poco relevante en el límite de n tendiendo a infinito. Lo importante es que con esta definición es obvio que estamos obteniendo el valor promedio de $f$, porque en cada elemento de la suma estamos calculando la probabilidad de que la función se encuentre en el intervalo [(k-1) 2^{-n}, k 2^{-n}] y después multiplicando por ese intervalo y esa es justamente la definición de un promedio, así que: "
   ]
  },
  {
   "cell_type": "markdown",
   "id": "7b8ed3b3",
   "metadata": {
    "slideshow": {
     "slide_type": "fragment"
    }
   },
   "source": [
    "$\\langle f(x) \\rangle_a^b = \\frac{1}{b-a} \\int_a^b f(x)dx$"
   ]
  },
  {
   "cell_type": "markdown",
   "id": "486183c2",
   "metadata": {
    "slideshow": {
     "slide_type": "notes"
    }
   },
   "source": [
    "Esto probablemente ya lo sabían del teorema del valor medio, pero creo que es impresionante obtenerlo así. Salta a la vista. Aquí llamaremos a esto el valor esperado de f. \n",
    "\n",
    "Luego regresaremos a esto, pero creo que era buena idea ir metiendo la noción!"
   ]
  },
  {
   "cell_type": "markdown",
   "id": "44bc8d3d",
   "metadata": {
    "slideshow": {
     "slide_type": "fragment"
    }
   },
   "source": [
    "Por hoy, hasta aquí!!"
   ]
  }
 ],
 "metadata": {
  "celltoolbar": "Slideshow",
  "kernelspec": {
   "display_name": "Julia 1.10.3",
   "language": "julia",
   "name": "julia-1.10"
  },
  "language_info": {
   "file_extension": ".jl",
   "mimetype": "application/julia",
   "name": "julia",
   "version": "1.10.3"
  }
 },
 "nbformat": 4,
 "nbformat_minor": 5
}
