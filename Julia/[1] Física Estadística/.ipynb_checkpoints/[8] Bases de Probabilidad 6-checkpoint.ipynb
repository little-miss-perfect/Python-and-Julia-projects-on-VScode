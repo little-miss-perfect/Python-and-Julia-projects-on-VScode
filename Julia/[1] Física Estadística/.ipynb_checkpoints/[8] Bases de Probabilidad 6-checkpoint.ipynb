{
 "cells": [
  {
   "cell_type": "markdown",
   "id": "aa48eae6",
   "metadata": {
    "slideshow": {
     "slide_type": "slide"
    }
   },
   "source": [
    "## Combinatoria"
   ]
  },
  {
   "cell_type": "markdown",
   "id": "163da2fb",
   "metadata": {
    "slideshow": {
     "slide_type": "notes"
    }
   },
   "source": [
    "La clase pasada revisamos nuevamente las permutaciones y las combinaciones y de pasadita demostramos como ejercicio un teorema importante sobre la probabilidad de la unión de eventos, pero ya no llegamos a resolver el reto que dejé. Ya Román tiene una versión, que espero les comparta durante la ayudantía la próxima semana, y espero que alguno de ustedes haya resuelto el reto. Por si no, lo veo aquí, porque es representativo sobre como se pueden resolver una gran cantidad de problemas. Entonces les recuerdo: "
   ]
  },
  {
   "cell_type": "markdown",
   "id": "cf31d65b",
   "metadata": {
    "slideshow": {
     "slide_type": "fragment"
    }
   },
   "source": [
    "**Reto:** Cuál es la probabilidad de que almenos 1 persona reciba su celular, si los celulares de $N$ personas están en una bolsa y se entregan aleatoriamente a las $N$ personas. "
   ]
  },
  {
   "cell_type": "markdown",
   "id": "1f6cf9f3",
   "metadata": {
    "slideshow": {
     "slide_type": "notes"
    }
   },
   "source": [
    "Para resolverlo, primero resuelvan el caso más sencillo: "
   ]
  },
  {
   "cell_type": "markdown",
   "id": "9ed76dae",
   "metadata": {
    "slideshow": {
     "slide_type": "fragment"
    }
   },
   "source": [
    "**Problema menos complicado:** ¿Cuál es la probabilidad de que $n$ personas específicas reciban su celular?"
   ]
  },
  {
   "cell_type": "markdown",
   "id": "906b5f2b",
   "metadata": {
    "slideshow": {
     "slide_type": "notes"
    }
   },
   "source": [
    "La clase anterior argumentamos que si se tienen $n$ personas específicas que resivirán su celular, entonces habrá $N-n$ que no nos importa si recibirán o no su celular. Esto quiere decir que habrá $N-n$ objetos que podemos permutar entre los $N-n$ estudiantes que no estamos asegurando que recibirán su celular. Los otros $n$ estudiantes reciben su celular, así que no hay más que 1 permutación de esos $n$ celulares donde eso sucede. \n",
    "\n",
    "Debemos considerar el número de permutaciones, porque todos los celulares son únicos y las personas también, así que hay un orden y $r$ objetos diferentes. Las permutaciones totales son $N!$, pues hay $N$ celulares en total. Las permutaciones de $N-n$ celulares son $(N-n)!$. Por lo tanto, la probabilidad de que $n$ estudiantes específicos reciban su celular es $\\frac{(N-n)!}{N!}$. \n",
    "\n",
    "Si $n = 1$, entonces tenemos $1/N$ y si $n = N$, entonces tenemos $1/N!$, que es lo que habíamos calculado antes. \n",
    "\n",
    "Ahora sí, resolvamos el problema de \"al menos 1 persona recibe su celular\". \n",
    "\n",
    "Que al menos una persona reciba su celular lo podemos parafrasear como \" que el estudiante 1 reciba su celular, o el estudiante 2 reciba su celular, o el 3, o el 4, ..., o el $N$\". Si llamamos $A_i$ al evento donde el estudiante $i$ recibe su celular, esta frase la podemos poner como $A_1 \\cup A_2 \\cup A_3 \\cup \\dots \\cup A_N$, pues lo que en lenguaje natural es \"o\", en conjuntos es la unión. Así que la probabilidad de que al menos un estudiantes reciba su celular lo podemos poner como $P(\\cup_{i = 1}^N A_i)$. "
   ]
  },
  {
   "cell_type": "markdown",
   "id": "49623a86",
   "metadata": {
    "slideshow": {
     "slide_type": "fragment"
    }
   },
   "source": [
    "\"Al menos un estudiante reciba su celular\" = \"Que el estudiante 1 reciba su celular, o el 2, o el 3, o el 4,..., o el N\" = $A_1 \\cup A_2 \\cup A_3 \\cup \\dots \\cup A_N$ = $\\cup_{i = 1}^N A_i$"
   ]
  },
  {
   "cell_type": "markdown",
   "id": "e770ffb9",
   "metadata": {
    "slideshow": {
     "slide_type": "fragment"
    }
   },
   "source": [
    "por lo tanto, queremos calcular\n",
    "\n",
    "$P(\\cup_{i = 1}^N A_i)$"
   ]
  },
  {
   "cell_type": "markdown",
   "id": "a65df951",
   "metadata": {
    "slideshow": {
     "slide_type": "notes"
    }
   },
   "source": [
    "Ahora aplicamos la formultia que vimos la última clase para la probabilidad de la unión de subconjuntos, pues los conjuntos no son disjuntos, así que no podemos simplemente calcular la suma de las probabilidades de $A_i$. "
   ]
  },
  {
   "cell_type": "markdown",
   "id": "daa848ed",
   "metadata": {
    "slideshow": {
     "slide_type": "fragment"
    }
   },
   "source": [
    "$P(\\cup_{i = 1}^N A_i) =  \\sum_{i=1}^N P(A_i) - \\sum_{i<j} P(A_i \\cap A_j) +\\cdots + (-1)^{n+1} \\sum_{k1<k_2<...<k_n} P(\\cap A_{k_i}) +\\cdots +(-1)^{N+1} P(\\cap_{i=1}^N A_i),$"
   ]
  },
  {
   "cell_type": "markdown",
   "id": "0548190b",
   "metadata": {
    "slideshow": {
     "slide_type": "notes"
    }
   },
   "source": [
    "Pero todas las probabilidades de $A_i$ son iguales, y son $1/N$, así que esa primera suma es simplemente 1. Luego, las probabilidades de las intersecciones por pares, también son todas iguales, lo mismo para las intersecciones por triadas, etc. \n",
    "\n",
    "¿Y qué son esas intersecciones? Pues es el evento donde el alumno $i$ y el $j$ reciben su celular, el $k_1$, el $k_2$ y el $k_3$, etc. Pero cada una de esas probabiidades ya la calculamos, peus es la probabilidad de que 2, 3,..., $n$, ..., N alumnos reciban su celular. Así que la probabilidad queda como: "
   ]
  },
  {
   "cell_type": "markdown",
   "id": "f21e4ee6",
   "metadata": {
    "slideshow": {
     "slide_type": "fragment"
    }
   },
   "source": [
    "$P(\\cup_{i = 1}^N A_i) =  1 - \\sum_{i<j} \\frac{(N-2)!}{N!} +\\cdots + (-1)^{n+1} \\sum_{k1<k_2<...<k_n} \\frac{(N-n)!}{N!} +\\cdots +(-1)^{N+1} \\frac{1}{N!}$"
   ]
  },
  {
   "cell_type": "markdown",
   "id": "ca07f7c5",
   "metadata": {
    "slideshow": {
     "slide_type": "notes"
    }
   },
   "source": [
    "Es decir, sólo sumamos 1's cada vez, ¿cuantas veces? pues el número de configuraciones donde $k_1<k_2<\\dots<k_n$, El orden de las $k$'s en realidad no nos importa, pues se refiere a las intersecciones, que conmutan, por lo que el orden de las intersecciones no altera el resultado. Así que esto no es otra cosa que el número de combinaciones de $n$ objetos de entre $N$ posibilidades. Es decir:  "
   ]
  },
  {
   "cell_type": "markdown",
   "id": "e5146c09",
   "metadata": {
    "slideshow": {
     "slide_type": "fragment"
    }
   },
   "source": [
    "$P(\\cup_{i = 1}^N A_i) =  1 - \\frac{N!}{2!(N-2)!} \\frac{(N-2)!}{N!} +\\cdots + (-1)^{n+1} \\frac{N!}{n!(N-n)!} \\frac{(N-n)!}{N!} +\\cdots +(-1)^{N+1} \\frac{1}{N!}$"
   ]
  },
  {
   "cell_type": "markdown",
   "id": "eb43546f",
   "metadata": {
    "slideshow": {
     "slide_type": "notes"
    }
   },
   "source": [
    "Pero en cada elemento de la suma la probabilidad era el inverso de las permutaciones, por lo que al multiplicarlo por el número de combinaciones nose queda simplemente $1/n!$. "
   ]
  },
  {
   "cell_type": "markdown",
   "id": "f74a54e0",
   "metadata": {
    "slideshow": {
     "slide_type": "fragment"
    }
   },
   "source": [
    "$ = 1 - \\frac{1}{2!} +\\cdots + (-1)^{n+1} \\frac{1}{n!} +\\cdots +(-1)^{N+1} \\frac{1}{N!} $"
   ]
  },
  {
   "cell_type": "markdown",
   "id": "fe0ab1b5",
   "metadata": {
    "slideshow": {
     "slide_type": "notes"
    }
   },
   "source": [
    "Escribimos en forma compacta esta suma y llegamos a: "
   ]
  },
  {
   "cell_type": "markdown",
   "id": "05ae1f49",
   "metadata": {
    "slideshow": {
     "slide_type": "fragment"
    }
   },
   "source": [
    "$ = \\sum_{n = 1}^N \\frac{(-1)^{n+1}}{n!}$"
   ]
  },
  {
   "cell_type": "markdown",
   "id": "1a30f270",
   "metadata": {
    "slideshow": {
     "slide_type": "notes"
    }
   },
   "source": [
    "De donde identificamos la exponencial. "
   ]
  },
  {
   "cell_type": "markdown",
   "id": "12d82cd4",
   "metadata": {
    "slideshow": {
     "slide_type": "fragment"
    }
   },
   "source": [
    "$ = (-1) \\sum_{n = 1}^N \\frac{(-1)^{n}}{n!} = \\frac{(-1)^{0}}{0!} -\\frac{(-1)^{0}}{0!} - \\sum_{n = 1}^N \\frac{(-1)^{n}}{n!} = 1-\\sum_{n = 0}^N \\frac{(-1)^{n}}{n!}\\approx 1 - e^{-1}$"
   ]
  },
  {
   "cell_type": "markdown",
   "id": "78433e61",
   "metadata": {
    "slideshow": {
     "slide_type": "notes"
    }
   },
   "source": [
    "Impresionantemente, ¿no? \n",
    "\n",
    "Nos aparece el inverso del número de Euler!! ¿Por qué? Pi está relacionado con círculo, $e$ cón qué está relacionado?  "
   ]
  },
  {
   "cell_type": "code",
   "execution_count": 148,
   "id": "9c686784",
   "metadata": {
    "slideshow": {
     "slide_type": "fragment"
    }
   },
   "outputs": [
    {
     "data": {
      "text/plain": [
       "conteo_llaves (generic function with 1 method)"
      ]
     },
     "execution_count": 148,
     "metadata": {},
     "output_type": "execute_result"
    }
   ],
   "source": [
    "function llaves(N)\n",
    "    llaves_t = [i for i in 1:N]\n",
    "    estudiantes = []\n",
    "    for i in 1:N\n",
    "        llave = rand(1:length(llaves_t))\n",
    "        if llaves_t[llave] == i\n",
    "            return true\n",
    "        end\n",
    "        deleteat!(llaves_t, llave)\n",
    "    end\n",
    "    return false\n",
    "end\n",
    "  \n",
    "function conteo_llaves(N, NN)\n",
    "    contador = 0\n",
    "    for i in 1:NN\n",
    "        test = llaves(N)\n",
    "        if test\n",
    "            contador += 1\n",
    "        end\n",
    "    end\n",
    "    return contador\n",
    "end\n",
    "  "
   ]
  },
  {
   "cell_type": "code",
   "execution_count": 149,
   "id": "ded1ddbd",
   "metadata": {
    "slideshow": {
     "slide_type": "fragment"
    }
   },
   "outputs": [
    {
     "data": {
      "text/plain": [
       "(2.7186693744613635, 2.718281828459045)"
      ]
     },
     "execution_count": 149,
     "metadata": {},
     "output_type": "execute_result"
    }
   ],
   "source": [
    "NN = 1_000_000\n",
    "(1-conteo_llaves(23, NN)/NN)^-1, exp(1)"
   ]
  },
  {
   "cell_type": "markdown",
   "id": "a6764109",
   "metadata": {
    "slideshow": {
     "slide_type": "notes"
    }
   },
   "source": [
    "Ahora pasemos a otro problema. "
   ]
  },
  {
   "cell_type": "markdown",
   "id": "2dd41651",
   "metadata": {
    "slideshow": {
     "slide_type": "fragment"
    }
   },
   "source": [
    "**Problema de Román**"
   ]
  },
  {
   "cell_type": "markdown",
   "id": "cb37b0dc",
   "metadata": {
    "slideshow": {
     "slide_type": "notes"
    }
   },
   "source": [
    "Ahora quisiera plantearles un problema que Román me propuso. Calcular la probabilidad de formar \"color\" en una partida de 2 personas de \"viuda negra\". \n",
    "\n",
    "En el juego con $N$ jugadores, primero se preparten 5 cartas de la bajara de 52 cartas a cada quien y 5 más en el centro. El resto se descarta. Después, los jugadores pueden intercambiar en cada turno una carta (o todas) por las que están en el centro. Queremos saber la probabilidad de poder formar una mano con 5 cartas del mismo palo, es decir, 5 corazones o 5 espadas, o 5 tréboles, o 5 diamantes. \n",
    "\n",
    "Por supuesto, dependiendo de la estrategia de cada uno y de la estrategia de los demás jugadores, tendremos mayor o menor probabilidad de formar una mano de \"color\". Simplifiquemos y preguntémonos ¿Cuál es la probabilidad de que entre las 15 cartas de los dos jugadores haya una mano de color? "
   ]
  },
  {
   "cell_type": "markdown",
   "id": "b8c3aaed",
   "metadata": {
    "slideshow": {
     "slide_type": "fragment"
    }
   },
   "source": [
    "Tomando 15 cartas de un mazo de 52 cartas de forma aleatoria, ¿cuál es la probabilidad de tener por lo menos 1 grupo de 5 o más cartas de la misma rama?"
   ]
  },
  {
   "cell_type": "markdown",
   "id": "f9332bfa",
   "metadata": {
    "slideshow": {
     "slide_type": "notes"
    }
   },
   "source": [
    "Vamos a comenzar por el experimento numérico que sin duda es lo más sencillo y nos va a ayudar a plantear la solución. "
   ]
  },
  {
   "cell_type": "code",
   "execution_count": 152,
   "id": "e1efea9b",
   "metadata": {
    "slideshow": {
     "slide_type": "fragment"
    }
   },
   "outputs": [
    {
     "data": {
      "text/plain": [
       "probabilidad_color (generic function with 1 method)"
      ]
     },
     "execution_count": 152,
     "metadata": {},
     "output_type": "execute_result"
    }
   ],
   "source": [
    "struct Carta\n",
    "    numero ::Int\n",
    "    color ::Int\n",
    "end\n",
    "function revisa_color(mano::Array{Carta}, n = 5)\n",
    "    contador = zeros(4)\n",
    "    for carta in mano\n",
    "        contador[carta.color] += 1\n",
    "    end\n",
    "    if maximum(contador) >= n\n",
    "        return true\n",
    "    else\n",
    "        return false\n",
    "    end \n",
    "end\n",
    "\n",
    "function probabilidad_color(; n= 15, N = 1000_000)\n",
    "    baraja = [Carta(i,j) for i in 1:13 for j in 1:4]\n",
    "    contador = 0\n",
    "    for i in 1:N\n",
    "        cartas = [i for i in 1:52]\n",
    "        mano = Carta[]\n",
    "        for j in 1:n\n",
    "            k = rand(1:length(cartas))\n",
    "            push!(mano, baraja[cartas[k]])\n",
    "            deleteat!(cartas, k)\n",
    "        end\n",
    "        test = revisa_color(mano)\n",
    "        if test\n",
    "            contador += 1\n",
    "        end\n",
    "    end\n",
    "    return contador/N\n",
    "end"
   ]
  },
  {
   "cell_type": "code",
   "execution_count": 153,
   "id": "affe44fd",
   "metadata": {},
   "outputs": [
    {
     "data": {
      "text/plain": [
       "0.906341"
      ]
     },
     "execution_count": 153,
     "metadata": {},
     "output_type": "execute_result"
    }
   ],
   "source": [
    "probabilidad_color()\n"
   ]
  },
  {
   "cell_type": "markdown",
   "id": "1833f1ed",
   "metadata": {
    "slideshow": {
     "slide_type": "notes"
    }
   },
   "source": [
    "Ahora vamos calcular el número de posibilidades en 15 cartas. "
   ]
  },
  {
   "cell_type": "markdown",
   "id": "b0d12c5a",
   "metadata": {
    "slideshow": {
     "slide_type": "fragment"
    }
   },
   "source": [
    "$\\Omega = $"
   ]
  },
  {
   "cell_type": "markdown",
   "id": "af2cb2b2",
   "metadata": {
    "slideshow": {
     "slide_type": "notes"
    }
   },
   "source": [
    "No nos importa el orden y sabemos que todas las cartas son diferentes, así que habrá $\\binom{52}{15}$"
   ]
  },
  {
   "cell_type": "code",
   "execution_count": 154,
   "id": "ae1e9c50",
   "metadata": {
    "slideshow": {
     "slide_type": "fragment"
    }
   },
   "outputs": [
    {
     "data": {
      "text/plain": [
       "4481381406320"
      ]
     },
     "execution_count": 154,
     "metadata": {},
     "output_type": "execute_result"
    }
   ],
   "source": [
    "binomial(52,15)"
   ]
  },
  {
   "cell_type": "markdown",
   "id": "627f96e8",
   "metadata": {
    "slideshow": {
     "slide_type": "notes"
    }
   },
   "source": [
    "Lo siguiente es calcular el tamaño del evento, es decir, el número de configuraciones donde tenemos al menos 5 cartas de un mismmo palo de entre 15 cartas que elijamos.\n",
    "\n",
    "Es decir, queremos que al menos 5 cartas sean o bien corazones, o bien diamantes o bien tréboles o bien espadas. Aquí debo decir que podría salir entre los \"colores\" escaleras, si queremos ser estrictos, tenemos que eliminar esos casos, pero simplifiquemos y omitamos que las escaleras son diferentes de los colores. \n",
    "\n",
    "Nuevamente, tenemos el evento donde $A_1$ donde salen 5 o más corazones, el evento $A_2$ donde salen 5 o más diamantes, etc. Queremos la probabilidad de que ocurra cualquiera de ellos, así que es la probabilidad de la unión otra vez. \n",
    "\n"
   ]
  },
  {
   "cell_type": "markdown",
   "id": "5263a9d0",
   "metadata": {
    "slideshow": {
     "slide_type": "fragment"
    }
   },
   "source": [
    "$P(\\cup_{i = 1}^4 A_i) = \\sum_i P(A_i) - \\sum_{i<j} P(A_i\\cap A_j) + \\sum_{i<j<k} P(A_{i} \\cap A_{j}\\cap A_{k}) - P(A_1 \\cap A_2 \\cap A_3 \\cap A_4)$"
   ]
  },
  {
   "cell_type": "markdown",
   "id": "52dbf8f0",
   "metadata": {
    "slideshow": {
     "slide_type": "notes"
    }
   },
   "source": [
    "Ahora bien, el número de configuraciones donde salen 5 de un mismo palo específico lo podemos calcular calculando el número de configuraciones donde salen exactamente 5 de un palo específico y el resto de los demás + el número de configuraciones donde salen exactamente 6 de un palo +...+ el número de configuraciones donde sale 13 de un palo. Es decir: "
   ]
  },
  {
   "cell_type": "markdown",
   "id": "40ea17ab",
   "metadata": {
    "slideshow": {
     "slide_type": "fragment"
    }
   },
   "source": [
    "$P(A_i) =\\frac{\\sum_{i = 5}^{13} \\binom{13}{i} \\binom{39}{15-i}}{\\binom{52}{15}} = 1 - \\frac{\\sum_{i = 0}^{4} \\binom{13}{i} \\binom{39}{15-i}}{\\binom{52}{15}}  $\n",
    "\n",
    "usando la identidad de Vandermonde\n",
    "\n",
    "$\\sum_{i = 0}^{k}\\binom{n}{i}\\binom{m}{k-i} = \\binom{n+m}{k}$"
   ]
  },
  {
   "cell_type": "markdown",
   "id": "0f51ee4b",
   "metadata": {
    "slideshow": {
     "slide_type": "notes"
    }
   },
   "source": [
    "Para las intersecciones algo similar: "
   ]
  },
  {
   "cell_type": "markdown",
   "id": "3d73cbe3",
   "metadata": {
    "slideshow": {
     "slide_type": "fragment"
    }
   },
   "source": [
    "$P(A_i \\cap A_j) =  \\frac{\\sum_{j = 5}^{15-i}\\sum_{i = 5}^{10} {\\binom{13}{i}\\binom{13}{j}\\binom{26}{15-i-j}}}{\\binom{52}{15}} $\n",
    "\n",
    "$P(A_i \\cap A_j \\cap A_k) =  \\frac{\\binom{13}{5}\\binom{13}{5}\\binom{13}{5}}{\\binom{52}{15}}$"
   ]
  },
  {
   "cell_type": "markdown",
   "id": "35c5bf0f",
   "metadata": {
    "slideshow": {
     "slide_type": "notes"
    }
   },
   "source": [
    "Aquí también se puede reducir la suma utilizando la identidad de Vandermonde, pero se ve horrible, así que prefiero dejarla. \n",
    "\n",
    "Ahora sólo falta contar cuantos elementos tiene la suma. La primera tiene 4 elementos, la segunda son las combinaciones de 2 de entre 4, es decir 6 y la tercera son las combinaciones de 3 en 4, es decir 4. Por lo tanto "
   ]
  },
  {
   "cell_type": "code",
   "execution_count": 155,
   "id": "34fc57c6",
   "metadata": {
    "slideshow": {
     "slide_type": "fragment"
    }
   },
   "outputs": [
    {
     "data": {
      "text/plain": [
       "0.9066891292916341"
      ]
     },
     "execution_count": 155,
     "metadata": {},
     "output_type": "execute_result"
    }
   ],
   "source": [
    "pa = 1- sum(binomial(13,i)*binomial(39,15-i) for i in 0:4)/binomial(52,15)\n",
    "\n",
    "pa1a2 = sum(sum (binomial(13,i)*binomial(13,j)*binomial(26,15-i-j) for j in 5:(15-i)) for i in 5:10)/binomial(52,15)\n",
    "pa1a2a3 = binomial(13,5)^3/binomial(52,15)\n",
    "\n",
    "proba_color = 4*pa - 6*pa1a2 + 4pa1a2a3"
   ]
  },
  {
   "cell_type": "markdown",
   "id": "00c18245",
   "metadata": {
    "slideshow": {
     "slide_type": "notes"
    }
   },
   "source": [
    "No queda bonito el cálculo, pero era un poco de esperarse, porque es un caso específico. Lo bueno de este ejemplo es que realmente creo que les muestra la estrategia a seguir para cualquier cálculo de probabilidad en estos juegos de cartas, por más talachudos que sean. \n",
    "\n",
    "Ahora quisiera regresar al problema de la moneda trucada, pero ir \"poquito a poquito\". Primero estudiemos cuál es la probabilidad de sacar $n$ volados iguales. "
   ]
  },
  {
   "cell_type": "markdown",
   "id": "aef626fc",
   "metadata": {
    "slideshow": {
     "slide_type": "fragment"
    }
   },
   "source": [
    "**Se tiran n volados y salen m soles y n-m águilas ¿Cuántas posibles configuraciones dan ese resultado?**\n",
    "\n",
    "Por lo tanto ¿Qué probabilidad tengo de sacar $m$ soles al tirar $n$ volados?"
   ]
  },
  {
   "cell_type": "markdown",
   "id": "99a2acd3",
   "metadata": {
    "slideshow": {
     "slide_type": "notes"
    }
   },
   "source": [
    "Como se darán cuenta, aquí estamos simplemente acomodando $m$ soles en $n$ lugares. Esto es equivalente a asociar $m$ números (a cada sol) de entre $n$ posibles, es decir, habrá $\\binom{n}{m}$ posibilidades.\n",
    "\n",
    "Si la probabilidad de tirar un sol es $p$, entonces la probabilidad de sacar $m$ soles es $p^m$, el resto son águilas, que tienen una probabilidad de $1-p$, por lo que la probabilidad de sacar $m$ soles en $n$ volados será: "
   ]
  },
  {
   "cell_type": "markdown",
   "id": "76e030b4",
   "metadata": {
    "slideshow": {
     "slide_type": "fragment"
    }
   },
   "source": [
    "### Tiros de Bernoulli\n",
    "\n",
    "$P(m \\text{ soles en } n \\text{ volados}|p) = \\binom{n}{m} p^m (1-p)^{n-m}$"
   ]
  },
  {
   "cell_type": "markdown",
   "id": "5c011754",
   "metadata": {
    "slideshow": {
     "slide_type": "notes"
    }
   },
   "source": [
    "Es un problema simplón, pero ya logra mostrar ciertas propiedades interesantes. Déjenme por ejemplo mostrarles cómo se ve esta función para muchos volados. \n"
   ]
  },
  {
   "cell_type": "code",
   "execution_count": 156,
   "id": "1f3a9ca6",
   "metadata": {
    "slideshow": {
     "slide_type": "fragment"
    }
   },
   "outputs": [
    {
     "data": {
      "text/plain": [
       "p_bernoulli (generic function with 1 method)"
      ]
     },
     "execution_count": 156,
     "metadata": {},
     "output_type": "execute_result"
    }
   ],
   "source": [
    "p_bernoulli(m,n,p) = binomial(n,m)*p^m*(1-p)^(n-m)\n"
   ]
  },
  {
   "cell_type": "code",
   "execution_count": 158,
   "id": "196f0ad6",
   "metadata": {
    "slideshow": {
     "slide_type": "fragment"
    }
   },
   "outputs": [
    {
     "data": {
      "image/png": "[encoded data removed]",
      "image/svg+xml": [
       "<?xml version=\"1.0\" encoding=\"utf-8\"?>\n",
       "<svg xmlns=\"http://www.w3.org/2000/svg\" xmlns:xlink=\"http://www.w3.org/1999/xlink\" width=\"600\" height=\"400\" viewBox=\"0 0 2400 1600\">\n",
       "<defs>\n",
       "  <clipPath id=\"clip040\">\n",
       "    <rect x=\"0\" y=\"0\" width=\"2400\" height=\"1600\"/>\n",
       "  </clipPath>\n",
       "</defs>\n",
       "<path clip-path=\"url(#clip040)\" d=\"M0 1600 L2400 1600 L2400 0 L0 0  Z\" fill=\"#ffffff\" fill-rule=\"evenodd\" fill-opacity=\"1\"/>\n",
       "<defs>\n",
       "  <clipPath id=\"clip041\">\n",
       "    <rect x=\"480\" y=\"0\" width=\"1681\" height=\"1600\"/>\n",
       "  </clipPath>\n",
       "</defs>\n",
       "<path clip-path=\"url(#clip040)\" d=\"M219.866 1423.18 L2352.76 1423.18 L2352.76 123.472 L219.866 123.472  Z\" fill=\"#ffffff\" fill-rule=\"evenodd\" fill-opacity=\"1\"/>\n",
       "<defs>\n",
       "  <clipPath id=\"clip042\">\n",
       "    <rect x=\"219\" y=\"123\" width=\"2134\" height=\"1301\"/>\n",
       "  </clipPath>\n",
       "</defs>\n",
       "<polyline clip-path=\"url(#clip042)\" style=\"stroke:#000000; stroke-linecap:round; stroke-linejoin:round; stroke-width:2; stroke-opacity:0.1; fill:none\" points=\"219.866,1423.18 219.866,123.472 \"/>\n",
       "<polyline clip-path=\"url(#clip042)\" style=\"stroke:#000000; stroke-linecap:round; stroke-linejoin:round; stroke-width:2; stroke-opacity:0.1; fill:none\" points=\"646.444,1423.18 646.444,123.472 \"/>\n",
       "<polyline clip-path=\"url(#clip042)\" style=\"stroke:#000000; stroke-linecap:round; stroke-linejoin:round; stroke-width:2; stroke-opacity:0.1; fill:none\" points=\"1073.02,1423.18 1073.02,123.472 \"/>\n",
       "<polyline clip-path=\"url(#clip042)\" style=\"stroke:#000000; stroke-linecap:round; stroke-linejoin:round; stroke-width:2; stroke-opacity:0.1; fill:none\" points=\"1499.6,1423.18 1499.6,123.472 \"/>\n",
       "<polyline clip-path=\"url(#clip042)\" style=\"stroke:#000000; stroke-linecap:round; stroke-linejoin:round; stroke-width:2; stroke-opacity:0.1; fill:none\" points=\"1926.18,1423.18 1926.18,123.472 \"/>\n",
       "<polyline clip-path=\"url(#clip042)\" style=\"stroke:#000000; stroke-linecap:round; stroke-linejoin:round; stroke-width:2; stroke-opacity:0.1; fill:none\" points=\"2352.76,1423.18 2352.76,123.472 \"/>\n",
       "<polyline clip-path=\"url(#clip040)\" style=\"stroke:#000000; stroke-linecap:round; stroke-linejoin:round; stroke-width:4; stroke-opacity:1; fill:none\" points=\"219.866,1423.18 2352.76,1423.18 \"/>\n",
       "<polyline clip-path=\"url(#clip040)\" style=\"stroke:#000000; stroke-linecap:round; stroke-linejoin:round; stroke-width:4; stroke-opacity:1; fill:none\" points=\"219.866,1423.18 219.866,1404.28 \"/>\n",
       "<polyline clip-path=\"url(#clip040)\" style=\"stroke:#000000; stroke-linecap:round; stroke-linejoin:round; stroke-width:4; stroke-opacity:1; fill:none\" points=\"646.444,1423.18 646.444,1404.28 \"/>\n",
       "<polyline clip-path=\"url(#clip040)\" style=\"stroke:#000000; stroke-linecap:round; stroke-linejoin:round; stroke-width:4; stroke-opacity:1; fill:none\" points=\"1073.02,1423.18 1073.02,1404.28 \"/>\n",
       "<polyline clip-path=\"url(#clip040)\" style=\"stroke:#000000; stroke-linecap:round; stroke-linejoin:round; stroke-width:4; stroke-opacity:1; fill:none\" points=\"1499.6,1423.18 1499.6,1404.28 \"/>\n",
       "<polyline clip-path=\"url(#clip040)\" style=\"stroke:#000000; stroke-linecap:round; stroke-linejoin:round; stroke-width:4; stroke-opacity:1; fill:none\" points=\"1926.18,1423.18 1926.18,1404.28 \"/>\n",
       "<polyline clip-path=\"url(#clip040)\" style=\"stroke:#000000; stroke-linecap:round; stroke-linejoin:round; stroke-width:4; stroke-opacity:1; fill:none\" points=\"2352.76,1423.18 2352.76,1404.28 \"/>\n",
       "<path clip-path=\"url(#clip040)\" d=\"M219.866 1454.1 Q216.255 1454.1 214.426 1457.66 Q212.621 1461.2 212.621 1468.33 Q212.621 1475.44 214.426 1479.01 Q216.255 1482.55 219.866 1482.55 Q223.501 1482.55 225.306 1479.01 Q227.135 1475.44 227.135 1468.33 Q227.135 1461.2 225.306 1457.66 Q223.501 1454.1 219.866 1454.1 M219.866 1450.39 Q225.676 1450.39 228.732 1455 Q231.811 1459.58 231.811 1468.33 Q231.811 1477.06 228.732 1481.67 Q225.676 1486.25 219.866 1486.25 Q214.056 1486.25 210.977 1481.67 Q207.922 1477.06 207.922 1468.33 Q207.922 1459.58 210.977 1455 Q214.056 1450.39 219.866 1450.39 Z\" fill=\"#000000\" fill-rule=\"nonzero\" fill-opacity=\"1\" /><path clip-path=\"url(#clip040)\" d=\"M641.097 1481.64 L657.416 1481.64 L657.416 1485.58 L635.472 1485.58 L635.472 1481.64 Q638.134 1478.89 642.717 1474.26 Q647.324 1469.61 648.504 1468.27 Q650.75 1465.74 651.629 1464.01 Q652.532 1462.25 652.532 1460.56 Q652.532 1457.8 650.588 1456.07 Q648.666 1454.33 645.565 1454.33 Q643.366 1454.33 640.912 1455.09 Q638.481 1455.86 635.704 1457.41 L635.704 1452.69 Q638.528 1451.55 640.981 1450.97 Q643.435 1450.39 645.472 1450.39 Q650.842 1450.39 654.037 1453.08 Q657.231 1455.77 657.231 1460.26 Q657.231 1462.39 656.421 1464.31 Q655.634 1466.2 653.527 1468.8 Q652.949 1469.47 649.847 1472.69 Q646.745 1475.88 641.097 1481.64 Z\" fill=\"#000000\" fill-rule=\"nonzero\" fill-opacity=\"1\" /><path clip-path=\"url(#clip040)\" d=\"M1076.03 1455.09 L1064.23 1473.54 L1076.03 1473.54 L1076.03 1455.09 M1074.8 1451.02 L1080.68 1451.02 L1080.68 1473.54 L1085.61 1473.54 L1085.61 1477.43 L1080.68 1477.43 L1080.68 1485.58 L1076.03 1485.58 L1076.03 1477.43 L1060.43 1477.43 L1060.43 1472.92 L1074.8 1451.02 Z\" fill=\"#000000\" fill-rule=\"nonzero\" fill-opacity=\"1\" /><path clip-path=\"url(#clip040)\" d=\"M1500.01 1466.44 Q1496.86 1466.44 1495.01 1468.59 Q1493.18 1470.74 1493.18 1474.49 Q1493.18 1478.22 1495.01 1480.39 Q1496.86 1482.55 1500.01 1482.55 Q1503.15 1482.55 1504.98 1480.39 Q1506.83 1478.22 1506.83 1474.49 Q1506.83 1470.74 1504.98 1468.59 Q1503.15 1466.44 1500.01 1466.44 M1509.29 1451.78 L1509.29 1456.04 Q1507.53 1455.21 1505.72 1454.77 Q1503.94 1454.33 1502.18 1454.33 Q1497.55 1454.33 1495.1 1457.45 Q1492.67 1460.58 1492.32 1466.9 Q1493.69 1464.89 1495.75 1463.82 Q1497.81 1462.73 1500.28 1462.73 Q1505.49 1462.73 1508.5 1465.9 Q1511.53 1469.05 1511.53 1474.49 Q1511.53 1479.82 1508.38 1483.03 Q1505.24 1486.25 1500.01 1486.25 Q1494.01 1486.25 1490.84 1481.67 Q1487.67 1477.06 1487.67 1468.33 Q1487.67 1460.14 1491.56 1455.28 Q1495.44 1450.39 1502 1450.39 Q1503.76 1450.39 1505.54 1450.74 Q1507.34 1451.09 1509.29 1451.78 Z\" fill=\"#000000\" fill-rule=\"nonzero\" fill-opacity=\"1\" /><path clip-path=\"url(#clip040)\" d=\"M1926.18 1469.17 Q1922.84 1469.17 1920.92 1470.95 Q1919.03 1472.73 1919.03 1475.86 Q1919.03 1478.98 1920.92 1480.77 Q1922.84 1482.55 1926.18 1482.55 Q1929.51 1482.55 1931.43 1480.77 Q1933.35 1478.96 1933.35 1475.86 Q1933.35 1472.73 1931.43 1470.95 Q1929.53 1469.17 1926.18 1469.17 M1921.5 1467.18 Q1918.49 1466.44 1916.8 1464.38 Q1915.14 1462.32 1915.14 1459.35 Q1915.14 1455.21 1918.08 1452.8 Q1921.04 1450.39 1926.18 1450.39 Q1931.34 1450.39 1934.28 1452.8 Q1937.22 1455.21 1937.22 1459.35 Q1937.22 1462.32 1935.53 1464.38 Q1933.86 1466.44 1930.88 1467.18 Q1934.26 1467.96 1936.13 1470.26 Q1938.03 1472.55 1938.03 1475.86 Q1938.03 1480.88 1934.95 1483.57 Q1931.9 1486.25 1926.18 1486.25 Q1920.46 1486.25 1917.38 1483.57 Q1914.33 1480.88 1914.33 1475.86 Q1914.33 1472.55 1916.22 1470.26 Q1918.12 1467.96 1921.5 1467.18 M1919.79 1459.79 Q1919.79 1462.48 1921.46 1463.98 Q1923.15 1465.49 1926.18 1465.49 Q1929.19 1465.49 1930.88 1463.98 Q1932.59 1462.48 1932.59 1459.79 Q1932.59 1457.11 1930.88 1455.6 Q1929.19 1454.1 1926.18 1454.1 Q1923.15 1454.1 1921.46 1455.6 Q1919.79 1457.11 1919.79 1459.79 Z\" fill=\"#000000\" fill-rule=\"nonzero\" fill-opacity=\"1\" /><path clip-path=\"url(#clip040)\" d=\"M2327.44 1481.64 L2335.08 1481.64 L2335.08 1455.28 L2326.77 1456.95 L2326.77 1452.69 L2335.04 1451.02 L2339.71 1451.02 L2339.71 1481.64 L2347.35 1481.64 L2347.35 1485.58 L2327.44 1485.58 L2327.44 1481.64 Z\" fill=\"#000000\" fill-rule=\"nonzero\" fill-opacity=\"1\" /><path clip-path=\"url(#clip040)\" d=\"M2366.8 1454.1 Q2363.18 1454.1 2361.36 1457.66 Q2359.55 1461.2 2359.55 1468.33 Q2359.55 1475.44 2361.36 1479.01 Q2363.18 1482.55 2366.8 1482.55 Q2370.43 1482.55 2372.23 1479.01 Q2374.06 1475.44 2374.06 1468.33 Q2374.06 1461.2 2372.23 1457.66 Q2370.43 1454.1 2366.8 1454.1 M2366.8 1450.39 Q2372.61 1450.39 2375.66 1455 Q2378.74 1459.58 2378.74 1468.33 Q2378.74 1477.06 2375.66 1481.67 Q2372.61 1486.25 2366.8 1486.25 Q2360.99 1486.25 2357.91 1481.67 Q2354.85 1477.06 2354.85 1468.33 Q2354.85 1459.58 2357.91 1455 Q2360.99 1450.39 2366.8 1450.39 Z\" fill=\"#000000\" fill-rule=\"nonzero\" fill-opacity=\"1\" /><path clip-path=\"url(#clip040)\" d=\"M1238.93 1538.35 Q1238.93 1540.15 1238.02 1541.12 Q1237.12 1542.05 1235.9 1542.05 Q1234.9 1542.05 1234.35 1541.47 Q1233.84 1540.89 1233.84 1540.12 Q1233.84 1538.99 1234.74 1538.09 Q1235.67 1537.19 1237.03 1537.16 Q1236.57 1535.97 1235.38 1535.26 Q1234.19 1534.52 1233.13 1534.32 Q1232.1 1534.13 1231.07 1534.13 Q1229.04 1534.13 1227.49 1534.78 Q1225.95 1535.42 1225.17 1536.42 Q1224.4 1537.38 1224.05 1538.32 Q1223.69 1539.25 1223.69 1540.06 Q1223.69 1540.77 1223.85 1541.35 Q1224.05 1541.89 1224.5 1542.31 Q1224.95 1542.7 1225.27 1542.96 Q1225.62 1543.21 1226.4 1543.44 Q1227.17 1543.66 1227.49 1543.76 Q1227.81 1543.83 1228.72 1544.02 Q1230.58 1544.41 1231.42 1544.63 Q1232.26 1544.82 1233.35 1545.37 Q1234.48 1545.92 1235.32 1546.79 Q1237.35 1548.82 1237.35 1551.62 Q1237.35 1552.65 1236.99 1553.91 Q1236.67 1555.16 1235.74 1556.74 Q1234.8 1558.32 1233.39 1559.57 Q1231.97 1560.83 1229.52 1561.7 Q1227.11 1562.57 1224.08 1562.57 Q1219.86 1562.57 1217.25 1560.8 Q1214.64 1558.99 1214.64 1556.16 Q1214.64 1554.1 1215.77 1552.97 Q1216.9 1551.81 1218.35 1551.81 Q1219.44 1551.81 1220.12 1552.42 Q1220.79 1553 1220.79 1554.1 Q1220.79 1555.58 1219.6 1556.71 Q1218.41 1557.84 1216.64 1557.61 Q1218.15 1561.09 1224.14 1561.09 Q1226.4 1561.09 1228.14 1560.51 Q1229.91 1559.9 1230.87 1559.06 Q1231.87 1558.19 1232.52 1557.13 Q1233.16 1556.06 1233.35 1555.26 Q1233.58 1554.45 1233.58 1553.84 Q1233.58 1552.78 1233.16 1551.97 Q1232.74 1551.17 1232.16 1550.72 Q1231.61 1550.23 1230.55 1549.85 Q1229.52 1549.43 1228.78 1549.27 Q1228.04 1549.11 1226.72 1548.85 Q1226.11 1548.72 1225.72 1548.66 Q1225.33 1548.56 1224.53 1548.3 Q1223.76 1548.01 1223.21 1547.72 Q1222.69 1547.43 1222.02 1546.92 Q1221.34 1546.4 1220.92 1545.79 Q1220.5 1545.18 1220.21 1544.28 Q1219.92 1543.37 1219.92 1542.31 Q1219.92 1541.35 1220.21 1540.19 Q1220.54 1539.03 1221.34 1537.67 Q1222.18 1536.32 1223.37 1535.23 Q1224.56 1534.13 1226.56 1533.42 Q1228.59 1532.68 1231.07 1532.68 Q1234.67 1532.68 1236.8 1534.36 Q1238.93 1536 1238.93 1538.35 Z\" fill=\"#000000\" fill-rule=\"nonzero\" fill-opacity=\"1\" /><path clip-path=\"url(#clip040)\" d=\"M1273.25 1543.83 Q1273.25 1547.34 1271.7 1550.81 Q1270.15 1554.26 1267.67 1556.84 Q1265.23 1559.38 1262.01 1560.99 Q1258.78 1562.57 1255.56 1562.57 Q1250.96 1562.57 1247.96 1559.45 Q1245 1556.29 1245 1551.39 Q1245 1546.82 1247.55 1542.47 Q1250.12 1538.09 1254.24 1535.39 Q1258.37 1532.68 1262.68 1532.68 Q1267.22 1532.68 1270.22 1535.74 Q1273.25 1538.8 1273.25 1543.83 M1268.41 1541.25 Q1268.41 1538.13 1266.9 1536.13 Q1265.39 1534.13 1262.62 1534.13 Q1261.81 1534.13 1260.88 1534.39 Q1259.94 1534.61 1258.72 1535.23 Q1257.53 1535.84 1256.18 1537.13 Q1254.86 1538.38 1253.7 1540.19 Q1252.18 1542.57 1251.02 1546.95 Q1249.9 1551.3 1249.9 1553.91 Q1249.9 1557.51 1251.57 1559.32 Q1253.25 1561.09 1255.63 1561.09 Q1257.95 1561.09 1260.4 1559.48 Q1262.88 1557.84 1264.58 1555.03 Q1266.29 1552.13 1267.35 1547.88 Q1268.41 1543.6 1268.41 1541.25 Z\" fill=\"#000000\" fill-rule=\"nonzero\" fill-opacity=\"1\" /><path clip-path=\"url(#clip040)\" d=\"M1290.78 1516.77 L1281.28 1554.9 Q1280.9 1556.42 1280.9 1558.06 Q1280.9 1561.09 1282.89 1561.09 Q1283.83 1561.09 1284.6 1560.48 Q1285.37 1559.83 1285.95 1558.58 Q1286.56 1557.29 1286.95 1556.06 Q1287.37 1554.84 1287.88 1552.94 Q1288.04 1552.2 1288.21 1551.97 Q1288.37 1551.75 1288.82 1551.75 Q1289.62 1551.75 1289.62 1552.39 Q1288.82 1556.35 1287.63 1558.87 Q1285.89 1562.57 1282.67 1562.57 Q1280.25 1562.57 1278.45 1560.89 Q1276.68 1559.19 1276.68 1556.48 Q1276.68 1555.45 1277 1554.23 L1285.31 1521.25 L1285.53 1519.96 Q1285.53 1519.61 1285.4 1519.41 Q1285.28 1519.22 1284.5 1519.03 Q1283.76 1518.83 1282.28 1518.83 Q1281.67 1518.83 1281.38 1518.8 Q1281.12 1518.77 1280.86 1518.61 Q1280.64 1518.45 1280.64 1518.09 Q1280.64 1517.51 1280.86 1517.19 Q1281.12 1516.87 1281.31 1516.8 Q1281.51 1516.74 1281.89 1516.71 Q1282.44 1516.68 1284.28 1516.52 Q1286.11 1516.32 1287.69 1516.19 Q1289.27 1516.06 1289.94 1516.06 Q1290.33 1516.06 1290.52 1516.26 Q1290.75 1516.42 1290.78 1516.61 L1290.78 1516.77 Z\" fill=\"#000000\" fill-rule=\"nonzero\" fill-opacity=\"1\" /><path clip-path=\"url(#clip040)\" d=\"M1322.01 1554.2 Q1322.27 1554.49 1322.27 1554.78 Q1322.27 1555.07 1321.63 1555.9 Q1321.02 1556.74 1319.7 1557.87 Q1318.38 1558.99 1316.67 1560.06 Q1314.96 1561.12 1312.45 1561.83 Q1309.94 1562.57 1307.3 1562.57 Q1302.56 1562.57 1299.73 1559.19 Q1296.93 1555.81 1296.93 1550.62 Q1296.93 1547.3 1298.02 1544.37 Q1299.12 1541.41 1300.89 1539.32 Q1302.69 1537.22 1304.95 1535.71 Q1307.23 1534.16 1309.62 1533.42 Q1312 1532.68 1314.22 1532.68 Q1317.47 1532.68 1319.37 1534.32 Q1321.27 1535.97 1321.27 1538.29 Q1321.27 1538.83 1321.11 1539.51 Q1320.98 1540.19 1320.53 1541.25 Q1320.11 1542.31 1319.02 1543.37 Q1317.92 1544.41 1316.31 1545.08 Q1312.74 1546.6 1306.23 1546.6 L1302.72 1546.6 Q1301.69 1550.75 1301.69 1553.46 Q1301.69 1554.52 1301.89 1555.61 Q1302.08 1556.68 1302.59 1558.03 Q1303.14 1559.38 1304.37 1560.25 Q1305.62 1561.09 1307.43 1561.09 Q1308 1561.09 1308.62 1561.06 Q1309.26 1561.02 1310.87 1560.67 Q1312.51 1560.32 1313.96 1559.7 Q1315.41 1559.09 1317.25 1557.77 Q1319.12 1556.42 1320.6 1554.58 Q1321.11 1553.91 1321.47 1553.91 Q1321.76 1553.91 1322.01 1554.2 M1319.08 1538.29 Q1319.08 1536.51 1317.76 1535.32 Q1316.48 1534.13 1314.22 1534.13 Q1313.51 1534.13 1312.64 1534.29 Q1311.77 1534.45 1310.32 1535.13 Q1308.91 1535.81 1307.65 1536.93 Q1306.39 1538.03 1305.14 1540.19 Q1303.88 1542.31 1303.14 1545.15 L1305.85 1545.15 Q1306.78 1545.15 1307.46 1545.15 Q1308.13 1545.11 1309.62 1544.99 Q1311.13 1544.86 1312.22 1544.63 Q1313.32 1544.37 1314.7 1543.86 Q1316.09 1543.34 1316.96 1542.67 Q1317.86 1541.96 1318.47 1540.83 Q1319.08 1539.7 1319.08 1538.29 Z\" fill=\"#000000\" fill-rule=\"nonzero\" fill-opacity=\"1\" /><path clip-path=\"url(#clip040)\" d=\"M1351.64 1538.35 Q1351.64 1540.15 1350.74 1541.12 Q1349.84 1542.05 1348.61 1542.05 Q1347.61 1542.05 1347.07 1541.47 Q1346.55 1540.89 1346.55 1540.12 Q1346.55 1538.99 1347.45 1538.09 Q1348.39 1537.19 1349.74 1537.16 Q1349.29 1535.97 1348.1 1535.26 Q1346.91 1534.52 1345.84 1534.32 Q1344.81 1534.13 1343.78 1534.13 Q1341.75 1534.13 1340.21 1534.78 Q1338.66 1535.42 1337.89 1536.42 Q1337.12 1537.38 1336.76 1538.32 Q1336.41 1539.25 1336.41 1540.06 Q1336.41 1540.77 1336.57 1541.35 Q1336.76 1541.89 1337.21 1542.31 Q1337.66 1542.7 1337.99 1542.96 Q1338.34 1543.21 1339.11 1543.44 Q1339.89 1543.66 1340.21 1543.76 Q1340.53 1543.83 1341.43 1544.02 Q1343.3 1544.41 1344.14 1544.63 Q1344.97 1544.82 1346.07 1545.37 Q1347.2 1545.92 1348.03 1546.79 Q1350.06 1548.82 1350.06 1551.62 Q1350.06 1552.65 1349.71 1553.91 Q1349.39 1555.16 1348.45 1556.74 Q1347.52 1558.32 1346.1 1559.57 Q1344.68 1560.83 1342.24 1561.7 Q1339.82 1562.57 1336.79 1562.57 Q1332.57 1562.57 1329.97 1560.8 Q1327.36 1558.99 1327.36 1556.16 Q1327.36 1554.1 1328.48 1552.97 Q1329.61 1551.81 1331.06 1551.81 Q1332.16 1551.81 1332.83 1552.42 Q1333.51 1553 1333.51 1554.1 Q1333.51 1555.58 1332.32 1556.71 Q1331.13 1557.84 1329.35 1557.61 Q1330.87 1561.09 1336.86 1561.09 Q1339.11 1561.09 1340.85 1560.51 Q1342.62 1559.9 1343.59 1559.06 Q1344.59 1558.19 1345.23 1557.13 Q1345.88 1556.06 1346.07 1555.26 Q1346.29 1554.45 1346.29 1553.84 Q1346.29 1552.78 1345.88 1551.97 Q1345.46 1551.17 1344.88 1550.72 Q1344.33 1550.23 1343.27 1549.85 Q1342.24 1549.43 1341.5 1549.27 Q1340.75 1549.11 1339.43 1548.85 Q1338.82 1548.72 1338.44 1548.66 Q1338.05 1548.56 1337.24 1548.3 Q1336.47 1548.01 1335.92 1547.72 Q1335.41 1547.43 1334.73 1546.92 Q1334.06 1546.4 1333.64 1545.79 Q1333.22 1545.18 1332.93 1544.28 Q1332.64 1543.37 1332.64 1542.31 Q1332.64 1541.35 1332.93 1540.19 Q1333.25 1539.03 1334.06 1537.67 Q1334.89 1536.32 1336.09 1535.23 Q1337.28 1534.13 1339.27 1533.42 Q1341.3 1532.68 1343.78 1532.68 Q1347.39 1532.68 1349.51 1534.36 Q1351.64 1536 1351.64 1538.35 Z\" fill=\"#000000\" fill-rule=\"nonzero\" fill-opacity=\"1\" /><polyline clip-path=\"url(#clip042)\" style=\"stroke:#000000; stroke-linecap:round; stroke-linejoin:round; stroke-width:2; stroke-opacity:0.1; fill:none\" points=\"219.866,1423.18 2352.76,1423.18 \"/>\n",
       "<polyline clip-path=\"url(#clip042)\" style=\"stroke:#000000; stroke-linecap:round; stroke-linejoin:round; stroke-width:2; stroke-opacity:0.1; fill:none\" points=\"219.866,1163.24 2352.76,1163.24 \"/>\n",
       "<polyline clip-path=\"url(#clip042)\" style=\"stroke:#000000; stroke-linecap:round; stroke-linejoin:round; stroke-width:2; stroke-opacity:0.1; fill:none\" points=\"219.866,903.297 2352.76,903.297 \"/>\n",
       "<polyline clip-path=\"url(#clip042)\" style=\"stroke:#000000; stroke-linecap:round; stroke-linejoin:round; stroke-width:2; stroke-opacity:0.1; fill:none\" points=\"219.866,643.355 2352.76,643.355 \"/>\n",
       "<polyline clip-path=\"url(#clip042)\" style=\"stroke:#000000; stroke-linecap:round; stroke-linejoin:round; stroke-width:2; stroke-opacity:0.1; fill:none\" points=\"219.866,383.414 2352.76,383.414 \"/>\n",
       "<polyline clip-path=\"url(#clip042)\" style=\"stroke:#000000; stroke-linecap:round; stroke-linejoin:round; stroke-width:2; stroke-opacity:0.1; fill:none\" points=\"219.866,123.472 2352.76,123.472 \"/>\n",
       "<polyline clip-path=\"url(#clip040)\" style=\"stroke:#000000; stroke-linecap:round; stroke-linejoin:round; stroke-width:4; stroke-opacity:1; fill:none\" points=\"219.866,1423.18 219.866,123.472 \"/>\n",
       "<polyline clip-path=\"url(#clip040)\" style=\"stroke:#000000; stroke-linecap:round; stroke-linejoin:round; stroke-width:4; stroke-opacity:1; fill:none\" points=\"219.866,1423.18 238.764,1423.18 \"/>\n",
       "<polyline clip-path=\"url(#clip040)\" style=\"stroke:#000000; stroke-linecap:round; stroke-linejoin:round; stroke-width:4; stroke-opacity:1; fill:none\" points=\"219.866,1163.24 238.764,1163.24 \"/>\n",
       "<polyline clip-path=\"url(#clip040)\" style=\"stroke:#000000; stroke-linecap:round; stroke-linejoin:round; stroke-width:4; stroke-opacity:1; fill:none\" points=\"219.866,903.297 238.764,903.297 \"/>\n",
       "<polyline clip-path=\"url(#clip040)\" style=\"stroke:#000000; stroke-linecap:round; stroke-linejoin:round; stroke-width:4; stroke-opacity:1; fill:none\" points=\"219.866,643.355 238.764,643.355 \"/>\n",
       "<polyline clip-path=\"url(#clip040)\" style=\"stroke:#000000; stroke-linecap:round; stroke-linejoin:round; stroke-width:4; stroke-opacity:1; fill:none\" points=\"219.866,383.414 238.764,383.414 \"/>\n",
       "<polyline clip-path=\"url(#clip040)\" style=\"stroke:#000000; stroke-linecap:round; stroke-linejoin:round; stroke-width:4; stroke-opacity:1; fill:none\" points=\"219.866,123.472 238.764,123.472 \"/>\n",
       "<path clip-path=\"url(#clip040)\" d=\"M126.691 1408.98 Q123.08 1408.98 121.251 1412.54 Q119.445 1416.08 119.445 1423.21 Q119.445 1430.32 121.251 1433.89 Q123.08 1437.43 126.691 1437.43 Q130.325 1437.43 132.13 1433.89 Q133.959 1430.32 133.959 1423.21 Q133.959 1416.08 132.13 1412.54 Q130.325 1408.98 126.691 1408.98 M126.691 1405.27 Q132.501 1405.27 135.556 1409.88 Q138.635 1414.46 138.635 1423.21 Q138.635 1431.94 135.556 1436.55 Q132.501 1441.13 126.691 1441.13 Q120.88 1441.13 117.802 1436.55 Q114.746 1431.94 114.746 1423.21 Q114.746 1414.46 117.802 1409.88 Q120.88 1405.27 126.691 1405.27 Z\" fill=\"#000000\" fill-rule=\"nonzero\" fill-opacity=\"1\" /><path clip-path=\"url(#clip040)\" d=\"M146.853 1434.58 L151.737 1434.58 L151.737 1440.46 L146.853 1440.46 L146.853 1434.58 Z\" fill=\"#000000\" fill-rule=\"nonzero\" fill-opacity=\"1\" /><path clip-path=\"url(#clip040)\" d=\"M171.922 1408.98 Q168.311 1408.98 166.482 1412.54 Q164.677 1416.08 164.677 1423.21 Q164.677 1430.32 166.482 1433.89 Q168.311 1437.43 171.922 1437.43 Q175.556 1437.43 177.362 1433.89 Q179.19 1430.32 179.19 1423.21 Q179.19 1416.08 177.362 1412.54 Q175.556 1408.98 171.922 1408.98 M171.922 1405.27 Q177.732 1405.27 180.788 1409.88 Q183.866 1414.46 183.866 1423.21 Q183.866 1431.94 180.788 1436.55 Q177.732 1441.13 171.922 1441.13 Q166.112 1441.13 163.033 1436.55 Q159.978 1431.94 159.978 1423.21 Q159.978 1414.46 163.033 1409.88 Q166.112 1405.27 171.922 1405.27 Z\" fill=\"#000000\" fill-rule=\"nonzero\" fill-opacity=\"1\" /><path clip-path=\"url(#clip040)\" d=\"M128.288 1149.04 Q124.677 1149.04 122.848 1152.6 Q121.043 1156.14 121.043 1163.27 Q121.043 1170.38 122.848 1173.94 Q124.677 1177.49 128.288 1177.49 Q131.922 1177.49 133.728 1173.94 Q135.556 1170.38 135.556 1163.27 Q135.556 1156.14 133.728 1152.6 Q131.922 1149.04 128.288 1149.04 M128.288 1145.33 Q134.098 1145.33 137.154 1149.94 Q140.232 1154.52 140.232 1163.27 Q140.232 1172 137.154 1176.61 Q134.098 1181.19 128.288 1181.19 Q122.478 1181.19 119.399 1176.61 Q116.343 1172 116.343 1163.27 Q116.343 1154.52 119.399 1149.94 Q122.478 1145.33 128.288 1145.33 Z\" fill=\"#000000\" fill-rule=\"nonzero\" fill-opacity=\"1\" /><path clip-path=\"url(#clip040)\" d=\"M148.45 1174.64 L153.334 1174.64 L153.334 1180.52 L148.45 1180.52 L148.45 1174.64 Z\" fill=\"#000000\" fill-rule=\"nonzero\" fill-opacity=\"1\" /><path clip-path=\"url(#clip040)\" d=\"M167.547 1176.58 L183.866 1176.58 L183.866 1180.52 L161.922 1180.52 L161.922 1176.58 Q164.584 1173.83 169.167 1169.2 Q173.774 1164.55 174.954 1163.2 Q177.2 1160.68 178.079 1158.94 Q178.982 1157.19 178.982 1155.5 Q178.982 1152.74 177.038 1151 Q175.116 1149.27 172.014 1149.27 Q169.815 1149.27 167.362 1150.03 Q164.931 1150.8 162.153 1152.35 L162.153 1147.62 Q164.977 1146.49 167.431 1145.91 Q169.885 1145.33 171.922 1145.33 Q177.292 1145.33 180.487 1148.02 Q183.681 1150.7 183.681 1155.19 Q183.681 1157.32 182.871 1159.25 Q182.084 1161.14 179.977 1163.74 Q179.399 1164.41 176.297 1167.62 Q173.195 1170.82 167.547 1176.58 Z\" fill=\"#000000\" fill-rule=\"nonzero\" fill-opacity=\"1\" /><path clip-path=\"url(#clip040)\" d=\"M126.205 889.095 Q122.593 889.095 120.765 892.66 Q118.959 896.202 118.959 903.331 Q118.959 910.438 120.765 914.003 Q122.593 917.544 126.205 917.544 Q129.839 917.544 131.644 914.003 Q133.473 910.438 133.473 903.331 Q133.473 896.202 131.644 892.66 Q129.839 889.095 126.205 889.095 M126.205 885.392 Q132.015 885.392 135.07 889.998 Q138.149 894.582 138.149 903.331 Q138.149 912.058 135.07 916.665 Q132.015 921.248 126.205 921.248 Q120.394 921.248 117.316 916.665 Q114.26 912.058 114.26 903.331 Q114.26 894.582 117.316 889.998 Q120.394 885.392 126.205 885.392 Z\" fill=\"#000000\" fill-rule=\"nonzero\" fill-opacity=\"1\" /><path clip-path=\"url(#clip040)\" d=\"M146.366 914.697 L151.251 914.697 L151.251 920.577 L146.366 920.577 L146.366 914.697 Z\" fill=\"#000000\" fill-rule=\"nonzero\" fill-opacity=\"1\" /><path clip-path=\"url(#clip040)\" d=\"M174.283 890.091 L162.477 908.54 L174.283 908.54 L174.283 890.091 M173.056 886.017 L178.936 886.017 L178.936 908.54 L183.866 908.54 L183.866 912.429 L178.936 912.429 L178.936 920.577 L174.283 920.577 L174.283 912.429 L158.681 912.429 L158.681 907.915 L173.056 886.017 Z\" fill=\"#000000\" fill-rule=\"nonzero\" fill-opacity=\"1\" /><path clip-path=\"url(#clip040)\" d=\"M126.529 629.154 Q122.918 629.154 121.089 632.719 Q119.283 636.26 119.283 643.39 Q119.283 650.496 121.089 654.061 Q122.918 657.603 126.529 657.603 Q130.163 657.603 131.968 654.061 Q133.797 650.496 133.797 643.39 Q133.797 636.26 131.968 632.719 Q130.163 629.154 126.529 629.154 M126.529 625.45 Q132.339 625.45 135.394 630.057 Q138.473 634.64 138.473 643.39 Q138.473 652.117 135.394 656.723 Q132.339 661.307 126.529 661.307 Q120.718 661.307 117.64 656.723 Q114.584 652.117 114.584 643.39 Q114.584 634.64 117.64 630.057 Q120.718 625.45 126.529 625.45 Z\" fill=\"#000000\" fill-rule=\"nonzero\" fill-opacity=\"1\" /><path clip-path=\"url(#clip040)\" d=\"M146.691 654.756 L151.575 654.756 L151.575 660.635 L146.691 660.635 L146.691 654.756 Z\" fill=\"#000000\" fill-rule=\"nonzero\" fill-opacity=\"1\" /><path clip-path=\"url(#clip040)\" d=\"M172.339 641.492 Q169.19 641.492 167.339 643.645 Q165.51 645.797 165.51 649.547 Q165.51 653.274 167.339 655.45 Q169.19 657.603 172.339 657.603 Q175.487 657.603 177.315 655.45 Q179.167 653.274 179.167 649.547 Q179.167 645.797 177.315 643.645 Q175.487 641.492 172.339 641.492 M181.621 626.839 L181.621 631.098 Q179.862 630.265 178.056 629.825 Q176.274 629.385 174.514 629.385 Q169.885 629.385 167.431 632.51 Q165.001 635.635 164.653 641.955 Q166.019 639.941 168.079 638.876 Q170.139 637.788 172.616 637.788 Q177.825 637.788 180.834 640.959 Q183.866 644.108 183.866 649.547 Q183.866 654.871 180.718 658.089 Q177.57 661.307 172.339 661.307 Q166.343 661.307 163.172 656.723 Q160.001 652.117 160.001 643.39 Q160.001 635.196 163.89 630.334 Q167.778 625.45 174.329 625.45 Q176.089 625.45 177.871 625.797 Q179.676 626.145 181.621 626.839 Z\" fill=\"#000000\" fill-rule=\"nonzero\" fill-opacity=\"1\" /><path clip-path=\"url(#clip040)\" d=\"M126.783 369.212 Q123.172 369.212 121.343 372.777 Q119.538 376.319 119.538 383.448 Q119.538 390.555 121.343 394.12 Q123.172 397.661 126.783 397.661 Q130.417 397.661 132.223 394.12 Q134.052 390.555 134.052 383.448 Q134.052 376.319 132.223 372.777 Q130.417 369.212 126.783 369.212 M126.783 365.509 Q132.593 365.509 135.649 370.115 Q138.728 374.698 138.728 383.448 Q138.728 392.175 135.649 396.782 Q132.593 401.365 126.783 401.365 Q120.973 401.365 117.894 396.782 Q114.839 392.175 114.839 383.448 Q114.839 374.698 117.894 370.115 Q120.973 365.509 126.783 365.509 Z\" fill=\"#000000\" fill-rule=\"nonzero\" fill-opacity=\"1\" /><path clip-path=\"url(#clip040)\" d=\"M146.945 394.814 L151.829 394.814 L151.829 400.694 L146.945 400.694 L146.945 394.814 Z\" fill=\"#000000\" fill-rule=\"nonzero\" fill-opacity=\"1\" /><path clip-path=\"url(#clip040)\" d=\"M172.014 384.282 Q168.681 384.282 166.76 386.064 Q164.862 387.847 164.862 390.971 Q164.862 394.096 166.76 395.879 Q168.681 397.661 172.014 397.661 Q175.348 397.661 177.269 395.879 Q179.19 394.073 179.19 390.971 Q179.19 387.847 177.269 386.064 Q175.371 384.282 172.014 384.282 M167.339 382.291 Q164.329 381.55 162.64 379.49 Q160.973 377.43 160.973 374.467 Q160.973 370.323 163.913 367.916 Q166.876 365.509 172.014 365.509 Q177.176 365.509 180.116 367.916 Q183.056 370.323 183.056 374.467 Q183.056 377.43 181.366 379.49 Q179.7 381.55 176.714 382.291 Q180.093 383.078 181.968 385.37 Q183.866 387.661 183.866 390.971 Q183.866 395.995 180.788 398.68 Q177.732 401.365 172.014 401.365 Q166.297 401.365 163.218 398.68 Q160.163 395.995 160.163 390.971 Q160.163 387.661 162.061 385.37 Q163.959 383.078 167.339 382.291 M165.626 374.907 Q165.626 377.592 167.292 379.097 Q168.982 380.601 172.014 380.601 Q175.024 380.601 176.714 379.097 Q178.426 377.592 178.426 374.907 Q178.426 372.222 176.714 370.717 Q175.024 369.212 172.014 369.212 Q168.982 369.212 167.292 370.717 Q165.626 372.222 165.626 374.907 Z\" fill=\"#000000\" fill-rule=\"nonzero\" fill-opacity=\"1\" /><path clip-path=\"url(#clip040)\" d=\"M117.501 136.817 L125.14 136.817 L125.14 110.451 L116.83 112.118 L116.83 107.859 L125.093 106.192 L129.769 106.192 L129.769 136.817 L137.408 136.817 L137.408 140.752 L117.501 140.752 L117.501 136.817 Z\" fill=\"#000000\" fill-rule=\"nonzero\" fill-opacity=\"1\" /><path clip-path=\"url(#clip040)\" d=\"M146.853 134.873 L151.737 134.873 L151.737 140.752 L146.853 140.752 L146.853 134.873 Z\" fill=\"#000000\" fill-rule=\"nonzero\" fill-opacity=\"1\" /><path clip-path=\"url(#clip040)\" d=\"M171.922 109.271 Q168.311 109.271 166.482 112.836 Q164.677 116.377 164.677 123.507 Q164.677 130.613 166.482 134.178 Q168.311 137.72 171.922 137.72 Q175.556 137.72 177.362 134.178 Q179.19 130.613 179.19 123.507 Q179.19 116.377 177.362 112.836 Q175.556 109.271 171.922 109.271 M171.922 105.567 Q177.732 105.567 180.788 110.174 Q183.866 114.757 183.866 123.507 Q183.866 132.234 180.788 136.84 Q177.732 141.423 171.922 141.423 Q166.112 141.423 163.033 136.84 Q159.978 132.234 159.978 123.507 Q159.978 114.757 163.033 110.174 Q166.112 105.567 171.922 105.567 Z\" fill=\"#000000\" fill-rule=\"nonzero\" fill-opacity=\"1\" /><path clip-path=\"url(#clip040)\" d=\"M47.4691 855.458 Q52.1712 855.458 56.7122 857.841 Q61.2532 860.192 64.0551 863.896 Q66.8248 867.599 66.8248 871.367 Q66.8248 873.622 65.601 875.135 Q64.345 876.617 62.5737 877.422 Q64.7637 878.034 70.0132 879.354 Q75.2628 880.675 75.7781 880.675 Q76.0679 880.675 76.1967 880.61 Q76.3256 880.546 76.4866 880.256 Q76.6798 879.966 76.7442 879.258 Q76.8409 878.549 76.8409 877.358 Q76.8409 876.746 76.8409 876.52 Q76.8731 876.263 77.0341 876.037 Q77.1951 875.78 77.5494 875.78 Q78.8698 875.78 78.8698 876.971 Q78.8698 878.034 78.7732 880.224 Q78.6766 882.414 78.6766 883.509 Q78.6766 884.443 78.7732 886.311 Q78.8698 888.179 78.8698 889.048 Q78.8698 889.918 78.0969 889.918 Q77.646 889.918 77.3561 889.789 Q77.0985 889.692 76.9697 889.435 Q76.8731 889.177 76.8409 888.952 Q76.8409 888.758 76.8409 888.372 Q76.8409 886.891 76.5832 886.246 Q76.3578 885.602 75.8747 885.377 Q75.4238 885.119 74.1356 884.829 L44.7638 877.422 Q42.7993 876.971 41.4144 876.971 Q39.6753 876.971 39.0312 877.519 Q38.3871 878.066 38.3871 879.032 Q38.3871 880.707 40.3838 881.802 Q42.3806 882.897 46.2453 883.831 Q47.3081 884.121 47.5335 884.314 Q47.759 884.475 47.759 884.958 Q47.7268 885.763 47.0826 885.763 Q46.9216 885.763 45.891 885.506 Q44.8282 885.248 43.2823 884.765 Q41.7043 884.25 40.7059 883.702 Q40.0296 883.38 39.5787 883.09 Q39.1278 882.8 38.4193 882.221 Q37.7107 881.609 37.3243 880.739 Q36.9378 879.87 36.9378 878.807 Q36.9378 876.746 38.1616 875.039 Q39.3854 873.332 41.8653 872.881 Q39.7075 871.045 38.3226 868.791 Q36.9378 866.536 36.9378 864.25 Q36.9378 860.45 39.9007 857.97 Q42.8315 855.458 47.4691 855.458 M44.5706 860.224 Q41.6398 860.224 40.0296 861.351 Q38.3871 862.446 38.3871 864.443 Q38.3871 866.923 40.8991 869.789 Q43.2823 872.623 45.5045 873.203 L58.4191 876.456 L59.4819 876.649 Q59.6751 876.649 60.2548 876.552 Q60.8023 876.424 61.7041 876.069 Q62.6059 875.683 63.411 875.168 Q64.1839 874.62 64.7637 873.654 Q65.3434 872.656 65.3434 871.432 Q65.3434 869.467 63.6042 867.342 Q61.8651 865.184 58.5801 863.574 Q56.4545 862.575 51.8813 861.416 Q47.2759 860.224 44.5706 860.224 Z\" fill=\"#000000\" fill-rule=\"nonzero\" fill-opacity=\"1\" /><path clip-path=\"url(#clip040)\" d=\"M49.5947 848.086 Q38.4515 848.086 29.466 843.932 Q25.6979 842.161 22.5418 839.681 Q19.3856 837.201 18.0007 835.558 Q16.6159 833.916 16.6159 833.465 Q16.6159 832.821 17.26 832.789 Q17.5821 832.789 18.3872 833.658 Q29.2084 844.286 49.5947 844.254 Q70.0454 844.254 80.4479 833.916 Q81.5751 832.789 81.9294 832.789 Q82.5735 832.789 82.5735 833.465 Q82.5735 833.916 81.2531 835.494 Q79.9326 837.072 76.9053 839.52 Q73.8779 841.967 70.1742 843.739 Q61.1888 848.086 49.5947 848.086 Z\" fill=\"#000000\" fill-rule=\"nonzero\" fill-opacity=\"1\" /><path clip-path=\"url(#clip040)\" d=\"M42.606 802.172 Q44.4096 802.172 45.3757 803.074 Q46.3097 803.975 46.3097 805.199 Q46.3097 806.198 45.73 806.745 Q45.1503 807.26 44.3773 807.26 Q43.2501 807.26 42.3484 806.359 Q41.4466 805.425 41.4144 804.072 Q40.2228 804.523 39.5143 805.714 Q38.7735 806.906 38.5803 807.969 Q38.3871 808.999 38.3871 810.03 Q38.3871 812.059 39.0312 813.605 Q39.6753 815.151 40.6737 815.924 Q41.6398 816.697 42.5738 817.051 Q43.5078 817.405 44.3129 817.405 Q45.0215 817.405 45.6012 817.244 Q46.1487 817.051 46.5673 816.6 Q46.9538 816.149 47.2115 815.827 Q47.4691 815.473 47.6945 814.7 Q47.92 813.927 48.0166 813.605 Q48.081 813.283 48.2743 812.381 Q48.6607 810.513 48.8862 809.676 Q49.0794 808.838 49.6269 807.743 Q50.1744 806.616 51.044 805.779 Q53.0729 803.75 55.8748 803.75 Q56.9054 803.75 58.1615 804.104 Q59.4175 804.426 60.9956 805.36 Q62.5737 806.294 63.8297 807.711 Q65.0857 809.128 65.9553 811.576 Q66.8248 813.991 66.8248 817.019 Q66.8248 821.238 65.0535 823.846 Q63.25 826.455 60.4159 826.455 Q58.3547 826.455 57.2275 825.328 Q56.0681 824.201 56.0681 822.751 Q56.0681 821.656 56.68 820.98 Q57.2597 820.304 58.3547 820.304 Q59.8362 820.304 60.9634 821.495 Q62.0906 822.687 61.8651 824.458 Q65.3434 822.945 65.3434 816.954 Q65.3434 814.7 64.7637 812.961 Q64.1517 811.189 63.3144 810.223 Q62.4448 809.225 61.382 808.581 Q60.3192 807.937 59.5141 807.743 Q58.709 807.518 58.097 807.518 Q57.0342 807.518 56.2291 807.937 Q55.424 808.355 54.9731 808.935 Q54.49 809.483 54.1035 810.545 Q53.6848 811.576 53.5238 812.317 Q53.3628 813.057 53.1051 814.378 Q52.9763 814.99 52.9119 815.376 Q52.8153 815.763 52.5576 816.568 Q52.2678 817.341 51.9779 817.888 Q51.6881 818.404 51.1728 819.08 Q50.6575 819.756 50.0456 820.175 Q49.4337 820.594 48.5319 820.883 Q47.6301 821.173 46.5673 821.173 Q45.6012 821.173 44.4418 820.883 Q43.2823 820.561 41.9297 819.756 Q40.5771 818.919 39.4821 817.727 Q38.3871 816.536 37.6785 814.539 Q36.9378 812.51 36.9378 810.03 Q36.9378 806.423 38.6125 804.297 Q40.255 802.172 42.606 802.172 Z\" fill=\"#000000\" fill-rule=\"nonzero\" fill-opacity=\"1\" /><path clip-path=\"url(#clip040)\" d=\"M48.081 767.852 Q51.5915 767.852 55.0697 769.398 Q58.5157 770.944 61.0922 773.424 Q63.6364 775.871 65.2467 779.092 Q66.8248 782.312 66.8248 785.533 Q66.8248 790.138 63.7009 793.134 Q60.5447 796.096 55.6494 796.096 Q51.0762 796.096 46.7284 793.552 Q42.3484 790.976 39.6431 786.853 Q36.9378 782.731 36.9378 778.415 Q36.9378 773.874 39.9973 770.879 Q43.0569 767.852 48.081 767.852 M45.5045 772.683 Q42.3806 772.683 40.3838 774.196 Q38.3871 775.71 38.3871 778.48 Q38.3871 779.285 38.6447 780.219 Q38.8701 781.153 39.4821 782.377 Q40.094 783.568 41.3822 784.921 Q42.6382 786.241 44.4418 787.401 Q46.825 788.915 51.205 790.074 Q55.5528 791.201 58.1615 791.201 Q61.7685 791.201 63.572 789.526 Q65.3434 787.852 65.3434 785.469 Q65.3434 783.15 63.7331 780.702 Q62.0906 778.222 59.2887 776.515 Q56.3901 774.808 52.139 773.746 Q47.8556 772.683 45.5045 772.683 Z\" fill=\"#000000\" fill-rule=\"nonzero\" fill-opacity=\"1\" /><path clip-path=\"url(#clip040)\" d=\"M21.0281 750.315 L59.1598 759.816 Q60.6735 760.202 62.316 760.202 Q65.3434 760.202 65.3434 758.206 Q65.3434 757.272 64.7314 756.499 Q64.0873 755.726 62.8313 755.146 Q61.5431 754.534 60.3192 754.148 Q59.0954 753.729 57.1953 753.214 Q56.4545 753.053 56.2291 752.892 Q56.0037 752.731 56.0037 752.28 Q56.0037 751.475 56.6478 751.475 Q60.6091 752.28 63.1212 753.471 Q66.8248 755.21 66.8248 758.431 Q66.8248 760.846 65.1501 762.65 Q63.4432 764.421 60.7379 764.421 Q59.7073 764.421 58.4835 764.099 L25.5047 755.79 L24.2165 755.565 Q23.8622 755.565 23.669 755.693 Q23.4757 755.822 23.2825 756.595 Q23.0893 757.336 23.0893 758.817 Q23.0893 759.429 23.0571 759.719 Q23.0249 759.977 22.8638 760.235 Q22.7028 760.46 22.3485 760.46 Q21.7688 760.46 21.4468 760.235 Q21.1247 759.977 21.0603 759.784 Q20.9959 759.59 20.9637 759.204 Q20.9315 758.656 20.7704 756.821 Q20.5772 754.985 20.4484 753.407 Q20.3196 751.829 20.3196 751.152 Q20.3196 750.766 20.5128 750.573 Q20.6738 750.347 20.8671 750.315 L21.0281 750.315 Z\" fill=\"#000000\" fill-rule=\"nonzero\" fill-opacity=\"1\" /><path clip-path=\"url(#clip040)\" d=\"M58.4513 719.083 Q58.7412 718.825 59.031 718.825 Q59.3209 718.825 60.1582 719.469 Q60.9956 720.081 62.1228 721.402 Q63.25 722.722 64.3128 724.429 Q65.3756 726.136 66.0841 728.648 Q66.8248 731.16 66.8248 733.801 Q66.8248 738.535 63.4432 741.369 Q60.0616 744.171 54.8765 744.171 Q51.5593 744.171 48.6285 743.076 Q45.6656 741.981 43.5722 740.21 Q41.4788 738.406 39.9651 736.152 Q38.4193 733.865 37.6785 731.482 Q36.9378 729.099 36.9378 726.877 Q36.9378 723.624 38.5803 721.724 Q40.2228 719.824 42.5416 719.824 Q43.0891 719.824 43.7654 719.985 Q44.4418 720.113 45.5045 720.564 Q46.5673 720.983 47.6301 722.078 Q48.6607 723.173 49.337 724.783 Q50.8507 728.358 50.8507 734.864 L50.8507 738.374 Q55.0053 739.405 57.7106 739.405 Q58.7734 739.405 59.8684 739.211 Q60.9312 739.018 62.2838 738.503 Q63.6364 737.955 64.506 736.732 Q65.3434 735.476 65.3434 733.672 Q65.3434 733.092 65.3112 732.48 Q65.2789 731.836 64.9247 730.226 Q64.5704 728.584 63.9585 727.134 Q63.3466 725.685 62.0262 723.849 Q60.6735 721.981 58.8378 720.5 Q58.1615 719.985 58.1615 719.63 Q58.1615 719.34 58.4513 719.083 M42.5416 722.014 Q40.7703 722.014 39.5787 723.334 Q38.3871 724.622 38.3871 726.877 Q38.3871 727.585 38.5481 728.455 Q38.7091 729.324 39.3854 730.774 Q40.0618 732.191 41.189 733.447 Q42.284 734.703 44.4418 735.959 Q46.5673 737.215 49.4015 737.955 L49.4015 735.25 Q49.4015 734.316 49.4015 733.64 Q49.3693 732.964 49.2404 731.482 Q49.1116 729.968 48.8862 728.873 Q48.6285 727.778 48.1132 726.394 Q47.5979 725.009 46.9216 724.139 Q46.2131 723.237 45.0859 722.625 Q43.9587 722.014 42.5416 722.014 Z\" fill=\"#000000\" fill-rule=\"nonzero\" fill-opacity=\"1\" /><path clip-path=\"url(#clip040)\" d=\"M42.606 689.457 Q44.4096 689.457 45.3757 690.359 Q46.3097 691.26 46.3097 692.484 Q46.3097 693.483 45.73 694.03 Q45.1503 694.545 44.3773 694.545 Q43.2501 694.545 42.3484 693.644 Q41.4466 692.71 41.4144 691.357 Q40.2228 691.808 39.5143 692.999 Q38.7735 694.191 38.5803 695.254 Q38.3871 696.284 38.3871 697.315 Q38.3871 699.344 39.0312 700.89 Q39.6753 702.436 40.6737 703.209 Q41.6398 703.982 42.5738 704.336 Q43.5078 704.69 44.3129 704.69 Q45.0215 704.69 45.6012 704.529 Q46.1487 704.336 46.5673 703.885 Q46.9538 703.434 47.2115 703.112 Q47.4691 702.758 47.6945 701.985 Q47.92 701.212 48.0166 700.89 Q48.081 700.568 48.2743 699.666 Q48.6607 697.798 48.8862 696.961 Q49.0794 696.123 49.6269 695.028 Q50.1744 693.901 51.044 693.064 Q53.0729 691.035 55.8748 691.035 Q56.9054 691.035 58.1615 691.389 Q59.4175 691.711 60.9956 692.645 Q62.5737 693.579 63.8297 694.996 Q65.0857 696.413 65.9553 698.861 Q66.8248 701.276 66.8248 704.304 Q66.8248 708.523 65.0535 711.131 Q63.25 713.74 60.4159 713.74 Q58.3547 713.74 57.2275 712.613 Q56.0681 711.486 56.0681 710.036 Q56.0681 708.941 56.68 708.265 Q57.2597 707.589 58.3547 707.589 Q59.8362 707.589 60.9634 708.78 Q62.0906 709.972 61.8651 711.743 Q65.3434 710.23 65.3434 704.239 Q65.3434 701.985 64.7637 700.246 Q64.1517 698.474 63.3144 697.508 Q62.4448 696.51 61.382 695.866 Q60.3192 695.222 59.5141 695.028 Q58.709 694.803 58.097 694.803 Q57.0342 694.803 56.2291 695.222 Q55.424 695.64 54.9731 696.22 Q54.49 696.768 54.1035 697.83 Q53.6848 698.861 53.5238 699.602 Q53.3628 700.342 53.1051 701.663 Q52.9763 702.275 52.9119 702.661 Q52.8153 703.048 52.5576 703.853 Q52.2678 704.626 51.9779 705.173 Q51.6881 705.689 51.1728 706.365 Q50.6575 707.041 50.0456 707.46 Q49.4337 707.879 48.5319 708.168 Q47.6301 708.458 46.5673 708.458 Q45.6012 708.458 44.4418 708.168 Q43.2823 707.846 41.9297 707.041 Q40.5771 706.204 39.4821 705.012 Q38.3871 703.821 37.6785 701.824 Q36.9378 699.795 36.9378 697.315 Q36.9378 693.708 38.6125 691.582 Q40.255 689.457 42.606 689.457 Z\" fill=\"#000000\" fill-rule=\"nonzero\" fill-opacity=\"1\" /><path clip-path=\"url(#clip040)\" d=\"M81.9294 682.061 Q81.6073 682.061 80.8022 681.224 Q69.981 670.596 49.5947 670.596 Q29.144 670.596 18.8059 680.805 Q17.6143 682.061 17.26 682.061 Q16.6159 682.061 16.6159 681.417 Q16.6159 680.966 17.9363 679.388 Q19.2568 677.778 22.2841 675.363 Q25.3115 672.915 29.0151 671.111 Q38.0006 666.764 49.5947 666.764 Q60.7379 666.764 69.7234 670.918 Q73.4914 672.69 76.6476 675.169 Q79.8038 677.649 81.1886 679.292 Q82.5735 680.934 82.5735 681.417 Q82.5735 682.061 81.9294 682.061 Z\" fill=\"#000000\" fill-rule=\"nonzero\" fill-opacity=\"1\" /><path clip-path=\"url(#clip040)\" d=\"M1138.13 42.3307 Q1138.13 48.3151 1135.09 54.0946 Q1132.1 59.8741 1127.39 63.4401 Q1122.67 66.9652 1117.88 66.9652 Q1115.01 66.9652 1113.08 65.4076 Q1111.2 63.809 1110.17 61.5546 Q1109.39 64.3419 1107.71 71.0232 Q1106.03 77.7044 1106.03 78.3602 Q1106.03 78.7291 1106.11 78.8931 Q1106.2 79.0571 1106.56 79.262 Q1106.93 79.5079 1107.84 79.5899 Q1108.74 79.7129 1110.25 79.7129 Q1111.03 79.7129 1111.32 79.7129 Q1111.65 79.7539 1111.93 79.9588 Q1112.26 80.1638 1112.26 80.6147 Q1112.26 82.2952 1110.75 82.2952 Q1109.39 82.2952 1106.61 82.1722 Q1103.82 82.0493 1102.42 82.0493 Q1101.24 82.0493 1098.86 82.1722 Q1096.48 82.2952 1095.37 82.2952 Q1094.27 82.2952 1094.27 81.3115 Q1094.27 80.7376 1094.43 80.3687 Q1094.55 80.0408 1094.88 79.8768 Q1095.21 79.7539 1095.5 79.7129 Q1095.74 79.7129 1096.24 79.7129 Q1098.12 79.7129 1098.94 79.385 Q1099.76 79.098 1100.05 78.4832 Q1100.38 77.9094 1100.74 76.2698 L1110.17 38.8876 Q1110.75 36.3872 1110.75 34.6247 Q1110.75 32.4113 1110.05 31.5915 Q1109.35 30.7717 1108.12 30.7717 Q1105.99 30.7717 1104.6 33.313 Q1103.2 35.8544 1102.01 40.7731 Q1101.65 42.1257 1101.4 42.4126 Q1101.19 42.6996 1100.58 42.6996 Q1099.56 42.6586 1099.56 41.8388 Q1099.56 41.6338 1099.88 40.3222 Q1100.21 38.9695 1100.83 37.0021 Q1101.48 34.9936 1102.18 33.7229 Q1102.59 32.8621 1102.96 32.2883 Q1103.33 31.7144 1104.06 30.8127 Q1104.84 29.9109 1105.95 29.419 Q1107.06 28.9272 1108.41 28.9272 Q1111.03 28.9272 1113.2 30.4848 Q1115.38 32.0424 1115.95 35.1985 Q1118.29 32.4523 1121.16 30.6897 Q1124.03 28.9272 1126.94 28.9272 Q1131.77 28.9272 1134.93 32.6982 Q1138.13 36.4282 1138.13 42.3307 M1132.06 38.6416 Q1132.06 34.9116 1130.63 32.8621 Q1129.23 30.7717 1126.69 30.7717 Q1123.53 30.7717 1119.89 33.9689 Q1116.28 37.0021 1115.54 39.8303 L1111.4 56.267 L1111.16 57.6197 Q1111.16 57.8656 1111.28 58.6034 Q1111.44 59.3002 1111.89 60.4479 Q1112.38 61.5956 1113.04 62.6204 Q1113.74 63.6041 1114.97 64.3419 Q1116.24 65.0797 1117.8 65.0797 Q1120.3 65.0797 1123 62.8663 Q1125.75 60.6529 1127.8 56.472 Q1129.07 53.7667 1130.54 47.9462 Q1132.06 42.0847 1132.06 38.6416 Z\" fill=\"#000000\" fill-rule=\"nonzero\" fill-opacity=\"1\" /><path clip-path=\"url(#clip040)\" d=\"M1168.3 76.6435 Q1168.3 78.2502 1167.5 79.111 Q1166.69 79.9431 1165.6 79.9431 Q1164.71 79.9431 1164.22 79.4266 Q1163.77 78.9102 1163.77 78.2215 Q1163.77 77.2173 1164.57 76.4139 Q1165.4 75.6105 1166.61 75.5818 Q1166.2 74.5202 1165.14 73.889 Q1164.08 73.229 1163.13 73.0569 Q1162.22 72.8847 1161.3 72.8847 Q1159.49 72.8847 1158.11 73.4586 Q1156.74 74.0324 1156.05 74.9219 Q1155.36 75.7827 1155.04 76.6148 Q1154.73 77.4468 1154.73 78.1642 Q1154.73 78.7954 1154.87 79.3119 Q1155.04 79.7996 1155.45 80.1726 Q1155.85 80.5169 1156.13 80.7465 Q1156.45 80.976 1157.14 81.1769 Q1157.83 81.3777 1158.11 81.4638 Q1158.4 81.5212 1159.2 81.6933 Q1160.87 82.0376 1161.61 82.2385 Q1162.36 82.4106 1163.34 82.8984 Q1164.34 83.3862 1165.09 84.1609 Q1166.89 85.9685 1166.89 88.4648 Q1166.89 89.3829 1166.58 90.5019 Q1166.29 91.6209 1165.46 93.0269 Q1164.63 94.4328 1163.36 95.5518 Q1162.1 96.6708 1159.92 97.4455 Q1157.77 98.2202 1155.07 98.2202 Q1151.31 98.2202 1148.99 96.6421 Q1146.67 95.0353 1146.67 92.5104 Q1146.67 90.6741 1147.67 89.6698 Q1148.67 88.6369 1149.96 88.6369 Q1150.94 88.6369 1151.54 89.1821 Q1152.15 89.6985 1152.15 90.6741 Q1152.15 91.9939 1151.08 92.9982 Q1150.02 94.0024 1148.44 93.8016 Q1149.79 96.9004 1155.13 96.9004 Q1157.14 96.9004 1158.69 96.3839 Q1160.27 95.8387 1161.13 95.0927 Q1162.02 94.318 1162.59 93.3712 Q1163.16 92.4243 1163.34 91.707 Q1163.54 90.9897 1163.54 90.4445 Q1163.54 89.4977 1163.16 88.7804 Q1162.79 88.0631 1162.27 87.6614 Q1161.79 87.231 1160.84 86.8867 Q1159.92 86.5137 1159.26 86.3702 Q1158.6 86.2267 1157.42 85.9972 Q1156.88 85.8824 1156.54 85.8251 Q1156.19 85.739 1155.47 85.5094 Q1154.79 85.2512 1154.3 84.993 Q1153.84 84.7347 1153.24 84.2757 Q1152.63 83.8166 1152.26 83.2714 Q1151.89 82.7263 1151.63 81.9229 Q1151.37 81.1195 1151.37 80.1726 Q1151.37 79.3119 1151.63 78.2789 Q1151.92 77.246 1152.63 76.0409 Q1153.38 74.8358 1154.44 73.8603 Q1155.5 72.8847 1157.28 72.2535 Q1159.09 71.5936 1161.3 71.5936 Q1164.51 71.5936 1166.41 73.0856 Q1168.3 74.5489 1168.3 76.6435 Z\" fill=\"#000000\" fill-rule=\"nonzero\" fill-opacity=\"1\" /><path clip-path=\"url(#clip040)\" d=\"M1200.34 53.2748 Q1200.42 52.2501 1202.02 52.2501 L1253.46 52.2501 Q1255.88 52.2501 1255.92 53.1928 Q1255.92 54.2176 1253.63 54.1766 L1202.6 54.1766 Q1200.34 54.2176 1200.34 53.2748 M1200.34 36.8791 Q1200.34 35.8544 1202.1 35.8953 L1253.38 35.8953 Q1255.88 35.8953 1255.92 36.8791 Q1255.92 37.8218 1253.79 37.8218 L1202.02 37.8218 Q1200.34 37.8218 1200.34 36.8791 Z\" fill=\"#000000\" fill-rule=\"nonzero\" fill-opacity=\"1\" /><path clip-path=\"url(#clip040)\" d=\"M1288.3 39.1745 Q1288.3 26.8367 1291.42 20.1145 Q1295.76 10.1131 1306.01 10.1131 Q1308.18 10.1131 1310.44 10.7279 Q1312.73 11.3018 1315.6 13.5562 Q1318.51 15.8106 1320.27 19.4996 Q1323.63 26.6318 1323.63 39.1745 Q1323.63 51.4303 1320.52 58.1115 Q1315.97 67.867 1305.93 67.867 Q1302.16 67.867 1298.3 65.9405 Q1294.49 64.014 1292.07 59.3822 Q1288.3 52.455 1288.3 39.1745 M1295.27 38.1498 Q1295.27 50.8154 1296.17 55.8571 Q1297.2 61.3087 1299.98 63.6861 Q1302.81 66.0225 1305.93 66.0225 Q1309.29 66.0225 1312.08 63.5221 Q1314.9 60.9808 1315.76 55.5292 Q1316.71 50.1596 1316.67 38.1498 Q1316.67 26.4678 1315.85 21.795 Q1314.74 16.3435 1311.79 14.171 Q1308.88 11.9576 1305.93 11.9576 Q1304.82 11.9576 1303.63 12.2855 Q1302.48 12.6134 1300.8 13.5562 Q1299.12 14.4989 1297.81 16.8353 Q1296.54 19.1717 1295.93 22.6968 Q1295.27 27.2466 1295.27 38.1498 Z\" fill=\"#000000\" fill-rule=\"nonzero\" fill-opacity=\"1\" /><path clip-path=\"url(#clip040)\" d=\"M1331.14 64.6698 Q1329.87 63.3172 1329.87 61.5546 Q1329.87 59.7921 1331.14 58.5214 Q1332.41 57.2098 1334.34 57.2098 Q1336.18 57.2098 1337.41 58.4395 Q1338.69 59.6281 1338.69 61.5956 Q1338.69 63.5221 1337.33 64.7928 Q1336.02 66.0225 1334.34 66.0225 Q1332.41 66.0225 1331.14 64.6698 Z\" fill=\"#000000\" fill-rule=\"nonzero\" fill-opacity=\"1\" /><path clip-path=\"url(#clip040)\" d=\"M1352.97 29.0092 Q1352.97 24.5413 1354.28 21.5081 Q1355.59 18.4339 1358.34 15.4007 Q1363.38 10.1131 1370.68 10.1131 Q1373.79 10.1131 1376.54 11.4248 Q1379.33 12.7364 1381.95 15.7286 Q1384.62 18.6799 1386.21 24.5413 Q1387.81 30.3618 1387.81 38.3957 Q1387.81 51.3893 1381.5 59.6281 Q1375.23 67.867 1366.74 67.867 Q1361.37 67.867 1358.22 65.4486 Q1355.06 62.9893 1355.06 58.8084 Q1355.06 56.6359 1356.29 55.7342 Q1357.52 54.7914 1358.92 54.7914 Q1360.43 54.7914 1361.62 55.8161 Q1362.81 56.7999 1362.81 58.6444 Q1362.81 60.161 1361.83 61.3497 Q1360.88 62.4974 1358.42 62.4974 Q1360.84 65.5306 1366.66 65.5306 Q1368.75 65.5306 1370.84 64.5878 Q1372.93 63.6041 1375.19 61.2677 Q1377.48 58.8903 1378.88 53.9306 Q1380.27 48.9709 1380.27 42.0028 L1380.27 39.3384 Q1376.91 47.7413 1369.78 47.7413 Q1362.73 47.7413 1357.85 42.3307 Q1352.97 36.9201 1352.97 29.0092 M1360.51 29.0911 Q1360.51 37.412 1362.03 40.4861 Q1364.61 45.7738 1369.86 45.7738 Q1374.98 45.7738 1377.52 41.224 Q1380.11 36.6332 1380.11 30.6897 Q1380.11 22.4509 1378.75 18.8438 Q1376.25 12.2035 1370.68 12.2035 Q1365.15 12.2035 1362.28 17.4912 Q1360.51 20.6063 1360.51 29.0911 Z\" fill=\"#000000\" fill-rule=\"nonzero\" fill-opacity=\"1\" /><path clip-path=\"url(#clip040)\" d=\"M1394.88 29.0092 Q1394.88 24.5413 1396.19 21.5081 Q1397.5 18.4339 1400.25 15.4007 Q1405.29 10.1131 1412.59 10.1131 Q1415.7 10.1131 1418.45 11.4248 Q1421.23 12.7364 1423.86 15.7286 Q1426.52 18.6799 1428.12 24.5413 Q1429.72 30.3618 1429.72 38.3957 Q1429.72 51.3893 1423.41 59.6281 Q1417.14 67.867 1408.65 67.867 Q1403.28 67.867 1400.12 65.4486 Q1396.97 62.9893 1396.97 58.8084 Q1396.97 56.6359 1398.2 55.7342 Q1399.43 54.7914 1400.82 54.7914 Q1402.34 54.7914 1403.53 55.8161 Q1404.72 56.7999 1404.72 58.6444 Q1404.72 60.161 1403.73 61.3497 Q1402.79 62.4974 1400.33 62.4974 Q1402.75 65.5306 1408.57 65.5306 Q1410.66 65.5306 1412.75 64.5878 Q1414.84 63.6041 1417.09 61.2677 Q1419.39 58.8903 1420.78 53.9306 Q1422.18 48.9709 1422.18 42.0028 L1422.18 39.3384 Q1418.82 47.7413 1411.68 47.7413 Q1404.63 47.7413 1399.76 42.3307 Q1394.88 36.9201 1394.88 29.0092 M1402.42 29.0911 Q1402.42 37.412 1403.94 40.4861 Q1406.52 45.7738 1411.77 45.7738 Q1416.89 45.7738 1419.43 41.224 Q1422.01 36.6332 1422.01 30.6897 Q1422.01 22.4509 1420.66 18.8438 Q1418.16 12.2035 1412.59 12.2035 Q1407.05 12.2035 1404.18 17.4912 Q1402.42 20.6063 1402.42 29.0911 Z\" fill=\"#000000\" fill-rule=\"nonzero\" fill-opacity=\"1\" /><path clip-path=\"url(#clip040)\" d=\"M1436.78 52.496 Q1436.78 49.9957 1438.14 49.0529 Q1439.49 48.0692 1440.92 48.0692 Q1442.85 48.0692 1443.96 49.2988 Q1445.11 50.4875 1445.11 52.1681 Q1445.11 53.8487 1443.96 55.0783 Q1442.85 56.267 1440.92 56.267 Q1439.98 56.267 1439.49 56.1031 Q1440.6 59.9561 1443.96 62.7433 Q1447.36 65.5306 1451.83 65.5306 Q1457.44 65.5306 1460.8 60.079 Q1462.81 56.5539 1462.81 48.561 Q1462.81 41.5109 1461.3 37.9858 Q1458.96 32.6162 1454.16 32.6162 Q1447.36 32.6162 1443.34 38.4777 Q1442.85 39.2155 1442.28 39.2565 Q1441.46 39.2565 1441.25 38.8056 Q1441.09 38.3137 1441.09 37.043 L1441.09 12.2035 Q1441.09 10.1951 1441.91 10.1951 Q1442.24 10.1951 1442.93 10.441 Q1448.22 12.7774 1454.08 12.8184 Q1460.11 12.8184 1465.52 10.359 Q1465.93 10.1131 1466.17 10.1131 Q1466.99 10.1131 1467.03 11.0558 Q1467.03 11.3838 1466.34 12.3675 Q1465.68 13.3103 1464.25 14.5809 Q1462.81 15.8106 1460.97 16.9993 Q1459.12 18.188 1456.42 19.0078 Q1453.75 19.7866 1450.8 19.7866 Q1447.28 19.7866 1443.67 18.6799 L1443.67 35.0346 Q1448.02 30.7717 1454.33 30.7717 Q1461.05 30.7717 1465.68 36.1823 Q1470.31 41.5929 1470.31 49.1349 Q1470.31 57.0458 1464.82 62.4564 Q1459.37 67.867 1451.99 67.867 Q1445.27 67.867 1441.01 63.0712 Q1436.78 58.2755 1436.78 52.496 Z\" fill=\"#000000\" fill-rule=\"nonzero\" fill-opacity=\"1\" /><polyline clip-path=\"url(#clip042)\" style=\"stroke:#009af9; stroke-linecap:round; stroke-linejoin:round; stroke-width:4; stroke-opacity:1; fill:none\" points=\"219.866,1423.18 433.155,1423.18 646.444,1423.18 859.733,1423.18 1073.02,1423.18 1286.31,1423.18 1499.6,1423.18 1712.89,1423.16 1926.18,1421.78 2139.47,1361.06 2352.76,187.015 \"/>\n",
       "</svg>\n"
      ],
      "text/html": [
       "<?xml version=\"1.0\" encoding=\"utf-8\"?>\n",
       "<svg xmlns=\"http://www.w3.org/2000/svg\" xmlns:xlink=\"http://www.w3.org/1999/xlink\" width=\"600\" height=\"400\" viewBox=\"0 0 2400 1600\">\n",
       "<defs>\n",
       "  <clipPath id=\"clip090\">\n",
       "    <rect x=\"0\" y=\"0\" width=\"2400\" height=\"1600\"/>\n",
       "  </clipPath>\n",
       "</defs>\n",
       "<path clip-path=\"url(#clip090)\" d=\"M0 1600 L2400 1600 L2400 0 L0 0  Z\" fill=\"#ffffff\" fill-rule=\"evenodd\" fill-opacity=\"1\"/>\n",
       "<defs>\n",
       "  <clipPath id=\"clip091\">\n",
       "    <rect x=\"480\" y=\"0\" width=\"1681\" height=\"1600\"/>\n",
       "  </clipPath>\n",
       "</defs>\n",
       "<path clip-path=\"url(#clip090)\" d=\"M219.866 1423.18 L2352.76 1423.18 L2352.76 123.472 L219.866 123.472  Z\" fill=\"#ffffff\" fill-rule=\"evenodd\" fill-opacity=\"1\"/>\n",
       "<defs>\n",
       "  <clipPath id=\"clip092\">\n",
       "    <rect x=\"219\" y=\"123\" width=\"2134\" height=\"1301\"/>\n",
       "  </clipPath>\n",
       "</defs>\n",
       "<polyline clip-path=\"url(#clip092)\" style=\"stroke:#000000; stroke-linecap:round; stroke-linejoin:round; stroke-width:2; stroke-opacity:0.1; fill:none\" points=\"219.866,1423.18 219.866,123.472 \"/>\n",
       "<polyline clip-path=\"url(#clip092)\" style=\"stroke:#000000; stroke-linecap:round; stroke-linejoin:round; stroke-width:2; stroke-opacity:0.1; fill:none\" points=\"646.444,1423.18 646.444,123.472 \"/>\n",
       "<polyline clip-path=\"url(#clip092)\" style=\"stroke:#000000; stroke-linecap:round; stroke-linejoin:round; stroke-width:2; stroke-opacity:0.1; fill:none\" points=\"1073.02,1423.18 1073.02,123.472 \"/>\n",
       "<polyline clip-path=\"url(#clip092)\" style=\"stroke:#000000; stroke-linecap:round; stroke-linejoin:round; stroke-width:2; stroke-opacity:0.1; fill:none\" points=\"1499.6,1423.18 1499.6,123.472 \"/>\n",
       "<polyline clip-path=\"url(#clip092)\" style=\"stroke:#000000; stroke-linecap:round; stroke-linejoin:round; stroke-width:2; stroke-opacity:0.1; fill:none\" points=\"1926.18,1423.18 1926.18,123.472 \"/>\n",
       "<polyline clip-path=\"url(#clip092)\" style=\"stroke:#000000; stroke-linecap:round; stroke-linejoin:round; stroke-width:2; stroke-opacity:0.1; fill:none\" points=\"2352.76,1423.18 2352.76,123.472 \"/>\n",
       "<polyline clip-path=\"url(#clip090)\" style=\"stroke:#000000; stroke-linecap:round; stroke-linejoin:round; stroke-width:4; stroke-opacity:1; fill:none\" points=\"219.866,1423.18 2352.76,1423.18 \"/>\n",
       "<polyline clip-path=\"url(#clip090)\" style=\"stroke:#000000; stroke-linecap:round; stroke-linejoin:round; stroke-width:4; stroke-opacity:1; fill:none\" points=\"219.866,1423.18 219.866,1404.28 \"/>\n",
       "<polyline clip-path=\"url(#clip090)\" style=\"stroke:#000000; stroke-linecap:round; stroke-linejoin:round; stroke-width:4; stroke-opacity:1; fill:none\" points=\"646.444,1423.18 646.444,1404.28 \"/>\n",
       "<polyline clip-path=\"url(#clip090)\" style=\"stroke:#000000; stroke-linecap:round; stroke-linejoin:round; stroke-width:4; stroke-opacity:1; fill:none\" points=\"1073.02,1423.18 1073.02,1404.28 \"/>\n",
       "<polyline clip-path=\"url(#clip090)\" style=\"stroke:#000000; stroke-linecap:round; stroke-linejoin:round; stroke-width:4; stroke-opacity:1; fill:none\" points=\"1499.6,1423.18 1499.6,1404.28 \"/>\n",
       "<polyline clip-path=\"url(#clip090)\" style=\"stroke:#000000; stroke-linecap:round; stroke-linejoin:round; stroke-width:4; stroke-opacity:1; fill:none\" points=\"1926.18,1423.18 1926.18,1404.28 \"/>\n",
       "<polyline clip-path=\"url(#clip090)\" style=\"stroke:#000000; stroke-linecap:round; stroke-linejoin:round; stroke-width:4; stroke-opacity:1; fill:none\" points=\"2352.76,1423.18 2352.76,1404.28 \"/>\n",
       "<path clip-path=\"url(#clip090)\" d=\"M219.866 1454.1 Q216.255 1454.1 214.426 1457.66 Q212.621 1461.2 212.621 1468.33 Q212.621 1475.44 214.426 1479.01 Q216.255 1482.55 219.866 1482.55 Q223.501 1482.55 225.306 1479.01 Q227.135 1475.44 227.135 1468.33 Q227.135 1461.2 225.306 1457.66 Q223.501 1454.1 219.866 1454.1 M219.866 1450.39 Q225.676 1450.39 228.732 1455 Q231.811 1459.58 231.811 1468.33 Q231.811 1477.06 228.732 1481.67 Q225.676 1486.25 219.866 1486.25 Q214.056 1486.25 210.977 1481.67 Q207.922 1477.06 207.922 1468.33 Q207.922 1459.58 210.977 1455 Q214.056 1450.39 219.866 1450.39 Z\" fill=\"#000000\" fill-rule=\"nonzero\" fill-opacity=\"1\" /><path clip-path=\"url(#clip090)\" d=\"M641.097 1481.64 L657.416 1481.64 L657.416 1485.58 L635.472 1485.58 L635.472 1481.64 Q638.134 1478.89 642.717 1474.26 Q647.324 1469.61 648.504 1468.27 Q650.75 1465.74 651.629 1464.01 Q652.532 1462.25 652.532 1460.56 Q652.532 1457.8 650.588 1456.07 Q648.666 1454.33 645.565 1454.33 Q643.366 1454.33 640.912 1455.09 Q638.481 1455.86 635.704 1457.41 L635.704 1452.69 Q638.528 1451.55 640.981 1450.97 Q643.435 1450.39 645.472 1450.39 Q650.842 1450.39 654.037 1453.08 Q657.231 1455.77 657.231 1460.26 Q657.231 1462.39 656.421 1464.31 Q655.634 1466.2 653.527 1468.8 Q652.949 1469.47 649.847 1472.69 Q646.745 1475.88 641.097 1481.64 Z\" fill=\"#000000\" fill-rule=\"nonzero\" fill-opacity=\"1\" /><path clip-path=\"url(#clip090)\" d=\"M1076.03 1455.09 L1064.23 1473.54 L1076.03 1473.54 L1076.03 1455.09 M1074.8 1451.02 L1080.68 1451.02 L1080.68 1473.54 L1085.61 1473.54 L1085.61 1477.43 L1080.68 1477.43 L1080.68 1485.58 L1076.03 1485.58 L1076.03 1477.43 L1060.43 1477.43 L1060.43 1472.92 L1074.8 1451.02 Z\" fill=\"#000000\" fill-rule=\"nonzero\" fill-opacity=\"1\" /><path clip-path=\"url(#clip090)\" d=\"M1500.01 1466.44 Q1496.86 1466.44 1495.01 1468.59 Q1493.18 1470.74 1493.18 1474.49 Q1493.18 1478.22 1495.01 1480.39 Q1496.86 1482.55 1500.01 1482.55 Q1503.15 1482.55 1504.98 1480.39 Q1506.83 1478.22 1506.83 1474.49 Q1506.83 1470.74 1504.98 1468.59 Q1503.15 1466.44 1500.01 1466.44 M1509.29 1451.78 L1509.29 1456.04 Q1507.53 1455.21 1505.72 1454.77 Q1503.94 1454.33 1502.18 1454.33 Q1497.55 1454.33 1495.1 1457.45 Q1492.67 1460.58 1492.32 1466.9 Q1493.69 1464.89 1495.75 1463.82 Q1497.81 1462.73 1500.28 1462.73 Q1505.49 1462.73 1508.5 1465.9 Q1511.53 1469.05 1511.53 1474.49 Q1511.53 1479.82 1508.38 1483.03 Q1505.24 1486.25 1500.01 1486.25 Q1494.01 1486.25 1490.84 1481.67 Q1487.67 1477.06 1487.67 1468.33 Q1487.67 1460.14 1491.56 1455.28 Q1495.44 1450.39 1502 1450.39 Q1503.76 1450.39 1505.54 1450.74 Q1507.34 1451.09 1509.29 1451.78 Z\" fill=\"#000000\" fill-rule=\"nonzero\" fill-opacity=\"1\" /><path clip-path=\"url(#clip090)\" d=\"M1926.18 1469.17 Q1922.84 1469.17 1920.92 1470.95 Q1919.03 1472.73 1919.03 1475.86 Q1919.03 1478.98 1920.92 1480.77 Q1922.84 1482.55 1926.18 1482.55 Q1929.51 1482.55 1931.43 1480.77 Q1933.35 1478.96 1933.35 1475.86 Q1933.35 1472.73 1931.43 1470.95 Q1929.53 1469.17 1926.18 1469.17 M1921.5 1467.18 Q1918.49 1466.44 1916.8 1464.38 Q1915.14 1462.32 1915.14 1459.35 Q1915.14 1455.21 1918.08 1452.8 Q1921.04 1450.39 1926.18 1450.39 Q1931.34 1450.39 1934.28 1452.8 Q1937.22 1455.21 1937.22 1459.35 Q1937.22 1462.32 1935.53 1464.38 Q1933.86 1466.44 1930.88 1467.18 Q1934.26 1467.96 1936.13 1470.26 Q1938.03 1472.55 1938.03 1475.86 Q1938.03 1480.88 1934.95 1483.57 Q1931.9 1486.25 1926.18 1486.25 Q1920.46 1486.25 1917.38 1483.57 Q1914.33 1480.88 1914.33 1475.86 Q1914.33 1472.55 1916.22 1470.26 Q1918.12 1467.96 1921.5 1467.18 M1919.79 1459.79 Q1919.79 1462.48 1921.46 1463.98 Q1923.15 1465.49 1926.18 1465.49 Q1929.19 1465.49 1930.88 1463.98 Q1932.59 1462.48 1932.59 1459.79 Q1932.59 1457.11 1930.88 1455.6 Q1929.19 1454.1 1926.18 1454.1 Q1923.15 1454.1 1921.46 1455.6 Q1919.79 1457.11 1919.79 1459.79 Z\" fill=\"#000000\" fill-rule=\"nonzero\" fill-opacity=\"1\" /><path clip-path=\"url(#clip090)\" d=\"M2327.44 1481.64 L2335.08 1481.64 L2335.08 1455.28 L2326.77 1456.95 L2326.77 1452.69 L2335.04 1451.02 L2339.71 1451.02 L2339.71 1481.64 L2347.35 1481.64 L2347.35 1485.58 L2327.44 1485.58 L2327.44 1481.64 Z\" fill=\"#000000\" fill-rule=\"nonzero\" fill-opacity=\"1\" /><path clip-path=\"url(#clip090)\" d=\"M2366.8 1454.1 Q2363.18 1454.1 2361.36 1457.66 Q2359.55 1461.2 2359.55 1468.33 Q2359.55 1475.44 2361.36 1479.01 Q2363.18 1482.55 2366.8 1482.55 Q2370.43 1482.55 2372.23 1479.01 Q2374.06 1475.44 2374.06 1468.33 Q2374.06 1461.2 2372.23 1457.66 Q2370.43 1454.1 2366.8 1454.1 M2366.8 1450.39 Q2372.61 1450.39 2375.66 1455 Q2378.74 1459.58 2378.74 1468.33 Q2378.74 1477.06 2375.66 1481.67 Q2372.61 1486.25 2366.8 1486.25 Q2360.99 1486.25 2357.91 1481.67 Q2354.85 1477.06 2354.85 1468.33 Q2354.85 1459.58 2357.91 1455 Q2360.99 1450.39 2366.8 1450.39 Z\" fill=\"#000000\" fill-rule=\"nonzero\" fill-opacity=\"1\" /><path clip-path=\"url(#clip090)\" d=\"M1238.93 1538.35 Q1238.93 1540.15 1238.02 1541.12 Q1237.12 1542.05 1235.9 1542.05 Q1234.9 1542.05 1234.35 1541.47 Q1233.84 1540.89 1233.84 1540.12 Q1233.84 1538.99 1234.74 1538.09 Q1235.67 1537.19 1237.03 1537.16 Q1236.57 1535.97 1235.38 1535.26 Q1234.19 1534.52 1233.13 1534.32 Q1232.1 1534.13 1231.07 1534.13 Q1229.04 1534.13 1227.49 1534.78 Q1225.95 1535.42 1225.17 1536.42 Q1224.4 1537.38 1224.05 1538.32 Q1223.69 1539.25 1223.69 1540.06 Q1223.69 1540.77 1223.85 1541.35 Q1224.05 1541.89 1224.5 1542.31 Q1224.95 1542.7 1225.27 1542.96 Q1225.62 1543.21 1226.4 1543.44 Q1227.17 1543.66 1227.49 1543.76 Q1227.81 1543.83 1228.72 1544.02 Q1230.58 1544.41 1231.42 1544.63 Q1232.26 1544.82 1233.35 1545.37 Q1234.48 1545.92 1235.32 1546.79 Q1237.35 1548.82 1237.35 1551.62 Q1237.35 1552.65 1236.99 1553.91 Q1236.67 1555.16 1235.74 1556.74 Q1234.8 1558.32 1233.39 1559.57 Q1231.97 1560.83 1229.52 1561.7 Q1227.11 1562.57 1224.08 1562.57 Q1219.86 1562.57 1217.25 1560.8 Q1214.64 1558.99 1214.64 1556.16 Q1214.64 1554.1 1215.77 1552.97 Q1216.9 1551.81 1218.35 1551.81 Q1219.44 1551.81 1220.12 1552.42 Q1220.79 1553 1220.79 1554.1 Q1220.79 1555.58 1219.6 1556.71 Q1218.41 1557.84 1216.64 1557.61 Q1218.15 1561.09 1224.14 1561.09 Q1226.4 1561.09 1228.14 1560.51 Q1229.91 1559.9 1230.87 1559.06 Q1231.87 1558.19 1232.52 1557.13 Q1233.16 1556.06 1233.35 1555.26 Q1233.58 1554.45 1233.58 1553.84 Q1233.58 1552.78 1233.16 1551.97 Q1232.74 1551.17 1232.16 1550.72 Q1231.61 1550.23 1230.55 1549.85 Q1229.52 1549.43 1228.78 1549.27 Q1228.04 1549.11 1226.72 1548.85 Q1226.11 1548.72 1225.72 1548.66 Q1225.33 1548.56 1224.53 1548.3 Q1223.76 1548.01 1223.21 1547.72 Q1222.69 1547.43 1222.02 1546.92 Q1221.34 1546.4 1220.92 1545.79 Q1220.5 1545.18 1220.21 1544.28 Q1219.92 1543.37 1219.92 1542.31 Q1219.92 1541.35 1220.21 1540.19 Q1220.54 1539.03 1221.34 1537.67 Q1222.18 1536.32 1223.37 1535.23 Q1224.56 1534.13 1226.56 1533.42 Q1228.59 1532.68 1231.07 1532.68 Q1234.67 1532.68 1236.8 1534.36 Q1238.93 1536 1238.93 1538.35 Z\" fill=\"#000000\" fill-rule=\"nonzero\" fill-opacity=\"1\" /><path clip-path=\"url(#clip090)\" d=\"M1273.25 1543.83 Q1273.25 1547.34 1271.7 1550.81 Q1270.15 1554.26 1267.67 1556.84 Q1265.23 1559.38 1262.01 1560.99 Q1258.78 1562.57 1255.56 1562.57 Q1250.96 1562.57 1247.96 1559.45 Q1245 1556.29 1245 1551.39 Q1245 1546.82 1247.55 1542.47 Q1250.12 1538.09 1254.24 1535.39 Q1258.37 1532.68 1262.68 1532.68 Q1267.22 1532.68 1270.22 1535.74 Q1273.25 1538.8 1273.25 1543.83 M1268.41 1541.25 Q1268.41 1538.13 1266.9 1536.13 Q1265.39 1534.13 1262.62 1534.13 Q1261.81 1534.13 1260.88 1534.39 Q1259.94 1534.61 1258.72 1535.23 Q1257.53 1535.84 1256.18 1537.13 Q1254.86 1538.38 1253.7 1540.19 Q1252.18 1542.57 1251.02 1546.95 Q1249.9 1551.3 1249.9 1553.91 Q1249.9 1557.51 1251.57 1559.32 Q1253.25 1561.09 1255.63 1561.09 Q1257.95 1561.09 1260.4 1559.48 Q1262.88 1557.84 1264.58 1555.03 Q1266.29 1552.13 1267.35 1547.88 Q1268.41 1543.6 1268.41 1541.25 Z\" fill=\"#000000\" fill-rule=\"nonzero\" fill-opacity=\"1\" /><path clip-path=\"url(#clip090)\" d=\"M1290.78 1516.77 L1281.28 1554.9 Q1280.9 1556.42 1280.9 1558.06 Q1280.9 1561.09 1282.89 1561.09 Q1283.83 1561.09 1284.6 1560.48 Q1285.37 1559.83 1285.95 1558.58 Q1286.56 1557.29 1286.95 1556.06 Q1287.37 1554.84 1287.88 1552.94 Q1288.04 1552.2 1288.21 1551.97 Q1288.37 1551.75 1288.82 1551.75 Q1289.62 1551.75 1289.62 1552.39 Q1288.82 1556.35 1287.63 1558.87 Q1285.89 1562.57 1282.67 1562.57 Q1280.25 1562.57 1278.45 1560.89 Q1276.68 1559.19 1276.68 1556.48 Q1276.68 1555.45 1277 1554.23 L1285.31 1521.25 L1285.53 1519.96 Q1285.53 1519.61 1285.4 1519.41 Q1285.28 1519.22 1284.5 1519.03 Q1283.76 1518.83 1282.28 1518.83 Q1281.67 1518.83 1281.38 1518.8 Q1281.12 1518.77 1280.86 1518.61 Q1280.64 1518.45 1280.64 1518.09 Q1280.64 1517.51 1280.86 1517.19 Q1281.12 1516.87 1281.31 1516.8 Q1281.51 1516.74 1281.89 1516.71 Q1282.44 1516.68 1284.28 1516.52 Q1286.11 1516.32 1287.69 1516.19 Q1289.27 1516.06 1289.94 1516.06 Q1290.33 1516.06 1290.52 1516.26 Q1290.75 1516.42 1290.78 1516.61 L1290.78 1516.77 Z\" fill=\"#000000\" fill-rule=\"nonzero\" fill-opacity=\"1\" /><path clip-path=\"url(#clip090)\" d=\"M1322.01 1554.2 Q1322.27 1554.49 1322.27 1554.78 Q1322.27 1555.07 1321.63 1555.9 Q1321.02 1556.74 1319.7 1557.87 Q1318.38 1558.99 1316.67 1560.06 Q1314.96 1561.12 1312.45 1561.83 Q1309.94 1562.57 1307.3 1562.57 Q1302.56 1562.57 1299.73 1559.19 Q1296.93 1555.81 1296.93 1550.62 Q1296.93 1547.3 1298.02 1544.37 Q1299.12 1541.41 1300.89 1539.32 Q1302.69 1537.22 1304.95 1535.71 Q1307.23 1534.16 1309.62 1533.42 Q1312 1532.68 1314.22 1532.68 Q1317.47 1532.68 1319.37 1534.32 Q1321.27 1535.97 1321.27 1538.29 Q1321.27 1538.83 1321.11 1539.51 Q1320.98 1540.19 1320.53 1541.25 Q1320.11 1542.31 1319.02 1543.37 Q1317.92 1544.41 1316.31 1545.08 Q1312.74 1546.6 1306.23 1546.6 L1302.72 1546.6 Q1301.69 1550.75 1301.69 1553.46 Q1301.69 1554.52 1301.89 1555.61 Q1302.08 1556.68 1302.59 1558.03 Q1303.14 1559.38 1304.37 1560.25 Q1305.62 1561.09 1307.43 1561.09 Q1308 1561.09 1308.62 1561.06 Q1309.26 1561.02 1310.87 1560.67 Q1312.51 1560.32 1313.96 1559.7 Q1315.41 1559.09 1317.25 1557.77 Q1319.12 1556.42 1320.6 1554.58 Q1321.11 1553.91 1321.47 1553.91 Q1321.76 1553.91 1322.01 1554.2 M1319.08 1538.29 Q1319.08 1536.51 1317.76 1535.32 Q1316.48 1534.13 1314.22 1534.13 Q1313.51 1534.13 1312.64 1534.29 Q1311.77 1534.45 1310.32 1535.13 Q1308.91 1535.81 1307.65 1536.93 Q1306.39 1538.03 1305.14 1540.19 Q1303.88 1542.31 1303.14 1545.15 L1305.85 1545.15 Q1306.78 1545.15 1307.46 1545.15 Q1308.13 1545.11 1309.62 1544.99 Q1311.13 1544.86 1312.22 1544.63 Q1313.32 1544.37 1314.7 1543.86 Q1316.09 1543.34 1316.96 1542.67 Q1317.86 1541.96 1318.47 1540.83 Q1319.08 1539.7 1319.08 1538.29 Z\" fill=\"#000000\" fill-rule=\"nonzero\" fill-opacity=\"1\" /><path clip-path=\"url(#clip090)\" d=\"M1351.64 1538.35 Q1351.64 1540.15 1350.74 1541.12 Q1349.84 1542.05 1348.61 1542.05 Q1347.61 1542.05 1347.07 1541.47 Q1346.55 1540.89 1346.55 1540.12 Q1346.55 1538.99 1347.45 1538.09 Q1348.39 1537.19 1349.74 1537.16 Q1349.29 1535.97 1348.1 1535.26 Q1346.91 1534.52 1345.84 1534.32 Q1344.81 1534.13 1343.78 1534.13 Q1341.75 1534.13 1340.21 1534.78 Q1338.66 1535.42 1337.89 1536.42 Q1337.12 1537.38 1336.76 1538.32 Q1336.41 1539.25 1336.41 1540.06 Q1336.41 1540.77 1336.57 1541.35 Q1336.76 1541.89 1337.21 1542.31 Q1337.66 1542.7 1337.99 1542.96 Q1338.34 1543.21 1339.11 1543.44 Q1339.89 1543.66 1340.21 1543.76 Q1340.53 1543.83 1341.43 1544.02 Q1343.3 1544.41 1344.14 1544.63 Q1344.97 1544.82 1346.07 1545.37 Q1347.2 1545.92 1348.03 1546.79 Q1350.06 1548.82 1350.06 1551.62 Q1350.06 1552.65 1349.71 1553.91 Q1349.39 1555.16 1348.45 1556.74 Q1347.52 1558.32 1346.1 1559.57 Q1344.68 1560.83 1342.24 1561.7 Q1339.82 1562.57 1336.79 1562.57 Q1332.57 1562.57 1329.97 1560.8 Q1327.36 1558.99 1327.36 1556.16 Q1327.36 1554.1 1328.48 1552.97 Q1329.61 1551.81 1331.06 1551.81 Q1332.16 1551.81 1332.83 1552.42 Q1333.51 1553 1333.51 1554.1 Q1333.51 1555.58 1332.32 1556.71 Q1331.13 1557.84 1329.35 1557.61 Q1330.87 1561.09 1336.86 1561.09 Q1339.11 1561.09 1340.85 1560.51 Q1342.62 1559.9 1343.59 1559.06 Q1344.59 1558.19 1345.23 1557.13 Q1345.88 1556.06 1346.07 1555.26 Q1346.29 1554.45 1346.29 1553.84 Q1346.29 1552.78 1345.88 1551.97 Q1345.46 1551.17 1344.88 1550.72 Q1344.33 1550.23 1343.27 1549.85 Q1342.24 1549.43 1341.5 1549.27 Q1340.75 1549.11 1339.43 1548.85 Q1338.82 1548.72 1338.44 1548.66 Q1338.05 1548.56 1337.24 1548.3 Q1336.47 1548.01 1335.92 1547.72 Q1335.41 1547.43 1334.73 1546.92 Q1334.06 1546.4 1333.64 1545.79 Q1333.22 1545.18 1332.93 1544.28 Q1332.64 1543.37 1332.64 1542.31 Q1332.64 1541.35 1332.93 1540.19 Q1333.25 1539.03 1334.06 1537.67 Q1334.89 1536.32 1336.09 1535.23 Q1337.28 1534.13 1339.27 1533.42 Q1341.3 1532.68 1343.78 1532.68 Q1347.39 1532.68 1349.51 1534.36 Q1351.64 1536 1351.64 1538.35 Z\" fill=\"#000000\" fill-rule=\"nonzero\" fill-opacity=\"1\" /><polyline clip-path=\"url(#clip092)\" style=\"stroke:#000000; stroke-linecap:round; stroke-linejoin:round; stroke-width:2; stroke-opacity:0.1; fill:none\" points=\"219.866,1423.18 2352.76,1423.18 \"/>\n",
       "<polyline clip-path=\"url(#clip092)\" style=\"stroke:#000000; stroke-linecap:round; stroke-linejoin:round; stroke-width:2; stroke-opacity:0.1; fill:none\" points=\"219.866,1163.24 2352.76,1163.24 \"/>\n",
       "<polyline clip-path=\"url(#clip092)\" style=\"stroke:#000000; stroke-linecap:round; stroke-linejoin:round; stroke-width:2; stroke-opacity:0.1; fill:none\" points=\"219.866,903.297 2352.76,903.297 \"/>\n",
       "<polyline clip-path=\"url(#clip092)\" style=\"stroke:#000000; stroke-linecap:round; stroke-linejoin:round; stroke-width:2; stroke-opacity:0.1; fill:none\" points=\"219.866,643.355 2352.76,643.355 \"/>\n",
       "<polyline clip-path=\"url(#clip092)\" style=\"stroke:#000000; stroke-linecap:round; stroke-linejoin:round; stroke-width:2; stroke-opacity:0.1; fill:none\" points=\"219.866,383.414 2352.76,383.414 \"/>\n",
       "<polyline clip-path=\"url(#clip092)\" style=\"stroke:#000000; stroke-linecap:round; stroke-linejoin:round; stroke-width:2; stroke-opacity:0.1; fill:none\" points=\"219.866,123.472 2352.76,123.472 \"/>\n",
       "<polyline clip-path=\"url(#clip090)\" style=\"stroke:#000000; stroke-linecap:round; stroke-linejoin:round; stroke-width:4; stroke-opacity:1; fill:none\" points=\"219.866,1423.18 219.866,123.472 \"/>\n",
       "<polyline clip-path=\"url(#clip090)\" style=\"stroke:#000000; stroke-linecap:round; stroke-linejoin:round; stroke-width:4; stroke-opacity:1; fill:none\" points=\"219.866,1423.18 238.764,1423.18 \"/>\n",
       "<polyline clip-path=\"url(#clip090)\" style=\"stroke:#000000; stroke-linecap:round; stroke-linejoin:round; stroke-width:4; stroke-opacity:1; fill:none\" points=\"219.866,1163.24 238.764,1163.24 \"/>\n",
       "<polyline clip-path=\"url(#clip090)\" style=\"stroke:#000000; stroke-linecap:round; stroke-linejoin:round; stroke-width:4; stroke-opacity:1; fill:none\" points=\"219.866,903.297 238.764,903.297 \"/>\n",
       "<polyline clip-path=\"url(#clip090)\" style=\"stroke:#000000; stroke-linecap:round; stroke-linejoin:round; stroke-width:4; stroke-opacity:1; fill:none\" points=\"219.866,643.355 238.764,643.355 \"/>\n",
       "<polyline clip-path=\"url(#clip090)\" style=\"stroke:#000000; stroke-linecap:round; stroke-linejoin:round; stroke-width:4; stroke-opacity:1; fill:none\" points=\"219.866,383.414 238.764,383.414 \"/>\n",
       "<polyline clip-path=\"url(#clip090)\" style=\"stroke:#000000; stroke-linecap:round; stroke-linejoin:round; stroke-width:4; stroke-opacity:1; fill:none\" points=\"219.866,123.472 238.764,123.472 \"/>\n",
       "<path clip-path=\"url(#clip090)\" d=\"M126.691 1408.98 Q123.08 1408.98 121.251 1412.54 Q119.445 1416.08 119.445 1423.21 Q119.445 1430.32 121.251 1433.89 Q123.08 1437.43 126.691 1437.43 Q130.325 1437.43 132.13 1433.89 Q133.959 1430.32 133.959 1423.21 Q133.959 1416.08 132.13 1412.54 Q130.325 1408.98 126.691 1408.98 M126.691 1405.27 Q132.501 1405.27 135.556 1409.88 Q138.635 1414.46 138.635 1423.21 Q138.635 1431.94 135.556 1436.55 Q132.501 1441.13 126.691 1441.13 Q120.88 1441.13 117.802 1436.55 Q114.746 1431.94 114.746 1423.21 Q114.746 1414.46 117.802 1409.88 Q120.88 1405.27 126.691 1405.27 Z\" fill=\"#000000\" fill-rule=\"nonzero\" fill-opacity=\"1\" /><path clip-path=\"url(#clip090)\" d=\"M146.853 1434.58 L151.737 1434.58 L151.737 1440.46 L146.853 1440.46 L146.853 1434.58 Z\" fill=\"#000000\" fill-rule=\"nonzero\" fill-opacity=\"1\" /><path clip-path=\"url(#clip090)\" d=\"M171.922 1408.98 Q168.311 1408.98 166.482 1412.54 Q164.677 1416.08 164.677 1423.21 Q164.677 1430.32 166.482 1433.89 Q168.311 1437.43 171.922 1437.43 Q175.556 1437.43 177.362 1433.89 Q179.19 1430.32 179.19 1423.21 Q179.19 1416.08 177.362 1412.54 Q175.556 1408.98 171.922 1408.98 M171.922 1405.27 Q177.732 1405.27 180.788 1409.88 Q183.866 1414.46 183.866 1423.21 Q183.866 1431.94 180.788 1436.55 Q177.732 1441.13 171.922 1441.13 Q166.112 1441.13 163.033 1436.55 Q159.978 1431.94 159.978 1423.21 Q159.978 1414.46 163.033 1409.88 Q166.112 1405.27 171.922 1405.27 Z\" fill=\"#000000\" fill-rule=\"nonzero\" fill-opacity=\"1\" /><path clip-path=\"url(#clip090)\" d=\"M128.288 1149.04 Q124.677 1149.04 122.848 1152.6 Q121.043 1156.14 121.043 1163.27 Q121.043 1170.38 122.848 1173.94 Q124.677 1177.49 128.288 1177.49 Q131.922 1177.49 133.728 1173.94 Q135.556 1170.38 135.556 1163.27 Q135.556 1156.14 133.728 1152.6 Q131.922 1149.04 128.288 1149.04 M128.288 1145.33 Q134.098 1145.33 137.154 1149.94 Q140.232 1154.52 140.232 1163.27 Q140.232 1172 137.154 1176.61 Q134.098 1181.19 128.288 1181.19 Q122.478 1181.19 119.399 1176.61 Q116.343 1172 116.343 1163.27 Q116.343 1154.52 119.399 1149.94 Q122.478 1145.33 128.288 1145.33 Z\" fill=\"#000000\" fill-rule=\"nonzero\" fill-opacity=\"1\" /><path clip-path=\"url(#clip090)\" d=\"M148.45 1174.64 L153.334 1174.64 L153.334 1180.52 L148.45 1180.52 L148.45 1174.64 Z\" fill=\"#000000\" fill-rule=\"nonzero\" fill-opacity=\"1\" /><path clip-path=\"url(#clip090)\" d=\"M167.547 1176.58 L183.866 1176.58 L183.866 1180.52 L161.922 1180.52 L161.922 1176.58 Q164.584 1173.83 169.167 1169.2 Q173.774 1164.55 174.954 1163.2 Q177.2 1160.68 178.079 1158.94 Q178.982 1157.19 178.982 1155.5 Q178.982 1152.74 177.038 1151 Q175.116 1149.27 172.014 1149.27 Q169.815 1149.27 167.362 1150.03 Q164.931 1150.8 162.153 1152.35 L162.153 1147.62 Q164.977 1146.49 167.431 1145.91 Q169.885 1145.33 171.922 1145.33 Q177.292 1145.33 180.487 1148.02 Q183.681 1150.7 183.681 1155.19 Q183.681 1157.32 182.871 1159.25 Q182.084 1161.14 179.977 1163.74 Q179.399 1164.41 176.297 1167.62 Q173.195 1170.82 167.547 1176.58 Z\" fill=\"#000000\" fill-rule=\"nonzero\" fill-opacity=\"1\" /><path clip-path=\"url(#clip090)\" d=\"M126.205 889.095 Q122.593 889.095 120.765 892.66 Q118.959 896.202 118.959 903.331 Q118.959 910.438 120.765 914.003 Q122.593 917.544 126.205 917.544 Q129.839 917.544 131.644 914.003 Q133.473 910.438 133.473 903.331 Q133.473 896.202 131.644 892.66 Q129.839 889.095 126.205 889.095 M126.205 885.392 Q132.015 885.392 135.07 889.998 Q138.149 894.582 138.149 903.331 Q138.149 912.058 135.07 916.665 Q132.015 921.248 126.205 921.248 Q120.394 921.248 117.316 916.665 Q114.26 912.058 114.26 903.331 Q114.26 894.582 117.316 889.998 Q120.394 885.392 126.205 885.392 Z\" fill=\"#000000\" fill-rule=\"nonzero\" fill-opacity=\"1\" /><path clip-path=\"url(#clip090)\" d=\"M146.366 914.697 L151.251 914.697 L151.251 920.577 L146.366 920.577 L146.366 914.697 Z\" fill=\"#000000\" fill-rule=\"nonzero\" fill-opacity=\"1\" /><path clip-path=\"url(#clip090)\" d=\"M174.283 890.091 L162.477 908.54 L174.283 908.54 L174.283 890.091 M173.056 886.017 L178.936 886.017 L178.936 908.54 L183.866 908.54 L183.866 912.429 L178.936 912.429 L178.936 920.577 L174.283 920.577 L174.283 912.429 L158.681 912.429 L158.681 907.915 L173.056 886.017 Z\" fill=\"#000000\" fill-rule=\"nonzero\" fill-opacity=\"1\" /><path clip-path=\"url(#clip090)\" d=\"M126.529 629.154 Q122.918 629.154 121.089 632.719 Q119.283 636.26 119.283 643.39 Q119.283 650.496 121.089 654.061 Q122.918 657.603 126.529 657.603 Q130.163 657.603 131.968 654.061 Q133.797 650.496 133.797 643.39 Q133.797 636.26 131.968 632.719 Q130.163 629.154 126.529 629.154 M126.529 625.45 Q132.339 625.45 135.394 630.057 Q138.473 634.64 138.473 643.39 Q138.473 652.117 135.394 656.723 Q132.339 661.307 126.529 661.307 Q120.718 661.307 117.64 656.723 Q114.584 652.117 114.584 643.39 Q114.584 634.64 117.64 630.057 Q120.718 625.45 126.529 625.45 Z\" fill=\"#000000\" fill-rule=\"nonzero\" fill-opacity=\"1\" /><path clip-path=\"url(#clip090)\" d=\"M146.691 654.756 L151.575 654.756 L151.575 660.635 L146.691 660.635 L146.691 654.756 Z\" fill=\"#000000\" fill-rule=\"nonzero\" fill-opacity=\"1\" /><path clip-path=\"url(#clip090)\" d=\"M172.339 641.492 Q169.19 641.492 167.339 643.645 Q165.51 645.797 165.51 649.547 Q165.51 653.274 167.339 655.45 Q169.19 657.603 172.339 657.603 Q175.487 657.603 177.315 655.45 Q179.167 653.274 179.167 649.547 Q179.167 645.797 177.315 643.645 Q175.487 641.492 172.339 641.492 M181.621 626.839 L181.621 631.098 Q179.862 630.265 178.056 629.825 Q176.274 629.385 174.514 629.385 Q169.885 629.385 167.431 632.51 Q165.001 635.635 164.653 641.955 Q166.019 639.941 168.079 638.876 Q170.139 637.788 172.616 637.788 Q177.825 637.788 180.834 640.959 Q183.866 644.108 183.866 649.547 Q183.866 654.871 180.718 658.089 Q177.57 661.307 172.339 661.307 Q166.343 661.307 163.172 656.723 Q160.001 652.117 160.001 643.39 Q160.001 635.196 163.89 630.334 Q167.778 625.45 174.329 625.45 Q176.089 625.45 177.871 625.797 Q179.676 626.145 181.621 626.839 Z\" fill=\"#000000\" fill-rule=\"nonzero\" fill-opacity=\"1\" /><path clip-path=\"url(#clip090)\" d=\"M126.783 369.212 Q123.172 369.212 121.343 372.777 Q119.538 376.319 119.538 383.448 Q119.538 390.555 121.343 394.12 Q123.172 397.661 126.783 397.661 Q130.417 397.661 132.223 394.12 Q134.052 390.555 134.052 383.448 Q134.052 376.319 132.223 372.777 Q130.417 369.212 126.783 369.212 M126.783 365.509 Q132.593 365.509 135.649 370.115 Q138.728 374.698 138.728 383.448 Q138.728 392.175 135.649 396.782 Q132.593 401.365 126.783 401.365 Q120.973 401.365 117.894 396.782 Q114.839 392.175 114.839 383.448 Q114.839 374.698 117.894 370.115 Q120.973 365.509 126.783 365.509 Z\" fill=\"#000000\" fill-rule=\"nonzero\" fill-opacity=\"1\" /><path clip-path=\"url(#clip090)\" d=\"M146.945 394.814 L151.829 394.814 L151.829 400.694 L146.945 400.694 L146.945 394.814 Z\" fill=\"#000000\" fill-rule=\"nonzero\" fill-opacity=\"1\" /><path clip-path=\"url(#clip090)\" d=\"M172.014 384.282 Q168.681 384.282 166.76 386.064 Q164.862 387.847 164.862 390.971 Q164.862 394.096 166.76 395.879 Q168.681 397.661 172.014 397.661 Q175.348 397.661 177.269 395.879 Q179.19 394.073 179.19 390.971 Q179.19 387.847 177.269 386.064 Q175.371 384.282 172.014 384.282 M167.339 382.291 Q164.329 381.55 162.64 379.49 Q160.973 377.43 160.973 374.467 Q160.973 370.323 163.913 367.916 Q166.876 365.509 172.014 365.509 Q177.176 365.509 180.116 367.916 Q183.056 370.323 183.056 374.467 Q183.056 377.43 181.366 379.49 Q179.7 381.55 176.714 382.291 Q180.093 383.078 181.968 385.37 Q183.866 387.661 183.866 390.971 Q183.866 395.995 180.788 398.68 Q177.732 401.365 172.014 401.365 Q166.297 401.365 163.218 398.68 Q160.163 395.995 160.163 390.971 Q160.163 387.661 162.061 385.37 Q163.959 383.078 167.339 382.291 M165.626 374.907 Q165.626 377.592 167.292 379.097 Q168.982 380.601 172.014 380.601 Q175.024 380.601 176.714 379.097 Q178.426 377.592 178.426 374.907 Q178.426 372.222 176.714 370.717 Q175.024 369.212 172.014 369.212 Q168.982 369.212 167.292 370.717 Q165.626 372.222 165.626 374.907 Z\" fill=\"#000000\" fill-rule=\"nonzero\" fill-opacity=\"1\" /><path clip-path=\"url(#clip090)\" d=\"M117.501 136.817 L125.14 136.817 L125.14 110.451 L116.83 112.118 L116.83 107.859 L125.093 106.192 L129.769 106.192 L129.769 136.817 L137.408 136.817 L137.408 140.752 L117.501 140.752 L117.501 136.817 Z\" fill=\"#000000\" fill-rule=\"nonzero\" fill-opacity=\"1\" /><path clip-path=\"url(#clip090)\" d=\"M146.853 134.873 L151.737 134.873 L151.737 140.752 L146.853 140.752 L146.853 134.873 Z\" fill=\"#000000\" fill-rule=\"nonzero\" fill-opacity=\"1\" /><path clip-path=\"url(#clip090)\" d=\"M171.922 109.271 Q168.311 109.271 166.482 112.836 Q164.677 116.377 164.677 123.507 Q164.677 130.613 166.482 134.178 Q168.311 137.72 171.922 137.72 Q175.556 137.72 177.362 134.178 Q179.19 130.613 179.19 123.507 Q179.19 116.377 177.362 112.836 Q175.556 109.271 171.922 109.271 M171.922 105.567 Q177.732 105.567 180.788 110.174 Q183.866 114.757 183.866 123.507 Q183.866 132.234 180.788 136.84 Q177.732 141.423 171.922 141.423 Q166.112 141.423 163.033 136.84 Q159.978 132.234 159.978 123.507 Q159.978 114.757 163.033 110.174 Q166.112 105.567 171.922 105.567 Z\" fill=\"#000000\" fill-rule=\"nonzero\" fill-opacity=\"1\" /><path clip-path=\"url(#clip090)\" d=\"M47.4691 855.458 Q52.1712 855.458 56.7122 857.841 Q61.2532 860.192 64.0551 863.896 Q66.8248 867.599 66.8248 871.367 Q66.8248 873.622 65.601 875.135 Q64.345 876.617 62.5737 877.422 Q64.7637 878.034 70.0132 879.354 Q75.2628 880.675 75.7781 880.675 Q76.0679 880.675 76.1967 880.61 Q76.3256 880.546 76.4866 880.256 Q76.6798 879.966 76.7442 879.258 Q76.8409 878.549 76.8409 877.358 Q76.8409 876.746 76.8409 876.52 Q76.8731 876.263 77.0341 876.037 Q77.1951 875.78 77.5494 875.78 Q78.8698 875.78 78.8698 876.971 Q78.8698 878.034 78.7732 880.224 Q78.6766 882.414 78.6766 883.509 Q78.6766 884.443 78.7732 886.311 Q78.8698 888.179 78.8698 889.048 Q78.8698 889.918 78.0969 889.918 Q77.646 889.918 77.3561 889.789 Q77.0985 889.692 76.9697 889.435 Q76.8731 889.177 76.8409 888.952 Q76.8409 888.758 76.8409 888.372 Q76.8409 886.891 76.5832 886.246 Q76.3578 885.602 75.8747 885.377 Q75.4238 885.119 74.1356 884.829 L44.7638 877.422 Q42.7993 876.971 41.4144 876.971 Q39.6753 876.971 39.0312 877.519 Q38.3871 878.066 38.3871 879.032 Q38.3871 880.707 40.3838 881.802 Q42.3806 882.897 46.2453 883.831 Q47.3081 884.121 47.5335 884.314 Q47.759 884.475 47.759 884.958 Q47.7268 885.763 47.0826 885.763 Q46.9216 885.763 45.891 885.506 Q44.8282 885.248 43.2823 884.765 Q41.7043 884.25 40.7059 883.702 Q40.0296 883.38 39.5787 883.09 Q39.1278 882.8 38.4193 882.221 Q37.7107 881.609 37.3243 880.739 Q36.9378 879.87 36.9378 878.807 Q36.9378 876.746 38.1616 875.039 Q39.3854 873.332 41.8653 872.881 Q39.7075 871.045 38.3226 868.791 Q36.9378 866.536 36.9378 864.25 Q36.9378 860.45 39.9007 857.97 Q42.8315 855.458 47.4691 855.458 M44.5706 860.224 Q41.6398 860.224 40.0296 861.351 Q38.3871 862.446 38.3871 864.443 Q38.3871 866.923 40.8991 869.789 Q43.2823 872.623 45.5045 873.203 L58.4191 876.456 L59.4819 876.649 Q59.6751 876.649 60.2548 876.552 Q60.8023 876.424 61.7041 876.069 Q62.6059 875.683 63.411 875.168 Q64.1839 874.62 64.7637 873.654 Q65.3434 872.656 65.3434 871.432 Q65.3434 869.467 63.6042 867.342 Q61.8651 865.184 58.5801 863.574 Q56.4545 862.575 51.8813 861.416 Q47.2759 860.224 44.5706 860.224 Z\" fill=\"#000000\" fill-rule=\"nonzero\" fill-opacity=\"1\" /><path clip-path=\"url(#clip090)\" d=\"M49.5947 848.086 Q38.4515 848.086 29.466 843.932 Q25.6979 842.161 22.5418 839.681 Q19.3856 837.201 18.0007 835.558 Q16.6159 833.916 16.6159 833.465 Q16.6159 832.821 17.26 832.789 Q17.5821 832.789 18.3872 833.658 Q29.2084 844.286 49.5947 844.254 Q70.0454 844.254 80.4479 833.916 Q81.5751 832.789 81.9294 832.789 Q82.5735 832.789 82.5735 833.465 Q82.5735 833.916 81.2531 835.494 Q79.9326 837.072 76.9053 839.52 Q73.8779 841.967 70.1742 843.739 Q61.1888 848.086 49.5947 848.086 Z\" fill=\"#000000\" fill-rule=\"nonzero\" fill-opacity=\"1\" /><path clip-path=\"url(#clip090)\" d=\"M42.606 802.172 Q44.4096 802.172 45.3757 803.074 Q46.3097 803.975 46.3097 805.199 Q46.3097 806.198 45.73 806.745 Q45.1503 807.26 44.3773 807.26 Q43.2501 807.26 42.3484 806.359 Q41.4466 805.425 41.4144 804.072 Q40.2228 804.523 39.5143 805.714 Q38.7735 806.906 38.5803 807.969 Q38.3871 808.999 38.3871 810.03 Q38.3871 812.059 39.0312 813.605 Q39.6753 815.151 40.6737 815.924 Q41.6398 816.697 42.5738 817.051 Q43.5078 817.405 44.3129 817.405 Q45.0215 817.405 45.6012 817.244 Q46.1487 817.051 46.5673 816.6 Q46.9538 816.149 47.2115 815.827 Q47.4691 815.473 47.6945 814.7 Q47.92 813.927 48.0166 813.605 Q48.081 813.283 48.2743 812.381 Q48.6607 810.513 48.8862 809.676 Q49.0794 808.838 49.6269 807.743 Q50.1744 806.616 51.044 805.779 Q53.0729 803.75 55.8748 803.75 Q56.9054 803.75 58.1615 804.104 Q59.4175 804.426 60.9956 805.36 Q62.5737 806.294 63.8297 807.711 Q65.0857 809.128 65.9553 811.576 Q66.8248 813.991 66.8248 817.019 Q66.8248 821.238 65.0535 823.846 Q63.25 826.455 60.4159 826.455 Q58.3547 826.455 57.2275 825.328 Q56.0681 824.201 56.0681 822.751 Q56.0681 821.656 56.68 820.98 Q57.2597 820.304 58.3547 820.304 Q59.8362 820.304 60.9634 821.495 Q62.0906 822.687 61.8651 824.458 Q65.3434 822.945 65.3434 816.954 Q65.3434 814.7 64.7637 812.961 Q64.1517 811.189 63.3144 810.223 Q62.4448 809.225 61.382 808.581 Q60.3192 807.937 59.5141 807.743 Q58.709 807.518 58.097 807.518 Q57.0342 807.518 56.2291 807.937 Q55.424 808.355 54.9731 808.935 Q54.49 809.483 54.1035 810.545 Q53.6848 811.576 53.5238 812.317 Q53.3628 813.057 53.1051 814.378 Q52.9763 814.99 52.9119 815.376 Q52.8153 815.763 52.5576 816.568 Q52.2678 817.341 51.9779 817.888 Q51.6881 818.404 51.1728 819.08 Q50.6575 819.756 50.0456 820.175 Q49.4337 820.594 48.5319 820.883 Q47.6301 821.173 46.5673 821.173 Q45.6012 821.173 44.4418 820.883 Q43.2823 820.561 41.9297 819.756 Q40.5771 818.919 39.4821 817.727 Q38.3871 816.536 37.6785 814.539 Q36.9378 812.51 36.9378 810.03 Q36.9378 806.423 38.6125 804.297 Q40.255 802.172 42.606 802.172 Z\" fill=\"#000000\" fill-rule=\"nonzero\" fill-opacity=\"1\" /><path clip-path=\"url(#clip090)\" d=\"M48.081 767.852 Q51.5915 767.852 55.0697 769.398 Q58.5157 770.944 61.0922 773.424 Q63.6364 775.871 65.2467 779.092 Q66.8248 782.312 66.8248 785.533 Q66.8248 790.138 63.7009 793.134 Q60.5447 796.096 55.6494 796.096 Q51.0762 796.096 46.7284 793.552 Q42.3484 790.976 39.6431 786.853 Q36.9378 782.731 36.9378 778.415 Q36.9378 773.874 39.9973 770.879 Q43.0569 767.852 48.081 767.852 M45.5045 772.683 Q42.3806 772.683 40.3838 774.196 Q38.3871 775.71 38.3871 778.48 Q38.3871 779.285 38.6447 780.219 Q38.8701 781.153 39.4821 782.377 Q40.094 783.568 41.3822 784.921 Q42.6382 786.241 44.4418 787.401 Q46.825 788.915 51.205 790.074 Q55.5528 791.201 58.1615 791.201 Q61.7685 791.201 63.572 789.526 Q65.3434 787.852 65.3434 785.469 Q65.3434 783.15 63.7331 780.702 Q62.0906 778.222 59.2887 776.515 Q56.3901 774.808 52.139 773.746 Q47.8556 772.683 45.5045 772.683 Z\" fill=\"#000000\" fill-rule=\"nonzero\" fill-opacity=\"1\" /><path clip-path=\"url(#clip090)\" d=\"M21.0281 750.315 L59.1598 759.816 Q60.6735 760.202 62.316 760.202 Q65.3434 760.202 65.3434 758.206 Q65.3434 757.272 64.7314 756.499 Q64.0873 755.726 62.8313 755.146 Q61.5431 754.534 60.3192 754.148 Q59.0954 753.729 57.1953 753.214 Q56.4545 753.053 56.2291 752.892 Q56.0037 752.731 56.0037 752.28 Q56.0037 751.475 56.6478 751.475 Q60.6091 752.28 63.1212 753.471 Q66.8248 755.21 66.8248 758.431 Q66.8248 760.846 65.1501 762.65 Q63.4432 764.421 60.7379 764.421 Q59.7073 764.421 58.4835 764.099 L25.5047 755.79 L24.2165 755.565 Q23.8622 755.565 23.669 755.693 Q23.4757 755.822 23.2825 756.595 Q23.0893 757.336 23.0893 758.817 Q23.0893 759.429 23.0571 759.719 Q23.0249 759.977 22.8638 760.235 Q22.7028 760.46 22.3485 760.46 Q21.7688 760.46 21.4468 760.235 Q21.1247 759.977 21.0603 759.784 Q20.9959 759.59 20.9637 759.204 Q20.9315 758.656 20.7704 756.821 Q20.5772 754.985 20.4484 753.407 Q20.3196 751.829 20.3196 751.152 Q20.3196 750.766 20.5128 750.573 Q20.6738 750.347 20.8671 750.315 L21.0281 750.315 Z\" fill=\"#000000\" fill-rule=\"nonzero\" fill-opacity=\"1\" /><path clip-path=\"url(#clip090)\" d=\"M58.4513 719.083 Q58.7412 718.825 59.031 718.825 Q59.3209 718.825 60.1582 719.469 Q60.9956 720.081 62.1228 721.402 Q63.25 722.722 64.3128 724.429 Q65.3756 726.136 66.0841 728.648 Q66.8248 731.16 66.8248 733.801 Q66.8248 738.535 63.4432 741.369 Q60.0616 744.171 54.8765 744.171 Q51.5593 744.171 48.6285 743.076 Q45.6656 741.981 43.5722 740.21 Q41.4788 738.406 39.9651 736.152 Q38.4193 733.865 37.6785 731.482 Q36.9378 729.099 36.9378 726.877 Q36.9378 723.624 38.5803 721.724 Q40.2228 719.824 42.5416 719.824 Q43.0891 719.824 43.7654 719.985 Q44.4418 720.113 45.5045 720.564 Q46.5673 720.983 47.6301 722.078 Q48.6607 723.173 49.337 724.783 Q50.8507 728.358 50.8507 734.864 L50.8507 738.374 Q55.0053 739.405 57.7106 739.405 Q58.7734 739.405 59.8684 739.211 Q60.9312 739.018 62.2838 738.503 Q63.6364 737.955 64.506 736.732 Q65.3434 735.476 65.3434 733.672 Q65.3434 733.092 65.3112 732.48 Q65.2789 731.836 64.9247 730.226 Q64.5704 728.584 63.9585 727.134 Q63.3466 725.685 62.0262 723.849 Q60.6735 721.981 58.8378 720.5 Q58.1615 719.985 58.1615 719.63 Q58.1615 719.34 58.4513 719.083 M42.5416 722.014 Q40.7703 722.014 39.5787 723.334 Q38.3871 724.622 38.3871 726.877 Q38.3871 727.585 38.5481 728.455 Q38.7091 729.324 39.3854 730.774 Q40.0618 732.191 41.189 733.447 Q42.284 734.703 44.4418 735.959 Q46.5673 737.215 49.4015 737.955 L49.4015 735.25 Q49.4015 734.316 49.4015 733.64 Q49.3693 732.964 49.2404 731.482 Q49.1116 729.968 48.8862 728.873 Q48.6285 727.778 48.1132 726.394 Q47.5979 725.009 46.9216 724.139 Q46.2131 723.237 45.0859 722.625 Q43.9587 722.014 42.5416 722.014 Z\" fill=\"#000000\" fill-rule=\"nonzero\" fill-opacity=\"1\" /><path clip-path=\"url(#clip090)\" d=\"M42.606 689.457 Q44.4096 689.457 45.3757 690.359 Q46.3097 691.26 46.3097 692.484 Q46.3097 693.483 45.73 694.03 Q45.1503 694.545 44.3773 694.545 Q43.2501 694.545 42.3484 693.644 Q41.4466 692.71 41.4144 691.357 Q40.2228 691.808 39.5143 692.999 Q38.7735 694.191 38.5803 695.254 Q38.3871 696.284 38.3871 697.315 Q38.3871 699.344 39.0312 700.89 Q39.6753 702.436 40.6737 703.209 Q41.6398 703.982 42.5738 704.336 Q43.5078 704.69 44.3129 704.69 Q45.0215 704.69 45.6012 704.529 Q46.1487 704.336 46.5673 703.885 Q46.9538 703.434 47.2115 703.112 Q47.4691 702.758 47.6945 701.985 Q47.92 701.212 48.0166 700.89 Q48.081 700.568 48.2743 699.666 Q48.6607 697.798 48.8862 696.961 Q49.0794 696.123 49.6269 695.028 Q50.1744 693.901 51.044 693.064 Q53.0729 691.035 55.8748 691.035 Q56.9054 691.035 58.1615 691.389 Q59.4175 691.711 60.9956 692.645 Q62.5737 693.579 63.8297 694.996 Q65.0857 696.413 65.9553 698.861 Q66.8248 701.276 66.8248 704.304 Q66.8248 708.523 65.0535 711.131 Q63.25 713.74 60.4159 713.74 Q58.3547 713.74 57.2275 712.613 Q56.0681 711.486 56.0681 710.036 Q56.0681 708.941 56.68 708.265 Q57.2597 707.589 58.3547 707.589 Q59.8362 707.589 60.9634 708.78 Q62.0906 709.972 61.8651 711.743 Q65.3434 710.23 65.3434 704.239 Q65.3434 701.985 64.7637 700.246 Q64.1517 698.474 63.3144 697.508 Q62.4448 696.51 61.382 695.866 Q60.3192 695.222 59.5141 695.028 Q58.709 694.803 58.097 694.803 Q57.0342 694.803 56.2291 695.222 Q55.424 695.64 54.9731 696.22 Q54.49 696.768 54.1035 697.83 Q53.6848 698.861 53.5238 699.602 Q53.3628 700.342 53.1051 701.663 Q52.9763 702.275 52.9119 702.661 Q52.8153 703.048 52.5576 703.853 Q52.2678 704.626 51.9779 705.173 Q51.6881 705.689 51.1728 706.365 Q50.6575 707.041 50.0456 707.46 Q49.4337 707.879 48.5319 708.168 Q47.6301 708.458 46.5673 708.458 Q45.6012 708.458 44.4418 708.168 Q43.2823 707.846 41.9297 707.041 Q40.5771 706.204 39.4821 705.012 Q38.3871 703.821 37.6785 701.824 Q36.9378 699.795 36.9378 697.315 Q36.9378 693.708 38.6125 691.582 Q40.255 689.457 42.606 689.457 Z\" fill=\"#000000\" fill-rule=\"nonzero\" fill-opacity=\"1\" /><path clip-path=\"url(#clip090)\" d=\"M81.9294 682.061 Q81.6073 682.061 80.8022 681.224 Q69.981 670.596 49.5947 670.596 Q29.144 670.596 18.8059 680.805 Q17.6143 682.061 17.26 682.061 Q16.6159 682.061 16.6159 681.417 Q16.6159 680.966 17.9363 679.388 Q19.2568 677.778 22.2841 675.363 Q25.3115 672.915 29.0151 671.111 Q38.0006 666.764 49.5947 666.764 Q60.7379 666.764 69.7234 670.918 Q73.4914 672.69 76.6476 675.169 Q79.8038 677.649 81.1886 679.292 Q82.5735 680.934 82.5735 681.417 Q82.5735 682.061 81.9294 682.061 Z\" fill=\"#000000\" fill-rule=\"nonzero\" fill-opacity=\"1\" /><path clip-path=\"url(#clip090)\" d=\"M1138.13 42.3307 Q1138.13 48.3151 1135.09 54.0946 Q1132.1 59.8741 1127.39 63.4401 Q1122.67 66.9652 1117.88 66.9652 Q1115.01 66.9652 1113.08 65.4076 Q1111.2 63.809 1110.17 61.5546 Q1109.39 64.3419 1107.71 71.0232 Q1106.03 77.7044 1106.03 78.3602 Q1106.03 78.7291 1106.11 78.8931 Q1106.2 79.0571 1106.56 79.262 Q1106.93 79.5079 1107.84 79.5899 Q1108.74 79.7129 1110.25 79.7129 Q1111.03 79.7129 1111.32 79.7129 Q1111.65 79.7539 1111.93 79.9588 Q1112.26 80.1638 1112.26 80.6147 Q1112.26 82.2952 1110.75 82.2952 Q1109.39 82.2952 1106.61 82.1722 Q1103.82 82.0493 1102.42 82.0493 Q1101.24 82.0493 1098.86 82.1722 Q1096.48 82.2952 1095.37 82.2952 Q1094.27 82.2952 1094.27 81.3115 Q1094.27 80.7376 1094.43 80.3687 Q1094.55 80.0408 1094.88 79.8768 Q1095.21 79.7539 1095.5 79.7129 Q1095.74 79.7129 1096.24 79.7129 Q1098.12 79.7129 1098.94 79.385 Q1099.76 79.098 1100.05 78.4832 Q1100.38 77.9094 1100.74 76.2698 L1110.17 38.8876 Q1110.75 36.3872 1110.75 34.6247 Q1110.75 32.4113 1110.05 31.5915 Q1109.35 30.7717 1108.12 30.7717 Q1105.99 30.7717 1104.6 33.313 Q1103.2 35.8544 1102.01 40.7731 Q1101.65 42.1257 1101.4 42.4126 Q1101.19 42.6996 1100.58 42.6996 Q1099.56 42.6586 1099.56 41.8388 Q1099.56 41.6338 1099.88 40.3222 Q1100.21 38.9695 1100.83 37.0021 Q1101.48 34.9936 1102.18 33.7229 Q1102.59 32.8621 1102.96 32.2883 Q1103.33 31.7144 1104.06 30.8127 Q1104.84 29.9109 1105.95 29.419 Q1107.06 28.9272 1108.41 28.9272 Q1111.03 28.9272 1113.2 30.4848 Q1115.38 32.0424 1115.95 35.1985 Q1118.29 32.4523 1121.16 30.6897 Q1124.03 28.9272 1126.94 28.9272 Q1131.77 28.9272 1134.93 32.6982 Q1138.13 36.4282 1138.13 42.3307 M1132.06 38.6416 Q1132.06 34.9116 1130.63 32.8621 Q1129.23 30.7717 1126.69 30.7717 Q1123.53 30.7717 1119.89 33.9689 Q1116.28 37.0021 1115.54 39.8303 L1111.4 56.267 L1111.16 57.6197 Q1111.16 57.8656 1111.28 58.6034 Q1111.44 59.3002 1111.89 60.4479 Q1112.38 61.5956 1113.04 62.6204 Q1113.74 63.6041 1114.97 64.3419 Q1116.24 65.0797 1117.8 65.0797 Q1120.3 65.0797 1123 62.8663 Q1125.75 60.6529 1127.8 56.472 Q1129.07 53.7667 1130.54 47.9462 Q1132.06 42.0847 1132.06 38.6416 Z\" fill=\"#000000\" fill-rule=\"nonzero\" fill-opacity=\"1\" /><path clip-path=\"url(#clip090)\" d=\"M1168.3 76.6435 Q1168.3 78.2502 1167.5 79.111 Q1166.69 79.9431 1165.6 79.9431 Q1164.71 79.9431 1164.22 79.4266 Q1163.77 78.9102 1163.77 78.2215 Q1163.77 77.2173 1164.57 76.4139 Q1165.4 75.6105 1166.61 75.5818 Q1166.2 74.5202 1165.14 73.889 Q1164.08 73.229 1163.13 73.0569 Q1162.22 72.8847 1161.3 72.8847 Q1159.49 72.8847 1158.11 73.4586 Q1156.74 74.0324 1156.05 74.9219 Q1155.36 75.7827 1155.04 76.6148 Q1154.73 77.4468 1154.73 78.1642 Q1154.73 78.7954 1154.87 79.3119 Q1155.04 79.7996 1155.45 80.1726 Q1155.85 80.5169 1156.13 80.7465 Q1156.45 80.976 1157.14 81.1769 Q1157.83 81.3777 1158.11 81.4638 Q1158.4 81.5212 1159.2 81.6933 Q1160.87 82.0376 1161.61 82.2385 Q1162.36 82.4106 1163.34 82.8984 Q1164.34 83.3862 1165.09 84.1609 Q1166.89 85.9685 1166.89 88.4648 Q1166.89 89.3829 1166.58 90.5019 Q1166.29 91.6209 1165.46 93.0269 Q1164.63 94.4328 1163.36 95.5518 Q1162.1 96.6708 1159.92 97.4455 Q1157.77 98.2202 1155.07 98.2202 Q1151.31 98.2202 1148.99 96.6421 Q1146.67 95.0353 1146.67 92.5104 Q1146.67 90.6741 1147.67 89.6698 Q1148.67 88.6369 1149.96 88.6369 Q1150.94 88.6369 1151.54 89.1821 Q1152.15 89.6985 1152.15 90.6741 Q1152.15 91.9939 1151.08 92.9982 Q1150.02 94.0024 1148.44 93.8016 Q1149.79 96.9004 1155.13 96.9004 Q1157.14 96.9004 1158.69 96.3839 Q1160.27 95.8387 1161.13 95.0927 Q1162.02 94.318 1162.59 93.3712 Q1163.16 92.4243 1163.34 91.707 Q1163.54 90.9897 1163.54 90.4445 Q1163.54 89.4977 1163.16 88.7804 Q1162.79 88.0631 1162.27 87.6614 Q1161.79 87.231 1160.84 86.8867 Q1159.92 86.5137 1159.26 86.3702 Q1158.6 86.2267 1157.42 85.9972 Q1156.88 85.8824 1156.54 85.8251 Q1156.19 85.739 1155.47 85.5094 Q1154.79 85.2512 1154.3 84.993 Q1153.84 84.7347 1153.24 84.2757 Q1152.63 83.8166 1152.26 83.2714 Q1151.89 82.7263 1151.63 81.9229 Q1151.37 81.1195 1151.37 80.1726 Q1151.37 79.3119 1151.63 78.2789 Q1151.92 77.246 1152.63 76.0409 Q1153.38 74.8358 1154.44 73.8603 Q1155.5 72.8847 1157.28 72.2535 Q1159.09 71.5936 1161.3 71.5936 Q1164.51 71.5936 1166.41 73.0856 Q1168.3 74.5489 1168.3 76.6435 Z\" fill=\"#000000\" fill-rule=\"nonzero\" fill-opacity=\"1\" /><path clip-path=\"url(#clip090)\" d=\"M1200.34 53.2748 Q1200.42 52.2501 1202.02 52.2501 L1253.46 52.2501 Q1255.88 52.2501 1255.92 53.1928 Q1255.92 54.2176 1253.63 54.1766 L1202.6 54.1766 Q1200.34 54.2176 1200.34 53.2748 M1200.34 36.8791 Q1200.34 35.8544 1202.1 35.8953 L1253.38 35.8953 Q1255.88 35.8953 1255.92 36.8791 Q1255.92 37.8218 1253.79 37.8218 L1202.02 37.8218 Q1200.34 37.8218 1200.34 36.8791 Z\" fill=\"#000000\" fill-rule=\"nonzero\" fill-opacity=\"1\" /><path clip-path=\"url(#clip090)\" d=\"M1288.3 39.1745 Q1288.3 26.8367 1291.42 20.1145 Q1295.76 10.1131 1306.01 10.1131 Q1308.18 10.1131 1310.44 10.7279 Q1312.73 11.3018 1315.6 13.5562 Q1318.51 15.8106 1320.27 19.4996 Q1323.63 26.6318 1323.63 39.1745 Q1323.63 51.4303 1320.52 58.1115 Q1315.97 67.867 1305.93 67.867 Q1302.16 67.867 1298.3 65.9405 Q1294.49 64.014 1292.07 59.3822 Q1288.3 52.455 1288.3 39.1745 M1295.27 38.1498 Q1295.27 50.8154 1296.17 55.8571 Q1297.2 61.3087 1299.98 63.6861 Q1302.81 66.0225 1305.93 66.0225 Q1309.29 66.0225 1312.08 63.5221 Q1314.9 60.9808 1315.76 55.5292 Q1316.71 50.1596 1316.67 38.1498 Q1316.67 26.4678 1315.85 21.795 Q1314.74 16.3435 1311.79 14.171 Q1308.88 11.9576 1305.93 11.9576 Q1304.82 11.9576 1303.63 12.2855 Q1302.48 12.6134 1300.8 13.5562 Q1299.12 14.4989 1297.81 16.8353 Q1296.54 19.1717 1295.93 22.6968 Q1295.27 27.2466 1295.27 38.1498 Z\" fill=\"#000000\" fill-rule=\"nonzero\" fill-opacity=\"1\" /><path clip-path=\"url(#clip090)\" d=\"M1331.14 64.6698 Q1329.87 63.3172 1329.87 61.5546 Q1329.87 59.7921 1331.14 58.5214 Q1332.41 57.2098 1334.34 57.2098 Q1336.18 57.2098 1337.41 58.4395 Q1338.69 59.6281 1338.69 61.5956 Q1338.69 63.5221 1337.33 64.7928 Q1336.02 66.0225 1334.34 66.0225 Q1332.41 66.0225 1331.14 64.6698 Z\" fill=\"#000000\" fill-rule=\"nonzero\" fill-opacity=\"1\" /><path clip-path=\"url(#clip090)\" d=\"M1352.97 29.0092 Q1352.97 24.5413 1354.28 21.5081 Q1355.59 18.4339 1358.34 15.4007 Q1363.38 10.1131 1370.68 10.1131 Q1373.79 10.1131 1376.54 11.4248 Q1379.33 12.7364 1381.95 15.7286 Q1384.62 18.6799 1386.21 24.5413 Q1387.81 30.3618 1387.81 38.3957 Q1387.81 51.3893 1381.5 59.6281 Q1375.23 67.867 1366.74 67.867 Q1361.37 67.867 1358.22 65.4486 Q1355.06 62.9893 1355.06 58.8084 Q1355.06 56.6359 1356.29 55.7342 Q1357.52 54.7914 1358.92 54.7914 Q1360.43 54.7914 1361.62 55.8161 Q1362.81 56.7999 1362.81 58.6444 Q1362.81 60.161 1361.83 61.3497 Q1360.88 62.4974 1358.42 62.4974 Q1360.84 65.5306 1366.66 65.5306 Q1368.75 65.5306 1370.84 64.5878 Q1372.93 63.6041 1375.19 61.2677 Q1377.48 58.8903 1378.88 53.9306 Q1380.27 48.9709 1380.27 42.0028 L1380.27 39.3384 Q1376.91 47.7413 1369.78 47.7413 Q1362.73 47.7413 1357.85 42.3307 Q1352.97 36.9201 1352.97 29.0092 M1360.51 29.0911 Q1360.51 37.412 1362.03 40.4861 Q1364.61 45.7738 1369.86 45.7738 Q1374.98 45.7738 1377.52 41.224 Q1380.11 36.6332 1380.11 30.6897 Q1380.11 22.4509 1378.75 18.8438 Q1376.25 12.2035 1370.68 12.2035 Q1365.15 12.2035 1362.28 17.4912 Q1360.51 20.6063 1360.51 29.0911 Z\" fill=\"#000000\" fill-rule=\"nonzero\" fill-opacity=\"1\" /><path clip-path=\"url(#clip090)\" d=\"M1394.88 29.0092 Q1394.88 24.5413 1396.19 21.5081 Q1397.5 18.4339 1400.25 15.4007 Q1405.29 10.1131 1412.59 10.1131 Q1415.7 10.1131 1418.45 11.4248 Q1421.23 12.7364 1423.86 15.7286 Q1426.52 18.6799 1428.12 24.5413 Q1429.72 30.3618 1429.72 38.3957 Q1429.72 51.3893 1423.41 59.6281 Q1417.14 67.867 1408.65 67.867 Q1403.28 67.867 1400.12 65.4486 Q1396.97 62.9893 1396.97 58.8084 Q1396.97 56.6359 1398.2 55.7342 Q1399.43 54.7914 1400.82 54.7914 Q1402.34 54.7914 1403.53 55.8161 Q1404.72 56.7999 1404.72 58.6444 Q1404.72 60.161 1403.73 61.3497 Q1402.79 62.4974 1400.33 62.4974 Q1402.75 65.5306 1408.57 65.5306 Q1410.66 65.5306 1412.75 64.5878 Q1414.84 63.6041 1417.09 61.2677 Q1419.39 58.8903 1420.78 53.9306 Q1422.18 48.9709 1422.18 42.0028 L1422.18 39.3384 Q1418.82 47.7413 1411.68 47.7413 Q1404.63 47.7413 1399.76 42.3307 Q1394.88 36.9201 1394.88 29.0092 M1402.42 29.0911 Q1402.42 37.412 1403.94 40.4861 Q1406.52 45.7738 1411.77 45.7738 Q1416.89 45.7738 1419.43 41.224 Q1422.01 36.6332 1422.01 30.6897 Q1422.01 22.4509 1420.66 18.8438 Q1418.16 12.2035 1412.59 12.2035 Q1407.05 12.2035 1404.18 17.4912 Q1402.42 20.6063 1402.42 29.0911 Z\" fill=\"#000000\" fill-rule=\"nonzero\" fill-opacity=\"1\" /><path clip-path=\"url(#clip090)\" d=\"M1436.78 52.496 Q1436.78 49.9957 1438.14 49.0529 Q1439.49 48.0692 1440.92 48.0692 Q1442.85 48.0692 1443.96 49.2988 Q1445.11 50.4875 1445.11 52.1681 Q1445.11 53.8487 1443.96 55.0783 Q1442.85 56.267 1440.92 56.267 Q1439.98 56.267 1439.49 56.1031 Q1440.6 59.9561 1443.96 62.7433 Q1447.36 65.5306 1451.83 65.5306 Q1457.44 65.5306 1460.8 60.079 Q1462.81 56.5539 1462.81 48.561 Q1462.81 41.5109 1461.3 37.9858 Q1458.96 32.6162 1454.16 32.6162 Q1447.36 32.6162 1443.34 38.4777 Q1442.85 39.2155 1442.28 39.2565 Q1441.46 39.2565 1441.25 38.8056 Q1441.09 38.3137 1441.09 37.043 L1441.09 12.2035 Q1441.09 10.1951 1441.91 10.1951 Q1442.24 10.1951 1442.93 10.441 Q1448.22 12.7774 1454.08 12.8184 Q1460.11 12.8184 1465.52 10.359 Q1465.93 10.1131 1466.17 10.1131 Q1466.99 10.1131 1467.03 11.0558 Q1467.03 11.3838 1466.34 12.3675 Q1465.68 13.3103 1464.25 14.5809 Q1462.81 15.8106 1460.97 16.9993 Q1459.12 18.188 1456.42 19.0078 Q1453.75 19.7866 1450.8 19.7866 Q1447.28 19.7866 1443.67 18.6799 L1443.67 35.0346 Q1448.02 30.7717 1454.33 30.7717 Q1461.05 30.7717 1465.68 36.1823 Q1470.31 41.5929 1470.31 49.1349 Q1470.31 57.0458 1464.82 62.4564 Q1459.37 67.867 1451.99 67.867 Q1445.27 67.867 1441.01 63.0712 Q1436.78 58.2755 1436.78 52.496 Z\" fill=\"#000000\" fill-rule=\"nonzero\" fill-opacity=\"1\" /><polyline clip-path=\"url(#clip092)\" style=\"stroke:#009af9; stroke-linecap:round; stroke-linejoin:round; stroke-width:4; stroke-opacity:1; fill:none\" points=\"219.866,1423.18 433.155,1423.18 646.444,1423.18 859.733,1423.18 1073.02,1423.18 1286.31,1423.18 1499.6,1423.18 1712.89,1423.16 1926.18,1421.78 2139.47,1361.06 2352.76,187.015 \"/>\n",
       "</svg>\n"
      ]
     },
     "metadata": {},
     "output_type": "display_data"
    }
   ],
   "source": [
    "using Plots, LaTeXStrings\n",
    "for p in 0.005:0.005:0.995\n",
    "    p100_bernoulli(m) = p_bernoulli(big(m),big(10),p)\n",
    "    plot(0:10, p100_bernoulli.(0:10), key = false, xlabel = L\"soles\", ylabel = L\"p(soles)\")\n",
    "    plot!(show = :ijulia, title = L\"p_s = %$p\", xlim = (0, 10), ylim = (0,1))\n",
    "end"
   ]
  },
  {
   "cell_type": "markdown",
   "id": "2088ac6a",
   "metadata": {
    "slideshow": {
     "slide_type": "notes"
    }
   },
   "source": [
    "Como ven, ya se ve claramente la campana (de Gauss) de la que hablan los de sociales, al menos para los valores intermedios de $p_s$. Para valores muy chicos o muy grandes, se ve otro tipo de curva (que llamamos distribución de Poisson). Todo eso lo veremos a detalle pronto. También intentaremos utilizar esta fórmula para estudiar el caminante aleatorio en 1D y algunas otras cosillas. \n",
    "\n",
    "Ahora sí, regresemos al problema de la moneda trucada. Tengo una moneda y no sé si es trucada o no. Ayer estuve platicando con un amigo y me mostró su moneda trucada, que saca soles con probabilidad $0.4$, pero en algún momento creo que mezclé y terminé quedándome con la moneda trucada. ¿Cómo lo averigüo?"
   ]
  },
  {
   "cell_type": "markdown",
   "id": "abf31a29",
   "metadata": {
    "slideshow": {
     "slide_type": "fragment"
    }
   },
   "source": [
    "### Teorema de Bayes\n",
    "\n",
    "$$P(A_j|B) = \\frac{P(A_j)P(B|A_j)}{\\sum_i P(A_i)P(B|A_i)}$$"
   ]
  },
  {
   "cell_type": "markdown",
   "id": "d834a261",
   "metadata": {
    "slideshow": {
     "slide_type": "fragment"
    }
   },
   "source": [
    "Usando el teorema de Bayes podemos calcular la probabilidad de que sea trucada ($p$) dado que salieron $m$ soles: \n",
    "\n",
    "$P(p|m) = \\frac{P(p)P(m|p)}{P(p)P(m|p) + P(1/2)P(m|1/2)}$"
   ]
  },
  {
   "cell_type": "markdown",
   "id": "fe518e70",
   "metadata": {
    "slideshow": {
     "slide_type": "notes"
    }
   },
   "source": [
    "$p$ es el evento donde la moneda que se tira es la trucada con probabilidad $p$ de salir sol. Necesitamos la probabilidad de que la moneda esté trucada $P(p)$, que es la que nos inventamos (como ya mencionamos antes). El resto en realidad lo podemos calcular usando los tiros de Bernoulli. "
   ]
  },
  {
   "cell_type": "code",
   "execution_count": 1,
   "id": "f32364fd",
   "metadata": {
    "slideshow": {
     "slide_type": "fragment"
    }
   },
   "outputs": [
    {
     "data": {
      "text/plain": [
       "probabilidad_moneda_trucada (generic function with 1 method)"
      ]
     },
     "execution_count": 1,
     "metadata": {},
     "output_type": "execute_result"
    }
   ],
   "source": [
    "p_volados(m,n,p) = binomial(big(n),big(m))*p^m * (1-p)^(n-m)\n",
    "    \n",
    "\n",
    "function probabilidad_moneda_trucada(p, pp, m, n)\n",
    "    pp*p_volados(m,n,p)/(pp*p_volados(m,n,p)+(1-pp)*p_volados(m,n,1/2))\n",
    "end"
   ]
  },
  {
   "cell_type": "code",
   "execution_count": 2,
   "id": "7d8e9a17",
   "metadata": {
    "slideshow": {
     "slide_type": "fragment"
    }
   },
   "outputs": [
    {
     "data": {
      "text/plain": [
       "0.250822655999999987668807932550397010273013805257159513116196746498529328989191"
      ]
     },
     "execution_count": 2,
     "metadata": {},
     "output_type": "execute_result"
    }
   ],
   "source": [
    "p_volados(4,10,0.4)"
   ]
  },
  {
   "cell_type": "markdown",
   "id": "841cbabe",
   "metadata": {
    "slideshow": {
     "slide_type": "notes"
    }
   },
   "source": [
    "Este último cálculo es sólo porque en clase me atoré hace 2 clases, obteniendo ese resultado, pero creyendo yo que debía salir 0.55. XD. Lo siento!"
   ]
  },
  {
   "cell_type": "code",
   "execution_count": 3,
   "id": "10ef9d21",
   "metadata": {
    "slideshow": {
     "slide_type": "fragment"
    }
   },
   "outputs": [
    {
     "data": {
      "text/plain": [
       "0.8822125573508058638857993821213686982246626346635547849743816498792538831530736"
      ]
     },
     "execution_count": 3,
     "metadata": {},
     "output_type": "execute_result"
    }
   ],
   "source": [
    "pp = 0.5\n",
    "p = 0.4\n",
    "pp = probabilidad_moneda_trucada(p,pp, 40, 100)"
   ]
  },
  {
   "cell_type": "markdown",
   "id": "4d9a1dfa",
   "metadata": {
    "slideshow": {
     "slide_type": "notes"
    }
   },
   "source": [
    "Ahora bien, podría hacer lo mismo, pero pensando que mi moneda no tiene sólo esas dos posibilidades, sino 100 diferentes y evaluar para cada una. Es decir, pensar que mi moneda podría estar trucada dando una probabilidad entre 0 y 1, separando cada 0.01 mi probabilidad. Inicialmente no sé cual es la probabilidad, así que asumo que todas las probabilidades son iguales. \n",
    "\n",
    "Obtengo entonces la probabilidad de que mi moneda tenga probabilidad $p$ de arrojar un sol. \n",
    "\n",
    "Dicho esto, pasemos a ver cómo se ve cada una de las probabilidades.  "
   ]
  },
  {
   "cell_type": "code",
   "execution_count": 4,
   "id": "eafe226f",
   "metadata": {
    "slideshow": {
     "slide_type": "fragment"
    }
   },
   "outputs": [
    {
     "data": {
      "image/png": "[encoded data removed]",
      "image/svg+xml": [
       "<?xml version=\"1.0\" encoding=\"utf-8\"?>\n",
       "<svg xmlns=\"http://www.w3.org/2000/svg\" xmlns:xlink=\"http://www.w3.org/1999/xlink\" width=\"600\" height=\"400\" viewBox=\"0 0 2400 1600\">\n",
       "<defs>\n",
       "  <clipPath id=\"clip970\">\n",
       "    <rect x=\"0\" y=\"0\" width=\"2400\" height=\"1600\"/>\n",
       "  </clipPath>\n",
       "</defs>\n",
       "<path clip-path=\"url(#clip970)\" d=\"M0 1600 L2400 1600 L2400 0 L0 0  Z\" fill=\"#ffffff\" fill-rule=\"evenodd\" fill-opacity=\"1\"/>\n",
       "<defs>\n",
       "  <clipPath id=\"clip971\">\n",
       "    <rect x=\"480\" y=\"0\" width=\"1681\" height=\"1600\"/>\n",
       "  </clipPath>\n",
       "</defs>\n",
       "<path clip-path=\"url(#clip970)\" d=\"M250.028 1423.18 L2352.76 1423.18 L2352.76 123.472 L250.028 123.472  Z\" fill=\"#ffffff\" fill-rule=\"evenodd\" fill-opacity=\"1\"/>\n",
       "<defs>\n",
       "  <clipPath id=\"clip972\">\n",
       "    <rect x=\"250\" y=\"123\" width=\"2104\" height=\"1301\"/>\n",
       "  </clipPath>\n",
       "</defs>\n",
       "<polyline clip-path=\"url(#clip972)\" style=\"stroke:#000000; stroke-linecap:round; stroke-linejoin:round; stroke-width:2; stroke-opacity:0.1; fill:none\" points=\"250.028,1423.18 250.028,123.472 \"/>\n",
       "<polyline clip-path=\"url(#clip972)\" style=\"stroke:#000000; stroke-linecap:round; stroke-linejoin:round; stroke-width:2; stroke-opacity:0.1; fill:none\" points=\"670.574,1423.18 670.574,123.472 \"/>\n",
       "<polyline clip-path=\"url(#clip972)\" style=\"stroke:#000000; stroke-linecap:round; stroke-linejoin:round; stroke-width:2; stroke-opacity:0.1; fill:none\" points=\"1091.12,1423.18 1091.12,123.472 \"/>\n",
       "<polyline clip-path=\"url(#clip972)\" style=\"stroke:#000000; stroke-linecap:round; stroke-linejoin:round; stroke-width:2; stroke-opacity:0.1; fill:none\" points=\"1511.66,1423.18 1511.66,123.472 \"/>\n",
       "<polyline clip-path=\"url(#clip972)\" style=\"stroke:#000000; stroke-linecap:round; stroke-linejoin:round; stroke-width:2; stroke-opacity:0.1; fill:none\" points=\"1932.21,1423.18 1932.21,123.472 \"/>\n",
       "<polyline clip-path=\"url(#clip972)\" style=\"stroke:#000000; stroke-linecap:round; stroke-linejoin:round; stroke-width:2; stroke-opacity:0.1; fill:none\" points=\"2352.76,1423.18 2352.76,123.472 \"/>\n",
       "<polyline clip-path=\"url(#clip970)\" style=\"stroke:#000000; stroke-linecap:round; stroke-linejoin:round; stroke-width:4; stroke-opacity:1; fill:none\" points=\"250.028,1423.18 2352.76,1423.18 \"/>\n",
       "<polyline clip-path=\"url(#clip970)\" style=\"stroke:#000000; stroke-linecap:round; stroke-linejoin:round; stroke-width:4; stroke-opacity:1; fill:none\" points=\"250.028,1423.18 250.028,1404.28 \"/>\n",
       "<polyline clip-path=\"url(#clip970)\" style=\"stroke:#000000; stroke-linecap:round; stroke-linejoin:round; stroke-width:4; stroke-opacity:1; fill:none\" points=\"670.574,1423.18 670.574,1404.28 \"/>\n",
       "<polyline clip-path=\"url(#clip970)\" style=\"stroke:#000000; stroke-linecap:round; stroke-linejoin:round; stroke-width:4; stroke-opacity:1; fill:none\" points=\"1091.12,1423.18 1091.12,1404.28 \"/>\n",
       "<polyline clip-path=\"url(#clip970)\" style=\"stroke:#000000; stroke-linecap:round; stroke-linejoin:round; stroke-width:4; stroke-opacity:1; fill:none\" points=\"1511.66,1423.18 1511.66,1404.28 \"/>\n",
       "<polyline clip-path=\"url(#clip970)\" style=\"stroke:#000000; stroke-linecap:round; stroke-linejoin:round; stroke-width:4; stroke-opacity:1; fill:none\" points=\"1932.21,1423.18 1932.21,1404.28 \"/>\n",
       "<polyline clip-path=\"url(#clip970)\" style=\"stroke:#000000; stroke-linecap:round; stroke-linejoin:round; stroke-width:4; stroke-opacity:1; fill:none\" points=\"2352.76,1423.18 2352.76,1404.28 \"/>\n",
       "<path clip-path=\"url(#clip970)\" d=\"M227.413 1454.1 Q223.801 1454.1 221.973 1457.66 Q220.167 1461.2 220.167 1468.33 Q220.167 1475.44 221.973 1479.01 Q223.801 1482.55 227.413 1482.55 Q231.047 1482.55 232.852 1479.01 Q234.681 1475.44 234.681 1468.33 Q234.681 1461.2 232.852 1457.66 Q231.047 1454.1 227.413 1454.1 M227.413 1450.39 Q233.223 1450.39 236.278 1455 Q239.357 1459.58 239.357 1468.33 Q239.357 1477.06 236.278 1481.67 Q233.223 1486.25 227.413 1486.25 Q221.602 1486.25 218.524 1481.67 Q215.468 1477.06 215.468 1468.33 Q215.468 1459.58 218.524 1455 Q221.602 1450.39 227.413 1450.39 Z\" fill=\"#000000\" fill-rule=\"nonzero\" fill-opacity=\"1\" /><path clip-path=\"url(#clip970)\" d=\"M247.574 1479.7 L252.459 1479.7 L252.459 1485.58 L247.574 1485.58 L247.574 1479.7 Z\" fill=\"#000000\" fill-rule=\"nonzero\" fill-opacity=\"1\" /><path clip-path=\"url(#clip970)\" d=\"M272.644 1454.1 Q269.033 1454.1 267.204 1457.66 Q265.398 1461.2 265.398 1468.33 Q265.398 1475.44 267.204 1479.01 Q269.033 1482.55 272.644 1482.55 Q276.278 1482.55 278.084 1479.01 Q279.912 1475.44 279.912 1468.33 Q279.912 1461.2 278.084 1457.66 Q276.278 1454.1 272.644 1454.1 M272.644 1450.39 Q278.454 1450.39 281.509 1455 Q284.588 1459.58 284.588 1468.33 Q284.588 1477.06 281.509 1481.67 Q278.454 1486.25 272.644 1486.25 Q266.834 1486.25 263.755 1481.67 Q260.699 1477.06 260.699 1468.33 Q260.699 1459.58 263.755 1455 Q266.834 1450.39 272.644 1450.39 Z\" fill=\"#000000\" fill-rule=\"nonzero\" fill-opacity=\"1\" /><path clip-path=\"url(#clip970)\" d=\"M648.757 1454.1 Q645.146 1454.1 643.317 1457.66 Q641.511 1461.2 641.511 1468.33 Q641.511 1475.44 643.317 1479.01 Q645.146 1482.55 648.757 1482.55 Q652.391 1482.55 654.196 1479.01 Q656.025 1475.44 656.025 1468.33 Q656.025 1461.2 654.196 1457.66 Q652.391 1454.1 648.757 1454.1 M648.757 1450.39 Q654.567 1450.39 657.622 1455 Q660.701 1459.58 660.701 1468.33 Q660.701 1477.06 657.622 1481.67 Q654.567 1486.25 648.757 1486.25 Q642.947 1486.25 639.868 1481.67 Q636.812 1477.06 636.812 1468.33 Q636.812 1459.58 639.868 1455 Q642.947 1450.39 648.757 1450.39 Z\" fill=\"#000000\" fill-rule=\"nonzero\" fill-opacity=\"1\" /><path clip-path=\"url(#clip970)\" d=\"M668.919 1479.7 L673.803 1479.7 L673.803 1485.58 L668.919 1485.58 L668.919 1479.7 Z\" fill=\"#000000\" fill-rule=\"nonzero\" fill-opacity=\"1\" /><path clip-path=\"url(#clip970)\" d=\"M688.016 1481.64 L704.335 1481.64 L704.335 1485.58 L682.391 1485.58 L682.391 1481.64 Q685.053 1478.89 689.636 1474.26 Q694.243 1469.61 695.423 1468.27 Q697.668 1465.74 698.548 1464.01 Q699.451 1462.25 699.451 1460.56 Q699.451 1457.8 697.506 1456.07 Q695.585 1454.33 692.483 1454.33 Q690.284 1454.33 687.831 1455.09 Q685.4 1455.86 682.622 1457.41 L682.622 1452.69 Q685.446 1451.55 687.9 1450.97 Q690.354 1450.39 692.391 1450.39 Q697.761 1450.39 700.955 1453.08 Q704.15 1455.77 704.15 1460.26 Q704.15 1462.39 703.34 1464.31 Q702.553 1466.2 700.446 1468.8 Q699.868 1469.47 696.766 1472.69 Q693.664 1475.88 688.016 1481.64 Z\" fill=\"#000000\" fill-rule=\"nonzero\" fill-opacity=\"1\" /><path clip-path=\"url(#clip970)\" d=\"M1068.26 1454.1 Q1064.65 1454.1 1062.82 1457.66 Q1061.02 1461.2 1061.02 1468.33 Q1061.02 1475.44 1062.82 1479.01 Q1064.65 1482.55 1068.26 1482.55 Q1071.89 1482.55 1073.7 1479.01 Q1075.53 1475.44 1075.53 1468.33 Q1075.53 1461.2 1073.7 1457.66 Q1071.89 1454.1 1068.26 1454.1 M1068.26 1450.39 Q1074.07 1450.39 1077.13 1455 Q1080.2 1459.58 1080.2 1468.33 Q1080.2 1477.06 1077.13 1481.67 Q1074.07 1486.25 1068.26 1486.25 Q1062.45 1486.25 1059.37 1481.67 Q1056.32 1477.06 1056.32 1468.33 Q1056.32 1459.58 1059.37 1455 Q1062.45 1450.39 1068.26 1450.39 Z\" fill=\"#000000\" fill-rule=\"nonzero\" fill-opacity=\"1\" /><path clip-path=\"url(#clip970)\" d=\"M1088.42 1479.7 L1093.31 1479.7 L1093.31 1485.58 L1088.42 1485.58 L1088.42 1479.7 Z\" fill=\"#000000\" fill-rule=\"nonzero\" fill-opacity=\"1\" /><path clip-path=\"url(#clip970)\" d=\"M1116.34 1455.09 L1104.53 1473.54 L1116.34 1473.54 L1116.34 1455.09 M1115.11 1451.02 L1120.99 1451.02 L1120.99 1473.54 L1125.92 1473.54 L1125.92 1477.43 L1120.99 1477.43 L1120.99 1485.58 L1116.34 1485.58 L1116.34 1477.43 L1100.74 1477.43 L1100.74 1472.92 L1115.11 1451.02 Z\" fill=\"#000000\" fill-rule=\"nonzero\" fill-opacity=\"1\" /><path clip-path=\"url(#clip970)\" d=\"M1488.97 1454.1 Q1485.36 1454.1 1483.53 1457.66 Q1481.72 1461.2 1481.72 1468.33 Q1481.72 1475.44 1483.53 1479.01 Q1485.36 1482.55 1488.97 1482.55 Q1492.6 1482.55 1494.41 1479.01 Q1496.24 1475.44 1496.24 1468.33 Q1496.24 1461.2 1494.41 1457.66 Q1492.6 1454.1 1488.97 1454.1 M1488.97 1450.39 Q1494.78 1450.39 1497.83 1455 Q1500.91 1459.58 1500.91 1468.33 Q1500.91 1477.06 1497.83 1481.67 Q1494.78 1486.25 1488.97 1486.25 Q1483.16 1486.25 1480.08 1481.67 Q1477.02 1477.06 1477.02 1468.33 Q1477.02 1459.58 1480.08 1455 Q1483.16 1450.39 1488.97 1450.39 Z\" fill=\"#000000\" fill-rule=\"nonzero\" fill-opacity=\"1\" /><path clip-path=\"url(#clip970)\" d=\"M1509.13 1479.7 L1514.01 1479.7 L1514.01 1485.58 L1509.13 1485.58 L1509.13 1479.7 Z\" fill=\"#000000\" fill-rule=\"nonzero\" fill-opacity=\"1\" /><path clip-path=\"url(#clip970)\" d=\"M1534.78 1466.44 Q1531.63 1466.44 1529.78 1468.59 Q1527.95 1470.74 1527.95 1474.49 Q1527.95 1478.22 1529.78 1480.39 Q1531.63 1482.55 1534.78 1482.55 Q1537.93 1482.55 1539.75 1480.39 Q1541.61 1478.22 1541.61 1474.49 Q1541.61 1470.74 1539.75 1468.59 Q1537.93 1466.44 1534.78 1466.44 M1544.06 1451.78 L1544.06 1456.04 Q1542.3 1455.21 1540.5 1454.77 Q1538.71 1454.33 1536.95 1454.33 Q1532.32 1454.33 1529.87 1457.45 Q1527.44 1460.58 1527.09 1466.9 Q1528.46 1464.89 1530.52 1463.82 Q1532.58 1462.73 1535.06 1462.73 Q1540.26 1462.73 1543.27 1465.9 Q1546.31 1469.05 1546.31 1474.49 Q1546.31 1479.82 1543.16 1483.03 Q1540.01 1486.25 1534.78 1486.25 Q1528.78 1486.25 1525.61 1481.67 Q1522.44 1477.06 1522.44 1468.33 Q1522.44 1460.14 1526.33 1455.28 Q1530.22 1450.39 1536.77 1450.39 Q1538.53 1450.39 1540.31 1450.74 Q1542.12 1451.09 1544.06 1451.78 Z\" fill=\"#000000\" fill-rule=\"nonzero\" fill-opacity=\"1\" /><path clip-path=\"url(#clip970)\" d=\"M1909.64 1454.1 Q1906.03 1454.1 1904.2 1457.66 Q1902.4 1461.2 1902.4 1468.33 Q1902.4 1475.44 1904.2 1479.01 Q1906.03 1482.55 1909.64 1482.55 Q1913.28 1482.55 1915.08 1479.01 Q1916.91 1475.44 1916.91 1468.33 Q1916.91 1461.2 1915.08 1457.66 Q1913.28 1454.1 1909.64 1454.1 M1909.64 1450.39 Q1915.45 1450.39 1918.51 1455 Q1921.59 1459.58 1921.59 1468.33 Q1921.59 1477.06 1918.51 1481.67 Q1915.45 1486.25 1909.64 1486.25 Q1903.83 1486.25 1900.75 1481.67 Q1897.7 1477.06 1897.7 1468.33 Q1897.7 1459.58 1900.75 1455 Q1903.83 1450.39 1909.64 1450.39 Z\" fill=\"#000000\" fill-rule=\"nonzero\" fill-opacity=\"1\" /><path clip-path=\"url(#clip970)\" d=\"M1929.8 1479.7 L1934.69 1479.7 L1934.69 1485.58 L1929.8 1485.58 L1929.8 1479.7 Z\" fill=\"#000000\" fill-rule=\"nonzero\" fill-opacity=\"1\" /><path clip-path=\"url(#clip970)\" d=\"M1954.87 1469.17 Q1951.54 1469.17 1949.62 1470.95 Q1947.72 1472.73 1947.72 1475.86 Q1947.72 1478.98 1949.62 1480.77 Q1951.54 1482.55 1954.87 1482.55 Q1958.21 1482.55 1960.13 1480.77 Q1962.05 1478.96 1962.05 1475.86 Q1962.05 1472.73 1960.13 1470.95 Q1958.23 1469.17 1954.87 1469.17 M1950.2 1467.18 Q1947.19 1466.44 1945.5 1464.38 Q1943.83 1462.32 1943.83 1459.35 Q1943.83 1455.21 1946.77 1452.8 Q1949.73 1450.39 1954.87 1450.39 Q1960.03 1450.39 1962.97 1452.8 Q1965.91 1455.21 1965.91 1459.35 Q1965.91 1462.32 1964.22 1464.38 Q1962.56 1466.44 1959.57 1467.18 Q1962.95 1467.96 1964.83 1470.26 Q1966.72 1472.55 1966.72 1475.86 Q1966.72 1480.88 1963.65 1483.57 Q1960.59 1486.25 1954.87 1486.25 Q1949.15 1486.25 1946.08 1483.57 Q1943.02 1480.88 1943.02 1475.86 Q1943.02 1472.55 1944.92 1470.26 Q1946.82 1467.96 1950.2 1467.18 M1948.48 1459.79 Q1948.48 1462.48 1950.15 1463.98 Q1951.84 1465.49 1954.87 1465.49 Q1957.88 1465.49 1959.57 1463.98 Q1961.28 1462.48 1961.28 1459.79 Q1961.28 1457.11 1959.57 1455.6 Q1957.88 1454.1 1954.87 1454.1 Q1951.84 1454.1 1950.15 1455.6 Q1948.48 1457.11 1948.48 1459.79 Z\" fill=\"#000000\" fill-rule=\"nonzero\" fill-opacity=\"1\" /><path clip-path=\"url(#clip970)\" d=\"M2319.91 1481.64 L2327.55 1481.64 L2327.55 1455.28 L2319.24 1456.95 L2319.24 1452.69 L2327.5 1451.02 L2332.18 1451.02 L2332.18 1481.64 L2339.82 1481.64 L2339.82 1485.58 L2319.91 1485.58 L2319.91 1481.64 Z\" fill=\"#000000\" fill-rule=\"nonzero\" fill-opacity=\"1\" /><path clip-path=\"url(#clip970)\" d=\"M2349.26 1479.7 L2354.14 1479.7 L2354.14 1485.58 L2349.26 1485.58 L2349.26 1479.7 Z\" fill=\"#000000\" fill-rule=\"nonzero\" fill-opacity=\"1\" /><path clip-path=\"url(#clip970)\" d=\"M2374.33 1454.1 Q2370.72 1454.1 2368.89 1457.66 Q2367.08 1461.2 2367.08 1468.33 Q2367.08 1475.44 2368.89 1479.01 Q2370.72 1482.55 2374.33 1482.55 Q2377.96 1482.55 2379.77 1479.01 Q2381.6 1475.44 2381.6 1468.33 Q2381.6 1461.2 2379.77 1457.66 Q2377.96 1454.1 2374.33 1454.1 M2374.33 1450.39 Q2380.14 1450.39 2383.2 1455 Q2386.27 1459.58 2386.27 1468.33 Q2386.27 1477.06 2383.2 1481.67 Q2380.14 1486.25 2374.33 1486.25 Q2368.52 1486.25 2365.44 1481.67 Q2362.39 1477.06 2362.39 1468.33 Q2362.39 1459.58 2365.44 1455 Q2368.52 1450.39 2374.33 1450.39 Z\" fill=\"#000000\" fill-rule=\"nonzero\" fill-opacity=\"1\" /><path clip-path=\"url(#clip970)\" d=\"M1319.42 1529.03 Q1319.42 1533.73 1317.04 1538.27 Q1314.69 1542.81 1310.99 1545.61 Q1307.28 1548.38 1303.51 1548.38 Q1301.26 1548.38 1299.75 1547.16 Q1298.27 1545.9 1297.46 1544.13 Q1296.85 1546.32 1295.53 1551.57 Q1294.21 1556.82 1294.21 1557.34 Q1294.21 1557.63 1294.27 1557.75 Q1294.34 1557.88 1294.63 1558.04 Q1294.92 1558.24 1295.62 1558.3 Q1296.33 1558.4 1297.52 1558.4 Q1298.14 1558.4 1298.36 1558.4 Q1298.62 1558.43 1298.85 1558.59 Q1299.1 1558.75 1299.1 1559.11 Q1299.1 1560.43 1297.91 1560.43 Q1296.85 1560.43 1294.66 1560.33 Q1292.47 1560.23 1291.37 1560.23 Q1290.44 1560.23 1288.57 1560.33 Q1286.7 1560.43 1285.83 1560.43 Q1284.96 1560.43 1284.96 1559.65 Q1284.96 1559.2 1285.09 1558.91 Q1285.19 1558.66 1285.45 1558.53 Q1285.71 1558.43 1285.93 1558.4 Q1286.12 1558.4 1286.51 1558.4 Q1287.99 1558.4 1288.64 1558.14 Q1289.28 1557.91 1289.51 1557.43 Q1289.76 1556.98 1290.05 1555.69 L1297.46 1526.32 Q1297.91 1524.36 1297.91 1522.97 Q1297.91 1521.23 1297.36 1520.59 Q1296.82 1519.94 1295.85 1519.94 Q1294.18 1519.94 1293.08 1521.94 Q1291.99 1523.94 1291.05 1527.8 Q1290.76 1528.87 1290.57 1529.09 Q1290.41 1529.32 1289.92 1529.32 Q1289.12 1529.28 1289.12 1528.64 Q1289.12 1528.48 1289.38 1527.45 Q1289.63 1526.39 1290.12 1524.84 Q1290.63 1523.26 1291.18 1522.26 Q1291.5 1521.59 1291.79 1521.14 Q1292.08 1520.68 1292.66 1519.98 Q1293.27 1519.27 1294.14 1518.88 Q1295.01 1518.49 1296.08 1518.49 Q1298.14 1518.49 1299.84 1519.72 Q1301.55 1520.94 1302 1523.42 Q1303.84 1521.26 1306.09 1519.88 Q1308.35 1518.49 1310.63 1518.49 Q1314.43 1518.49 1316.91 1521.46 Q1319.42 1524.39 1319.42 1529.03 M1314.66 1526.13 Q1314.66 1523.2 1313.53 1521.59 Q1312.44 1519.94 1310.44 1519.94 Q1307.96 1519.94 1305.09 1522.46 Q1302.26 1524.84 1301.68 1527.06 L1298.43 1539.98 L1298.23 1541.04 Q1298.23 1541.23 1298.33 1541.81 Q1298.46 1542.36 1298.81 1543.26 Q1299.2 1544.16 1299.71 1544.97 Q1300.26 1545.74 1301.23 1546.32 Q1302.23 1546.9 1303.45 1546.9 Q1305.42 1546.9 1307.54 1545.16 Q1309.7 1543.42 1311.31 1540.14 Q1312.31 1538.01 1313.47 1533.44 Q1314.66 1528.83 1314.66 1526.13 Z\" fill=\"#000000\" fill-rule=\"nonzero\" fill-opacity=\"1\" /><polyline clip-path=\"url(#clip972)\" style=\"stroke:#000000; stroke-linecap:round; stroke-linejoin:round; stroke-width:2; stroke-opacity:0.1; fill:none\" points=\"250.028,1423.18 2352.76,1423.18 \"/>\n",
       "<polyline clip-path=\"url(#clip972)\" style=\"stroke:#000000; stroke-linecap:round; stroke-linejoin:round; stroke-width:2; stroke-opacity:0.1; fill:none\" points=\"250.028,1163.24 2352.76,1163.24 \"/>\n",
       "<polyline clip-path=\"url(#clip972)\" style=\"stroke:#000000; stroke-linecap:round; stroke-linejoin:round; stroke-width:2; stroke-opacity:0.1; fill:none\" points=\"250.028,903.297 2352.76,903.297 \"/>\n",
       "<polyline clip-path=\"url(#clip972)\" style=\"stroke:#000000; stroke-linecap:round; stroke-linejoin:round; stroke-width:2; stroke-opacity:0.1; fill:none\" points=\"250.028,643.355 2352.76,643.355 \"/>\n",
       "<polyline clip-path=\"url(#clip972)\" style=\"stroke:#000000; stroke-linecap:round; stroke-linejoin:round; stroke-width:2; stroke-opacity:0.1; fill:none\" points=\"250.028,383.414 2352.76,383.414 \"/>\n",
       "<polyline clip-path=\"url(#clip970)\" style=\"stroke:#000000; stroke-linecap:round; stroke-linejoin:round; stroke-width:4; stroke-opacity:1; fill:none\" points=\"250.028,1423.18 250.028,123.472 \"/>\n",
       "<polyline clip-path=\"url(#clip970)\" style=\"stroke:#000000; stroke-linecap:round; stroke-linejoin:round; stroke-width:4; stroke-opacity:1; fill:none\" points=\"250.028,1423.18 268.926,1423.18 \"/>\n",
       "<polyline clip-path=\"url(#clip970)\" style=\"stroke:#000000; stroke-linecap:round; stroke-linejoin:round; stroke-width:4; stroke-opacity:1; fill:none\" points=\"250.028,1163.24 268.926,1163.24 \"/>\n",
       "<polyline clip-path=\"url(#clip970)\" style=\"stroke:#000000; stroke-linecap:round; stroke-linejoin:round; stroke-width:4; stroke-opacity:1; fill:none\" points=\"250.028,903.297 268.926,903.297 \"/>\n",
       "<polyline clip-path=\"url(#clip970)\" style=\"stroke:#000000; stroke-linecap:round; stroke-linejoin:round; stroke-width:4; stroke-opacity:1; fill:none\" points=\"250.028,643.355 268.926,643.355 \"/>\n",
       "<polyline clip-path=\"url(#clip970)\" style=\"stroke:#000000; stroke-linecap:round; stroke-linejoin:round; stroke-width:4; stroke-opacity:1; fill:none\" points=\"250.028,383.414 268.926,383.414 \"/>\n",
       "<path clip-path=\"url(#clip970)\" d=\"M126.691 1408.98 Q123.08 1408.98 121.251 1412.54 Q119.445 1416.08 119.445 1423.21 Q119.445 1430.32 121.251 1433.89 Q123.08 1437.43 126.691 1437.43 Q130.325 1437.43 132.13 1433.89 Q133.959 1430.32 133.959 1423.21 Q133.959 1416.08 132.13 1412.54 Q130.325 1408.98 126.691 1408.98 M126.691 1405.27 Q132.501 1405.27 135.556 1409.88 Q138.635 1414.46 138.635 1423.21 Q138.635 1431.94 135.556 1436.55 Q132.501 1441.13 126.691 1441.13 Q120.88 1441.13 117.802 1436.55 Q114.746 1431.94 114.746 1423.21 Q114.746 1414.46 117.802 1409.88 Q120.88 1405.27 126.691 1405.27 Z\" fill=\"#000000\" fill-rule=\"nonzero\" fill-opacity=\"1\" /><path clip-path=\"url(#clip970)\" d=\"M146.853 1434.58 L151.737 1434.58 L151.737 1440.46 L146.853 1440.46 L146.853 1434.58 Z\" fill=\"#000000\" fill-rule=\"nonzero\" fill-opacity=\"1\" /><path clip-path=\"url(#clip970)\" d=\"M171.922 1408.98 Q168.311 1408.98 166.482 1412.54 Q164.677 1416.08 164.677 1423.21 Q164.677 1430.32 166.482 1433.89 Q168.311 1437.43 171.922 1437.43 Q175.556 1437.43 177.362 1433.89 Q179.19 1430.32 179.19 1423.21 Q179.19 1416.08 177.362 1412.54 Q175.556 1408.98 171.922 1408.98 M171.922 1405.27 Q177.732 1405.27 180.788 1409.88 Q183.866 1414.46 183.866 1423.21 Q183.866 1431.94 180.788 1436.55 Q177.732 1441.13 171.922 1441.13 Q166.112 1441.13 163.033 1436.55 Q159.978 1431.94 159.978 1423.21 Q159.978 1414.46 163.033 1409.88 Q166.112 1405.27 171.922 1405.27 Z\" fill=\"#000000\" fill-rule=\"nonzero\" fill-opacity=\"1\" /><path clip-path=\"url(#clip970)\" d=\"M202.084 1408.98 Q198.473 1408.98 196.644 1412.54 Q194.838 1416.08 194.838 1423.21 Q194.838 1430.32 196.644 1433.89 Q198.473 1437.43 202.084 1437.43 Q205.718 1437.43 207.524 1433.89 Q209.352 1430.32 209.352 1423.21 Q209.352 1416.08 207.524 1412.54 Q205.718 1408.98 202.084 1408.98 M202.084 1405.27 Q207.894 1405.27 210.949 1409.88 Q214.028 1414.46 214.028 1423.21 Q214.028 1431.94 210.949 1436.55 Q207.894 1441.13 202.084 1441.13 Q196.274 1441.13 193.195 1436.55 Q190.139 1431.94 190.139 1423.21 Q190.139 1414.46 193.195 1409.88 Q196.274 1405.27 202.084 1405.27 Z\" fill=\"#000000\" fill-rule=\"nonzero\" fill-opacity=\"1\" /><path clip-path=\"url(#clip970)\" d=\"M127.917 1149.04 Q124.306 1149.04 122.478 1152.6 Q120.672 1156.14 120.672 1163.27 Q120.672 1170.38 122.478 1173.94 Q124.306 1177.49 127.917 1177.49 Q131.552 1177.49 133.357 1173.94 Q135.186 1170.38 135.186 1163.27 Q135.186 1156.14 133.357 1152.6 Q131.552 1149.04 127.917 1149.04 M127.917 1145.33 Q133.728 1145.33 136.783 1149.94 Q139.862 1154.52 139.862 1163.27 Q139.862 1172 136.783 1176.61 Q133.728 1181.19 127.917 1181.19 Q122.107 1181.19 119.029 1176.61 Q115.973 1172 115.973 1163.27 Q115.973 1154.52 119.029 1149.94 Q122.107 1145.33 127.917 1145.33 Z\" fill=\"#000000\" fill-rule=\"nonzero\" fill-opacity=\"1\" /><path clip-path=\"url(#clip970)\" d=\"M148.079 1174.64 L152.964 1174.64 L152.964 1180.52 L148.079 1180.52 L148.079 1174.64 Z\" fill=\"#000000\" fill-rule=\"nonzero\" fill-opacity=\"1\" /><path clip-path=\"url(#clip970)\" d=\"M173.149 1149.04 Q169.538 1149.04 167.709 1152.6 Q165.903 1156.14 165.903 1163.27 Q165.903 1170.38 167.709 1173.94 Q169.538 1177.49 173.149 1177.49 Q176.783 1177.49 178.589 1173.94 Q180.417 1170.38 180.417 1163.27 Q180.417 1156.14 178.589 1152.6 Q176.783 1149.04 173.149 1149.04 M173.149 1145.33 Q178.959 1145.33 182.014 1149.94 Q185.093 1154.52 185.093 1163.27 Q185.093 1172 182.014 1176.61 Q178.959 1181.19 173.149 1181.19 Q167.339 1181.19 164.26 1176.61 Q161.204 1172 161.204 1163.27 Q161.204 1154.52 164.26 1149.94 Q167.339 1145.33 173.149 1145.33 Z\" fill=\"#000000\" fill-rule=\"nonzero\" fill-opacity=\"1\" /><path clip-path=\"url(#clip970)\" d=\"M194.121 1176.58 L201.76 1176.58 L201.76 1150.22 L193.45 1151.88 L193.45 1147.62 L201.713 1145.96 L206.389 1145.96 L206.389 1176.58 L214.028 1176.58 L214.028 1180.52 L194.121 1180.52 L194.121 1176.58 Z\" fill=\"#000000\" fill-rule=\"nonzero\" fill-opacity=\"1\" /><path clip-path=\"url(#clip970)\" d=\"M128.288 889.095 Q124.677 889.095 122.848 892.66 Q121.043 896.202 121.043 903.331 Q121.043 910.438 122.848 914.003 Q124.677 917.544 128.288 917.544 Q131.922 917.544 133.728 914.003 Q135.556 910.438 135.556 903.331 Q135.556 896.202 133.728 892.66 Q131.922 889.095 128.288 889.095 M128.288 885.392 Q134.098 885.392 137.154 889.998 Q140.232 894.582 140.232 903.331 Q140.232 912.058 137.154 916.665 Q134.098 921.248 128.288 921.248 Q122.478 921.248 119.399 916.665 Q116.343 912.058 116.343 903.331 Q116.343 894.582 119.399 889.998 Q122.478 885.392 128.288 885.392 Z\" fill=\"#000000\" fill-rule=\"nonzero\" fill-opacity=\"1\" /><path clip-path=\"url(#clip970)\" d=\"M148.45 914.697 L153.334 914.697 L153.334 920.577 L148.45 920.577 L148.45 914.697 Z\" fill=\"#000000\" fill-rule=\"nonzero\" fill-opacity=\"1\" /><path clip-path=\"url(#clip970)\" d=\"M173.519 889.095 Q169.908 889.095 168.079 892.66 Q166.274 896.202 166.274 903.331 Q166.274 910.438 168.079 914.003 Q169.908 917.544 173.519 917.544 Q177.153 917.544 178.959 914.003 Q180.788 910.438 180.788 903.331 Q180.788 896.202 178.959 892.66 Q177.153 889.095 173.519 889.095 M173.519 885.392 Q179.329 885.392 182.385 889.998 Q185.463 894.582 185.463 903.331 Q185.463 912.058 182.385 916.665 Q179.329 921.248 173.519 921.248 Q167.709 921.248 164.63 916.665 Q161.575 912.058 161.575 903.331 Q161.575 894.582 164.63 889.998 Q167.709 885.392 173.519 885.392 Z\" fill=\"#000000\" fill-rule=\"nonzero\" fill-opacity=\"1\" /><path clip-path=\"url(#clip970)\" d=\"M197.709 916.642 L214.028 916.642 L214.028 920.577 L192.084 920.577 L192.084 916.642 Q194.746 913.887 199.329 909.257 Q203.936 904.605 205.116 903.262 Q207.362 900.739 208.241 899.003 Q209.144 897.244 209.144 895.554 Q209.144 892.799 207.199 891.063 Q205.278 889.327 202.176 889.327 Q199.977 889.327 197.524 890.091 Q195.093 890.855 192.315 892.406 L192.315 887.683 Q195.139 886.549 197.593 885.97 Q200.047 885.392 202.084 885.392 Q207.454 885.392 210.649 888.077 Q213.843 890.762 213.843 895.253 Q213.843 897.382 213.033 899.304 Q212.246 901.202 210.139 903.794 Q209.561 904.466 206.459 907.683 Q203.357 910.878 197.709 916.642 Z\" fill=\"#000000\" fill-rule=\"nonzero\" fill-opacity=\"1\" /><path clip-path=\"url(#clip970)\" d=\"M127.339 629.154 Q123.728 629.154 121.899 632.719 Q120.093 636.26 120.093 643.39 Q120.093 650.496 121.899 654.061 Q123.728 657.603 127.339 657.603 Q130.973 657.603 132.779 654.061 Q134.607 650.496 134.607 643.39 Q134.607 636.26 132.779 632.719 Q130.973 629.154 127.339 629.154 M127.339 625.45 Q133.149 625.45 136.204 630.057 Q139.283 634.64 139.283 643.39 Q139.283 652.117 136.204 656.723 Q133.149 661.307 127.339 661.307 Q121.529 661.307 118.45 656.723 Q115.394 652.117 115.394 643.39 Q115.394 634.64 118.45 630.057 Q121.529 625.45 127.339 625.45 Z\" fill=\"#000000\" fill-rule=\"nonzero\" fill-opacity=\"1\" /><path clip-path=\"url(#clip970)\" d=\"M147.501 654.756 L152.385 654.756 L152.385 660.635 L147.501 660.635 L147.501 654.756 Z\" fill=\"#000000\" fill-rule=\"nonzero\" fill-opacity=\"1\" /><path clip-path=\"url(#clip970)\" d=\"M172.57 629.154 Q168.959 629.154 167.13 632.719 Q165.325 636.26 165.325 643.39 Q165.325 650.496 167.13 654.061 Q168.959 657.603 172.57 657.603 Q176.204 657.603 178.01 654.061 Q179.839 650.496 179.839 643.39 Q179.839 636.26 178.01 632.719 Q176.204 629.154 172.57 629.154 M172.57 625.45 Q178.38 625.45 181.436 630.057 Q184.514 634.64 184.514 643.39 Q184.514 652.117 181.436 656.723 Q178.38 661.307 172.57 661.307 Q166.76 661.307 163.681 656.723 Q160.626 652.117 160.626 643.39 Q160.626 634.64 163.681 630.057 Q166.76 625.45 172.57 625.45 Z\" fill=\"#000000\" fill-rule=\"nonzero\" fill-opacity=\"1\" /><path clip-path=\"url(#clip970)\" d=\"M206.899 642.001 Q210.255 642.719 212.13 644.987 Q214.028 647.256 214.028 650.589 Q214.028 655.705 210.51 658.506 Q206.991 661.307 200.51 661.307 Q198.334 661.307 196.019 660.867 Q193.727 660.45 191.274 659.594 L191.274 655.08 Q193.218 656.214 195.533 656.793 Q197.848 657.371 200.371 657.371 Q204.769 657.371 207.061 655.635 Q209.375 653.899 209.375 650.589 Q209.375 647.533 207.223 645.82 Q205.093 644.084 201.274 644.084 L197.246 644.084 L197.246 640.242 L201.459 640.242 Q204.908 640.242 206.737 638.876 Q208.565 637.487 208.565 634.895 Q208.565 632.233 206.667 630.821 Q204.792 629.385 201.274 629.385 Q199.352 629.385 197.153 629.802 Q194.954 630.219 192.315 631.098 L192.315 626.932 Q194.977 626.191 197.292 625.821 Q199.63 625.45 201.69 625.45 Q207.014 625.45 210.116 627.881 Q213.218 630.288 213.218 634.409 Q213.218 637.279 211.574 639.27 Q209.931 641.237 206.899 642.001 Z\" fill=\"#000000\" fill-rule=\"nonzero\" fill-opacity=\"1\" /><path clip-path=\"url(#clip970)\" d=\"M126.205 369.212 Q122.593 369.212 120.765 372.777 Q118.959 376.319 118.959 383.448 Q118.959 390.555 120.765 394.12 Q122.593 397.661 126.205 397.661 Q129.839 397.661 131.644 394.12 Q133.473 390.555 133.473 383.448 Q133.473 376.319 131.644 372.777 Q129.839 369.212 126.205 369.212 M126.205 365.509 Q132.015 365.509 135.07 370.115 Q138.149 374.698 138.149 383.448 Q138.149 392.175 135.07 396.782 Q132.015 401.365 126.205 401.365 Q120.394 401.365 117.316 396.782 Q114.26 392.175 114.26 383.448 Q114.26 374.698 117.316 370.115 Q120.394 365.509 126.205 365.509 Z\" fill=\"#000000\" fill-rule=\"nonzero\" fill-opacity=\"1\" /><path clip-path=\"url(#clip970)\" d=\"M146.366 394.814 L151.251 394.814 L151.251 400.694 L146.366 400.694 L146.366 394.814 Z\" fill=\"#000000\" fill-rule=\"nonzero\" fill-opacity=\"1\" /><path clip-path=\"url(#clip970)\" d=\"M171.436 369.212 Q167.825 369.212 165.996 372.777 Q164.19 376.319 164.19 383.448 Q164.19 390.555 165.996 394.12 Q167.825 397.661 171.436 397.661 Q175.07 397.661 176.876 394.12 Q178.704 390.555 178.704 383.448 Q178.704 376.319 176.876 372.777 Q175.07 369.212 171.436 369.212 M171.436 365.509 Q177.246 365.509 180.301 370.115 Q183.38 374.698 183.38 383.448 Q183.38 392.175 180.301 396.782 Q177.246 401.365 171.436 401.365 Q165.626 401.365 162.547 396.782 Q159.491 392.175 159.491 383.448 Q159.491 374.698 162.547 370.115 Q165.626 365.509 171.436 365.509 Z\" fill=\"#000000\" fill-rule=\"nonzero\" fill-opacity=\"1\" /><path clip-path=\"url(#clip970)\" d=\"M204.445 370.208 L192.639 388.657 L204.445 388.657 L204.445 370.208 M203.218 366.134 L209.098 366.134 L209.098 388.657 L214.028 388.657 L214.028 392.546 L209.098 392.546 L209.098 400.694 L204.445 400.694 L204.445 392.546 L188.843 392.546 L188.843 388.032 L203.218 366.134 Z\" fill=\"#000000\" fill-rule=\"nonzero\" fill-opacity=\"1\" /><path clip-path=\"url(#clip970)\" d=\"M30.9797 793.837 Q34.5868 793.837 37.904 796.511 Q41.2212 799.151 43.2501 803.467 Q45.2469 807.75 45.2469 812.356 L45.2469 823.563 L61.7363 827.654 Q61.8329 827.686 62.2516 827.782 Q62.6381 827.879 62.8635 827.879 Q63.6687 827.879 63.8619 826.881 Q64.0551 825.85 64.0551 823.563 Q64.0551 822.082 64.3128 821.857 Q64.4738 821.728 64.7637 821.728 Q65.2145 821.728 65.5366 821.857 Q65.8264 821.985 65.9231 822.243 Q66.0197 822.468 66.0519 822.63 Q66.0841 822.791 66.0841 823.048 Q66.0841 823.725 66.0197 825.174 Q65.9553 826.591 65.9553 827.332 L65.8909 831.551 L66.0841 839.924 Q66.0841 840.922 65.2789 840.922 Q64.667 840.922 64.4094 840.665 Q64.1195 840.407 64.0873 840.117 Q64.0551 839.827 64.0551 839.087 Q64.0551 837.476 63.9585 836.51 Q63.8619 835.544 63.7331 834.932 Q63.572 834.288 63.1212 833.966 Q62.6703 833.612 62.2838 833.451 Q61.8651 833.29 60.9312 833.064 L25.5047 824.24 Q24.4419 823.982 24.2809 823.982 Q23.7334 823.982 23.5402 824.304 Q23.3147 824.594 23.2181 825.431 Q23.0893 827.042 23.0893 828.266 Q23.0893 829.071 23.0571 829.393 Q23.0249 829.683 22.8638 829.94 Q22.6706 830.166 22.2841 830.166 Q21.6722 830.166 21.4146 829.908 Q21.1247 829.618 21.0925 829.296 Q21.0281 828.974 21.0281 828.201 L21.0281 806.816 Q21.0281 800.665 23.9588 797.251 Q26.8896 793.837 30.9797 793.837 M29.4016 799.957 Q23.0893 799.957 23.0893 808.942 L23.0893 815.254 Q23.0893 817.348 23.4757 817.863 Q23.83 818.378 25.6013 818.829 L43.54 823.306 L43.54 813.998 Q43.54 807.75 40.0296 803.853 Q38.4193 802.082 35.0699 801.019 Q31.7204 799.957 29.4016 799.957 Z\" fill=\"#000000\" fill-rule=\"nonzero\" fill-opacity=\"1\" /><path clip-path=\"url(#clip970)\" d=\"M49.5947 786.6 Q38.4515 786.6 29.466 782.445 Q25.6979 780.674 22.5418 778.194 Q19.3856 775.714 18.0007 774.072 Q16.6159 772.429 16.6159 771.978 Q16.6159 771.334 17.26 771.302 Q17.5821 771.302 18.3872 772.172 Q29.2084 782.8 49.5947 782.767 Q70.0454 782.767 80.4479 772.429 Q81.5751 771.302 81.9294 771.302 Q82.5735 771.302 82.5735 771.978 Q82.5735 772.429 81.2531 774.007 Q79.9326 775.585 76.9053 778.033 Q73.8779 780.481 70.1742 782.252 Q61.1888 786.6 49.5947 786.6 Z\" fill=\"#000000\" fill-rule=\"nonzero\" fill-opacity=\"1\" /><path clip-path=\"url(#clip970)\" d=\"M47.4691 735.788 Q52.1712 735.788 56.7122 738.171 Q61.2532 740.522 64.0551 744.226 Q66.8248 747.93 66.8248 751.698 Q66.8248 753.952 65.601 755.466 Q64.345 756.947 62.5737 757.753 Q64.7637 758.364 70.0132 759.685 Q75.2628 761.005 75.7781 761.005 Q76.0679 761.005 76.1967 760.941 Q76.3256 760.876 76.4866 760.587 Q76.6798 760.297 76.7442 759.588 Q76.8409 758.88 76.8409 757.688 Q76.8409 757.076 76.8409 756.851 Q76.8731 756.593 77.0341 756.368 Q77.1951 756.11 77.5494 756.11 Q78.8698 756.11 78.8698 757.302 Q78.8698 758.364 78.7732 760.554 Q78.6766 762.744 78.6766 763.839 Q78.6766 764.773 78.7732 766.641 Q78.8698 768.509 78.8698 769.379 Q78.8698 770.248 78.0969 770.248 Q77.646 770.248 77.3561 770.12 Q77.0985 770.023 76.9697 769.765 Q76.8731 769.508 76.8409 769.282 Q76.8409 769.089 76.8409 768.703 Q76.8409 767.221 76.5832 766.577 Q76.3578 765.933 75.8747 765.707 Q75.4238 765.45 74.1356 765.16 L44.7638 757.753 Q42.7993 757.302 41.4144 757.302 Q39.6753 757.302 39.0312 757.849 Q38.3871 758.397 38.3871 759.363 Q38.3871 761.038 40.3838 762.133 Q42.3806 763.228 46.2453 764.161 Q47.3081 764.451 47.5335 764.645 Q47.759 764.806 47.759 765.289 Q47.7268 766.094 47.0826 766.094 Q46.9216 766.094 45.891 765.836 Q44.8282 765.579 43.2823 765.095 Q41.7043 764.58 40.7059 764.033 Q40.0296 763.711 39.5787 763.421 Q39.1278 763.131 38.4193 762.551 Q37.7107 761.939 37.3243 761.07 Q36.9378 760.2 36.9378 759.137 Q36.9378 757.076 38.1616 755.369 Q39.3854 753.662 41.8653 753.211 Q39.7075 751.376 38.3226 749.121 Q36.9378 746.867 36.9378 744.58 Q36.9378 740.78 39.9007 738.3 Q42.8315 735.788 47.4691 735.788 M44.5706 740.555 Q41.6398 740.555 40.0296 741.682 Q38.3871 742.777 38.3871 744.774 Q38.3871 747.253 40.8991 750.12 Q43.2823 752.954 45.5045 753.534 L58.4191 756.786 L59.4819 756.98 Q59.6751 756.98 60.2548 756.883 Q60.8023 756.754 61.7041 756.4 Q62.6059 756.013 63.411 755.498 Q64.1839 754.951 64.7637 753.984 Q65.3434 752.986 65.3434 751.762 Q65.3434 749.798 63.6042 747.672 Q61.8651 745.514 58.5801 743.904 Q56.4545 742.906 51.8813 741.746 Q47.2759 740.555 44.5706 740.555 Z\" fill=\"#000000\" fill-rule=\"nonzero\" fill-opacity=\"1\" /><path clip-path=\"url(#clip970)\" d=\"M81.9294 731.057 Q81.6073 731.057 80.8022 730.22 Q69.981 719.592 49.5947 719.592 Q29.144 719.592 18.8059 729.801 Q17.6143 731.057 17.26 731.057 Q16.6159 731.057 16.6159 730.413 Q16.6159 729.962 17.9363 728.384 Q19.2568 726.774 22.2841 724.358 Q25.3115 721.91 29.0151 720.107 Q38.0006 715.759 49.5947 715.759 Q60.7379 715.759 69.7234 719.914 Q73.4914 721.685 76.6476 724.165 Q79.8038 726.645 81.1886 728.287 Q82.5735 729.93 82.5735 730.413 Q82.5735 731.057 81.9294 731.057 Z\" fill=\"#000000\" fill-rule=\"nonzero\" fill-opacity=\"1\" /><path clip-path=\"url(#clip970)\" d=\"M1087 14.324 L1087 27.2059 L1102.35 27.2059 L1102.35 32.9987 L1087 32.9987 L1087 57.6282 Q1087 63.1779 1088.5 64.7578 Q1090.04 66.3376 1094.69 66.3376 L1102.35 66.3376 L1102.35 72.576 L1094.69 72.576 Q1086.07 72.576 1082.78 69.3758 Q1079.5 66.1351 1079.5 57.6282 L1079.5 32.9987 L1074.04 32.9987 L1074.04 27.2059 L1079.5 27.2059 L1079.5 14.324 L1087 14.324 Z\" fill=\"#000000\" fill-rule=\"nonzero\" fill-opacity=\"1\" /><path clip-path=\"url(#clip970)\" d=\"M1112.15 27.2059 L1119.61 27.2059 L1119.61 72.576 L1112.15 72.576 L1112.15 27.2059 M1112.15 9.54393 L1119.61 9.54393 L1119.61 18.9825 L1112.15 18.9825 L1112.15 9.54393 Z\" fill=\"#000000\" fill-rule=\"nonzero\" fill-opacity=\"1\" /><path clip-path=\"url(#clip970)\" d=\"M1161.49 34.1734 Q1160.24 33.4443 1158.74 33.1202 Q1157.28 32.7556 1155.5 32.7556 Q1149.18 32.7556 1145.78 36.8875 Q1142.41 40.9789 1142.41 48.6757 L1142.41 72.576 L1134.92 72.576 L1134.92 27.2059 L1142.41 27.2059 L1142.41 34.2544 Q1144.76 30.1225 1148.53 28.1376 Q1152.3 26.1121 1157.69 26.1121 Q1158.46 26.1121 1159.39 26.2337 Q1160.32 26.3147 1161.45 26.5172 L1161.49 34.1734 Z\" fill=\"#000000\" fill-rule=\"nonzero\" fill-opacity=\"1\" /><path clip-path=\"url(#clip970)\" d=\"M1185.07 32.4315 Q1179.07 32.4315 1175.59 37.1306 Q1172.11 41.7891 1172.11 49.9314 Q1172.11 58.0738 1175.55 62.7728 Q1179.03 67.4314 1185.07 67.4314 Q1191.03 67.4314 1194.51 62.7323 Q1197.99 58.0333 1197.99 49.9314 Q1197.99 41.8701 1194.51 37.1711 Q1191.03 32.4315 1185.07 32.4315 M1185.07 26.1121 Q1194.79 26.1121 1200.34 32.4315 Q1205.89 38.7509 1205.89 49.9314 Q1205.89 61.0714 1200.34 67.4314 Q1194.79 73.7508 1185.07 73.7508 Q1175.31 73.7508 1169.76 67.4314 Q1164.25 61.0714 1164.25 49.9314 Q1164.25 38.7509 1169.76 32.4315 Q1175.31 26.1121 1185.07 26.1121 Z\" fill=\"#000000\" fill-rule=\"nonzero\" fill-opacity=\"1\" /><path clip-path=\"url(#clip970)\" d=\"M1247.17 28.5427 L1247.17 35.5912 Q1244.01 33.9709 1240.61 33.1607 Q1237.21 32.3505 1233.56 32.3505 Q1228.01 32.3505 1225.21 34.0519 Q1222.46 35.7533 1222.46 39.156 Q1222.46 41.7486 1224.45 43.2475 Q1226.43 44.7058 1232.43 46.0426 L1234.98 46.6097 Q1242.92 48.3111 1246.24 51.4303 Q1249.6 54.509 1249.6 60.0587 Q1249.6 66.3781 1244.58 70.0644 Q1239.6 73.7508 1230.85 73.7508 Q1227.2 73.7508 1223.23 73.0216 Q1219.3 72.3329 1214.93 70.9151 L1214.93 63.2184 Q1219.06 65.3654 1223.07 66.4591 Q1227.08 67.5124 1231.01 67.5124 Q1236.27 67.5124 1239.11 65.73 Q1241.95 63.9071 1241.95 60.6258 Q1241.95 57.5877 1239.88 55.9673 Q1237.85 54.3469 1230.93 52.8481 L1228.33 52.2405 Q1221.41 50.7821 1218.33 47.7845 Q1215.25 44.7463 1215.25 39.4801 Q1215.25 33.0797 1219.79 29.5959 Q1224.32 26.1121 1232.67 26.1121 Q1236.8 26.1121 1240.45 26.7198 Q1244.09 27.3274 1247.17 28.5427 Z\" fill=\"#000000\" fill-rule=\"nonzero\" fill-opacity=\"1\" /><path clip-path=\"url(#clip970)\" d=\"M1288.81 34.9026 L1340.75 34.9026 L1340.75 41.7081 L1288.81 41.7081 L1288.81 34.9026 M1288.81 51.4303 L1340.75 51.4303 L1340.75 58.3168 L1288.81 58.3168 L1288.81 51.4303 Z\" fill=\"#000000\" fill-rule=\"nonzero\" fill-opacity=\"1\" /><path clip-path=\"url(#clip970)\" d=\"M1386.2 65.6895 L1399.57 65.6895 L1399.57 19.5497 L1385.02 22.4663 L1385.02 15.0127 L1399.48 12.096 L1407.67 12.096 L1407.67 65.6895 L1421.04 65.6895 L1421.04 72.576 L1386.2 72.576 L1386.2 65.6895 Z\" fill=\"#000000\" fill-rule=\"nonzero\" fill-opacity=\"1\" /><path clip-path=\"url(#clip970)\" d=\"M1437.64 12.096 L1469.77 12.096 L1469.77 18.9825 L1445.14 18.9825 L1445.14 33.8088 Q1446.92 33.2012 1448.7 32.9176 Q1450.49 32.5936 1452.27 32.5936 Q1462.4 32.5936 1468.31 38.1433 Q1474.22 43.6931 1474.22 53.1722 Q1474.22 62.9348 1468.15 68.3631 Q1462.07 73.7508 1451.01 73.7508 Q1447.2 73.7508 1443.23 73.1026 Q1439.31 72.4545 1435.09 71.1582 L1435.09 62.9348 Q1438.74 64.9198 1442.63 65.892 Q1446.52 66.8642 1450.85 66.8642 Q1457.86 66.8642 1461.95 63.1779 Q1466.04 59.4916 1466.04 53.1722 Q1466.04 46.8528 1461.95 43.1664 Q1457.86 39.4801 1450.85 39.4801 Q1447.57 39.4801 1444.29 40.2093 Q1441.05 40.9384 1437.64 42.4778 L1437.64 12.096 Z\" fill=\"#000000\" fill-rule=\"nonzero\" fill-opacity=\"1\" /><path clip-path=\"url(#clip970)\" d=\"M1507.85 17.4837 Q1501.53 17.4837 1498.33 23.7221 Q1495.17 29.92 1495.17 42.3968 Q1495.17 54.833 1498.33 61.0714 Q1501.53 67.2693 1507.85 67.2693 Q1514.21 67.2693 1517.37 61.0714 Q1520.57 54.833 1520.57 42.3968 Q1520.57 29.92 1517.37 23.7221 Q1514.21 17.4837 1507.85 17.4837 M1507.85 11.0023 Q1518.01 11.0023 1523.36 19.0636 Q1528.75 27.0843 1528.75 42.3968 Q1528.75 57.6687 1523.36 65.73 Q1518.01 73.7508 1507.85 73.7508 Q1497.68 73.7508 1492.29 65.73 Q1486.94 57.6687 1486.94 42.3968 Q1486.94 27.0843 1492.29 19.0636 Q1497.68 11.0023 1507.85 11.0023 Z\" fill=\"#000000\" fill-rule=\"nonzero\" fill-opacity=\"1\" /><polyline clip-path=\"url(#clip972)\" style=\"stroke:#009af9; stroke-linecap:round; stroke-linejoin:round; stroke-width:4; stroke-opacity:1; fill:none\" points=\"260.542,1423.18 271.055,1423.18 281.569,1423.18 292.083,1423.18 302.596,1423.18 313.11,1423.18 323.624,1423.18 334.137,1423.18 344.651,1423.18 355.165,1423.18 365.678,1423.18 376.192,1423.18 386.705,1423.18 397.219,1423.18 407.733,1423.18 418.246,1423.18 428.76,1423.18 439.274,1423.18 449.787,1423.18 460.301,1423.18 470.815,1423.18 481.328,1423.18 491.842,1423.18 502.355,1423.18 512.869,1423.18 523.383,1423.18 533.896,1423.18 544.41,1423.18 554.924,1423.18 565.437,1423.18 575.951,1423.18 586.465,1423.18 596.978,1423.18 607.492,1423.18 618.006,1423.18 628.519,1423.18 639.033,1423.18 649.546,1423.18 660.06,1423.18 670.574,1423.18 681.087,1423.18 691.601,1423.18 702.115,1423.18 712.628,1423.18 723.142,1423.18 733.656,1423.18 744.169,1423.18 754.683,1423.18 765.196,1423.18 775.71,1423.18 786.224,1423.18 796.737,1423.18 807.251,1423.18 817.765,1423.18 828.278,1423.18 838.792,1423.18 849.306,1423.18 859.819,1423.18 870.333,1423.18 880.846,1423.18 891.36,1423.18 901.874,1423.17 912.387,1423.17 922.901,1423.15 933.415,1423.13 943.928,1423.09 954.442,1423.01 964.956,1422.88 975.469,1422.66 985.983,1422.29 996.496,1421.68 1007.01,1420.73 1017.52,1419.23 1028.04,1416.94 1038.55,1413.51 1049.06,1408.46 1059.58,1401.17 1070.09,1390.84 1080.61,1376.48 1091.12,1356.91 1101.63,1330.7 1112.15,1296.26 1122.66,1251.87 1133.17,1195.7 1143.69,1125.97 1154.2,1041.05 1164.71,939.6 1175.23,820.791 1185.74,684.432 1196.26,531.158 1206.77,362.563 1217.28,181.277 1227.8,-9.00277 1238.31,-203.58 1248.82,-396.904 1259.34,-582.797 1269.85,-754.769 1280.36,-906.374 1290.88,-1031.61 1301.39,-1125.28 1311.91,1162.52 1322.42,1160.52 1332.93,1162.42 1343.45,1168.14 1353.96,1177.43 1364.47,1189.91 1374.99,1205.06 1385.5,1222.27 1396.01,1240.91 1406.53,1260.32 1417.04,1279.86 1427.56,1298.99 1438.07,1317.22 1448.58,1334.17 1459.1,1349.58 1469.61,1363.27 1480.12,1375.19 1490.64,1385.36 1501.15,1393.85 1511.66,1400.81 1522.18,1406.4 1532.69,1410.81 1543.21,1414.21 1553.72,1416.79 1564.23,1418.7 1574.75,1420.1 1585.26,1421.1 1595.77,1421.8 1606.29,1422.28 1616.8,1422.61 1627.31,1422.82 1637.83,1422.96 1648.34,1423.05 1658.86,1423.1 1669.37,1423.13 1679.88,1423.15 1690.4,1423.17 1700.91,1423.17 1711.42,1423.18 1721.94,1423.18 1732.45,1423.18 1742.96,1423.18 1753.48,1423.18 1763.99,1423.18 1774.51,1423.18 1785.02,1423.18 1795.53,1423.18 1806.05,1423.18 1816.56,1423.18 1827.07,1423.18 1837.59,1423.18 1848.1,1423.18 1858.61,1423.18 1869.13,1423.18 1879.64,1423.18 1890.16,1423.18 1900.67,1423.18 1911.18,1423.18 1921.7,1423.18 1932.21,1423.18 1942.72,1423.18 1953.24,1423.18 1963.75,1423.18 1974.26,1423.18 1984.78,1423.18 1995.29,1423.18 2005.81,1423.18 2016.32,1423.18 2026.83,1423.18 2037.35,1423.18 2047.86,1423.18 2058.37,1423.18 2068.89,1423.18 2079.4,1423.18 2089.91,1423.18 2100.43,1423.18 2110.94,1423.18 2121.46,1423.18 2131.97,1423.18 2142.48,1423.18 2153,1423.18 2163.51,1423.18 2174.02,1423.18 2184.54,1423.18 2195.05,1423.18 2205.56,1423.18 2216.08,1423.18 2226.59,1423.18 2237.11,1423.18 2247.62,1423.18 2258.13,1423.18 2268.65,1423.18 2279.16,1423.18 2289.67,1423.18 2300.19,1423.18 2310.7,1423.18 2321.21,1423.18 2331.73,1423.18 2342.24,1423.18 2352.76,1423.18 \"/>\n",
       "</svg>\n"
      ],
      "text/html": [
       "<?xml version=\"1.0\" encoding=\"utf-8\"?>\n",
       "<svg xmlns=\"http://www.w3.org/2000/svg\" xmlns:xlink=\"http://www.w3.org/1999/xlink\" width=\"600\" height=\"400\" viewBox=\"0 0 2400 1600\">\n",
       "<defs>\n",
       "  <clipPath id=\"clip020\">\n",
       "    <rect x=\"0\" y=\"0\" width=\"2400\" height=\"1600\"/>\n",
       "  </clipPath>\n",
       "</defs>\n",
       "<path clip-path=\"url(#clip020)\" d=\"M0 1600 L2400 1600 L2400 0 L0 0  Z\" fill=\"#ffffff\" fill-rule=\"evenodd\" fill-opacity=\"1\"/>\n",
       "<defs>\n",
       "  <clipPath id=\"clip021\">\n",
       "    <rect x=\"480\" y=\"0\" width=\"1681\" height=\"1600\"/>\n",
       "  </clipPath>\n",
       "</defs>\n",
       "<path clip-path=\"url(#clip020)\" d=\"M250.028 1423.18 L2352.76 1423.18 L2352.76 123.472 L250.028 123.472  Z\" fill=\"#ffffff\" fill-rule=\"evenodd\" fill-opacity=\"1\"/>\n",
       "<defs>\n",
       "  <clipPath id=\"clip022\">\n",
       "    <rect x=\"250\" y=\"123\" width=\"2104\" height=\"1301\"/>\n",
       "  </clipPath>\n",
       "</defs>\n",
       "<polyline clip-path=\"url(#clip022)\" style=\"stroke:#000000; stroke-linecap:round; stroke-linejoin:round; stroke-width:2; stroke-opacity:0.1; fill:none\" points=\"250.028,1423.18 250.028,123.472 \"/>\n",
       "<polyline clip-path=\"url(#clip022)\" style=\"stroke:#000000; stroke-linecap:round; stroke-linejoin:round; stroke-width:2; stroke-opacity:0.1; fill:none\" points=\"670.574,1423.18 670.574,123.472 \"/>\n",
       "<polyline clip-path=\"url(#clip022)\" style=\"stroke:#000000; stroke-linecap:round; stroke-linejoin:round; stroke-width:2; stroke-opacity:0.1; fill:none\" points=\"1091.12,1423.18 1091.12,123.472 \"/>\n",
       "<polyline clip-path=\"url(#clip022)\" style=\"stroke:#000000; stroke-linecap:round; stroke-linejoin:round; stroke-width:2; stroke-opacity:0.1; fill:none\" points=\"1511.66,1423.18 1511.66,123.472 \"/>\n",
       "<polyline clip-path=\"url(#clip022)\" style=\"stroke:#000000; stroke-linecap:round; stroke-linejoin:round; stroke-width:2; stroke-opacity:0.1; fill:none\" points=\"1932.21,1423.18 1932.21,123.472 \"/>\n",
       "<polyline clip-path=\"url(#clip022)\" style=\"stroke:#000000; stroke-linecap:round; stroke-linejoin:round; stroke-width:2; stroke-opacity:0.1; fill:none\" points=\"2352.76,1423.18 2352.76,123.472 \"/>\n",
       "<polyline clip-path=\"url(#clip020)\" style=\"stroke:#000000; stroke-linecap:round; stroke-linejoin:round; stroke-width:4; stroke-opacity:1; fill:none\" points=\"250.028,1423.18 2352.76,1423.18 \"/>\n",
       "<polyline clip-path=\"url(#clip020)\" style=\"stroke:#000000; stroke-linecap:round; stroke-linejoin:round; stroke-width:4; stroke-opacity:1; fill:none\" points=\"250.028,1423.18 250.028,1404.28 \"/>\n",
       "<polyline clip-path=\"url(#clip020)\" style=\"stroke:#000000; stroke-linecap:round; stroke-linejoin:round; stroke-width:4; stroke-opacity:1; fill:none\" points=\"670.574,1423.18 670.574,1404.28 \"/>\n",
       "<polyline clip-path=\"url(#clip020)\" style=\"stroke:#000000; stroke-linecap:round; stroke-linejoin:round; stroke-width:4; stroke-opacity:1; fill:none\" points=\"1091.12,1423.18 1091.12,1404.28 \"/>\n",
       "<polyline clip-path=\"url(#clip020)\" style=\"stroke:#000000; stroke-linecap:round; stroke-linejoin:round; stroke-width:4; stroke-opacity:1; fill:none\" points=\"1511.66,1423.18 1511.66,1404.28 \"/>\n",
       "<polyline clip-path=\"url(#clip020)\" style=\"stroke:#000000; stroke-linecap:round; stroke-linejoin:round; stroke-width:4; stroke-opacity:1; fill:none\" points=\"1932.21,1423.18 1932.21,1404.28 \"/>\n",
       "<polyline clip-path=\"url(#clip020)\" style=\"stroke:#000000; stroke-linecap:round; stroke-linejoin:round; stroke-width:4; stroke-opacity:1; fill:none\" points=\"2352.76,1423.18 2352.76,1404.28 \"/>\n",
       "<path clip-path=\"url(#clip020)\" d=\"M227.413 1454.1 Q223.801 1454.1 221.973 1457.66 Q220.167 1461.2 220.167 1468.33 Q220.167 1475.44 221.973 1479.01 Q223.801 1482.55 227.413 1482.55 Q231.047 1482.55 232.852 1479.01 Q234.681 1475.44 234.681 1468.33 Q234.681 1461.2 232.852 1457.66 Q231.047 1454.1 227.413 1454.1 M227.413 1450.39 Q233.223 1450.39 236.278 1455 Q239.357 1459.58 239.357 1468.33 Q239.357 1477.06 236.278 1481.67 Q233.223 1486.25 227.413 1486.25 Q221.602 1486.25 218.524 1481.67 Q215.468 1477.06 215.468 1468.33 Q215.468 1459.58 218.524 1455 Q221.602 1450.39 227.413 1450.39 Z\" fill=\"#000000\" fill-rule=\"nonzero\" fill-opacity=\"1\" /><path clip-path=\"url(#clip020)\" d=\"M247.574 1479.7 L252.459 1479.7 L252.459 1485.58 L247.574 1485.58 L247.574 1479.7 Z\" fill=\"#000000\" fill-rule=\"nonzero\" fill-opacity=\"1\" /><path clip-path=\"url(#clip020)\" d=\"M272.644 1454.1 Q269.033 1454.1 267.204 1457.66 Q265.398 1461.2 265.398 1468.33 Q265.398 1475.44 267.204 1479.01 Q269.033 1482.55 272.644 1482.55 Q276.278 1482.55 278.084 1479.01 Q279.912 1475.44 279.912 1468.33 Q279.912 1461.2 278.084 1457.66 Q276.278 1454.1 272.644 1454.1 M272.644 1450.39 Q278.454 1450.39 281.509 1455 Q284.588 1459.58 284.588 1468.33 Q284.588 1477.06 281.509 1481.67 Q278.454 1486.25 272.644 1486.25 Q266.834 1486.25 263.755 1481.67 Q260.699 1477.06 260.699 1468.33 Q260.699 1459.58 263.755 1455 Q266.834 1450.39 272.644 1450.39 Z\" fill=\"#000000\" fill-rule=\"nonzero\" fill-opacity=\"1\" /><path clip-path=\"url(#clip020)\" d=\"M648.757 1454.1 Q645.146 1454.1 643.317 1457.66 Q641.511 1461.2 641.511 1468.33 Q641.511 1475.44 643.317 1479.01 Q645.146 1482.55 648.757 1482.55 Q652.391 1482.55 654.196 1479.01 Q656.025 1475.44 656.025 1468.33 Q656.025 1461.2 654.196 1457.66 Q652.391 1454.1 648.757 1454.1 M648.757 1450.39 Q654.567 1450.39 657.622 1455 Q660.701 1459.58 660.701 1468.33 Q660.701 1477.06 657.622 1481.67 Q654.567 1486.25 648.757 1486.25 Q642.947 1486.25 639.868 1481.67 Q636.812 1477.06 636.812 1468.33 Q636.812 1459.58 639.868 1455 Q642.947 1450.39 648.757 1450.39 Z\" fill=\"#000000\" fill-rule=\"nonzero\" fill-opacity=\"1\" /><path clip-path=\"url(#clip020)\" d=\"M668.919 1479.7 L673.803 1479.7 L673.803 1485.58 L668.919 1485.58 L668.919 1479.7 Z\" fill=\"#000000\" fill-rule=\"nonzero\" fill-opacity=\"1\" /><path clip-path=\"url(#clip020)\" d=\"M688.016 1481.64 L704.335 1481.64 L704.335 1485.58 L682.391 1485.58 L682.391 1481.64 Q685.053 1478.89 689.636 1474.26 Q694.243 1469.61 695.423 1468.27 Q697.668 1465.74 698.548 1464.01 Q699.451 1462.25 699.451 1460.56 Q699.451 1457.8 697.506 1456.07 Q695.585 1454.33 692.483 1454.33 Q690.284 1454.33 687.831 1455.09 Q685.4 1455.86 682.622 1457.41 L682.622 1452.69 Q685.446 1451.55 687.9 1450.97 Q690.354 1450.39 692.391 1450.39 Q697.761 1450.39 700.955 1453.08 Q704.15 1455.77 704.15 1460.26 Q704.15 1462.39 703.34 1464.31 Q702.553 1466.2 700.446 1468.8 Q699.868 1469.47 696.766 1472.69 Q693.664 1475.88 688.016 1481.64 Z\" fill=\"#000000\" fill-rule=\"nonzero\" fill-opacity=\"1\" /><path clip-path=\"url(#clip020)\" d=\"M1068.26 1454.1 Q1064.65 1454.1 1062.82 1457.66 Q1061.02 1461.2 1061.02 1468.33 Q1061.02 1475.44 1062.82 1479.01 Q1064.65 1482.55 1068.26 1482.55 Q1071.89 1482.55 1073.7 1479.01 Q1075.53 1475.44 1075.53 1468.33 Q1075.53 1461.2 1073.7 1457.66 Q1071.89 1454.1 1068.26 1454.1 M1068.26 1450.39 Q1074.07 1450.39 1077.13 1455 Q1080.2 1459.58 1080.2 1468.33 Q1080.2 1477.06 1077.13 1481.67 Q1074.07 1486.25 1068.26 1486.25 Q1062.45 1486.25 1059.37 1481.67 Q1056.32 1477.06 1056.32 1468.33 Q1056.32 1459.58 1059.37 1455 Q1062.45 1450.39 1068.26 1450.39 Z\" fill=\"#000000\" fill-rule=\"nonzero\" fill-opacity=\"1\" /><path clip-path=\"url(#clip020)\" d=\"M1088.42 1479.7 L1093.31 1479.7 L1093.31 1485.58 L1088.42 1485.58 L1088.42 1479.7 Z\" fill=\"#000000\" fill-rule=\"nonzero\" fill-opacity=\"1\" /><path clip-path=\"url(#clip020)\" d=\"M1116.34 1455.09 L1104.53 1473.54 L1116.34 1473.54 L1116.34 1455.09 M1115.11 1451.02 L1120.99 1451.02 L1120.99 1473.54 L1125.92 1473.54 L1125.92 1477.43 L1120.99 1477.43 L1120.99 1485.58 L1116.34 1485.58 L1116.34 1477.43 L1100.74 1477.43 L1100.74 1472.92 L1115.11 1451.02 Z\" fill=\"#000000\" fill-rule=\"nonzero\" fill-opacity=\"1\" /><path clip-path=\"url(#clip020)\" d=\"M1488.97 1454.1 Q1485.36 1454.1 1483.53 1457.66 Q1481.72 1461.2 1481.72 1468.33 Q1481.72 1475.44 1483.53 1479.01 Q1485.36 1482.55 1488.97 1482.55 Q1492.6 1482.55 1494.41 1479.01 Q1496.24 1475.44 1496.24 1468.33 Q1496.24 1461.2 1494.41 1457.66 Q1492.6 1454.1 1488.97 1454.1 M1488.97 1450.39 Q1494.78 1450.39 1497.83 1455 Q1500.91 1459.58 1500.91 1468.33 Q1500.91 1477.06 1497.83 1481.67 Q1494.78 1486.25 1488.97 1486.25 Q1483.16 1486.25 1480.08 1481.67 Q1477.02 1477.06 1477.02 1468.33 Q1477.02 1459.58 1480.08 1455 Q1483.16 1450.39 1488.97 1450.39 Z\" fill=\"#000000\" fill-rule=\"nonzero\" fill-opacity=\"1\" /><path clip-path=\"url(#clip020)\" d=\"M1509.13 1479.7 L1514.01 1479.7 L1514.01 1485.58 L1509.13 1485.58 L1509.13 1479.7 Z\" fill=\"#000000\" fill-rule=\"nonzero\" fill-opacity=\"1\" /><path clip-path=\"url(#clip020)\" d=\"M1534.78 1466.44 Q1531.63 1466.44 1529.78 1468.59 Q1527.95 1470.74 1527.95 1474.49 Q1527.95 1478.22 1529.78 1480.39 Q1531.63 1482.55 1534.78 1482.55 Q1537.93 1482.55 1539.75 1480.39 Q1541.61 1478.22 1541.61 1474.49 Q1541.61 1470.74 1539.75 1468.59 Q1537.93 1466.44 1534.78 1466.44 M1544.06 1451.78 L1544.06 1456.04 Q1542.3 1455.21 1540.5 1454.77 Q1538.71 1454.33 1536.95 1454.33 Q1532.32 1454.33 1529.87 1457.45 Q1527.44 1460.58 1527.09 1466.9 Q1528.46 1464.89 1530.52 1463.82 Q1532.58 1462.73 1535.06 1462.73 Q1540.26 1462.73 1543.27 1465.9 Q1546.31 1469.05 1546.31 1474.49 Q1546.31 1479.82 1543.16 1483.03 Q1540.01 1486.25 1534.78 1486.25 Q1528.78 1486.25 1525.61 1481.67 Q1522.44 1477.06 1522.44 1468.33 Q1522.44 1460.14 1526.33 1455.28 Q1530.22 1450.39 1536.77 1450.39 Q1538.53 1450.39 1540.31 1450.74 Q1542.12 1451.09 1544.06 1451.78 Z\" fill=\"#000000\" fill-rule=\"nonzero\" fill-opacity=\"1\" /><path clip-path=\"url(#clip020)\" d=\"M1909.64 1454.1 Q1906.03 1454.1 1904.2 1457.66 Q1902.4 1461.2 1902.4 1468.33 Q1902.4 1475.44 1904.2 1479.01 Q1906.03 1482.55 1909.64 1482.55 Q1913.28 1482.55 1915.08 1479.01 Q1916.91 1475.44 1916.91 1468.33 Q1916.91 1461.2 1915.08 1457.66 Q1913.28 1454.1 1909.64 1454.1 M1909.64 1450.39 Q1915.45 1450.39 1918.51 1455 Q1921.59 1459.58 1921.59 1468.33 Q1921.59 1477.06 1918.51 1481.67 Q1915.45 1486.25 1909.64 1486.25 Q1903.83 1486.25 1900.75 1481.67 Q1897.7 1477.06 1897.7 1468.33 Q1897.7 1459.58 1900.75 1455 Q1903.83 1450.39 1909.64 1450.39 Z\" fill=\"#000000\" fill-rule=\"nonzero\" fill-opacity=\"1\" /><path clip-path=\"url(#clip020)\" d=\"M1929.8 1479.7 L1934.69 1479.7 L1934.69 1485.58 L1929.8 1485.58 L1929.8 1479.7 Z\" fill=\"#000000\" fill-rule=\"nonzero\" fill-opacity=\"1\" /><path clip-path=\"url(#clip020)\" d=\"M1954.87 1469.17 Q1951.54 1469.17 1949.62 1470.95 Q1947.72 1472.73 1947.72 1475.86 Q1947.72 1478.98 1949.62 1480.77 Q1951.54 1482.55 1954.87 1482.55 Q1958.21 1482.55 1960.13 1480.77 Q1962.05 1478.96 1962.05 1475.86 Q1962.05 1472.73 1960.13 1470.95 Q1958.23 1469.17 1954.87 1469.17 M1950.2 1467.18 Q1947.19 1466.44 1945.5 1464.38 Q1943.83 1462.32 1943.83 1459.35 Q1943.83 1455.21 1946.77 1452.8 Q1949.73 1450.39 1954.87 1450.39 Q1960.03 1450.39 1962.97 1452.8 Q1965.91 1455.21 1965.91 1459.35 Q1965.91 1462.32 1964.22 1464.38 Q1962.56 1466.44 1959.57 1467.18 Q1962.95 1467.96 1964.83 1470.26 Q1966.72 1472.55 1966.72 1475.86 Q1966.72 1480.88 1963.65 1483.57 Q1960.59 1486.25 1954.87 1486.25 Q1949.15 1486.25 1946.08 1483.57 Q1943.02 1480.88 1943.02 1475.86 Q1943.02 1472.55 1944.92 1470.26 Q1946.82 1467.96 1950.2 1467.18 M1948.48 1459.79 Q1948.48 1462.48 1950.15 1463.98 Q1951.84 1465.49 1954.87 1465.49 Q1957.88 1465.49 1959.57 1463.98 Q1961.28 1462.48 1961.28 1459.79 Q1961.28 1457.11 1959.57 1455.6 Q1957.88 1454.1 1954.87 1454.1 Q1951.84 1454.1 1950.15 1455.6 Q1948.48 1457.11 1948.48 1459.79 Z\" fill=\"#000000\" fill-rule=\"nonzero\" fill-opacity=\"1\" /><path clip-path=\"url(#clip020)\" d=\"M2319.91 1481.64 L2327.55 1481.64 L2327.55 1455.28 L2319.24 1456.95 L2319.24 1452.69 L2327.5 1451.02 L2332.18 1451.02 L2332.18 1481.64 L2339.82 1481.64 L2339.82 1485.58 L2319.91 1485.58 L2319.91 1481.64 Z\" fill=\"#000000\" fill-rule=\"nonzero\" fill-opacity=\"1\" /><path clip-path=\"url(#clip020)\" d=\"M2349.26 1479.7 L2354.14 1479.7 L2354.14 1485.58 L2349.26 1485.58 L2349.26 1479.7 Z\" fill=\"#000000\" fill-rule=\"nonzero\" fill-opacity=\"1\" /><path clip-path=\"url(#clip020)\" d=\"M2374.33 1454.1 Q2370.72 1454.1 2368.89 1457.66 Q2367.08 1461.2 2367.08 1468.33 Q2367.08 1475.44 2368.89 1479.01 Q2370.72 1482.55 2374.33 1482.55 Q2377.96 1482.55 2379.77 1479.01 Q2381.6 1475.44 2381.6 1468.33 Q2381.6 1461.2 2379.77 1457.66 Q2377.96 1454.1 2374.33 1454.1 M2374.33 1450.39 Q2380.14 1450.39 2383.2 1455 Q2386.27 1459.58 2386.27 1468.33 Q2386.27 1477.06 2383.2 1481.67 Q2380.14 1486.25 2374.33 1486.25 Q2368.52 1486.25 2365.44 1481.67 Q2362.39 1477.06 2362.39 1468.33 Q2362.39 1459.58 2365.44 1455 Q2368.52 1450.39 2374.33 1450.39 Z\" fill=\"#000000\" fill-rule=\"nonzero\" fill-opacity=\"1\" /><path clip-path=\"url(#clip020)\" d=\"M1319.42 1529.03 Q1319.42 1533.73 1317.04 1538.27 Q1314.69 1542.81 1310.99 1545.61 Q1307.28 1548.38 1303.51 1548.38 Q1301.26 1548.38 1299.75 1547.16 Q1298.27 1545.9 1297.46 1544.13 Q1296.85 1546.32 1295.53 1551.57 Q1294.21 1556.82 1294.21 1557.34 Q1294.21 1557.63 1294.27 1557.75 Q1294.34 1557.88 1294.63 1558.04 Q1294.92 1558.24 1295.62 1558.3 Q1296.33 1558.4 1297.52 1558.4 Q1298.14 1558.4 1298.36 1558.4 Q1298.62 1558.43 1298.85 1558.59 Q1299.1 1558.75 1299.1 1559.11 Q1299.1 1560.43 1297.91 1560.43 Q1296.85 1560.43 1294.66 1560.33 Q1292.47 1560.23 1291.37 1560.23 Q1290.44 1560.23 1288.57 1560.33 Q1286.7 1560.43 1285.83 1560.43 Q1284.96 1560.43 1284.96 1559.65 Q1284.96 1559.2 1285.09 1558.91 Q1285.19 1558.66 1285.45 1558.53 Q1285.71 1558.43 1285.93 1558.4 Q1286.12 1558.4 1286.51 1558.4 Q1287.99 1558.4 1288.64 1558.14 Q1289.28 1557.91 1289.51 1557.43 Q1289.76 1556.98 1290.05 1555.69 L1297.46 1526.32 Q1297.91 1524.36 1297.91 1522.97 Q1297.91 1521.23 1297.36 1520.59 Q1296.82 1519.94 1295.85 1519.94 Q1294.18 1519.94 1293.08 1521.94 Q1291.99 1523.94 1291.05 1527.8 Q1290.76 1528.87 1290.57 1529.09 Q1290.41 1529.32 1289.92 1529.32 Q1289.12 1529.28 1289.12 1528.64 Q1289.12 1528.48 1289.38 1527.45 Q1289.63 1526.39 1290.12 1524.84 Q1290.63 1523.26 1291.18 1522.26 Q1291.5 1521.59 1291.79 1521.14 Q1292.08 1520.68 1292.66 1519.98 Q1293.27 1519.27 1294.14 1518.88 Q1295.01 1518.49 1296.08 1518.49 Q1298.14 1518.49 1299.84 1519.72 Q1301.55 1520.94 1302 1523.42 Q1303.84 1521.26 1306.09 1519.88 Q1308.35 1518.49 1310.63 1518.49 Q1314.43 1518.49 1316.91 1521.46 Q1319.42 1524.39 1319.42 1529.03 M1314.66 1526.13 Q1314.66 1523.2 1313.53 1521.59 Q1312.44 1519.94 1310.44 1519.94 Q1307.96 1519.94 1305.09 1522.46 Q1302.26 1524.84 1301.68 1527.06 L1298.43 1539.98 L1298.23 1541.04 Q1298.23 1541.23 1298.33 1541.81 Q1298.46 1542.36 1298.81 1543.26 Q1299.2 1544.16 1299.71 1544.97 Q1300.26 1545.74 1301.23 1546.32 Q1302.23 1546.9 1303.45 1546.9 Q1305.42 1546.9 1307.54 1545.16 Q1309.7 1543.42 1311.31 1540.14 Q1312.31 1538.01 1313.47 1533.44 Q1314.66 1528.83 1314.66 1526.13 Z\" fill=\"#000000\" fill-rule=\"nonzero\" fill-opacity=\"1\" /><polyline clip-path=\"url(#clip022)\" style=\"stroke:#000000; stroke-linecap:round; stroke-linejoin:round; stroke-width:2; stroke-opacity:0.1; fill:none\" points=\"250.028,1423.18 2352.76,1423.18 \"/>\n",
       "<polyline clip-path=\"url(#clip022)\" style=\"stroke:#000000; stroke-linecap:round; stroke-linejoin:round; stroke-width:2; stroke-opacity:0.1; fill:none\" points=\"250.028,1163.24 2352.76,1163.24 \"/>\n",
       "<polyline clip-path=\"url(#clip022)\" style=\"stroke:#000000; stroke-linecap:round; stroke-linejoin:round; stroke-width:2; stroke-opacity:0.1; fill:none\" points=\"250.028,903.297 2352.76,903.297 \"/>\n",
       "<polyline clip-path=\"url(#clip022)\" style=\"stroke:#000000; stroke-linecap:round; stroke-linejoin:round; stroke-width:2; stroke-opacity:0.1; fill:none\" points=\"250.028,643.355 2352.76,643.355 \"/>\n",
       "<polyline clip-path=\"url(#clip022)\" style=\"stroke:#000000; stroke-linecap:round; stroke-linejoin:round; stroke-width:2; stroke-opacity:0.1; fill:none\" points=\"250.028,383.414 2352.76,383.414 \"/>\n",
       "<polyline clip-path=\"url(#clip020)\" style=\"stroke:#000000; stroke-linecap:round; stroke-linejoin:round; stroke-width:4; stroke-opacity:1; fill:none\" points=\"250.028,1423.18 250.028,123.472 \"/>\n",
       "<polyline clip-path=\"url(#clip020)\" style=\"stroke:#000000; stroke-linecap:round; stroke-linejoin:round; stroke-width:4; stroke-opacity:1; fill:none\" points=\"250.028,1423.18 268.926,1423.18 \"/>\n",
       "<polyline clip-path=\"url(#clip020)\" style=\"stroke:#000000; stroke-linecap:round; stroke-linejoin:round; stroke-width:4; stroke-opacity:1; fill:none\" points=\"250.028,1163.24 268.926,1163.24 \"/>\n",
       "<polyline clip-path=\"url(#clip020)\" style=\"stroke:#000000; stroke-linecap:round; stroke-linejoin:round; stroke-width:4; stroke-opacity:1; fill:none\" points=\"250.028,903.297 268.926,903.297 \"/>\n",
       "<polyline clip-path=\"url(#clip020)\" style=\"stroke:#000000; stroke-linecap:round; stroke-linejoin:round; stroke-width:4; stroke-opacity:1; fill:none\" points=\"250.028,643.355 268.926,643.355 \"/>\n",
       "<polyline clip-path=\"url(#clip020)\" style=\"stroke:#000000; stroke-linecap:round; stroke-linejoin:round; stroke-width:4; stroke-opacity:1; fill:none\" points=\"250.028,383.414 268.926,383.414 \"/>\n",
       "<path clip-path=\"url(#clip020)\" d=\"M126.691 1408.98 Q123.08 1408.98 121.251 1412.54 Q119.445 1416.08 119.445 1423.21 Q119.445 1430.32 121.251 1433.89 Q123.08 1437.43 126.691 1437.43 Q130.325 1437.43 132.13 1433.89 Q133.959 1430.32 133.959 1423.21 Q133.959 1416.08 132.13 1412.54 Q130.325 1408.98 126.691 1408.98 M126.691 1405.27 Q132.501 1405.27 135.556 1409.88 Q138.635 1414.46 138.635 1423.21 Q138.635 1431.94 135.556 1436.55 Q132.501 1441.13 126.691 1441.13 Q120.88 1441.13 117.802 1436.55 Q114.746 1431.94 114.746 1423.21 Q114.746 1414.46 117.802 1409.88 Q120.88 1405.27 126.691 1405.27 Z\" fill=\"#000000\" fill-rule=\"nonzero\" fill-opacity=\"1\" /><path clip-path=\"url(#clip020)\" d=\"M146.853 1434.58 L151.737 1434.58 L151.737 1440.46 L146.853 1440.46 L146.853 1434.58 Z\" fill=\"#000000\" fill-rule=\"nonzero\" fill-opacity=\"1\" /><path clip-path=\"url(#clip020)\" d=\"M171.922 1408.98 Q168.311 1408.98 166.482 1412.54 Q164.677 1416.08 164.677 1423.21 Q164.677 1430.32 166.482 1433.89 Q168.311 1437.43 171.922 1437.43 Q175.556 1437.43 177.362 1433.89 Q179.19 1430.32 179.19 1423.21 Q179.19 1416.08 177.362 1412.54 Q175.556 1408.98 171.922 1408.98 M171.922 1405.27 Q177.732 1405.27 180.788 1409.88 Q183.866 1414.46 183.866 1423.21 Q183.866 1431.94 180.788 1436.55 Q177.732 1441.13 171.922 1441.13 Q166.112 1441.13 163.033 1436.55 Q159.978 1431.94 159.978 1423.21 Q159.978 1414.46 163.033 1409.88 Q166.112 1405.27 171.922 1405.27 Z\" fill=\"#000000\" fill-rule=\"nonzero\" fill-opacity=\"1\" /><path clip-path=\"url(#clip020)\" d=\"M202.084 1408.98 Q198.473 1408.98 196.644 1412.54 Q194.838 1416.08 194.838 1423.21 Q194.838 1430.32 196.644 1433.89 Q198.473 1437.43 202.084 1437.43 Q205.718 1437.43 207.524 1433.89 Q209.352 1430.32 209.352 1423.21 Q209.352 1416.08 207.524 1412.54 Q205.718 1408.98 202.084 1408.98 M202.084 1405.27 Q207.894 1405.27 210.949 1409.88 Q214.028 1414.46 214.028 1423.21 Q214.028 1431.94 210.949 1436.55 Q207.894 1441.13 202.084 1441.13 Q196.274 1441.13 193.195 1436.55 Q190.139 1431.94 190.139 1423.21 Q190.139 1414.46 193.195 1409.88 Q196.274 1405.27 202.084 1405.27 Z\" fill=\"#000000\" fill-rule=\"nonzero\" fill-opacity=\"1\" /><path clip-path=\"url(#clip020)\" d=\"M127.917 1149.04 Q124.306 1149.04 122.478 1152.6 Q120.672 1156.14 120.672 1163.27 Q120.672 1170.38 122.478 1173.94 Q124.306 1177.49 127.917 1177.49 Q131.552 1177.49 133.357 1173.94 Q135.186 1170.38 135.186 1163.27 Q135.186 1156.14 133.357 1152.6 Q131.552 1149.04 127.917 1149.04 M127.917 1145.33 Q133.728 1145.33 136.783 1149.94 Q139.862 1154.52 139.862 1163.27 Q139.862 1172 136.783 1176.61 Q133.728 1181.19 127.917 1181.19 Q122.107 1181.19 119.029 1176.61 Q115.973 1172 115.973 1163.27 Q115.973 1154.52 119.029 1149.94 Q122.107 1145.33 127.917 1145.33 Z\" fill=\"#000000\" fill-rule=\"nonzero\" fill-opacity=\"1\" /><path clip-path=\"url(#clip020)\" d=\"M148.079 1174.64 L152.964 1174.64 L152.964 1180.52 L148.079 1180.52 L148.079 1174.64 Z\" fill=\"#000000\" fill-rule=\"nonzero\" fill-opacity=\"1\" /><path clip-path=\"url(#clip020)\" d=\"M173.149 1149.04 Q169.538 1149.04 167.709 1152.6 Q165.903 1156.14 165.903 1163.27 Q165.903 1170.38 167.709 1173.94 Q169.538 1177.49 173.149 1177.49 Q176.783 1177.49 178.589 1173.94 Q180.417 1170.38 180.417 1163.27 Q180.417 1156.14 178.589 1152.6 Q176.783 1149.04 173.149 1149.04 M173.149 1145.33 Q178.959 1145.33 182.014 1149.94 Q185.093 1154.52 185.093 1163.27 Q185.093 1172 182.014 1176.61 Q178.959 1181.19 173.149 1181.19 Q167.339 1181.19 164.26 1176.61 Q161.204 1172 161.204 1163.27 Q161.204 1154.52 164.26 1149.94 Q167.339 1145.33 173.149 1145.33 Z\" fill=\"#000000\" fill-rule=\"nonzero\" fill-opacity=\"1\" /><path clip-path=\"url(#clip020)\" d=\"M194.121 1176.58 L201.76 1176.58 L201.76 1150.22 L193.45 1151.88 L193.45 1147.62 L201.713 1145.96 L206.389 1145.96 L206.389 1176.58 L214.028 1176.58 L214.028 1180.52 L194.121 1180.52 L194.121 1176.58 Z\" fill=\"#000000\" fill-rule=\"nonzero\" fill-opacity=\"1\" /><path clip-path=\"url(#clip020)\" d=\"M128.288 889.095 Q124.677 889.095 122.848 892.66 Q121.043 896.202 121.043 903.331 Q121.043 910.438 122.848 914.003 Q124.677 917.544 128.288 917.544 Q131.922 917.544 133.728 914.003 Q135.556 910.438 135.556 903.331 Q135.556 896.202 133.728 892.66 Q131.922 889.095 128.288 889.095 M128.288 885.392 Q134.098 885.392 137.154 889.998 Q140.232 894.582 140.232 903.331 Q140.232 912.058 137.154 916.665 Q134.098 921.248 128.288 921.248 Q122.478 921.248 119.399 916.665 Q116.343 912.058 116.343 903.331 Q116.343 894.582 119.399 889.998 Q122.478 885.392 128.288 885.392 Z\" fill=\"#000000\" fill-rule=\"nonzero\" fill-opacity=\"1\" /><path clip-path=\"url(#clip020)\" d=\"M148.45 914.697 L153.334 914.697 L153.334 920.577 L148.45 920.577 L148.45 914.697 Z\" fill=\"#000000\" fill-rule=\"nonzero\" fill-opacity=\"1\" /><path clip-path=\"url(#clip020)\" d=\"M173.519 889.095 Q169.908 889.095 168.079 892.66 Q166.274 896.202 166.274 903.331 Q166.274 910.438 168.079 914.003 Q169.908 917.544 173.519 917.544 Q177.153 917.544 178.959 914.003 Q180.788 910.438 180.788 903.331 Q180.788 896.202 178.959 892.66 Q177.153 889.095 173.519 889.095 M173.519 885.392 Q179.329 885.392 182.385 889.998 Q185.463 894.582 185.463 903.331 Q185.463 912.058 182.385 916.665 Q179.329 921.248 173.519 921.248 Q167.709 921.248 164.63 916.665 Q161.575 912.058 161.575 903.331 Q161.575 894.582 164.63 889.998 Q167.709 885.392 173.519 885.392 Z\" fill=\"#000000\" fill-rule=\"nonzero\" fill-opacity=\"1\" /><path clip-path=\"url(#clip020)\" d=\"M197.709 916.642 L214.028 916.642 L214.028 920.577 L192.084 920.577 L192.084 916.642 Q194.746 913.887 199.329 909.257 Q203.936 904.605 205.116 903.262 Q207.362 900.739 208.241 899.003 Q209.144 897.244 209.144 895.554 Q209.144 892.799 207.199 891.063 Q205.278 889.327 202.176 889.327 Q199.977 889.327 197.524 890.091 Q195.093 890.855 192.315 892.406 L192.315 887.683 Q195.139 886.549 197.593 885.97 Q200.047 885.392 202.084 885.392 Q207.454 885.392 210.649 888.077 Q213.843 890.762 213.843 895.253 Q213.843 897.382 213.033 899.304 Q212.246 901.202 210.139 903.794 Q209.561 904.466 206.459 907.683 Q203.357 910.878 197.709 916.642 Z\" fill=\"#000000\" fill-rule=\"nonzero\" fill-opacity=\"1\" /><path clip-path=\"url(#clip020)\" d=\"M127.339 629.154 Q123.728 629.154 121.899 632.719 Q120.093 636.26 120.093 643.39 Q120.093 650.496 121.899 654.061 Q123.728 657.603 127.339 657.603 Q130.973 657.603 132.779 654.061 Q134.607 650.496 134.607 643.39 Q134.607 636.26 132.779 632.719 Q130.973 629.154 127.339 629.154 M127.339 625.45 Q133.149 625.45 136.204 630.057 Q139.283 634.64 139.283 643.39 Q139.283 652.117 136.204 656.723 Q133.149 661.307 127.339 661.307 Q121.529 661.307 118.45 656.723 Q115.394 652.117 115.394 643.39 Q115.394 634.64 118.45 630.057 Q121.529 625.45 127.339 625.45 Z\" fill=\"#000000\" fill-rule=\"nonzero\" fill-opacity=\"1\" /><path clip-path=\"url(#clip020)\" d=\"M147.501 654.756 L152.385 654.756 L152.385 660.635 L147.501 660.635 L147.501 654.756 Z\" fill=\"#000000\" fill-rule=\"nonzero\" fill-opacity=\"1\" /><path clip-path=\"url(#clip020)\" d=\"M172.57 629.154 Q168.959 629.154 167.13 632.719 Q165.325 636.26 165.325 643.39 Q165.325 650.496 167.13 654.061 Q168.959 657.603 172.57 657.603 Q176.204 657.603 178.01 654.061 Q179.839 650.496 179.839 643.39 Q179.839 636.26 178.01 632.719 Q176.204 629.154 172.57 629.154 M172.57 625.45 Q178.38 625.45 181.436 630.057 Q184.514 634.64 184.514 643.39 Q184.514 652.117 181.436 656.723 Q178.38 661.307 172.57 661.307 Q166.76 661.307 163.681 656.723 Q160.626 652.117 160.626 643.39 Q160.626 634.64 163.681 630.057 Q166.76 625.45 172.57 625.45 Z\" fill=\"#000000\" fill-rule=\"nonzero\" fill-opacity=\"1\" /><path clip-path=\"url(#clip020)\" d=\"M206.899 642.001 Q210.255 642.719 212.13 644.987 Q214.028 647.256 214.028 650.589 Q214.028 655.705 210.51 658.506 Q206.991 661.307 200.51 661.307 Q198.334 661.307 196.019 660.867 Q193.727 660.45 191.274 659.594 L191.274 655.08 Q193.218 656.214 195.533 656.793 Q197.848 657.371 200.371 657.371 Q204.769 657.371 207.061 655.635 Q209.375 653.899 209.375 650.589 Q209.375 647.533 207.223 645.82 Q205.093 644.084 201.274 644.084 L197.246 644.084 L197.246 640.242 L201.459 640.242 Q204.908 640.242 206.737 638.876 Q208.565 637.487 208.565 634.895 Q208.565 632.233 206.667 630.821 Q204.792 629.385 201.274 629.385 Q199.352 629.385 197.153 629.802 Q194.954 630.219 192.315 631.098 L192.315 626.932 Q194.977 626.191 197.292 625.821 Q199.63 625.45 201.69 625.45 Q207.014 625.45 210.116 627.881 Q213.218 630.288 213.218 634.409 Q213.218 637.279 211.574 639.27 Q209.931 641.237 206.899 642.001 Z\" fill=\"#000000\" fill-rule=\"nonzero\" fill-opacity=\"1\" /><path clip-path=\"url(#clip020)\" d=\"M126.205 369.212 Q122.593 369.212 120.765 372.777 Q118.959 376.319 118.959 383.448 Q118.959 390.555 120.765 394.12 Q122.593 397.661 126.205 397.661 Q129.839 397.661 131.644 394.12 Q133.473 390.555 133.473 383.448 Q133.473 376.319 131.644 372.777 Q129.839 369.212 126.205 369.212 M126.205 365.509 Q132.015 365.509 135.07 370.115 Q138.149 374.698 138.149 383.448 Q138.149 392.175 135.07 396.782 Q132.015 401.365 126.205 401.365 Q120.394 401.365 117.316 396.782 Q114.26 392.175 114.26 383.448 Q114.26 374.698 117.316 370.115 Q120.394 365.509 126.205 365.509 Z\" fill=\"#000000\" fill-rule=\"nonzero\" fill-opacity=\"1\" /><path clip-path=\"url(#clip020)\" d=\"M146.366 394.814 L151.251 394.814 L151.251 400.694 L146.366 400.694 L146.366 394.814 Z\" fill=\"#000000\" fill-rule=\"nonzero\" fill-opacity=\"1\" /><path clip-path=\"url(#clip020)\" d=\"M171.436 369.212 Q167.825 369.212 165.996 372.777 Q164.19 376.319 164.19 383.448 Q164.19 390.555 165.996 394.12 Q167.825 397.661 171.436 397.661 Q175.07 397.661 176.876 394.12 Q178.704 390.555 178.704 383.448 Q178.704 376.319 176.876 372.777 Q175.07 369.212 171.436 369.212 M171.436 365.509 Q177.246 365.509 180.301 370.115 Q183.38 374.698 183.38 383.448 Q183.38 392.175 180.301 396.782 Q177.246 401.365 171.436 401.365 Q165.626 401.365 162.547 396.782 Q159.491 392.175 159.491 383.448 Q159.491 374.698 162.547 370.115 Q165.626 365.509 171.436 365.509 Z\" fill=\"#000000\" fill-rule=\"nonzero\" fill-opacity=\"1\" /><path clip-path=\"url(#clip020)\" d=\"M204.445 370.208 L192.639 388.657 L204.445 388.657 L204.445 370.208 M203.218 366.134 L209.098 366.134 L209.098 388.657 L214.028 388.657 L214.028 392.546 L209.098 392.546 L209.098 400.694 L204.445 400.694 L204.445 392.546 L188.843 392.546 L188.843 388.032 L203.218 366.134 Z\" fill=\"#000000\" fill-rule=\"nonzero\" fill-opacity=\"1\" /><path clip-path=\"url(#clip020)\" d=\"M30.9797 793.837 Q34.5868 793.837 37.904 796.511 Q41.2212 799.151 43.2501 803.467 Q45.2469 807.75 45.2469 812.356 L45.2469 823.563 L61.7363 827.654 Q61.8329 827.686 62.2516 827.782 Q62.6381 827.879 62.8635 827.879 Q63.6687 827.879 63.8619 826.881 Q64.0551 825.85 64.0551 823.563 Q64.0551 822.082 64.3128 821.857 Q64.4738 821.728 64.7637 821.728 Q65.2145 821.728 65.5366 821.857 Q65.8264 821.985 65.9231 822.243 Q66.0197 822.468 66.0519 822.63 Q66.0841 822.791 66.0841 823.048 Q66.0841 823.725 66.0197 825.174 Q65.9553 826.591 65.9553 827.332 L65.8909 831.551 L66.0841 839.924 Q66.0841 840.922 65.2789 840.922 Q64.667 840.922 64.4094 840.665 Q64.1195 840.407 64.0873 840.117 Q64.0551 839.827 64.0551 839.087 Q64.0551 837.476 63.9585 836.51 Q63.8619 835.544 63.7331 834.932 Q63.572 834.288 63.1212 833.966 Q62.6703 833.612 62.2838 833.451 Q61.8651 833.29 60.9312 833.064 L25.5047 824.24 Q24.4419 823.982 24.2809 823.982 Q23.7334 823.982 23.5402 824.304 Q23.3147 824.594 23.2181 825.431 Q23.0893 827.042 23.0893 828.266 Q23.0893 829.071 23.0571 829.393 Q23.0249 829.683 22.8638 829.94 Q22.6706 830.166 22.2841 830.166 Q21.6722 830.166 21.4146 829.908 Q21.1247 829.618 21.0925 829.296 Q21.0281 828.974 21.0281 828.201 L21.0281 806.816 Q21.0281 800.665 23.9588 797.251 Q26.8896 793.837 30.9797 793.837 M29.4016 799.957 Q23.0893 799.957 23.0893 808.942 L23.0893 815.254 Q23.0893 817.348 23.4757 817.863 Q23.83 818.378 25.6013 818.829 L43.54 823.306 L43.54 813.998 Q43.54 807.75 40.0296 803.853 Q38.4193 802.082 35.0699 801.019 Q31.7204 799.957 29.4016 799.957 Z\" fill=\"#000000\" fill-rule=\"nonzero\" fill-opacity=\"1\" /><path clip-path=\"url(#clip020)\" d=\"M49.5947 786.6 Q38.4515 786.6 29.466 782.445 Q25.6979 780.674 22.5418 778.194 Q19.3856 775.714 18.0007 774.072 Q16.6159 772.429 16.6159 771.978 Q16.6159 771.334 17.26 771.302 Q17.5821 771.302 18.3872 772.172 Q29.2084 782.8 49.5947 782.767 Q70.0454 782.767 80.4479 772.429 Q81.5751 771.302 81.9294 771.302 Q82.5735 771.302 82.5735 771.978 Q82.5735 772.429 81.2531 774.007 Q79.9326 775.585 76.9053 778.033 Q73.8779 780.481 70.1742 782.252 Q61.1888 786.6 49.5947 786.6 Z\" fill=\"#000000\" fill-rule=\"nonzero\" fill-opacity=\"1\" /><path clip-path=\"url(#clip020)\" d=\"M47.4691 735.788 Q52.1712 735.788 56.7122 738.171 Q61.2532 740.522 64.0551 744.226 Q66.8248 747.93 66.8248 751.698 Q66.8248 753.952 65.601 755.466 Q64.345 756.947 62.5737 757.753 Q64.7637 758.364 70.0132 759.685 Q75.2628 761.005 75.7781 761.005 Q76.0679 761.005 76.1967 760.941 Q76.3256 760.876 76.4866 760.587 Q76.6798 760.297 76.7442 759.588 Q76.8409 758.88 76.8409 757.688 Q76.8409 757.076 76.8409 756.851 Q76.8731 756.593 77.0341 756.368 Q77.1951 756.11 77.5494 756.11 Q78.8698 756.11 78.8698 757.302 Q78.8698 758.364 78.7732 760.554 Q78.6766 762.744 78.6766 763.839 Q78.6766 764.773 78.7732 766.641 Q78.8698 768.509 78.8698 769.379 Q78.8698 770.248 78.0969 770.248 Q77.646 770.248 77.3561 770.12 Q77.0985 770.023 76.9697 769.765 Q76.8731 769.508 76.8409 769.282 Q76.8409 769.089 76.8409 768.703 Q76.8409 767.221 76.5832 766.577 Q76.3578 765.933 75.8747 765.707 Q75.4238 765.45 74.1356 765.16 L44.7638 757.753 Q42.7993 757.302 41.4144 757.302 Q39.6753 757.302 39.0312 757.849 Q38.3871 758.397 38.3871 759.363 Q38.3871 761.038 40.3838 762.133 Q42.3806 763.228 46.2453 764.161 Q47.3081 764.451 47.5335 764.645 Q47.759 764.806 47.759 765.289 Q47.7268 766.094 47.0826 766.094 Q46.9216 766.094 45.891 765.836 Q44.8282 765.579 43.2823 765.095 Q41.7043 764.58 40.7059 764.033 Q40.0296 763.711 39.5787 763.421 Q39.1278 763.131 38.4193 762.551 Q37.7107 761.939 37.3243 761.07 Q36.9378 760.2 36.9378 759.137 Q36.9378 757.076 38.1616 755.369 Q39.3854 753.662 41.8653 753.211 Q39.7075 751.376 38.3226 749.121 Q36.9378 746.867 36.9378 744.58 Q36.9378 740.78 39.9007 738.3 Q42.8315 735.788 47.4691 735.788 M44.5706 740.555 Q41.6398 740.555 40.0296 741.682 Q38.3871 742.777 38.3871 744.774 Q38.3871 747.253 40.8991 750.12 Q43.2823 752.954 45.5045 753.534 L58.4191 756.786 L59.4819 756.98 Q59.6751 756.98 60.2548 756.883 Q60.8023 756.754 61.7041 756.4 Q62.6059 756.013 63.411 755.498 Q64.1839 754.951 64.7637 753.984 Q65.3434 752.986 65.3434 751.762 Q65.3434 749.798 63.6042 747.672 Q61.8651 745.514 58.5801 743.904 Q56.4545 742.906 51.8813 741.746 Q47.2759 740.555 44.5706 740.555 Z\" fill=\"#000000\" fill-rule=\"nonzero\" fill-opacity=\"1\" /><path clip-path=\"url(#clip020)\" d=\"M81.9294 731.057 Q81.6073 731.057 80.8022 730.22 Q69.981 719.592 49.5947 719.592 Q29.144 719.592 18.8059 729.801 Q17.6143 731.057 17.26 731.057 Q16.6159 731.057 16.6159 730.413 Q16.6159 729.962 17.9363 728.384 Q19.2568 726.774 22.2841 724.358 Q25.3115 721.91 29.0151 720.107 Q38.0006 715.759 49.5947 715.759 Q60.7379 715.759 69.7234 719.914 Q73.4914 721.685 76.6476 724.165 Q79.8038 726.645 81.1886 728.287 Q82.5735 729.93 82.5735 730.413 Q82.5735 731.057 81.9294 731.057 Z\" fill=\"#000000\" fill-rule=\"nonzero\" fill-opacity=\"1\" /><path clip-path=\"url(#clip020)\" d=\"M1087 14.324 L1087 27.2059 L1102.35 27.2059 L1102.35 32.9987 L1087 32.9987 L1087 57.6282 Q1087 63.1779 1088.5 64.7578 Q1090.04 66.3376 1094.69 66.3376 L1102.35 66.3376 L1102.35 72.576 L1094.69 72.576 Q1086.07 72.576 1082.78 69.3758 Q1079.5 66.1351 1079.5 57.6282 L1079.5 32.9987 L1074.04 32.9987 L1074.04 27.2059 L1079.5 27.2059 L1079.5 14.324 L1087 14.324 Z\" fill=\"#000000\" fill-rule=\"nonzero\" fill-opacity=\"1\" /><path clip-path=\"url(#clip020)\" d=\"M1112.15 27.2059 L1119.61 27.2059 L1119.61 72.576 L1112.15 72.576 L1112.15 27.2059 M1112.15 9.54393 L1119.61 9.54393 L1119.61 18.9825 L1112.15 18.9825 L1112.15 9.54393 Z\" fill=\"#000000\" fill-rule=\"nonzero\" fill-opacity=\"1\" /><path clip-path=\"url(#clip020)\" d=\"M1161.49 34.1734 Q1160.24 33.4443 1158.74 33.1202 Q1157.28 32.7556 1155.5 32.7556 Q1149.18 32.7556 1145.78 36.8875 Q1142.41 40.9789 1142.41 48.6757 L1142.41 72.576 L1134.92 72.576 L1134.92 27.2059 L1142.41 27.2059 L1142.41 34.2544 Q1144.76 30.1225 1148.53 28.1376 Q1152.3 26.1121 1157.69 26.1121 Q1158.46 26.1121 1159.39 26.2337 Q1160.32 26.3147 1161.45 26.5172 L1161.49 34.1734 Z\" fill=\"#000000\" fill-rule=\"nonzero\" fill-opacity=\"1\" /><path clip-path=\"url(#clip020)\" d=\"M1185.07 32.4315 Q1179.07 32.4315 1175.59 37.1306 Q1172.11 41.7891 1172.11 49.9314 Q1172.11 58.0738 1175.55 62.7728 Q1179.03 67.4314 1185.07 67.4314 Q1191.03 67.4314 1194.51 62.7323 Q1197.99 58.0333 1197.99 49.9314 Q1197.99 41.8701 1194.51 37.1711 Q1191.03 32.4315 1185.07 32.4315 M1185.07 26.1121 Q1194.79 26.1121 1200.34 32.4315 Q1205.89 38.7509 1205.89 49.9314 Q1205.89 61.0714 1200.34 67.4314 Q1194.79 73.7508 1185.07 73.7508 Q1175.31 73.7508 1169.76 67.4314 Q1164.25 61.0714 1164.25 49.9314 Q1164.25 38.7509 1169.76 32.4315 Q1175.31 26.1121 1185.07 26.1121 Z\" fill=\"#000000\" fill-rule=\"nonzero\" fill-opacity=\"1\" /><path clip-path=\"url(#clip020)\" d=\"M1247.17 28.5427 L1247.17 35.5912 Q1244.01 33.9709 1240.61 33.1607 Q1237.21 32.3505 1233.56 32.3505 Q1228.01 32.3505 1225.21 34.0519 Q1222.46 35.7533 1222.46 39.156 Q1222.46 41.7486 1224.45 43.2475 Q1226.43 44.7058 1232.43 46.0426 L1234.98 46.6097 Q1242.92 48.3111 1246.24 51.4303 Q1249.6 54.509 1249.6 60.0587 Q1249.6 66.3781 1244.58 70.0644 Q1239.6 73.7508 1230.85 73.7508 Q1227.2 73.7508 1223.23 73.0216 Q1219.3 72.3329 1214.93 70.9151 L1214.93 63.2184 Q1219.06 65.3654 1223.07 66.4591 Q1227.08 67.5124 1231.01 67.5124 Q1236.27 67.5124 1239.11 65.73 Q1241.95 63.9071 1241.95 60.6258 Q1241.95 57.5877 1239.88 55.9673 Q1237.85 54.3469 1230.93 52.8481 L1228.33 52.2405 Q1221.41 50.7821 1218.33 47.7845 Q1215.25 44.7463 1215.25 39.4801 Q1215.25 33.0797 1219.79 29.5959 Q1224.32 26.1121 1232.67 26.1121 Q1236.8 26.1121 1240.45 26.7198 Q1244.09 27.3274 1247.17 28.5427 Z\" fill=\"#000000\" fill-rule=\"nonzero\" fill-opacity=\"1\" /><path clip-path=\"url(#clip020)\" d=\"M1288.81 34.9026 L1340.75 34.9026 L1340.75 41.7081 L1288.81 41.7081 L1288.81 34.9026 M1288.81 51.4303 L1340.75 51.4303 L1340.75 58.3168 L1288.81 58.3168 L1288.81 51.4303 Z\" fill=\"#000000\" fill-rule=\"nonzero\" fill-opacity=\"1\" /><path clip-path=\"url(#clip020)\" d=\"M1386.2 65.6895 L1399.57 65.6895 L1399.57 19.5497 L1385.02 22.4663 L1385.02 15.0127 L1399.48 12.096 L1407.67 12.096 L1407.67 65.6895 L1421.04 65.6895 L1421.04 72.576 L1386.2 72.576 L1386.2 65.6895 Z\" fill=\"#000000\" fill-rule=\"nonzero\" fill-opacity=\"1\" /><path clip-path=\"url(#clip020)\" d=\"M1437.64 12.096 L1469.77 12.096 L1469.77 18.9825 L1445.14 18.9825 L1445.14 33.8088 Q1446.92 33.2012 1448.7 32.9176 Q1450.49 32.5936 1452.27 32.5936 Q1462.4 32.5936 1468.31 38.1433 Q1474.22 43.6931 1474.22 53.1722 Q1474.22 62.9348 1468.15 68.3631 Q1462.07 73.7508 1451.01 73.7508 Q1447.2 73.7508 1443.23 73.1026 Q1439.31 72.4545 1435.09 71.1582 L1435.09 62.9348 Q1438.74 64.9198 1442.63 65.892 Q1446.52 66.8642 1450.85 66.8642 Q1457.86 66.8642 1461.95 63.1779 Q1466.04 59.4916 1466.04 53.1722 Q1466.04 46.8528 1461.95 43.1664 Q1457.86 39.4801 1450.85 39.4801 Q1447.57 39.4801 1444.29 40.2093 Q1441.05 40.9384 1437.64 42.4778 L1437.64 12.096 Z\" fill=\"#000000\" fill-rule=\"nonzero\" fill-opacity=\"1\" /><path clip-path=\"url(#clip020)\" d=\"M1507.85 17.4837 Q1501.53 17.4837 1498.33 23.7221 Q1495.17 29.92 1495.17 42.3968 Q1495.17 54.833 1498.33 61.0714 Q1501.53 67.2693 1507.85 67.2693 Q1514.21 67.2693 1517.37 61.0714 Q1520.57 54.833 1520.57 42.3968 Q1520.57 29.92 1517.37 23.7221 Q1514.21 17.4837 1507.85 17.4837 M1507.85 11.0023 Q1518.01 11.0023 1523.36 19.0636 Q1528.75 27.0843 1528.75 42.3968 Q1528.75 57.6687 1523.36 65.73 Q1518.01 73.7508 1507.85 73.7508 Q1497.68 73.7508 1492.29 65.73 Q1486.94 57.6687 1486.94 42.3968 Q1486.94 27.0843 1492.29 19.0636 Q1497.68 11.0023 1507.85 11.0023 Z\" fill=\"#000000\" fill-rule=\"nonzero\" fill-opacity=\"1\" /><polyline clip-path=\"url(#clip022)\" style=\"stroke:#009af9; stroke-linecap:round; stroke-linejoin:round; stroke-width:4; stroke-opacity:1; fill:none\" points=\"260.542,1423.18 271.055,1423.18 281.569,1423.18 292.083,1423.18 302.596,1423.18 313.11,1423.18 323.624,1423.18 334.137,1423.18 344.651,1423.18 355.165,1423.18 365.678,1423.18 376.192,1423.18 386.705,1423.18 397.219,1423.18 407.733,1423.18 418.246,1423.18 428.76,1423.18 439.274,1423.18 449.787,1423.18 460.301,1423.18 470.815,1423.18 481.328,1423.18 491.842,1423.18 502.355,1423.18 512.869,1423.18 523.383,1423.18 533.896,1423.18 544.41,1423.18 554.924,1423.18 565.437,1423.18 575.951,1423.18 586.465,1423.18 596.978,1423.18 607.492,1423.18 618.006,1423.18 628.519,1423.18 639.033,1423.18 649.546,1423.18 660.06,1423.18 670.574,1423.18 681.087,1423.18 691.601,1423.18 702.115,1423.18 712.628,1423.18 723.142,1423.18 733.656,1423.18 744.169,1423.18 754.683,1423.18 765.196,1423.18 775.71,1423.18 786.224,1423.18 796.737,1423.18 807.251,1423.18 817.765,1423.18 828.278,1423.18 838.792,1423.18 849.306,1423.18 859.819,1423.18 870.333,1423.18 880.846,1423.18 891.36,1423.18 901.874,1423.17 912.387,1423.17 922.901,1423.15 933.415,1423.13 943.928,1423.09 954.442,1423.01 964.956,1422.88 975.469,1422.66 985.983,1422.29 996.496,1421.68 1007.01,1420.73 1017.52,1419.23 1028.04,1416.94 1038.55,1413.51 1049.06,1408.46 1059.58,1401.17 1070.09,1390.84 1080.61,1376.48 1091.12,1356.91 1101.63,1330.7 1112.15,1296.26 1122.66,1251.87 1133.17,1195.7 1143.69,1125.97 1154.2,1041.05 1164.71,939.6 1175.23,820.791 1185.74,684.432 1196.26,531.158 1206.77,362.563 1217.28,181.277 1227.8,-9.00277 1238.31,-203.58 1248.82,-396.904 1259.34,-582.797 1269.85,-754.769 1280.36,-906.374 1290.88,-1031.61 1301.39,-1125.28 1311.91,1162.52 1322.42,1160.52 1332.93,1162.42 1343.45,1168.14 1353.96,1177.43 1364.47,1189.91 1374.99,1205.06 1385.5,1222.27 1396.01,1240.91 1406.53,1260.32 1417.04,1279.86 1427.56,1298.99 1438.07,1317.22 1448.58,1334.17 1459.1,1349.58 1469.61,1363.27 1480.12,1375.19 1490.64,1385.36 1501.15,1393.85 1511.66,1400.81 1522.18,1406.4 1532.69,1410.81 1543.21,1414.21 1553.72,1416.79 1564.23,1418.7 1574.75,1420.1 1585.26,1421.1 1595.77,1421.8 1606.29,1422.28 1616.8,1422.61 1627.31,1422.82 1637.83,1422.96 1648.34,1423.05 1658.86,1423.1 1669.37,1423.13 1679.88,1423.15 1690.4,1423.17 1700.91,1423.17 1711.42,1423.18 1721.94,1423.18 1732.45,1423.18 1742.96,1423.18 1753.48,1423.18 1763.99,1423.18 1774.51,1423.18 1785.02,1423.18 1795.53,1423.18 1806.05,1423.18 1816.56,1423.18 1827.07,1423.18 1837.59,1423.18 1848.1,1423.18 1858.61,1423.18 1869.13,1423.18 1879.64,1423.18 1890.16,1423.18 1900.67,1423.18 1911.18,1423.18 1921.7,1423.18 1932.21,1423.18 1942.72,1423.18 1953.24,1423.18 1963.75,1423.18 1974.26,1423.18 1984.78,1423.18 1995.29,1423.18 2005.81,1423.18 2016.32,1423.18 2026.83,1423.18 2037.35,1423.18 2047.86,1423.18 2058.37,1423.18 2068.89,1423.18 2079.4,1423.18 2089.91,1423.18 2100.43,1423.18 2110.94,1423.18 2121.46,1423.18 2131.97,1423.18 2142.48,1423.18 2153,1423.18 2163.51,1423.18 2174.02,1423.18 2184.54,1423.18 2195.05,1423.18 2205.56,1423.18 2216.08,1423.18 2226.59,1423.18 2237.11,1423.18 2247.62,1423.18 2258.13,1423.18 2268.65,1423.18 2279.16,1423.18 2289.67,1423.18 2300.19,1423.18 2310.7,1423.18 2321.21,1423.18 2331.73,1423.18 2342.24,1423.18 2352.76,1423.18 \"/>\n",
       "</svg>\n"
      ]
     },
     "metadata": {},
     "output_type": "display_data"
    }
   ],
   "source": [
    "using Plots, LaTeXStrings\n",
    "function probabilidad_moneda_trucada(probas, m, n, Δx = 0.01)\n",
    "    x = Δx:Δx:1\n",
    "    [probas[i]*p_volados(m,n,x[i])/sum(probas.*p_volados.(m,n,x)) for i in 1:round(Int, 1/Δx)]\n",
    "end\n",
    "Δx = 0.005\n",
    "probas = ones(round(Int, 1/Δx))\n",
    "probas[1:Int(length(probas)/2)] = [10 for i in 1:Int(length(probas)/2)]\n",
    "probas = probas/sum(probas)\n",
    "\n",
    "                \n",
    "for i in 1:150\n",
    "    if mod(i, 1) == 0\n",
    "        plot(Δx:Δx:1, probas, key = false, xlabel = L\"p\", ylabel = L\"P(p)\", title = \"tiros = $i\")\n",
    "        plot!(ylim = (0,0.05), xlim = (0,1), show = :ijulia)\n",
    "        \n",
    "    end\n",
    "    probas = probabilidad_moneda_trucada(probas, rand([0,1]), 1, Δx)  \n",
    "end"
   ]
  },
  {
   "cell_type": "markdown",
   "id": "3a030006",
   "metadata": {
    "slideshow": {
     "slide_type": "notes"
    }
   },
   "source": [
    "Por último, quisiera mostrarles una generalización de las combinaciones, las particiones. Ahora pensemos que queremos acomodar por ejemplo 10 libros en un librero que tiene 3 estantes donde les caben 3, 3 y 4 libros. ¿cuántas formas hay de acomodarlos? \n",
    "\n",
    "Esto es precisamente una partición, la forma de acomodar $m$ objetos en $k$ grupos distintos de tamaños $m_1$, $m_2$, etc. "
   ]
  },
  {
   "cell_type": "markdown",
   "id": "c518adbb",
   "metadata": {
    "slideshow": {
     "slide_type": "fragment"
    }
   },
   "source": [
    "### Particiones\n",
    "\n",
    "Una partición de $m$ objetos en $k$ grupos distintos de tamaños $m_1, m_2, \\dots, m_k$, es una subdivisión de $m$ en los $k$ conjuntos con $m_i$ elementos cada uno. "
   ]
  },
  {
   "cell_type": "markdown",
   "id": "0ea10c09",
   "metadata": {
    "slideshow": {
     "slide_type": "notes"
    }
   },
   "source": [
    "Pensemos que dividimos $m$ en $m_1$ y el resto. Esas son justamente las combinaciones de $m_1$ en $m$. Por lo que la partición de un conjunto en 2 grupos es simplemente la combinación de ese conjunto en el número de objetos de cualquiera de los grupos. \n",
    "\n",
    "Ahora, tomemos el segundo grupo de nuestra partición (de dos grupos) y subdividámoslo en dos grupos de nuevo, de forma que tengamos 3 grupos, el primero y los dos formados por el segundo. Nuevamente, este segundo grupo formará cona combinación con sus dos subgrupos. Podemos contnuar este proceso y así formar la partición completa. Como sabemos calcular la cantidad de elementos de una combinación, podremos calcular el número de elementos de una partición. \n",
    "\n"
   ]
  },
  {
   "cell_type": "markdown",
   "id": "4bdd90d2",
   "metadata": {
    "slideshow": {
     "slide_type": "fragment"
    }
   },
   "source": [
    "El número de particiones es: \n",
    "\n",
    "$$\\binom{m}{m_1,m_2,m_3,\\dots,m_k} = \\binom{m}{m_1} \\binom{m-m_1}{m_2}\\cdots \\binom{m-m_1-m_2-\\cdots -m_{k-1}}{m_k}$$ \n",
    "\n",
    "$$= \\frac{m!}{(m-m_1)!m_1!}\\frac{(m-m_1)!}{(m-m_1-m_2)!m_2!} \\frac{(m-m_1-m_2)!}{(m-m_1-m_2-m_3)!m_3!}\\cdots \\frac{(m-m_1-\\cdots -m_{k-1})!}{(m-m_1-\\cdots - m_{k-1}-m_k)!m_k!} = \\frac{m!}{m_1! m_2! \\cdots m_k!}$$"
   ]
  },
  {
   "cell_type": "markdown",
   "id": "fecb9db6",
   "metadata": {
    "slideshow": {
     "slide_type": "notes"
    }
   },
   "source": [
    "La fórmula es sencilla, el factorial del conjunto principal dividido entre los factoriales de cada subgrupo. \n",
    "\n",
    "Pasemos a los ejemplos: "
   ]
  },
  {
   "cell_type": "markdown",
   "id": "6687fbd7",
   "metadata": {
    "slideshow": {
     "slide_type": "fragment"
    }
   },
   "source": [
    "**Ejemplo:** Tienen 20 líbros de física estadística y 3 repisas para acomodarlos, así que deciden que habrá 6 libros hasta arriba, y 7 en las otras repisas. ¿De cuántas formas los pueden acomodar? "
   ]
  },
  {
   "cell_type": "markdown",
   "id": "3a15321c",
   "metadata": {
    "slideshow": {
     "slide_type": "notes"
    }
   },
   "source": [
    "Por supuesto, es simplemente el número de particiones, es decir, $\\frac{20!}{6! 7! 7!} \\approx 1.33 \\times 10^8$ formas de acomodar los libros. 130millones de formas de acomodar 20 libros en 3 repisas!!\n",
    "\n",
    "Con estas 4 formas de contar, tenemos para bastante. Sólo tienen que ser creativos sobre cómo transformar su problema a alguna de estas opciones. "
   ]
  },
  {
   "cell_type": "markdown",
   "id": "0c5ed93a",
   "metadata": {
    "slideshow": {
     "slide_type": "fragment"
    }
   },
   "source": [
    "\n",
    "**Ejemplo sin saber qué regla aplicar:**\n",
    "\n",
    "Demuestra que $(a+b)^n = \\sum_{m = 0}^n \\binom{n}{m} a^m b^{n-m}$ "
   ]
  },
  {
   "cell_type": "markdown",
   "id": "603ac0ed",
   "metadata": {
    "slideshow": {
     "slide_type": "fragment"
    }
   },
   "source": [
    "**Otro más**\n",
    "\n",
    "Demuestra que el conjunto potencia tiene $2^n$ elementos si $\\Omega$ tiene $n$ elementos. "
   ]
  },
  {
   "cell_type": "markdown",
   "id": "fe2db9bb",
   "metadata": {
    "slideshow": {
     "slide_type": "fragment"
    }
   },
   "source": [
    "**Uno un poco más difícil**\n",
    "\n",
    "Hacemos una apuesta. Usando rand(1:21) elijo a 5 alumnos que ganarán la apuesta y después 5 alumnos que pagarán la apuesta. ¿cuántas configuraciones hay de esta situación?\n",
    "\n",
    "un mismo alumno puede aparecer varias veces tanto de un lado de la apuesta (los que reciben), como del otro (los que pagan). "
   ]
  },
  {
   "cell_type": "markdown",
   "id": "d7ab2af3",
   "metadata": {
    "slideshow": {
     "slide_type": "fragment"
    }
   },
   "source": [
    "**Usando un poco todo**\n",
    "\n",
    "Demuestra que $$\\Big(\\sum_{i = 1}^m a_i\\Big)^n = \\sum_{\\sum_i n_i = n} \\binom{n}{n_1 n_2\\dots n_m}a^{n_1}a^{n_2}\\dots a^{n_m}$$"
   ]
  },
  {
   "cell_type": "markdown",
   "id": "fdb7b214",
   "metadata": {
    "slideshow": {
     "slide_type": "fragment"
    }
   },
   "source": [
    "**Partículas clásicas, Fermiones y Bosones**\n",
    "\n",
    "Cuenta las posibles configuraciones de $N$ partículas en $M$ niveles energéticos, tanto clásicamente, como para fermiones y para bosones. "
   ]
  }
 ],
 "metadata": {
  "celltoolbar": "Slideshow",
  "kernelspec": {
   "display_name": "Julia 1.10.3",
   "language": "julia",
   "name": "julia-1.10"
  },
  "language_info": {
   "file_extension": ".jl",
   "mimetype": "application/julia",
   "name": "julia",
   "version": "1.10.3"
  }
 },
 "nbformat": 4,
 "nbformat_minor": 5
}
