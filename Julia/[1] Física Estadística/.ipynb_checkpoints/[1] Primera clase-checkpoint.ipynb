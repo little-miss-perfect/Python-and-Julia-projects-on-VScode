{
 "cells": [
  {
   "cell_type": "markdown",
   "id": "82541ed7",
   "metadata": {
    "slideshow": {
     "slide_type": "slide"
    }
   },
   "source": [
    "# Física Estadística\n"
   ]
  },
  {
   "cell_type": "markdown",
   "id": "22ddaaa7",
   "metadata": {
    "slideshow": {
     "slide_type": "fragment"
    }
   },
   "source": [
    "\n",
    "Prof: Atahualpa S. Kraemer\n",
    "\n",
    "ata.kraemer@ciencias.unam.mx\n",
    "\n",
    "Telegram: @Ata0k\n",
    "\n",
    "Ayudante: Zuriel Castillo"
   ]
  },
  {
   "cell_type": "markdown",
   "id": "a65e040b",
   "metadata": {
    "slideshow": {
     "slide_type": "slide"
    }
   },
   "source": [
    "## Filosofía del curso"
   ]
  },
  {
   "cell_type": "markdown",
   "id": "f781c1c7",
   "metadata": {
    "slideshow": {
     "slide_type": "fragment"
    }
   },
   "source": [
    "El curso de física estadística es muy ambisioso, se proponen muchos temas y con mucha profundidad. \n",
    "\n",
    "Cada tema implica tiempo que depende de qué tan profundo queremos estudiar el tema y qué tan hábiles son los estudiantes. Es probable que no se pueda cumplir con: \n",
    "\n",
    "Ver todos los temas, a mucha profundidad y que todos los estudiantes comprendan. \n",
    "\n",
    "Por lo tanto, priorizaremos: "
   ]
  },
  {
   "cell_type": "markdown",
   "id": "11d34050",
   "metadata": {
    "slideshow": {
     "slide_type": "fragment"
    }
   },
   "source": [
    "1. Que la mayoría (más del 50%) comprendan. "
   ]
  },
  {
   "cell_type": "markdown",
   "id": "72cf5f4e",
   "metadata": {
    "slideshow": {
     "slide_type": "fragment"
    }
   },
   "source": [
    "2. Que se vea con suficiente profundidad cada tema. "
   ]
  },
  {
   "cell_type": "markdown",
   "id": "327fa0ed",
   "metadata": {
    "slideshow": {
     "slide_type": "slide"
    }
   },
   "source": [
    "### ¿Como calificaremos?"
   ]
  },
  {
   "cell_type": "markdown",
   "id": "cf25d1ec",
   "metadata": {
    "slideshow": {
     "slide_type": "fragment"
    }
   },
   "source": [
    "3 exámenes y una exposición final de algún tema que les guste, cada cosa 25% de su calificación. \n",
    "\n",
    "**Tendrán tareas, pero serán sólo una guía para que estudien para los exámenes.** \n",
    "\n",
    "Quizá al final, a los que quieran subir un poco su calificación les permita hacer una práctica (una tarea, pero donde todos los problemas están relacionados) para incrementar hasta 1pto/10 su calificación final. "
   ]
  },
  {
   "cell_type": "markdown",
   "id": "60146504",
   "metadata": {
    "slideshow": {
     "slide_type": "slide"
    }
   },
   "source": [
    "### Dinámica del curso:"
   ]
  },
  {
   "cell_type": "markdown",
   "id": "929b0a22",
   "metadata": {
    "slideshow": {
     "slide_type": "fragment"
    }
   },
   "source": [
    "- Las clases serán de 4 tipos: \n",
    "\n",
    "1. Exposición con la computadora para hacer un poco práctica la clase. Serán clases más prácticas, donde trataré de que construyamos fenomenológicamente alguna idea/resultado/concepto y que después profundizaremos analíticamente. Creo que serán unas 4-5 clases así, aunque intentaré que sean más (me gustaría que fueran la mitad de las clases así, pero requieren demasiada preparación). "
   ]
  },
  {
   "cell_type": "code",
   "execution_count": null,
   "id": "7ed6ce68",
   "metadata": {
    "slideshow": {
     "slide_type": "fragment"
    }
   },
   "outputs": [],
   "source": []
  },
  {
   "cell_type": "markdown",
   "id": "46124738",
   "metadata": {
    "slideshow": {
     "slide_type": "fragment"
    }
   },
   "source": [
    "2. Exposición en pizarrón. Será la típica exposición donde hago talachas largas para llegar a algún resultado analítico. La mayoría de las clases serán así. Como estas clases son las más cansadas (y las que serán más comunes), les pediré cada tanto que alguien pase al pizarrón y resuelva un ejercicio de ejemplo con la ayuda de todos. "
   ]
  },
  {
   "cell_type": "markdown",
   "id": "aaa05e4e",
   "metadata": {
    "slideshow": {
     "slide_type": "fragment"
    }
   },
   "source": [
    "3. Ayudantías. Serán típicamente los lunes y el ayudante les ayudará a resolver problemas de la tarea, aunque se espera que ustedes ya tengan un avance. Pasan al pizarrón, muestran su avance, donde se atoren el ayudante intenta desatorarlos (o entre todos). "
   ]
  },
  {
   "cell_type": "markdown",
   "id": "825ae2ee",
   "metadata": {
    "slideshow": {
     "slide_type": "fragment"
    }
   },
   "source": [
    "4. Día relajado. Serán días donde la clase sea muy ligera. Por ejemplo, puede ser una exposión divulgativa o una sesión de juegos. Habrá unas 4 clases así."
   ]
  },
  {
   "cell_type": "markdown",
   "id": "72f3f06b",
   "metadata": {
    "slideshow": {
     "slide_type": "fragment"
    }
   },
   "source": [
    "Además, habrá un bot de **Telegram** que podrán usar para algunas cosas (https://t.me/Ciencias_UNAM_bot), aunque por ahora no hace nada. Por ejemplo, ahí subiré algunos libros, las tareas, los formularios para los exámenes, calculadoras especializadas, etc. Es posible que para los días relajados requieran del bot. \n"
   ]
  },
  {
   "cell_type": "markdown",
   "id": "cdd1a973",
   "metadata": {
    "slideshow": {
     "slide_type": "slide"
    }
   },
   "source": [
    "### ¿Qué dice el plan de estudios que se requiere y debemos ver y qué realmente requerimos y veremos? "
   ]
  },
  {
   "cell_type": "markdown",
   "id": "ba30584f",
   "metadata": {
    "slideshow": {
     "slide_type": "subslide"
    }
   },
   "source": [
    "## Requicitos del plan\n",
    "\n",
    "Termodinámica, Mecánica cuántica y Electromagnetismo II."
   ]
  },
  {
   "cell_type": "markdown",
   "id": "8ccba331",
   "metadata": {
    "slideshow": {
     "slide_type": "subslide"
    }
   },
   "source": [
    "## Requicitos del plan\n",
    "\n",
    "Termodinámica, Mecánica cuántica y ~~Electromagnetismo II~~.\n"
   ]
  },
  {
   "cell_type": "markdown",
   "id": "925a1144",
   "metadata": {
    "slideshow": {
     "slide_type": "subslide"
    }
   },
   "source": [
    "## Requicitos del curso\n",
    "\n",
    "Matemáticas avanzadas de la Física (en particular requeriremos de la transformada de Fourier y de Laplace) y\n",
    "\n",
    "Termodinámica (Es el requicito mayor, vamos a utilizar casi todo) **son fundamentales**. \n"
   ]
  },
  {
   "cell_type": "markdown",
   "id": "c109279d",
   "metadata": {
    "slideshow": {
     "slide_type": "fragment"
    }
   },
   "source": [
    "Mecánica cuántica vamos a ocuparla todo el tiempo, pero quizá basta con lo que llevaron en introducción a la física cuántica. "
   ]
  },
  {
   "cell_type": "markdown",
   "id": "0742abad",
   "metadata": {
    "slideshow": {
     "slide_type": "subslide"
    }
   },
   "source": [
    "## Temario del plan (96h)"
   ]
  },
  {
   "cell_type": "markdown",
   "id": "4be2d208",
   "metadata": {
    "slideshow": {
     "slide_type": "fragment"
    }
   },
   "source": [
    "1. Introducción (2h = 1 clase)\n",
    "\n",
    "    1.1 El enfocque microscópico. \n",
    "    \n",
    "    1.2 Relación entre los enfoques micro y macroscópico\n"
   ]
  },
  {
   "cell_type": "markdown",
   "id": "15faae77",
   "metadata": {
    "slideshow": {
     "slide_type": "fragment"
    }
   },
   "source": [
    "2. Probabilidad en física estadística (10h = 5 clases)\n",
    "\n",
    "    2.1 Camino aleatorio y distribución binomial: Conceptos estadísticos elementales y ejemplos; cálculo de los valores medios en el problema del camino aleatorio, distribución de probabilidad para valores de N grandes; distribución de probabilidad de Gauss.\n",
    "    \n",
    "    2.2 Estudio general del problema del camino aleatorio: distribuciooón de probabilidad con varias variables; distribuciones continuas de probabilidad; cálculo general de los valores medios para un camino aleatorios; cálculo de la distribución de probabilidad; distribución de probabilidad para N grandes. \n",
    "    \n",
    "    2.3 Aplicaciones: difusión y distribución de velocidades de Maxwell (como aplicación del caminante al azar en el espacio de velocidades). "
   ]
  },
  {
   "cell_type": "markdown",
   "id": "ddbe5ef2",
   "metadata": {
    "slideshow": {
     "slide_type": "fragment"
    }
   },
   "source": [
    "3. Mecánica estadística a la Gibbs (18h = 9 clses)\n",
    "\n",
    "    3.1 Sistemas aislados: espacio fase; conjnto microcanónico de Gibbs; postulado de probabilidades a priori iguales; volumen del espacio accesible al sistema; función de partición microcanónica; el gas ideal; interpretación estadística del la entropía. \n",
    "    \n",
    "    3.2 Sistemas en contacto térmico: conjunto canónico; función de partición canónica; valor medio y dispersión de la energía; aplicación al gas ideal; paradoja de Gibbs; compatibilidad entre la termodinámica y la mecánica estadística, interpretación estadística del trabajo, la energía interna y el calor; propiedades termodinámicas; potenciales teromdinámicos; distribución de Maxwell-Boltzmann, teorema de equipartición de la energía. \n",
    "    \n",
    "    3.3 Sistemas con número variable de partículas: conjunto gran canónico, trabajo y potencial químico. \n",
    "    \n",
    "    3.4 Otras derivaciones de las funciones de distribución sujetas a constricciones (por multiplicadores de Lagrange). "
   ]
  },
  {
   "cell_type": "markdown",
   "id": "6d6556bc",
   "metadata": {
    "slideshow": {
     "slide_type": "fragment"
    }
   },
   "source": [
    "4. Estadística Cuántica (12h = 6 clases) \n",
    "\n",
    "    4.1 Determinación de estados cuánticos; sistemas de muchas partículas; partículas indistinguibles de Fermi-Dirac y Bose-Einstein. \n",
    "    \n",
    "    4.2 Conjunto Gran ganónico; límite clásico no degenerado; casos degenerados de Fermi y Bose. \n",
    "    \n",
    "    4.3 Fermiones: número de población; niveles de Fermi; capacidades térmicas; aplicaciones. \n",
    "    \n",
    "    4.4 Bosones: condensación de Bose; temperatura crítica en el gas de Bose ideal; capacidades térmicas. \n"
   ]
  },
  {
   "cell_type": "markdown",
   "id": "44340af0",
   "metadata": {
    "slideshow": {
     "slide_type": "fragment"
    }
   },
   "source": [
    "5. Una aplicación básica: La radiación del cuerpo negro (3h = clase y media)\n",
    "\n",
    "    5.1 Termodinámica de la radiación del cuerpo negro. \n",
    "\n",
    "    5.2 Estadística de la radiación del cuerpo negro. "
   ]
  },
  {
   "cell_type": "markdown",
   "id": "4a59afbb",
   "metadata": {
    "slideshow": {
     "slide_type": "fragment"
    }
   },
   "source": [
    "6. Sistemas de partículas interactuantes, transiciones de fase y puntos críticos (18h = 9 clases)\n",
    "\n",
    "    6.1 Sólidos: vibraciones de la red y modos normales; aproximación de Debye. \n",
    "\n",
    "    6.2 Gases clásicos no ideales: función de partición configuracional; aproximación a bajas densidades; ecuación de estado y coeficientes del virial; deduciónes de la ecuación de van der Waals. \n",
    "    \n",
    "    6.3 Ferromagnetismo; interacción entre espines; introducción al modelo de Ising.\n",
    "    \n",
    "    6.4 Sistemas dieléctricos. \n",
    "    \n",
    "    6.5 Magnetismo y bajas temoeraturas: trabajo magnético; refrigeración magnética; medición de temperaturas muy bajas; superconductividad. "
   ]
  },
  {
   "cell_type": "markdown",
   "id": "8b3dc512",
   "metadata": {
    "slideshow": {
     "slide_type": "fragment"
    }
   },
   "source": [
    "7. Fluctuaciones (12h = 6 clases)\n",
    "\n",
    "    7.1 Fluctuaciones: tendencia al equilibrio; solución de problemas con ruido; teorema de Nyquist; solución con funciones de correlación. \n",
    "    \n",
    "    7.2 Movimiento Browniano: funciones de correlación y autocorrelación; fifusión y la ecuación de Fokker-Plank.\n",
    "    \n",
    "    7.3 Processos irreversibles: relaciones recíprocas de Onsager. "
   ]
  },
  {
   "cell_type": "markdown",
   "id": "75df6217",
   "metadata": {
    "slideshow": {
     "slide_type": "fragment"
    }
   },
   "source": [
    "8. Fundamentos de Teoría Cinética (12h = 6clases)\n",
    "\n",
    "    8.1 Ecuación de Boltzmann\n",
    "\n",
    "    8.2 Teoría de transporte, ecuaciones de la hidrodinámica. "
   ]
  },
  {
   "cell_type": "markdown",
   "id": "e0e86f44",
   "metadata": {
    "slideshow": {
     "slide_type": "fragment"
    }
   },
   "source": [
    "9. Algunas Aplicaciones modernas de la Física Estadística (12h = 6 clases)\n",
    "\n",
    "    9.1 Ecuaciones de estado. Dispersión de luz. Fenómenos crísticos. Modelo de Ising, etc.\n",
    "    \n",
    "    **Total de horas = 99h!!**"
   ]
  },
  {
   "cell_type": "markdown",
   "id": "8fc25744",
   "metadata": {
    "slideshow": {
     "slide_type": "fragment"
    }
   },
   "source": [
    "### Bibliografía: \n",
    "\n",
    "Básica: \n",
    "1. Reif F. 1968, Fundamentos de física estadística y térmica...\n",
    "2. Kittel, Kroemer, 1980 Thermal physics...\n",
    "3. García Colín **1995**, Termodinámica estadística...\n",
    "\n",
    "Complementaria: \n",
    "\n",
    "4. Andreus 1975 Equilibrium Statistical mechanics...\n",
    "5. Mandl 1979, Física estadística...\n",
    "6. Kubo 1974, Statistical mechanics...\n"
   ]
  },
  {
   "cell_type": "markdown",
   "id": "32a435eb",
   "metadata": {
    "slideshow": {
     "slide_type": "subslide"
    }
   },
   "source": [
    "Nota: Discutir los problemas de este temario."
   ]
  },
  {
   "cell_type": "markdown",
   "id": "6dbd248f",
   "metadata": {
    "slideshow": {
     "slide_type": "slide"
    }
   },
   "source": [
    "## Temario del curso"
   ]
  },
  {
   "cell_type": "markdown",
   "id": "7fc03c12",
   "metadata": {
    "slideshow": {
     "slide_type": "fragment"
    }
   },
   "source": [
    "1. Introducción (1h = el resto de la clase de hoy, quizá un poco del miércoles)\n",
    "   \n",
    "   1.1 Discusión sobre el significado de las cantidades termodinámicas (temperatura, energía interna, calor, entropía) y la dirección en el tiempo. \n",
    "   \n",
    "   1.2 Discusión sobre lo microscópico y lo macroscópico.\n",
    "   \n",
    "   1.3 Propósito de la física estadística y aplicaciones actuales. "
   ]
  },
  {
   "cell_type": "markdown",
   "id": "b1486193",
   "metadata": {
    "slideshow": {
     "slide_type": "fragment"
    }
   },
   "source": [
    "~~2. Probabilidad en la física estadística (94h = resto del semestre).~~ "
   ]
  },
  {
   "cell_type": "markdown",
   "id": "1d8e5e70",
   "metadata": {
    "slideshow": {
     "slide_type": "fragment"
    }
   },
   "source": [
    "2. Conceptos básicos de probabilidad (definición de probabilidad, probabilidad condicional, variable aleatoria, valor esperado, varianza, correlación, etc...). \n",
    "\n",
    "En esta sección también veremos algunos resultados básicos de combinatoria, el teorema de Bayes, etc... \n",
    "    "
   ]
  },
  {
   "cell_type": "markdown",
   "id": "f6be0c38",
   "metadata": {
    "slideshow": {
     "slide_type": "fragment"
    }
   },
   "source": [
    "3. Tiros de Bernoulli y caminatas aleatorias (distribuciones de probabilidad, tiempos de pasaje, etc...)"
   ]
  },
  {
   "cell_type": "markdown",
   "id": "8775ca3d",
   "metadata": {
    "slideshow": {
     "slide_type": "fragment"
    }
   },
   "source": [
    "4. Teorema de números largos y teorema del límite central "
   ]
  },
  {
   "cell_type": "code",
   "execution_count": 8,
   "id": "d76b872c",
   "metadata": {},
   "outputs": [
    {
     "data": {
      "image/png": "[encoded data removed]",
      "image/svg+xml": [
       "<?xml version=\"1.0\" encoding=\"utf-8\"?>\n",
       "<svg xmlns=\"http://www.w3.org/2000/svg\" xmlns:xlink=\"http://www.w3.org/1999/xlink\" width=\"600\" height=\"400\" viewBox=\"0 0 2400 1600\">\n",
       "<defs>\n",
       "  <clipPath id=\"clip320\">\n",
       "    <rect x=\"0\" y=\"0\" width=\"2400\" height=\"1600\"/>\n",
       "  </clipPath>\n",
       "</defs>\n",
       "<path clip-path=\"url(#clip320)\" d=\"M0 1600 L2400 1600 L2400 0 L0 0  Z\" fill=\"#ffffff\" fill-rule=\"evenodd\" fill-opacity=\"1\"/>\n",
       "<defs>\n",
       "  <clipPath id=\"clip321\">\n",
       "    <rect x=\"480\" y=\"0\" width=\"1681\" height=\"1600\"/>\n",
       "  </clipPath>\n",
       "</defs>\n",
       "<path clip-path=\"url(#clip320)\" d=\"M172.015 1486.45 L2352.76 1486.45 L2352.76 47.2441 L172.015 47.2441  Z\" fill=\"#ffffff\" fill-rule=\"evenodd\" fill-opacity=\"1\"/>\n",
       "<defs>\n",
       "  <clipPath id=\"clip322\">\n",
       "    <rect x=\"172\" y=\"47\" width=\"2182\" height=\"1440\"/>\n",
       "  </clipPath>\n",
       "</defs>\n",
       "<polyline clip-path=\"url(#clip322)\" style=\"stroke:#000000; stroke-linecap:round; stroke-linejoin:round; stroke-width:2; stroke-opacity:0.1; fill:none\" points=\"436.799,1486.45 436.799,47.2441 \"/>\n",
       "<polyline clip-path=\"url(#clip322)\" style=\"stroke:#000000; stroke-linecap:round; stroke-linejoin:round; stroke-width:2; stroke-opacity:0.1; fill:none\" points=\"726.479,1486.45 726.479,47.2441 \"/>\n",
       "<polyline clip-path=\"url(#clip322)\" style=\"stroke:#000000; stroke-linecap:round; stroke-linejoin:round; stroke-width:2; stroke-opacity:0.1; fill:none\" points=\"1016.16,1486.45 1016.16,47.2441 \"/>\n",
       "<polyline clip-path=\"url(#clip322)\" style=\"stroke:#000000; stroke-linecap:round; stroke-linejoin:round; stroke-width:2; stroke-opacity:0.1; fill:none\" points=\"1305.84,1486.45 1305.84,47.2441 \"/>\n",
       "<polyline clip-path=\"url(#clip322)\" style=\"stroke:#000000; stroke-linecap:round; stroke-linejoin:round; stroke-width:2; stroke-opacity:0.1; fill:none\" points=\"1595.52,1486.45 1595.52,47.2441 \"/>\n",
       "<polyline clip-path=\"url(#clip322)\" style=\"stroke:#000000; stroke-linecap:round; stroke-linejoin:round; stroke-width:2; stroke-opacity:0.1; fill:none\" points=\"1885.2,1486.45 1885.2,47.2441 \"/>\n",
       "<polyline clip-path=\"url(#clip322)\" style=\"stroke:#000000; stroke-linecap:round; stroke-linejoin:round; stroke-width:2; stroke-opacity:0.1; fill:none\" points=\"2174.88,1486.45 2174.88,47.2441 \"/>\n",
       "<polyline clip-path=\"url(#clip320)\" style=\"stroke:#000000; stroke-linecap:round; stroke-linejoin:round; stroke-width:4; stroke-opacity:1; fill:none\" points=\"172.015,1486.45 2352.76,1486.45 \"/>\n",
       "<polyline clip-path=\"url(#clip320)\" style=\"stroke:#000000; stroke-linecap:round; stroke-linejoin:round; stroke-width:4; stroke-opacity:1; fill:none\" points=\"436.799,1486.45 436.799,1467.55 \"/>\n",
       "<polyline clip-path=\"url(#clip320)\" style=\"stroke:#000000; stroke-linecap:round; stroke-linejoin:round; stroke-width:4; stroke-opacity:1; fill:none\" points=\"726.479,1486.45 726.479,1467.55 \"/>\n",
       "<polyline clip-path=\"url(#clip320)\" style=\"stroke:#000000; stroke-linecap:round; stroke-linejoin:round; stroke-width:4; stroke-opacity:1; fill:none\" points=\"1016.16,1486.45 1016.16,1467.55 \"/>\n",
       "<polyline clip-path=\"url(#clip320)\" style=\"stroke:#000000; stroke-linecap:round; stroke-linejoin:round; stroke-width:4; stroke-opacity:1; fill:none\" points=\"1305.84,1486.45 1305.84,1467.55 \"/>\n",
       "<polyline clip-path=\"url(#clip320)\" style=\"stroke:#000000; stroke-linecap:round; stroke-linejoin:round; stroke-width:4; stroke-opacity:1; fill:none\" points=\"1595.52,1486.45 1595.52,1467.55 \"/>\n",
       "<polyline clip-path=\"url(#clip320)\" style=\"stroke:#000000; stroke-linecap:round; stroke-linejoin:round; stroke-width:4; stroke-opacity:1; fill:none\" points=\"1885.2,1486.45 1885.2,1467.55 \"/>\n",
       "<polyline clip-path=\"url(#clip320)\" style=\"stroke:#000000; stroke-linecap:round; stroke-linejoin:round; stroke-width:4; stroke-opacity:1; fill:none\" points=\"2174.88,1486.45 2174.88,1467.55 \"/>\n",
       "<path clip-path=\"url(#clip320)\" d=\"M431.452 1544.91 L447.771 1544.91 L447.771 1548.85 L425.827 1548.85 L425.827 1544.91 Q428.489 1542.16 433.072 1537.53 Q437.679 1532.88 438.859 1531.53 Q441.105 1529.01 441.984 1527.27 Q442.887 1525.51 442.887 1523.82 Q442.887 1521.07 440.943 1519.33 Q439.021 1517.6 435.92 1517.6 Q433.72 1517.6 431.267 1518.36 Q428.836 1519.13 426.058 1520.68 L426.058 1515.95 Q428.883 1514.82 431.336 1514.24 Q433.79 1513.66 435.827 1513.66 Q441.197 1513.66 444.392 1516.35 Q447.586 1519.03 447.586 1523.52 Q447.586 1525.65 446.776 1527.57 Q445.989 1529.47 443.882 1532.07 Q443.304 1532.74 440.202 1535.95 Q437.1 1539.15 431.452 1544.91 Z\" fill=\"#000000\" fill-rule=\"nonzero\" fill-opacity=\"1\" /><path clip-path=\"url(#clip320)\" d=\"M730.726 1530.21 Q734.083 1530.93 735.958 1533.2 Q737.856 1535.47 737.856 1538.8 Q737.856 1543.92 734.337 1546.72 Q730.819 1549.52 724.337 1549.52 Q722.161 1549.52 719.847 1549.08 Q717.555 1548.66 715.101 1547.81 L715.101 1543.29 Q717.046 1544.43 719.361 1545.01 Q721.675 1545.58 724.198 1545.58 Q728.597 1545.58 730.888 1543.85 Q733.203 1542.11 733.203 1538.8 Q733.203 1535.75 731.05 1534.03 Q728.921 1532.3 725.101 1532.3 L721.073 1532.3 L721.073 1528.45 L725.286 1528.45 Q728.735 1528.45 730.564 1527.09 Q732.393 1525.7 732.393 1523.11 Q732.393 1520.45 730.495 1519.03 Q728.62 1517.6 725.101 1517.6 Q723.18 1517.6 720.981 1518.01 Q718.782 1518.43 716.143 1519.31 L716.143 1515.14 Q718.805 1514.4 721.12 1514.03 Q723.458 1513.66 725.518 1513.66 Q730.842 1513.66 733.944 1516.09 Q737.046 1518.5 737.046 1522.62 Q737.046 1525.49 735.402 1527.48 Q733.759 1529.45 730.726 1530.21 Z\" fill=\"#000000\" fill-rule=\"nonzero\" fill-opacity=\"1\" /><path clip-path=\"url(#clip320)\" d=\"M1019.17 1518.36 L1007.36 1536.81 L1019.17 1536.81 L1019.17 1518.36 M1017.94 1514.29 L1023.82 1514.29 L1023.82 1536.81 L1028.75 1536.81 L1028.75 1540.7 L1023.82 1540.7 L1023.82 1548.85 L1019.17 1548.85 L1019.17 1540.7 L1003.57 1540.7 L1003.57 1536.19 L1017.94 1514.29 Z\" fill=\"#000000\" fill-rule=\"nonzero\" fill-opacity=\"1\" /><path clip-path=\"url(#clip320)\" d=\"M1296.12 1514.29 L1314.47 1514.29 L1314.47 1518.22 L1300.4 1518.22 L1300.4 1526.7 Q1301.42 1526.35 1302.43 1526.19 Q1303.45 1526 1304.47 1526 Q1310.26 1526 1313.64 1529.17 Q1317.02 1532.34 1317.02 1537.76 Q1317.02 1543.34 1313.55 1546.44 Q1310.07 1549.52 1303.75 1549.52 Q1301.58 1549.52 1299.31 1549.15 Q1297.06 1548.78 1294.66 1548.04 L1294.66 1543.34 Q1296.74 1544.47 1298.96 1545.03 Q1301.18 1545.58 1303.66 1545.58 Q1307.67 1545.58 1310 1543.48 Q1312.34 1541.37 1312.34 1537.76 Q1312.34 1534.15 1310 1532.04 Q1307.67 1529.94 1303.66 1529.94 Q1301.79 1529.94 1299.91 1530.35 Q1298.06 1530.77 1296.12 1531.65 L1296.12 1514.29 Z\" fill=\"#000000\" fill-rule=\"nonzero\" fill-opacity=\"1\" /><path clip-path=\"url(#clip320)\" d=\"M1595.92 1529.7 Q1592.77 1529.7 1590.92 1531.86 Q1589.09 1534.01 1589.09 1537.76 Q1589.09 1541.49 1590.92 1543.66 Q1592.77 1545.82 1595.92 1545.82 Q1599.07 1545.82 1600.9 1543.66 Q1602.75 1541.49 1602.75 1537.76 Q1602.75 1534.01 1600.9 1531.86 Q1599.07 1529.7 1595.92 1529.7 M1605.2 1515.05 L1605.2 1519.31 Q1603.44 1518.48 1601.64 1518.04 Q1599.86 1517.6 1598.1 1517.6 Q1593.47 1517.6 1591.01 1520.72 Q1588.58 1523.85 1588.24 1530.17 Q1589.6 1528.15 1591.66 1527.09 Q1593.72 1526 1596.2 1526 Q1601.41 1526 1604.42 1529.17 Q1607.45 1532.32 1607.45 1537.76 Q1607.45 1543.08 1604.3 1546.3 Q1601.15 1549.52 1595.92 1549.52 Q1589.93 1549.52 1586.76 1544.94 Q1583.58 1540.33 1583.58 1531.6 Q1583.58 1523.41 1587.47 1518.55 Q1591.36 1513.66 1597.91 1513.66 Q1599.67 1513.66 1601.45 1514.01 Q1603.26 1514.36 1605.2 1515.05 Z\" fill=\"#000000\" fill-rule=\"nonzero\" fill-opacity=\"1\" /><path clip-path=\"url(#clip320)\" d=\"M1874.08 1514.29 L1896.31 1514.29 L1896.31 1516.28 L1883.76 1548.85 L1878.88 1548.85 L1890.68 1518.22 L1874.08 1518.22 L1874.08 1514.29 Z\" fill=\"#000000\" fill-rule=\"nonzero\" fill-opacity=\"1\" /><path clip-path=\"url(#clip320)\" d=\"M2174.88 1532.44 Q2171.54 1532.44 2169.62 1534.22 Q2167.72 1536 2167.72 1539.13 Q2167.72 1542.25 2169.62 1544.03 Q2171.54 1545.82 2174.88 1545.82 Q2178.21 1545.82 2180.13 1544.03 Q2182.05 1542.23 2182.05 1539.13 Q2182.05 1536 2180.13 1534.22 Q2178.23 1532.44 2174.88 1532.44 M2170.2 1530.45 Q2167.19 1529.7 2165.5 1527.64 Q2163.83 1525.58 2163.83 1522.62 Q2163.83 1518.48 2166.77 1516.07 Q2169.74 1513.66 2174.88 1513.66 Q2180.04 1513.66 2182.98 1516.07 Q2185.92 1518.48 2185.92 1522.62 Q2185.92 1525.58 2184.23 1527.64 Q2182.56 1529.7 2179.57 1530.45 Q2182.95 1531.23 2184.83 1533.52 Q2186.73 1535.82 2186.73 1539.13 Q2186.73 1544.15 2183.65 1546.83 Q2180.59 1549.52 2174.88 1549.52 Q2169.16 1549.52 2166.08 1546.83 Q2163.02 1544.15 2163.02 1539.13 Q2163.02 1535.82 2164.92 1533.52 Q2166.82 1531.23 2170.2 1530.45 M2168.49 1523.06 Q2168.49 1525.75 2170.15 1527.25 Q2171.84 1528.76 2174.88 1528.76 Q2177.88 1528.76 2179.57 1527.25 Q2181.29 1525.75 2181.29 1523.06 Q2181.29 1520.38 2179.57 1518.87 Q2177.88 1517.37 2174.88 1517.37 Q2171.84 1517.37 2170.15 1518.87 Q2168.49 1520.38 2168.49 1523.06 Z\" fill=\"#000000\" fill-rule=\"nonzero\" fill-opacity=\"1\" /><polyline clip-path=\"url(#clip322)\" style=\"stroke:#000000; stroke-linecap:round; stroke-linejoin:round; stroke-width:2; stroke-opacity:0.1; fill:none\" points=\"172.015,1486.45 2352.76,1486.45 \"/>\n",
       "<polyline clip-path=\"url(#clip322)\" style=\"stroke:#000000; stroke-linecap:round; stroke-linejoin:round; stroke-width:2; stroke-opacity:0.1; fill:none\" points=\"172.015,1180.23 2352.76,1180.23 \"/>\n",
       "<polyline clip-path=\"url(#clip322)\" style=\"stroke:#000000; stroke-linecap:round; stroke-linejoin:round; stroke-width:2; stroke-opacity:0.1; fill:none\" points=\"172.015,874.021 2352.76,874.021 \"/>\n",
       "<polyline clip-path=\"url(#clip322)\" style=\"stroke:#000000; stroke-linecap:round; stroke-linejoin:round; stroke-width:2; stroke-opacity:0.1; fill:none\" points=\"172.015,567.807 2352.76,567.807 \"/>\n",
       "<polyline clip-path=\"url(#clip322)\" style=\"stroke:#000000; stroke-linecap:round; stroke-linejoin:round; stroke-width:2; stroke-opacity:0.1; fill:none\" points=\"172.015,261.594 2352.76,261.594 \"/>\n",
       "<polyline clip-path=\"url(#clip320)\" style=\"stroke:#000000; stroke-linecap:round; stroke-linejoin:round; stroke-width:4; stroke-opacity:1; fill:none\" points=\"172.015,1486.45 172.015,47.2441 \"/>\n",
       "<polyline clip-path=\"url(#clip320)\" style=\"stroke:#000000; stroke-linecap:round; stroke-linejoin:round; stroke-width:4; stroke-opacity:1; fill:none\" points=\"172.015,1486.45 190.912,1486.45 \"/>\n",
       "<polyline clip-path=\"url(#clip320)\" style=\"stroke:#000000; stroke-linecap:round; stroke-linejoin:round; stroke-width:4; stroke-opacity:1; fill:none\" points=\"172.015,1180.23 190.912,1180.23 \"/>\n",
       "<polyline clip-path=\"url(#clip320)\" style=\"stroke:#000000; stroke-linecap:round; stroke-linejoin:round; stroke-width:4; stroke-opacity:1; fill:none\" points=\"172.015,874.021 190.912,874.021 \"/>\n",
       "<polyline clip-path=\"url(#clip320)\" style=\"stroke:#000000; stroke-linecap:round; stroke-linejoin:round; stroke-width:4; stroke-opacity:1; fill:none\" points=\"172.015,567.807 190.912,567.807 \"/>\n",
       "<polyline clip-path=\"url(#clip320)\" style=\"stroke:#000000; stroke-linecap:round; stroke-linejoin:round; stroke-width:4; stroke-opacity:1; fill:none\" points=\"172.015,261.594 190.912,261.594 \"/>\n",
       "<path clip-path=\"url(#clip320)\" d=\"M124.07 1472.25 Q120.459 1472.25 118.631 1475.81 Q116.825 1479.35 116.825 1486.48 Q116.825 1493.59 118.631 1497.15 Q120.459 1500.7 124.07 1500.7 Q127.705 1500.7 129.51 1497.15 Q131.339 1493.59 131.339 1486.48 Q131.339 1479.35 129.51 1475.81 Q127.705 1472.25 124.07 1472.25 M124.07 1468.54 Q129.881 1468.54 132.936 1473.15 Q136.015 1477.73 136.015 1486.48 Q136.015 1495.21 132.936 1499.82 Q129.881 1504.4 124.07 1504.4 Q118.26 1504.4 115.182 1499.82 Q112.126 1495.21 112.126 1486.48 Q112.126 1477.73 115.182 1473.15 Q118.26 1468.54 124.07 1468.54 Z\" fill=\"#000000\" fill-rule=\"nonzero\" fill-opacity=\"1\" /><path clip-path=\"url(#clip320)\" d=\"M54.5569 1193.58 L62.1958 1193.58 L62.1958 1167.21 L53.8856 1168.88 L53.8856 1164.62 L62.1495 1162.95 L66.8254 1162.95 L66.8254 1193.58 L74.4642 1193.58 L74.4642 1197.51 L54.5569 1197.51 L54.5569 1193.58 Z\" fill=\"#000000\" fill-rule=\"nonzero\" fill-opacity=\"1\" /><path clip-path=\"url(#clip320)\" d=\"M93.9086 1166.03 Q90.2975 1166.03 88.4688 1169.6 Q86.6632 1173.14 86.6632 1180.27 Q86.6632 1187.38 88.4688 1190.94 Q90.2975 1194.48 93.9086 1194.48 Q97.5428 1194.48 99.3483 1190.94 Q101.177 1187.38 101.177 1180.27 Q101.177 1173.14 99.3483 1169.6 Q97.5428 1166.03 93.9086 1166.03 M93.9086 1162.33 Q99.7187 1162.33 102.774 1166.94 Q105.853 1171.52 105.853 1180.27 Q105.853 1189 102.774 1193.6 Q99.7187 1198.19 93.9086 1198.19 Q88.0984 1198.19 85.0197 1193.6 Q81.9642 1189 81.9642 1180.27 Q81.9642 1171.52 85.0197 1166.94 Q88.0984 1162.33 93.9086 1162.33 Z\" fill=\"#000000\" fill-rule=\"nonzero\" fill-opacity=\"1\" /><path clip-path=\"url(#clip320)\" d=\"M124.07 1166.03 Q120.459 1166.03 118.631 1169.6 Q116.825 1173.14 116.825 1180.27 Q116.825 1187.38 118.631 1190.94 Q120.459 1194.48 124.07 1194.48 Q127.705 1194.48 129.51 1190.94 Q131.339 1187.38 131.339 1180.27 Q131.339 1173.14 129.51 1169.6 Q127.705 1166.03 124.07 1166.03 M124.07 1162.33 Q129.881 1162.33 132.936 1166.94 Q136.015 1171.52 136.015 1180.27 Q136.015 1189 132.936 1193.6 Q129.881 1198.19 124.07 1198.19 Q118.26 1198.19 115.182 1193.6 Q112.126 1189 112.126 1180.27 Q112.126 1171.52 115.182 1166.94 Q118.26 1162.33 124.07 1162.33 Z\" fill=\"#000000\" fill-rule=\"nonzero\" fill-opacity=\"1\" /><path clip-path=\"url(#clip320)\" d=\"M57.7745 887.366 L74.0939 887.366 L74.0939 891.301 L52.1495 891.301 L52.1495 887.366 Q54.8115 884.611 59.3949 879.981 Q64.0013 875.329 65.1819 873.986 Q67.4272 871.463 68.3068 869.727 Q69.2096 867.968 69.2096 866.278 Q69.2096 863.523 67.2652 861.787 Q65.3439 860.051 62.2421 860.051 Q60.043 860.051 57.5893 860.815 Q55.1588 861.579 52.381 863.13 L52.381 858.407 Q55.2051 857.273 57.6588 856.694 Q60.1124 856.116 62.1495 856.116 Q67.5198 856.116 70.7142 858.801 Q73.9087 861.486 73.9087 865.977 Q73.9087 868.106 73.0985 870.028 Q72.3115 871.926 70.205 874.518 Q69.6263 875.19 66.5245 878.407 Q63.4226 881.602 57.7745 887.366 Z\" fill=\"#000000\" fill-rule=\"nonzero\" fill-opacity=\"1\" /><path clip-path=\"url(#clip320)\" d=\"M93.9086 859.819 Q90.2975 859.819 88.4688 863.384 Q86.6632 866.926 86.6632 874.055 Q86.6632 881.162 88.4688 884.727 Q90.2975 888.268 93.9086 888.268 Q97.5428 888.268 99.3483 884.727 Q101.177 881.162 101.177 874.055 Q101.177 866.926 99.3483 863.384 Q97.5428 859.819 93.9086 859.819 M93.9086 856.116 Q99.7187 856.116 102.774 860.722 Q105.853 865.306 105.853 874.055 Q105.853 882.782 102.774 887.389 Q99.7187 891.972 93.9086 891.972 Q88.0984 891.972 85.0197 887.389 Q81.9642 882.782 81.9642 874.055 Q81.9642 865.306 85.0197 860.722 Q88.0984 856.116 93.9086 856.116 Z\" fill=\"#000000\" fill-rule=\"nonzero\" fill-opacity=\"1\" /><path clip-path=\"url(#clip320)\" d=\"M124.07 859.819 Q120.459 859.819 118.631 863.384 Q116.825 866.926 116.825 874.055 Q116.825 881.162 118.631 884.727 Q120.459 888.268 124.07 888.268 Q127.705 888.268 129.51 884.727 Q131.339 881.162 131.339 874.055 Q131.339 866.926 129.51 863.384 Q127.705 859.819 124.07 859.819 M124.07 856.116 Q129.881 856.116 132.936 860.722 Q136.015 865.306 136.015 874.055 Q136.015 882.782 132.936 887.389 Q129.881 891.972 124.07 891.972 Q118.26 891.972 115.182 887.389 Q112.126 882.782 112.126 874.055 Q112.126 865.306 115.182 860.722 Q118.26 856.116 124.07 856.116 Z\" fill=\"#000000\" fill-rule=\"nonzero\" fill-opacity=\"1\" /><path clip-path=\"url(#clip320)\" d=\"M67.9133 566.453 Q71.2698 567.171 73.1448 569.439 Q75.0429 571.708 75.0429 575.041 Q75.0429 580.157 71.5244 582.958 Q68.0059 585.758 61.5245 585.758 Q59.3486 585.758 57.0338 585.319 Q54.7421 584.902 52.2884 584.046 L52.2884 579.532 Q54.2328 580.666 56.5477 581.245 Q58.8625 581.823 61.3856 581.823 Q65.7837 581.823 68.0754 580.087 Q70.3902 578.351 70.3902 575.041 Q70.3902 571.985 68.2374 570.272 Q66.1078 568.536 62.2884 568.536 L58.2606 568.536 L58.2606 564.694 L62.4735 564.694 Q65.9226 564.694 67.7513 563.328 Q69.58 561.939 69.58 559.347 Q69.58 556.685 67.6819 555.273 Q65.8069 553.837 62.2884 553.837 Q60.3671 553.837 58.168 554.254 Q55.969 554.671 53.3301 555.55 L53.3301 551.384 Q55.9921 550.643 58.3069 550.273 Q60.6449 549.902 62.705 549.902 Q68.0291 549.902 71.1309 552.333 Q74.2327 554.74 74.2327 558.86 Q74.2327 561.731 72.5892 563.722 Q70.9457 565.689 67.9133 566.453 Z\" fill=\"#000000\" fill-rule=\"nonzero\" fill-opacity=\"1\" /><path clip-path=\"url(#clip320)\" d=\"M93.9086 553.606 Q90.2975 553.606 88.4688 557.171 Q86.6632 560.712 86.6632 567.842 Q86.6632 574.948 88.4688 578.513 Q90.2975 582.055 93.9086 582.055 Q97.5428 582.055 99.3483 578.513 Q101.177 574.948 101.177 567.842 Q101.177 560.712 99.3483 557.171 Q97.5428 553.606 93.9086 553.606 M93.9086 549.902 Q99.7187 549.902 102.774 554.509 Q105.853 559.092 105.853 567.842 Q105.853 576.569 102.774 581.175 Q99.7187 585.758 93.9086 585.758 Q88.0984 585.758 85.0197 581.175 Q81.9642 576.569 81.9642 567.842 Q81.9642 559.092 85.0197 554.509 Q88.0984 549.902 93.9086 549.902 Z\" fill=\"#000000\" fill-rule=\"nonzero\" fill-opacity=\"1\" /><path clip-path=\"url(#clip320)\" d=\"M124.07 553.606 Q120.459 553.606 118.631 557.171 Q116.825 560.712 116.825 567.842 Q116.825 574.948 118.631 578.513 Q120.459 582.055 124.07 582.055 Q127.705 582.055 129.51 578.513 Q131.339 574.948 131.339 567.842 Q131.339 560.712 129.51 557.171 Q127.705 553.606 124.07 553.606 M124.07 549.902 Q129.881 549.902 132.936 554.509 Q136.015 559.092 136.015 567.842 Q136.015 576.569 132.936 581.175 Q129.881 585.758 124.07 585.758 Q118.26 585.758 115.182 581.175 Q112.126 576.569 112.126 567.842 Q112.126 559.092 115.182 554.509 Q118.26 549.902 124.07 549.902 Z\" fill=\"#000000\" fill-rule=\"nonzero\" fill-opacity=\"1\" /><path clip-path=\"url(#clip320)\" d=\"M66.5939 248.388 L54.7884 266.837 L66.5939 266.837 L66.5939 248.388 M65.367 244.314 L71.2466 244.314 L71.2466 266.837 L76.1772 266.837 L76.1772 270.725 L71.2466 270.725 L71.2466 278.874 L66.5939 278.874 L66.5939 270.725 L50.9921 270.725 L50.9921 266.212 L65.367 244.314 Z\" fill=\"#000000\" fill-rule=\"nonzero\" fill-opacity=\"1\" /><path clip-path=\"url(#clip320)\" d=\"M93.9086 247.392 Q90.2975 247.392 88.4688 250.957 Q86.6632 254.499 86.6632 261.628 Q86.6632 268.735 88.4688 272.3 Q90.2975 275.841 93.9086 275.841 Q97.5428 275.841 99.3483 272.3 Q101.177 268.735 101.177 261.628 Q101.177 254.499 99.3483 250.957 Q97.5428 247.392 93.9086 247.392 M93.9086 243.689 Q99.7187 243.689 102.774 248.295 Q105.853 252.878 105.853 261.628 Q105.853 270.355 102.774 274.962 Q99.7187 279.545 93.9086 279.545 Q88.0984 279.545 85.0197 274.962 Q81.9642 270.355 81.9642 261.628 Q81.9642 252.878 85.0197 248.295 Q88.0984 243.689 93.9086 243.689 Z\" fill=\"#000000\" fill-rule=\"nonzero\" fill-opacity=\"1\" /><path clip-path=\"url(#clip320)\" d=\"M124.07 247.392 Q120.459 247.392 118.631 250.957 Q116.825 254.499 116.825 261.628 Q116.825 268.735 118.631 272.3 Q120.459 275.841 124.07 275.841 Q127.705 275.841 129.51 272.3 Q131.339 268.735 131.339 261.628 Q131.339 254.499 129.51 250.957 Q127.705 247.392 124.07 247.392 M124.07 243.689 Q129.881 243.689 132.936 248.295 Q136.015 252.878 136.015 261.628 Q136.015 270.355 132.936 274.962 Q129.881 279.545 124.07 279.545 Q118.26 279.545 115.182 274.962 Q112.126 270.355 112.126 261.628 Q112.126 252.878 115.182 248.295 Q118.26 243.689 124.07 243.689 Z\" fill=\"#000000\" fill-rule=\"nonzero\" fill-opacity=\"1\" /><path clip-path=\"url(#clip322)\" d=\"M291.959 1483.39 L291.959 1486.45 L320.927 1486.45 L320.927 1483.39 L291.959 1483.39 L291.959 1483.39  Z\" fill=\"#009af9\" fill-rule=\"evenodd\" fill-opacity=\"1\"/>\n",
       "<polyline clip-path=\"url(#clip322)\" style=\"stroke:#000000; stroke-linecap:round; stroke-linejoin:round; stroke-width:4; stroke-opacity:1; fill:none\" points=\"291.959,1483.39 291.959,1486.45 320.927,1486.45 320.927,1483.39 291.959,1483.39 \"/>\n",
       "<path clip-path=\"url(#clip322)\" d=\"M320.927 1486.45 L320.927 1486.45 L349.895 1486.45 L349.895 1486.45 L320.927 1486.45 L320.927 1486.45  Z\" fill=\"#009af9\" fill-rule=\"evenodd\" fill-opacity=\"1\"/>\n",
       "<polyline clip-path=\"url(#clip322)\" style=\"stroke:#000000; stroke-linecap:round; stroke-linejoin:round; stroke-width:4; stroke-opacity:1; fill:none\" points=\"320.927,1486.45 320.927,1486.45 349.895,1486.45 320.927,1486.45 \"/>\n",
       "<path clip-path=\"url(#clip322)\" d=\"M349.895 1483.39 L349.895 1486.45 L378.863 1486.45 L378.863 1483.39 L349.895 1483.39 L349.895 1483.39  Z\" fill=\"#009af9\" fill-rule=\"evenodd\" fill-opacity=\"1\"/>\n",
       "<polyline clip-path=\"url(#clip322)\" style=\"stroke:#000000; stroke-linecap:round; stroke-linejoin:round; stroke-width:4; stroke-opacity:1; fill:none\" points=\"349.895,1483.39 349.895,1486.45 378.863,1486.45 378.863,1483.39 349.895,1483.39 \"/>\n",
       "<path clip-path=\"url(#clip322)\" d=\"M378.863 1486.45 L378.863 1486.45 L407.831 1486.45 L407.831 1486.45 L378.863 1486.45 L378.863 1486.45  Z\" fill=\"#009af9\" fill-rule=\"evenodd\" fill-opacity=\"1\"/>\n",
       "<polyline clip-path=\"url(#clip322)\" style=\"stroke:#000000; stroke-linecap:round; stroke-linejoin:round; stroke-width:4; stroke-opacity:1; fill:none\" points=\"378.863,1486.45 378.863,1486.45 407.831,1486.45 378.863,1486.45 \"/>\n",
       "<path clip-path=\"url(#clip322)\" d=\"M407.831 1483.39 L407.831 1486.45 L436.799 1486.45 L436.799 1483.39 L407.831 1483.39 L407.831 1483.39  Z\" fill=\"#009af9\" fill-rule=\"evenodd\" fill-opacity=\"1\"/>\n",
       "<polyline clip-path=\"url(#clip322)\" style=\"stroke:#000000; stroke-linecap:round; stroke-linejoin:round; stroke-width:4; stroke-opacity:1; fill:none\" points=\"407.831,1483.39 407.831,1486.45 436.799,1486.45 436.799,1483.39 407.831,1483.39 \"/>\n",
       "<path clip-path=\"url(#clip322)\" d=\"M436.799 1480.32 L436.799 1486.45 L465.767 1486.45 L465.767 1480.32 L436.799 1480.32 L436.799 1480.32  Z\" fill=\"#009af9\" fill-rule=\"evenodd\" fill-opacity=\"1\"/>\n",
       "<polyline clip-path=\"url(#clip322)\" style=\"stroke:#000000; stroke-linecap:round; stroke-linejoin:round; stroke-width:4; stroke-opacity:1; fill:none\" points=\"436.799,1480.32 436.799,1486.45 465.767,1486.45 465.767,1480.32 436.799,1480.32 \"/>\n",
       "<path clip-path=\"url(#clip322)\" d=\"M465.767 1471.14 L465.767 1486.45 L494.735 1486.45 L494.735 1471.14 L465.767 1471.14 L465.767 1471.14  Z\" fill=\"#009af9\" fill-rule=\"evenodd\" fill-opacity=\"1\"/>\n",
       "<polyline clip-path=\"url(#clip322)\" style=\"stroke:#000000; stroke-linecap:round; stroke-linejoin:round; stroke-width:4; stroke-opacity:1; fill:none\" points=\"465.767,1471.14 465.767,1486.45 494.735,1486.45 494.735,1471.14 465.767,1471.14 \"/>\n",
       "<path clip-path=\"url(#clip322)\" d=\"M494.735 1471.14 L494.735 1486.45 L523.703 1486.45 L523.703 1471.14 L494.735 1471.14 L494.735 1471.14  Z\" fill=\"#009af9\" fill-rule=\"evenodd\" fill-opacity=\"1\"/>\n",
       "<polyline clip-path=\"url(#clip322)\" style=\"stroke:#000000; stroke-linecap:round; stroke-linejoin:round; stroke-width:4; stroke-opacity:1; fill:none\" points=\"494.735,1471.14 494.735,1486.45 523.703,1486.45 523.703,1471.14 494.735,1471.14 \"/>\n",
       "<path clip-path=\"url(#clip322)\" d=\"M523.703 1474.2 L523.703 1486.45 L552.671 1486.45 L552.671 1474.2 L523.703 1474.2 L523.703 1474.2  Z\" fill=\"#009af9\" fill-rule=\"evenodd\" fill-opacity=\"1\"/>\n",
       "<polyline clip-path=\"url(#clip322)\" style=\"stroke:#000000; stroke-linecap:round; stroke-linejoin:round; stroke-width:4; stroke-opacity:1; fill:none\" points=\"523.703,1474.2 523.703,1486.45 552.671,1486.45 552.671,1474.2 523.703,1474.2 \"/>\n",
       "<path clip-path=\"url(#clip322)\" d=\"M552.671 1471.14 L552.671 1486.45 L581.639 1486.45 L581.639 1471.14 L552.671 1471.14 L552.671 1471.14  Z\" fill=\"#009af9\" fill-rule=\"evenodd\" fill-opacity=\"1\"/>\n",
       "<polyline clip-path=\"url(#clip322)\" style=\"stroke:#000000; stroke-linecap:round; stroke-linejoin:round; stroke-width:4; stroke-opacity:1; fill:none\" points=\"552.671,1471.14 552.671,1486.45 581.639,1486.45 581.639,1471.14 552.671,1471.14 \"/>\n",
       "<path clip-path=\"url(#clip322)\" d=\"M581.639 1437.45 L581.639 1486.45 L610.607 1486.45 L610.607 1437.45 L581.639 1437.45 L581.639 1437.45  Z\" fill=\"#009af9\" fill-rule=\"evenodd\" fill-opacity=\"1\"/>\n",
       "<polyline clip-path=\"url(#clip322)\" style=\"stroke:#000000; stroke-linecap:round; stroke-linejoin:round; stroke-width:4; stroke-opacity:1; fill:none\" points=\"581.639,1437.45 581.639,1486.45 610.607,1486.45 610.607,1437.45 581.639,1437.45 \"/>\n",
       "<path clip-path=\"url(#clip322)\" d=\"M610.607 1416.02 L610.607 1486.45 L639.575 1486.45 L639.575 1416.02 L610.607 1416.02 L610.607 1416.02  Z\" fill=\"#009af9\" fill-rule=\"evenodd\" fill-opacity=\"1\"/>\n",
       "<polyline clip-path=\"url(#clip322)\" style=\"stroke:#000000; stroke-linecap:round; stroke-linejoin:round; stroke-width:4; stroke-opacity:1; fill:none\" points=\"610.607,1416.02 610.607,1486.45 639.575,1486.45 639.575,1416.02 610.607,1416.02 \"/>\n",
       "<path clip-path=\"url(#clip322)\" d=\"M639.575 1440.52 L639.575 1486.45 L668.543 1486.45 L668.543 1440.52 L639.575 1440.52 L639.575 1440.52  Z\" fill=\"#009af9\" fill-rule=\"evenodd\" fill-opacity=\"1\"/>\n",
       "<polyline clip-path=\"url(#clip322)\" style=\"stroke:#000000; stroke-linecap:round; stroke-linejoin:round; stroke-width:4; stroke-opacity:1; fill:none\" points=\"639.575,1440.52 639.575,1486.45 668.543,1486.45 668.543,1440.52 639.575,1440.52 \"/>\n",
       "<path clip-path=\"url(#clip322)\" d=\"M668.543 1406.83 L668.543 1486.45 L697.511 1486.45 L697.511 1406.83 L668.543 1406.83 L668.543 1406.83  Z\" fill=\"#009af9\" fill-rule=\"evenodd\" fill-opacity=\"1\"/>\n",
       "<polyline clip-path=\"url(#clip322)\" style=\"stroke:#000000; stroke-linecap:round; stroke-linejoin:round; stroke-width:4; stroke-opacity:1; fill:none\" points=\"668.543,1406.83 668.543,1486.45 697.511,1486.45 697.511,1406.83 668.543,1406.83 \"/>\n",
       "<path clip-path=\"url(#clip322)\" d=\"M697.511 1342.53 L697.511 1486.45 L726.479 1486.45 L726.479 1342.53 L697.511 1342.53 L697.511 1342.53  Z\" fill=\"#009af9\" fill-rule=\"evenodd\" fill-opacity=\"1\"/>\n",
       "<polyline clip-path=\"url(#clip322)\" style=\"stroke:#000000; stroke-linecap:round; stroke-linejoin:round; stroke-width:4; stroke-opacity:1; fill:none\" points=\"697.511,1342.53 697.511,1486.45 726.479,1486.45 726.479,1342.53 697.511,1342.53 \"/>\n",
       "<path clip-path=\"url(#clip322)\" d=\"M726.479 1373.15 L726.479 1486.45 L755.446 1486.45 L755.446 1373.15 L726.479 1373.15 L726.479 1373.15  Z\" fill=\"#009af9\" fill-rule=\"evenodd\" fill-opacity=\"1\"/>\n",
       "<polyline clip-path=\"url(#clip322)\" style=\"stroke:#000000; stroke-linecap:round; stroke-linejoin:round; stroke-width:4; stroke-opacity:1; fill:none\" points=\"726.479,1373.15 726.479,1486.45 755.446,1486.45 755.446,1373.15 726.479,1373.15 \"/>\n",
       "<path clip-path=\"url(#clip322)\" d=\"M755.446 1318.03 L755.446 1486.45 L784.414 1486.45 L784.414 1318.03 L755.446 1318.03 L755.446 1318.03  Z\" fill=\"#009af9\" fill-rule=\"evenodd\" fill-opacity=\"1\"/>\n",
       "<polyline clip-path=\"url(#clip322)\" style=\"stroke:#000000; stroke-linecap:round; stroke-linejoin:round; stroke-width:4; stroke-opacity:1; fill:none\" points=\"755.446,1318.03 755.446,1486.45 784.414,1486.45 784.414,1318.03 755.446,1318.03 \"/>\n",
       "<path clip-path=\"url(#clip322)\" d=\"M784.414 1247.6 L784.414 1486.45 L813.382 1486.45 L813.382 1247.6 L784.414 1247.6 L784.414 1247.6  Z\" fill=\"#009af9\" fill-rule=\"evenodd\" fill-opacity=\"1\"/>\n",
       "<polyline clip-path=\"url(#clip322)\" style=\"stroke:#000000; stroke-linecap:round; stroke-linejoin:round; stroke-width:4; stroke-opacity:1; fill:none\" points=\"784.414,1247.6 784.414,1486.45 813.382,1486.45 813.382,1247.6 784.414,1247.6 \"/>\n",
       "<path clip-path=\"url(#clip322)\" d=\"M813.382 1198.61 L813.382 1486.45 L842.35 1486.45 L842.35 1198.61 L813.382 1198.61 L813.382 1198.61  Z\" fill=\"#009af9\" fill-rule=\"evenodd\" fill-opacity=\"1\"/>\n",
       "<polyline clip-path=\"url(#clip322)\" style=\"stroke:#000000; stroke-linecap:round; stroke-linejoin:round; stroke-width:4; stroke-opacity:1; fill:none\" points=\"813.382,1198.61 813.382,1486.45 842.35,1486.45 842.35,1198.61 813.382,1198.61 \"/>\n",
       "<path clip-path=\"url(#clip322)\" d=\"M842.35 1158.8 L842.35 1486.45 L871.318 1486.45 L871.318 1158.8 L842.35 1158.8 L842.35 1158.8  Z\" fill=\"#009af9\" fill-rule=\"evenodd\" fill-opacity=\"1\"/>\n",
       "<polyline clip-path=\"url(#clip322)\" style=\"stroke:#000000; stroke-linecap:round; stroke-linejoin:round; stroke-width:4; stroke-opacity:1; fill:none\" points=\"842.35,1158.8 842.35,1486.45 871.318,1486.45 871.318,1158.8 842.35,1158.8 \"/>\n",
       "<path clip-path=\"url(#clip322)\" d=\"M871.318 1021 L871.318 1486.45 L900.286 1486.45 L900.286 1021 L871.318 1021 L871.318 1021  Z\" fill=\"#009af9\" fill-rule=\"evenodd\" fill-opacity=\"1\"/>\n",
       "<polyline clip-path=\"url(#clip322)\" style=\"stroke:#000000; stroke-linecap:round; stroke-linejoin:round; stroke-width:4; stroke-opacity:1; fill:none\" points=\"871.318,1021 871.318,1486.45 900.286,1486.45 900.286,1021 871.318,1021 \"/>\n",
       "<path clip-path=\"url(#clip322)\" d=\"M900.286 1024.07 L900.286 1486.45 L929.254 1486.45 L929.254 1024.07 L900.286 1024.07 L900.286 1024.07  Z\" fill=\"#009af9\" fill-rule=\"evenodd\" fill-opacity=\"1\"/>\n",
       "<polyline clip-path=\"url(#clip322)\" style=\"stroke:#000000; stroke-linecap:round; stroke-linejoin:round; stroke-width:4; stroke-opacity:1; fill:none\" points=\"900.286,1024.07 900.286,1486.45 929.254,1486.45 929.254,1024.07 900.286,1024.07 \"/>\n",
       "<path clip-path=\"url(#clip322)\" d=\"M929.254 984.258 L929.254 1486.45 L958.222 1486.45 L958.222 984.258 L929.254 984.258 L929.254 984.258  Z\" fill=\"#009af9\" fill-rule=\"evenodd\" fill-opacity=\"1\"/>\n",
       "<polyline clip-path=\"url(#clip322)\" style=\"stroke:#000000; stroke-linecap:round; stroke-linejoin:round; stroke-width:4; stroke-opacity:1; fill:none\" points=\"929.254,984.258 929.254,1486.45 958.222,1486.45 958.222,984.258 929.254,984.258 \"/>\n",
       "<path clip-path=\"url(#clip322)\" d=\"M958.222 907.704 L958.222 1486.45 L987.19 1486.45 L987.19 907.704 L958.222 907.704 L958.222 907.704  Z\" fill=\"#009af9\" fill-rule=\"evenodd\" fill-opacity=\"1\"/>\n",
       "<polyline clip-path=\"url(#clip322)\" style=\"stroke:#000000; stroke-linecap:round; stroke-linejoin:round; stroke-width:4; stroke-opacity:1; fill:none\" points=\"958.222,907.704 958.222,1486.45 987.19,1486.45 987.19,907.704 958.222,907.704 \"/>\n",
       "<path clip-path=\"url(#clip322)\" d=\"M987.19 760.722 L987.19 1486.45 L1016.16 1486.45 L1016.16 760.722 L987.19 760.722 L987.19 760.722  Z\" fill=\"#009af9\" fill-rule=\"evenodd\" fill-opacity=\"1\"/>\n",
       "<polyline clip-path=\"url(#clip322)\" style=\"stroke:#000000; stroke-linecap:round; stroke-linejoin:round; stroke-width:4; stroke-opacity:1; fill:none\" points=\"987.19,760.722 987.19,1486.45 1016.16,1486.45 1016.16,760.722 987.19,760.722 \"/>\n",
       "<path clip-path=\"url(#clip322)\" d=\"M1016.16 717.852 L1016.16 1486.45 L1045.13 1486.45 L1045.13 717.852 L1016.16 717.852 L1016.16 717.852  Z\" fill=\"#009af9\" fill-rule=\"evenodd\" fill-opacity=\"1\"/>\n",
       "<polyline clip-path=\"url(#clip322)\" style=\"stroke:#000000; stroke-linecap:round; stroke-linejoin:round; stroke-width:4; stroke-opacity:1; fill:none\" points=\"1016.16,717.852 1016.16,1486.45 1045.13,1486.45 1045.13,717.852 1016.16,717.852 \"/>\n",
       "<path clip-path=\"url(#clip322)\" d=\"M1045.13 674.982 L1045.13 1486.45 L1074.09 1486.45 L1074.09 674.982 L1045.13 674.982 L1045.13 674.982  Z\" fill=\"#009af9\" fill-rule=\"evenodd\" fill-opacity=\"1\"/>\n",
       "<polyline clip-path=\"url(#clip322)\" style=\"stroke:#000000; stroke-linecap:round; stroke-linejoin:round; stroke-width:4; stroke-opacity:1; fill:none\" points=\"1045.13,674.982 1045.13,1486.45 1074.09,1486.45 1074.09,674.982 1045.13,674.982 \"/>\n",
       "<path clip-path=\"url(#clip322)\" d=\"M1074.09 540.248 L1074.09 1486.45 L1103.06 1486.45 L1103.06 540.248 L1074.09 540.248 L1074.09 540.248  Z\" fill=\"#009af9\" fill-rule=\"evenodd\" fill-opacity=\"1\"/>\n",
       "<polyline clip-path=\"url(#clip322)\" style=\"stroke:#000000; stroke-linecap:round; stroke-linejoin:round; stroke-width:4; stroke-opacity:1; fill:none\" points=\"1074.09,540.248 1074.09,1486.45 1103.06,1486.45 1103.06,540.248 1074.09,540.248 \"/>\n",
       "<path clip-path=\"url(#clip322)\" d=\"M1103.06 359.582 L1103.06 1486.45 L1132.03 1486.45 L1132.03 359.582 L1103.06 359.582 L1103.06 359.582  Z\" fill=\"#009af9\" fill-rule=\"evenodd\" fill-opacity=\"1\"/>\n",
       "<polyline clip-path=\"url(#clip322)\" style=\"stroke:#000000; stroke-linecap:round; stroke-linejoin:round; stroke-width:4; stroke-opacity:1; fill:none\" points=\"1103.06,359.582 1103.06,1486.45 1132.03,1486.45 1132.03,359.582 1103.06,359.582 \"/>\n",
       "<path clip-path=\"url(#clip322)\" d=\"M1132.03 304.463 L1132.03 1486.45 L1161 1486.45 L1161 304.463 L1132.03 304.463 L1132.03 304.463  Z\" fill=\"#009af9\" fill-rule=\"evenodd\" fill-opacity=\"1\"/>\n",
       "<polyline clip-path=\"url(#clip322)\" style=\"stroke:#000000; stroke-linecap:round; stroke-linejoin:round; stroke-width:4; stroke-opacity:1; fill:none\" points=\"1132.03,304.463 1132.03,1486.45 1161,1486.45 1161,304.463 1132.03,304.463 \"/>\n",
       "<path clip-path=\"url(#clip322)\" d=\"M1161 381.017 L1161 1486.45 L1189.97 1486.45 L1189.97 381.017 L1161 381.017 L1161 381.017  Z\" fill=\"#009af9\" fill-rule=\"evenodd\" fill-opacity=\"1\"/>\n",
       "<polyline clip-path=\"url(#clip322)\" style=\"stroke:#000000; stroke-linecap:round; stroke-linejoin:round; stroke-width:4; stroke-opacity:1; fill:none\" points=\"1161,381.017 1161,1486.45 1189.97,1486.45 1189.97,381.017 1161,381.017 \"/>\n",
       "<path clip-path=\"url(#clip322)\" d=\"M1189.97 279.966 L1189.97 1486.45 L1218.93 1486.45 L1218.93 279.966 L1189.97 279.966 L1189.97 279.966  Z\" fill=\"#009af9\" fill-rule=\"evenodd\" fill-opacity=\"1\"/>\n",
       "<polyline clip-path=\"url(#clip322)\" style=\"stroke:#000000; stroke-linecap:round; stroke-linejoin:round; stroke-width:4; stroke-opacity:1; fill:none\" points=\"1189.97,279.966 1189.97,1486.45 1218.93,1486.45 1218.93,279.966 1189.97,279.966 \"/>\n",
       "<path clip-path=\"url(#clip322)\" d=\"M1218.93 261.594 L1218.93 1486.45 L1247.9 1486.45 L1247.9 261.594 L1218.93 261.594 L1218.93 261.594  Z\" fill=\"#009af9\" fill-rule=\"evenodd\" fill-opacity=\"1\"/>\n",
       "<polyline clip-path=\"url(#clip322)\" style=\"stroke:#000000; stroke-linecap:round; stroke-linejoin:round; stroke-width:4; stroke-opacity:1; fill:none\" points=\"1218.93,261.594 1218.93,1486.45 1247.9,1486.45 1247.9,261.594 1218.93,261.594 \"/>\n",
       "<path clip-path=\"url(#clip322)\" d=\"M1247.9 264.656 L1247.9 1486.45 L1276.87 1486.45 L1276.87 264.656 L1247.9 264.656 L1247.9 264.656  Z\" fill=\"#009af9\" fill-rule=\"evenodd\" fill-opacity=\"1\"/>\n",
       "<polyline clip-path=\"url(#clip322)\" style=\"stroke:#000000; stroke-linecap:round; stroke-linejoin:round; stroke-width:4; stroke-opacity:1; fill:none\" points=\"1247.9,264.656 1247.9,1486.45 1276.87,1486.45 1276.87,264.656 1247.9,264.656 \"/>\n",
       "<path clip-path=\"url(#clip322)\" d=\"M1276.87 108.487 L1276.87 1486.45 L1305.84 1486.45 L1305.84 108.487 L1276.87 108.487 L1276.87 108.487  Z\" fill=\"#009af9\" fill-rule=\"evenodd\" fill-opacity=\"1\"/>\n",
       "<polyline clip-path=\"url(#clip322)\" style=\"stroke:#000000; stroke-linecap:round; stroke-linejoin:round; stroke-width:4; stroke-opacity:1; fill:none\" points=\"1276.87,108.487 1276.87,1486.45 1305.84,1486.45 1305.84,108.487 1276.87,108.487 \"/>\n",
       "<path clip-path=\"url(#clip322)\" d=\"M1305.84 47.2441 L1305.84 1486.45 L1334.81 1486.45 L1334.81 47.2441 L1305.84 47.2441 L1305.84 47.2441  Z\" fill=\"#009af9\" fill-rule=\"evenodd\" fill-opacity=\"1\"/>\n",
       "<polyline clip-path=\"url(#clip322)\" style=\"stroke:#000000; stroke-linecap:round; stroke-linejoin:round; stroke-width:4; stroke-opacity:1; fill:none\" points=\"1305.84,47.2441 1305.84,1486.45 1334.81,1486.45 1334.81,47.2441 1305.84,47.2441 \"/>\n",
       "<path clip-path=\"url(#clip322)\" d=\"M1334.81 200.351 L1334.81 1486.45 L1363.77 1486.45 L1363.77 200.351 L1334.81 200.351 L1334.81 200.351  Z\" fill=\"#009af9\" fill-rule=\"evenodd\" fill-opacity=\"1\"/>\n",
       "<polyline clip-path=\"url(#clip322)\" style=\"stroke:#000000; stroke-linecap:round; stroke-linejoin:round; stroke-width:4; stroke-opacity:1; fill:none\" points=\"1334.81,200.351 1334.81,1486.45 1363.77,1486.45 1363.77,200.351 1334.81,200.351 \"/>\n",
       "<path clip-path=\"url(#clip322)\" d=\"M1363.77 212.599 L1363.77 1486.45 L1392.74 1486.45 L1392.74 212.599 L1363.77 212.599 L1363.77 212.599  Z\" fill=\"#009af9\" fill-rule=\"evenodd\" fill-opacity=\"1\"/>\n",
       "<polyline clip-path=\"url(#clip322)\" style=\"stroke:#000000; stroke-linecap:round; stroke-linejoin:round; stroke-width:4; stroke-opacity:1; fill:none\" points=\"1363.77,212.599 1363.77,1486.45 1392.74,1486.45 1392.74,212.599 1363.77,212.599 \"/>\n",
       "<path clip-path=\"url(#clip322)\" d=\"M1392.74 209.537 L1392.74 1486.45 L1421.71 1486.45 L1421.71 209.537 L1392.74 209.537 L1392.74 209.537  Z\" fill=\"#009af9\" fill-rule=\"evenodd\" fill-opacity=\"1\"/>\n",
       "<polyline clip-path=\"url(#clip322)\" style=\"stroke:#000000; stroke-linecap:round; stroke-linejoin:round; stroke-width:4; stroke-opacity:1; fill:none\" points=\"1392.74,209.537 1392.74,1486.45 1421.71,1486.45 1421.71,209.537 1392.74,209.537 \"/>\n",
       "<path clip-path=\"url(#clip322)\" d=\"M1421.71 234.034 L1421.71 1486.45 L1450.68 1486.45 L1450.68 234.034 L1421.71 234.034 L1421.71 234.034  Z\" fill=\"#009af9\" fill-rule=\"evenodd\" fill-opacity=\"1\"/>\n",
       "<polyline clip-path=\"url(#clip322)\" style=\"stroke:#000000; stroke-linecap:round; stroke-linejoin:round; stroke-width:4; stroke-opacity:1; fill:none\" points=\"1421.71,234.034 1421.71,1486.45 1450.68,1486.45 1450.68,234.034 1421.71,234.034 \"/>\n",
       "<path clip-path=\"url(#clip322)\" d=\"M1450.68 338.147 L1450.68 1486.45 L1479.64 1486.45 L1479.64 338.147 L1450.68 338.147 L1450.68 338.147  Z\" fill=\"#009af9\" fill-rule=\"evenodd\" fill-opacity=\"1\"/>\n",
       "<polyline clip-path=\"url(#clip322)\" style=\"stroke:#000000; stroke-linecap:round; stroke-linejoin:round; stroke-width:4; stroke-opacity:1; fill:none\" points=\"1450.68,338.147 1450.68,1486.45 1479.64,1486.45 1479.64,338.147 1450.68,338.147 \"/>\n",
       "<path clip-path=\"url(#clip322)\" d=\"M1479.64 494.316 L1479.64 1486.45 L1508.61 1486.45 L1508.61 494.316 L1479.64 494.316 L1479.64 494.316  Z\" fill=\"#009af9\" fill-rule=\"evenodd\" fill-opacity=\"1\"/>\n",
       "<polyline clip-path=\"url(#clip322)\" style=\"stroke:#000000; stroke-linecap:round; stroke-linejoin:round; stroke-width:4; stroke-opacity:1; fill:none\" points=\"1479.64,494.316 1479.64,1486.45 1508.61,1486.45 1508.61,494.316 1479.64,494.316 \"/>\n",
       "<path clip-path=\"url(#clip322)\" d=\"M1508.61 515.751 L1508.61 1486.45 L1537.58 1486.45 L1537.58 515.751 L1508.61 515.751 L1508.61 515.751  Z\" fill=\"#009af9\" fill-rule=\"evenodd\" fill-opacity=\"1\"/>\n",
       "<polyline clip-path=\"url(#clip322)\" style=\"stroke:#000000; stroke-linecap:round; stroke-linejoin:round; stroke-width:4; stroke-opacity:1; fill:none\" points=\"1508.61,515.751 1508.61,1486.45 1537.58,1486.45 1537.58,515.751 1508.61,515.751 \"/>\n",
       "<path clip-path=\"url(#clip322)\" d=\"M1537.58 711.728 L1537.58 1486.45 L1566.55 1486.45 L1566.55 711.728 L1537.58 711.728 L1537.58 711.728  Z\" fill=\"#009af9\" fill-rule=\"evenodd\" fill-opacity=\"1\"/>\n",
       "<polyline clip-path=\"url(#clip322)\" style=\"stroke:#000000; stroke-linecap:round; stroke-linejoin:round; stroke-width:4; stroke-opacity:1; fill:none\" points=\"1537.58,711.728 1537.58,1486.45 1566.55,1486.45 1566.55,711.728 1537.58,711.728 \"/>\n",
       "<path clip-path=\"url(#clip322)\" d=\"M1566.55 727.038 L1566.55 1486.45 L1595.52 1486.45 L1595.52 727.038 L1566.55 727.038 L1566.55 727.038  Z\" fill=\"#009af9\" fill-rule=\"evenodd\" fill-opacity=\"1\"/>\n",
       "<polyline clip-path=\"url(#clip322)\" style=\"stroke:#000000; stroke-linecap:round; stroke-linejoin:round; stroke-width:4; stroke-opacity:1; fill:none\" points=\"1566.55,727.038 1566.55,1486.45 1595.52,1486.45 1595.52,727.038 1566.55,727.038 \"/>\n",
       "<path clip-path=\"url(#clip322)\" d=\"M1595.52 751.535 L1595.52 1486.45 L1624.48 1486.45 L1624.48 751.535 L1595.52 751.535 L1595.52 751.535  Z\" fill=\"#009af9\" fill-rule=\"evenodd\" fill-opacity=\"1\"/>\n",
       "<polyline clip-path=\"url(#clip322)\" style=\"stroke:#000000; stroke-linecap:round; stroke-linejoin:round; stroke-width:4; stroke-opacity:1; fill:none\" points=\"1595.52,751.535 1595.52,1486.45 1624.48,1486.45 1624.48,751.535 1595.52,751.535 \"/>\n",
       "<path clip-path=\"url(#clip322)\" d=\"M1624.48 877.083 L1624.48 1486.45 L1653.45 1486.45 L1653.45 877.083 L1624.48 877.083 L1624.48 877.083  Z\" fill=\"#009af9\" fill-rule=\"evenodd\" fill-opacity=\"1\"/>\n",
       "<polyline clip-path=\"url(#clip322)\" style=\"stroke:#000000; stroke-linecap:round; stroke-linejoin:round; stroke-width:4; stroke-opacity:1; fill:none\" points=\"1624.48,877.083 1624.48,1486.45 1653.45,1486.45 1653.45,877.083 1624.48,877.083 \"/>\n",
       "<path clip-path=\"url(#clip322)\" d=\"M1653.45 993.444 L1653.45 1486.45 L1682.42 1486.45 L1682.42 993.444 L1653.45 993.444 L1653.45 993.444  Z\" fill=\"#009af9\" fill-rule=\"evenodd\" fill-opacity=\"1\"/>\n",
       "<polyline clip-path=\"url(#clip322)\" style=\"stroke:#000000; stroke-linecap:round; stroke-linejoin:round; stroke-width:4; stroke-opacity:1; fill:none\" points=\"1653.45,993.444 1653.45,1486.45 1682.42,1486.45 1682.42,993.444 1653.45,993.444 \"/>\n",
       "<path clip-path=\"url(#clip322)\" d=\"M1682.42 1063.87 L1682.42 1486.45 L1711.39 1486.45 L1711.39 1063.87 L1682.42 1063.87 L1682.42 1063.87  Z\" fill=\"#009af9\" fill-rule=\"evenodd\" fill-opacity=\"1\"/>\n",
       "<polyline clip-path=\"url(#clip322)\" style=\"stroke:#000000; stroke-linecap:round; stroke-linejoin:round; stroke-width:4; stroke-opacity:1; fill:none\" points=\"1682.42,1063.87 1682.42,1486.45 1711.39,1486.45 1711.39,1063.87 1682.42,1063.87 \"/>\n",
       "<path clip-path=\"url(#clip322)\" d=\"M1711.39 1112.87 L1711.39 1486.45 L1740.36 1486.45 L1740.36 1112.87 L1711.39 1112.87 L1711.39 1112.87  Z\" fill=\"#009af9\" fill-rule=\"evenodd\" fill-opacity=\"1\"/>\n",
       "<polyline clip-path=\"url(#clip322)\" style=\"stroke:#000000; stroke-linecap:round; stroke-linejoin:round; stroke-width:4; stroke-opacity:1; fill:none\" points=\"1711.39,1112.87 1711.39,1486.45 1740.36,1486.45 1740.36,1112.87 1711.39,1112.87 \"/>\n",
       "<path clip-path=\"url(#clip322)\" d=\"M1740.36 1131.24 L1740.36 1486.45 L1769.32 1486.45 L1769.32 1131.24 L1740.36 1131.24 L1740.36 1131.24  Z\" fill=\"#009af9\" fill-rule=\"evenodd\" fill-opacity=\"1\"/>\n",
       "<polyline clip-path=\"url(#clip322)\" style=\"stroke:#000000; stroke-linecap:round; stroke-linejoin:round; stroke-width:4; stroke-opacity:1; fill:none\" points=\"1740.36,1131.24 1740.36,1486.45 1769.32,1486.45 1769.32,1131.24 1740.36,1131.24 \"/>\n",
       "<path clip-path=\"url(#clip322)\" d=\"M1769.32 1244.54 L1769.32 1486.45 L1798.29 1486.45 L1798.29 1244.54 L1769.32 1244.54 L1769.32 1244.54  Z\" fill=\"#009af9\" fill-rule=\"evenodd\" fill-opacity=\"1\"/>\n",
       "<polyline clip-path=\"url(#clip322)\" style=\"stroke:#000000; stroke-linecap:round; stroke-linejoin:round; stroke-width:4; stroke-opacity:1; fill:none\" points=\"1769.32,1244.54 1769.32,1486.45 1798.29,1486.45 1798.29,1244.54 1769.32,1244.54 \"/>\n",
       "<path clip-path=\"url(#clip322)\" d=\"M1798.29 1250.66 L1798.29 1486.45 L1827.26 1486.45 L1827.26 1250.66 L1798.29 1250.66 L1798.29 1250.66  Z\" fill=\"#009af9\" fill-rule=\"evenodd\" fill-opacity=\"1\"/>\n",
       "<polyline clip-path=\"url(#clip322)\" style=\"stroke:#000000; stroke-linecap:round; stroke-linejoin:round; stroke-width:4; stroke-opacity:1; fill:none\" points=\"1798.29,1250.66 1798.29,1486.45 1827.26,1486.45 1827.26,1250.66 1798.29,1250.66 \"/>\n",
       "<path clip-path=\"url(#clip322)\" d=\"M1827.26 1311.91 L1827.26 1486.45 L1856.23 1486.45 L1856.23 1311.91 L1827.26 1311.91 L1827.26 1311.91  Z\" fill=\"#009af9\" fill-rule=\"evenodd\" fill-opacity=\"1\"/>\n",
       "<polyline clip-path=\"url(#clip322)\" style=\"stroke:#000000; stroke-linecap:round; stroke-linejoin:round; stroke-width:4; stroke-opacity:1; fill:none\" points=\"1827.26,1311.91 1827.26,1486.45 1856.23,1486.45 1856.23,1311.91 1827.26,1311.91 \"/>\n",
       "<path clip-path=\"url(#clip322)\" d=\"M1856.23 1351.71 L1856.23 1486.45 L1885.2 1486.45 L1885.2 1351.71 L1856.23 1351.71 L1856.23 1351.71  Z\" fill=\"#009af9\" fill-rule=\"evenodd\" fill-opacity=\"1\"/>\n",
       "<polyline clip-path=\"url(#clip322)\" style=\"stroke:#000000; stroke-linecap:round; stroke-linejoin:round; stroke-width:4; stroke-opacity:1; fill:none\" points=\"1856.23,1351.71 1856.23,1486.45 1885.2,1486.45 1885.2,1351.71 1856.23,1351.71 \"/>\n",
       "<path clip-path=\"url(#clip322)\" d=\"M1885.2 1382.34 L1885.2 1486.45 L1914.16 1486.45 L1914.16 1382.34 L1885.2 1382.34 L1885.2 1382.34  Z\" fill=\"#009af9\" fill-rule=\"evenodd\" fill-opacity=\"1\"/>\n",
       "<polyline clip-path=\"url(#clip322)\" style=\"stroke:#000000; stroke-linecap:round; stroke-linejoin:round; stroke-width:4; stroke-opacity:1; fill:none\" points=\"1885.2,1382.34 1885.2,1486.45 1914.16,1486.45 1914.16,1382.34 1885.2,1382.34 \"/>\n",
       "<path clip-path=\"url(#clip322)\" d=\"M1914.16 1419.08 L1914.16 1486.45 L1943.13 1486.45 L1943.13 1419.08 L1914.16 1419.08 L1914.16 1419.08  Z\" fill=\"#009af9\" fill-rule=\"evenodd\" fill-opacity=\"1\"/>\n",
       "<polyline clip-path=\"url(#clip322)\" style=\"stroke:#000000; stroke-linecap:round; stroke-linejoin:round; stroke-width:4; stroke-opacity:1; fill:none\" points=\"1914.16,1419.08 1914.16,1486.45 1943.13,1486.45 1943.13,1419.08 1914.16,1419.08 \"/>\n",
       "<path clip-path=\"url(#clip322)\" d=\"M1943.13 1425.21 L1943.13 1486.45 L1972.1 1486.45 L1972.1 1425.21 L1943.13 1425.21 L1943.13 1425.21  Z\" fill=\"#009af9\" fill-rule=\"evenodd\" fill-opacity=\"1\"/>\n",
       "<polyline clip-path=\"url(#clip322)\" style=\"stroke:#000000; stroke-linecap:round; stroke-linejoin:round; stroke-width:4; stroke-opacity:1; fill:none\" points=\"1943.13,1425.21 1943.13,1486.45 1972.1,1486.45 1972.1,1425.21 1943.13,1425.21 \"/>\n",
       "<path clip-path=\"url(#clip322)\" d=\"M1972.1 1443.58 L1972.1 1486.45 L2001.07 1486.45 L2001.07 1443.58 L1972.1 1443.58 L1972.1 1443.58  Z\" fill=\"#009af9\" fill-rule=\"evenodd\" fill-opacity=\"1\"/>\n",
       "<polyline clip-path=\"url(#clip322)\" style=\"stroke:#000000; stroke-linecap:round; stroke-linejoin:round; stroke-width:4; stroke-opacity:1; fill:none\" points=\"1972.1,1443.58 1972.1,1486.45 2001.07,1486.45 2001.07,1443.58 1972.1,1443.58 \"/>\n",
       "<path clip-path=\"url(#clip322)\" d=\"M2001.07 1465.01 L2001.07 1486.45 L2030.04 1486.45 L2030.04 1465.01 L2001.07 1465.01 L2001.07 1465.01  Z\" fill=\"#009af9\" fill-rule=\"evenodd\" fill-opacity=\"1\"/>\n",
       "<polyline clip-path=\"url(#clip322)\" style=\"stroke:#000000; stroke-linecap:round; stroke-linejoin:round; stroke-width:4; stroke-opacity:1; fill:none\" points=\"2001.07,1465.01 2001.07,1486.45 2030.04,1486.45 2030.04,1465.01 2001.07,1465.01 \"/>\n",
       "<path clip-path=\"url(#clip322)\" d=\"M2030.04 1468.08 L2030.04 1486.45 L2059 1486.45 L2059 1468.08 L2030.04 1468.08 L2030.04 1468.08  Z\" fill=\"#009af9\" fill-rule=\"evenodd\" fill-opacity=\"1\"/>\n",
       "<polyline clip-path=\"url(#clip322)\" style=\"stroke:#000000; stroke-linecap:round; stroke-linejoin:round; stroke-width:4; stroke-opacity:1; fill:none\" points=\"2030.04,1468.08 2030.04,1486.45 2059,1486.45 2059,1468.08 2030.04,1468.08 \"/>\n",
       "<path clip-path=\"url(#clip322)\" d=\"M2059 1468.08 L2059 1486.45 L2087.97 1486.45 L2087.97 1468.08 L2059 1468.08 L2059 1468.08  Z\" fill=\"#009af9\" fill-rule=\"evenodd\" fill-opacity=\"1\"/>\n",
       "<polyline clip-path=\"url(#clip322)\" style=\"stroke:#000000; stroke-linecap:round; stroke-linejoin:round; stroke-width:4; stroke-opacity:1; fill:none\" points=\"2059,1468.08 2059,1486.45 2087.97,1486.45 2087.97,1468.08 2059,1468.08 \"/>\n",
       "<path clip-path=\"url(#clip322)\" d=\"M2087.97 1480.32 L2087.97 1486.45 L2116.94 1486.45 L2116.94 1480.32 L2087.97 1480.32 L2087.97 1480.32  Z\" fill=\"#009af9\" fill-rule=\"evenodd\" fill-opacity=\"1\"/>\n",
       "<polyline clip-path=\"url(#clip322)\" style=\"stroke:#000000; stroke-linecap:round; stroke-linejoin:round; stroke-width:4; stroke-opacity:1; fill:none\" points=\"2087.97,1480.32 2087.97,1486.45 2116.94,1486.45 2116.94,1480.32 2087.97,1480.32 \"/>\n",
       "<path clip-path=\"url(#clip322)\" d=\"M2116.94 1480.32 L2116.94 1486.45 L2145.91 1486.45 L2145.91 1480.32 L2116.94 1480.32 L2116.94 1480.32  Z\" fill=\"#009af9\" fill-rule=\"evenodd\" fill-opacity=\"1\"/>\n",
       "<polyline clip-path=\"url(#clip322)\" style=\"stroke:#000000; stroke-linecap:round; stroke-linejoin:round; stroke-width:4; stroke-opacity:1; fill:none\" points=\"2116.94,1480.32 2116.94,1486.45 2145.91,1486.45 2145.91,1480.32 2116.94,1480.32 \"/>\n",
       "<path clip-path=\"url(#clip322)\" d=\"M2145.91 1483.39 L2145.91 1486.45 L2174.88 1486.45 L2174.88 1483.39 L2145.91 1483.39 L2145.91 1483.39  Z\" fill=\"#009af9\" fill-rule=\"evenodd\" fill-opacity=\"1\"/>\n",
       "<polyline clip-path=\"url(#clip322)\" style=\"stroke:#000000; stroke-linecap:round; stroke-linejoin:round; stroke-width:4; stroke-opacity:1; fill:none\" points=\"2145.91,1483.39 2145.91,1486.45 2174.88,1486.45 2174.88,1483.39 2145.91,1483.39 \"/>\n",
       "<path clip-path=\"url(#clip322)\" d=\"M2174.88 1474.2 L2174.88 1486.45 L2203.84 1486.45 L2203.84 1474.2 L2174.88 1474.2 L2174.88 1474.2  Z\" fill=\"#009af9\" fill-rule=\"evenodd\" fill-opacity=\"1\"/>\n",
       "<polyline clip-path=\"url(#clip322)\" style=\"stroke:#000000; stroke-linecap:round; stroke-linejoin:round; stroke-width:4; stroke-opacity:1; fill:none\" points=\"2174.88,1474.2 2174.88,1486.45 2203.84,1486.45 2203.84,1474.2 2174.88,1474.2 \"/>\n",
       "<path clip-path=\"url(#clip322)\" d=\"M2203.84 1480.32 L2203.84 1486.45 L2232.81 1486.45 L2232.81 1480.32 L2203.84 1480.32 L2203.84 1480.32  Z\" fill=\"#009af9\" fill-rule=\"evenodd\" fill-opacity=\"1\"/>\n",
       "<polyline clip-path=\"url(#clip322)\" style=\"stroke:#000000; stroke-linecap:round; stroke-linejoin:round; stroke-width:4; stroke-opacity:1; fill:none\" points=\"2203.84,1480.32 2203.84,1486.45 2232.81,1486.45 2232.81,1480.32 2203.84,1480.32 \"/>\n",
       "<circle clip-path=\"url(#clip322)\" style=\"fill:#009af9; stroke:none; fill-opacity:0\" cx=\"306.443\" cy=\"1483.39\" r=\"2\"/>\n",
       "<circle clip-path=\"url(#clip322)\" style=\"fill:#009af9; stroke:none; fill-opacity:0\" cx=\"335.411\" cy=\"1486.45\" r=\"2\"/>\n",
       "<circle clip-path=\"url(#clip322)\" style=\"fill:#009af9; stroke:none; fill-opacity:0\" cx=\"364.379\" cy=\"1483.39\" r=\"2\"/>\n",
       "<circle clip-path=\"url(#clip322)\" style=\"fill:#009af9; stroke:none; fill-opacity:0\" cx=\"393.347\" cy=\"1486.45\" r=\"2\"/>\n",
       "<circle clip-path=\"url(#clip322)\" style=\"fill:#009af9; stroke:none; fill-opacity:0\" cx=\"422.315\" cy=\"1483.39\" r=\"2\"/>\n",
       "<circle clip-path=\"url(#clip322)\" style=\"fill:#009af9; stroke:none; fill-opacity:0\" cx=\"451.283\" cy=\"1480.32\" r=\"2\"/>\n",
       "<circle clip-path=\"url(#clip322)\" style=\"fill:#009af9; stroke:none; fill-opacity:0\" cx=\"480.251\" cy=\"1471.14\" r=\"2\"/>\n",
       "<circle clip-path=\"url(#clip322)\" style=\"fill:#009af9; stroke:none; fill-opacity:0\" cx=\"509.219\" cy=\"1471.14\" r=\"2\"/>\n",
       "<circle clip-path=\"url(#clip322)\" style=\"fill:#009af9; stroke:none; fill-opacity:0\" cx=\"538.187\" cy=\"1474.2\" r=\"2\"/>\n",
       "<circle clip-path=\"url(#clip322)\" style=\"fill:#009af9; stroke:none; fill-opacity:0\" cx=\"567.155\" cy=\"1471.14\" r=\"2\"/>\n",
       "<circle clip-path=\"url(#clip322)\" style=\"fill:#009af9; stroke:none; fill-opacity:0\" cx=\"596.123\" cy=\"1437.45\" r=\"2\"/>\n",
       "<circle clip-path=\"url(#clip322)\" style=\"fill:#009af9; stroke:none; fill-opacity:0\" cx=\"625.091\" cy=\"1416.02\" r=\"2\"/>\n",
       "<circle clip-path=\"url(#clip322)\" style=\"fill:#009af9; stroke:none; fill-opacity:0\" cx=\"654.059\" cy=\"1440.52\" r=\"2\"/>\n",
       "<circle clip-path=\"url(#clip322)\" style=\"fill:#009af9; stroke:none; fill-opacity:0\" cx=\"683.027\" cy=\"1406.83\" r=\"2\"/>\n",
       "<circle clip-path=\"url(#clip322)\" style=\"fill:#009af9; stroke:none; fill-opacity:0\" cx=\"711.995\" cy=\"1342.53\" r=\"2\"/>\n",
       "<circle clip-path=\"url(#clip322)\" style=\"fill:#009af9; stroke:none; fill-opacity:0\" cx=\"740.962\" cy=\"1373.15\" r=\"2\"/>\n",
       "<circle clip-path=\"url(#clip322)\" style=\"fill:#009af9; stroke:none; fill-opacity:0\" cx=\"769.93\" cy=\"1318.03\" r=\"2\"/>\n",
       "<circle clip-path=\"url(#clip322)\" style=\"fill:#009af9; stroke:none; fill-opacity:0\" cx=\"798.898\" cy=\"1247.6\" r=\"2\"/>\n",
       "<circle clip-path=\"url(#clip322)\" style=\"fill:#009af9; stroke:none; fill-opacity:0\" cx=\"827.866\" cy=\"1198.61\" r=\"2\"/>\n",
       "<circle clip-path=\"url(#clip322)\" style=\"fill:#009af9; stroke:none; fill-opacity:0\" cx=\"856.834\" cy=\"1158.8\" r=\"2\"/>\n",
       "<circle clip-path=\"url(#clip322)\" style=\"fill:#009af9; stroke:none; fill-opacity:0\" cx=\"885.802\" cy=\"1021\" r=\"2\"/>\n",
       "<circle clip-path=\"url(#clip322)\" style=\"fill:#009af9; stroke:none; fill-opacity:0\" cx=\"914.77\" cy=\"1024.07\" r=\"2\"/>\n",
       "<circle clip-path=\"url(#clip322)\" style=\"fill:#009af9; stroke:none; fill-opacity:0\" cx=\"943.738\" cy=\"984.258\" r=\"2\"/>\n",
       "<circle clip-path=\"url(#clip322)\" style=\"fill:#009af9; stroke:none; fill-opacity:0\" cx=\"972.706\" cy=\"907.704\" r=\"2\"/>\n",
       "<circle clip-path=\"url(#clip322)\" style=\"fill:#009af9; stroke:none; fill-opacity:0\" cx=\"1001.67\" cy=\"760.722\" r=\"2\"/>\n",
       "<circle clip-path=\"url(#clip322)\" style=\"fill:#009af9; stroke:none; fill-opacity:0\" cx=\"1030.64\" cy=\"717.852\" r=\"2\"/>\n",
       "<circle clip-path=\"url(#clip322)\" style=\"fill:#009af9; stroke:none; fill-opacity:0\" cx=\"1059.61\" cy=\"674.982\" r=\"2\"/>\n",
       "<circle clip-path=\"url(#clip322)\" style=\"fill:#009af9; stroke:none; fill-opacity:0\" cx=\"1088.58\" cy=\"540.248\" r=\"2\"/>\n",
       "<circle clip-path=\"url(#clip322)\" style=\"fill:#009af9; stroke:none; fill-opacity:0\" cx=\"1117.55\" cy=\"359.582\" r=\"2\"/>\n",
       "<circle clip-path=\"url(#clip322)\" style=\"fill:#009af9; stroke:none; fill-opacity:0\" cx=\"1146.51\" cy=\"304.463\" r=\"2\"/>\n",
       "<circle clip-path=\"url(#clip322)\" style=\"fill:#009af9; stroke:none; fill-opacity:0\" cx=\"1175.48\" cy=\"381.017\" r=\"2\"/>\n",
       "<circle clip-path=\"url(#clip322)\" style=\"fill:#009af9; stroke:none; fill-opacity:0\" cx=\"1204.45\" cy=\"279.966\" r=\"2\"/>\n",
       "<circle clip-path=\"url(#clip322)\" style=\"fill:#009af9; stroke:none; fill-opacity:0\" cx=\"1233.42\" cy=\"261.594\" r=\"2\"/>\n",
       "<circle clip-path=\"url(#clip322)\" style=\"fill:#009af9; stroke:none; fill-opacity:0\" cx=\"1262.39\" cy=\"264.656\" r=\"2\"/>\n",
       "<circle clip-path=\"url(#clip322)\" style=\"fill:#009af9; stroke:none; fill-opacity:0\" cx=\"1291.35\" cy=\"108.487\" r=\"2\"/>\n",
       "<circle clip-path=\"url(#clip322)\" style=\"fill:#009af9; stroke:none; fill-opacity:0\" cx=\"1320.32\" cy=\"47.2441\" r=\"2\"/>\n",
       "<circle clip-path=\"url(#clip322)\" style=\"fill:#009af9; stroke:none; fill-opacity:0\" cx=\"1349.29\" cy=\"200.351\" r=\"2\"/>\n",
       "<circle clip-path=\"url(#clip322)\" style=\"fill:#009af9; stroke:none; fill-opacity:0\" cx=\"1378.26\" cy=\"212.599\" r=\"2\"/>\n",
       "<circle clip-path=\"url(#clip322)\" style=\"fill:#009af9; stroke:none; fill-opacity:0\" cx=\"1407.23\" cy=\"209.537\" r=\"2\"/>\n",
       "<circle clip-path=\"url(#clip322)\" style=\"fill:#009af9; stroke:none; fill-opacity:0\" cx=\"1436.19\" cy=\"234.034\" r=\"2\"/>\n",
       "<circle clip-path=\"url(#clip322)\" style=\"fill:#009af9; stroke:none; fill-opacity:0\" cx=\"1465.16\" cy=\"338.147\" r=\"2\"/>\n",
       "<circle clip-path=\"url(#clip322)\" style=\"fill:#009af9; stroke:none; fill-opacity:0\" cx=\"1494.13\" cy=\"494.316\" r=\"2\"/>\n",
       "<circle clip-path=\"url(#clip322)\" style=\"fill:#009af9; stroke:none; fill-opacity:0\" cx=\"1523.1\" cy=\"515.751\" r=\"2\"/>\n",
       "<circle clip-path=\"url(#clip322)\" style=\"fill:#009af9; stroke:none; fill-opacity:0\" cx=\"1552.06\" cy=\"711.728\" r=\"2\"/>\n",
       "<circle clip-path=\"url(#clip322)\" style=\"fill:#009af9; stroke:none; fill-opacity:0\" cx=\"1581.03\" cy=\"727.038\" r=\"2\"/>\n",
       "<circle clip-path=\"url(#clip322)\" style=\"fill:#009af9; stroke:none; fill-opacity:0\" cx=\"1610\" cy=\"751.535\" r=\"2\"/>\n",
       "<circle clip-path=\"url(#clip322)\" style=\"fill:#009af9; stroke:none; fill-opacity:0\" cx=\"1638.97\" cy=\"877.083\" r=\"2\"/>\n",
       "<circle clip-path=\"url(#clip322)\" style=\"fill:#009af9; stroke:none; fill-opacity:0\" cx=\"1667.94\" cy=\"993.444\" r=\"2\"/>\n",
       "<circle clip-path=\"url(#clip322)\" style=\"fill:#009af9; stroke:none; fill-opacity:0\" cx=\"1696.9\" cy=\"1063.87\" r=\"2\"/>\n",
       "<circle clip-path=\"url(#clip322)\" style=\"fill:#009af9; stroke:none; fill-opacity:0\" cx=\"1725.87\" cy=\"1112.87\" r=\"2\"/>\n",
       "<circle clip-path=\"url(#clip322)\" style=\"fill:#009af9; stroke:none; fill-opacity:0\" cx=\"1754.84\" cy=\"1131.24\" r=\"2\"/>\n",
       "<circle clip-path=\"url(#clip322)\" style=\"fill:#009af9; stroke:none; fill-opacity:0\" cx=\"1783.81\" cy=\"1244.54\" r=\"2\"/>\n",
       "<circle clip-path=\"url(#clip322)\" style=\"fill:#009af9; stroke:none; fill-opacity:0\" cx=\"1812.78\" cy=\"1250.66\" r=\"2\"/>\n",
       "<circle clip-path=\"url(#clip322)\" style=\"fill:#009af9; stroke:none; fill-opacity:0\" cx=\"1841.74\" cy=\"1311.91\" r=\"2\"/>\n",
       "<circle clip-path=\"url(#clip322)\" style=\"fill:#009af9; stroke:none; fill-opacity:0\" cx=\"1870.71\" cy=\"1351.71\" r=\"2\"/>\n",
       "<circle clip-path=\"url(#clip322)\" style=\"fill:#009af9; stroke:none; fill-opacity:0\" cx=\"1899.68\" cy=\"1382.34\" r=\"2\"/>\n",
       "<circle clip-path=\"url(#clip322)\" style=\"fill:#009af9; stroke:none; fill-opacity:0\" cx=\"1928.65\" cy=\"1419.08\" r=\"2\"/>\n",
       "<circle clip-path=\"url(#clip322)\" style=\"fill:#009af9; stroke:none; fill-opacity:0\" cx=\"1957.62\" cy=\"1425.21\" r=\"2\"/>\n",
       "<circle clip-path=\"url(#clip322)\" style=\"fill:#009af9; stroke:none; fill-opacity:0\" cx=\"1986.58\" cy=\"1443.58\" r=\"2\"/>\n",
       "<circle clip-path=\"url(#clip322)\" style=\"fill:#009af9; stroke:none; fill-opacity:0\" cx=\"2015.55\" cy=\"1465.01\" r=\"2\"/>\n",
       "<circle clip-path=\"url(#clip322)\" style=\"fill:#009af9; stroke:none; fill-opacity:0\" cx=\"2044.52\" cy=\"1468.08\" r=\"2\"/>\n",
       "<circle clip-path=\"url(#clip322)\" style=\"fill:#009af9; stroke:none; fill-opacity:0\" cx=\"2073.49\" cy=\"1468.08\" r=\"2\"/>\n",
       "<circle clip-path=\"url(#clip322)\" style=\"fill:#009af9; stroke:none; fill-opacity:0\" cx=\"2102.46\" cy=\"1480.32\" r=\"2\"/>\n",
       "<circle clip-path=\"url(#clip322)\" style=\"fill:#009af9; stroke:none; fill-opacity:0\" cx=\"2131.42\" cy=\"1480.32\" r=\"2\"/>\n",
       "<circle clip-path=\"url(#clip322)\" style=\"fill:#009af9; stroke:none; fill-opacity:0\" cx=\"2160.39\" cy=\"1483.39\" r=\"2\"/>\n",
       "<circle clip-path=\"url(#clip322)\" style=\"fill:#009af9; stroke:none; fill-opacity:0\" cx=\"2189.36\" cy=\"1474.2\" r=\"2\"/>\n",
       "<circle clip-path=\"url(#clip322)\" style=\"fill:#009af9; stroke:none; fill-opacity:0\" cx=\"2218.33\" cy=\"1480.32\" r=\"2\"/>\n",
       "<path clip-path=\"url(#clip320)\" d=\"M2009.56 198.898 L2280.06 198.898 L2280.06 95.2176 L2009.56 95.2176  Z\" fill=\"#ffffff\" fill-rule=\"evenodd\" fill-opacity=\"1\"/>\n",
       "<polyline clip-path=\"url(#clip320)\" style=\"stroke:#000000; stroke-linecap:round; stroke-linejoin:round; stroke-width:4; stroke-opacity:1; fill:none\" points=\"2009.56,198.898 2280.06,198.898 2280.06,95.2176 2009.56,95.2176 2009.56,198.898 \"/>\n",
       "<path clip-path=\"url(#clip320)\" d=\"M2033.79 167.794 L2179.17 167.794 L2179.17 126.322 L2033.79 126.322 L2033.79 167.794  Z\" fill=\"#009af9\" fill-rule=\"evenodd\" fill-opacity=\"1\"/>\n",
       "<polyline clip-path=\"url(#clip320)\" style=\"stroke:#000000; stroke-linecap:round; stroke-linejoin:round; stroke-width:4; stroke-opacity:1; fill:none\" points=\"2033.79,167.794 2179.17,167.794 2179.17,126.322 2033.79,126.322 2033.79,167.794 \"/>\n",
       "<path clip-path=\"url(#clip320)\" d=\"M2217.25 166.745 Q2215.44 171.375 2213.73 172.787 Q2212.01 174.199 2209.14 174.199 L2205.74 174.199 L2205.74 170.634 L2208.24 170.634 Q2210 170.634 2210.97 169.8 Q2211.95 168.967 2213.13 165.865 L2213.89 163.921 L2203.4 138.412 L2207.92 138.412 L2216.02 158.689 L2224.12 138.412 L2228.64 138.412 L2217.25 166.745 Z\" fill=\"#000000\" fill-rule=\"nonzero\" fill-opacity=\"1\" /><path clip-path=\"url(#clip320)\" d=\"M2235.93 160.402 L2243.57 160.402 L2243.57 134.037 L2235.26 135.703 L2235.26 131.444 L2243.52 129.778 L2248.2 129.778 L2248.2 160.402 L2255.83 160.402 L2255.83 164.338 L2235.93 164.338 L2235.93 160.402 Z\" fill=\"#000000\" fill-rule=\"nonzero\" fill-opacity=\"1\" /></svg>\n"
      ],
      "text/html": [
       "<?xml version=\"1.0\" encoding=\"utf-8\"?>\n",
       "<svg xmlns=\"http://www.w3.org/2000/svg\" xmlns:xlink=\"http://www.w3.org/1999/xlink\" width=\"600\" height=\"400\" viewBox=\"0 0 2400 1600\">\n",
       "<defs>\n",
       "  <clipPath id=\"clip370\">\n",
       "    <rect x=\"0\" y=\"0\" width=\"2400\" height=\"1600\"/>\n",
       "  </clipPath>\n",
       "</defs>\n",
       "<path clip-path=\"url(#clip370)\" d=\"M0 1600 L2400 1600 L2400 0 L0 0  Z\" fill=\"#ffffff\" fill-rule=\"evenodd\" fill-opacity=\"1\"/>\n",
       "<defs>\n",
       "  <clipPath id=\"clip371\">\n",
       "    <rect x=\"480\" y=\"0\" width=\"1681\" height=\"1600\"/>\n",
       "  </clipPath>\n",
       "</defs>\n",
       "<path clip-path=\"url(#clip370)\" d=\"M172.015 1486.45 L2352.76 1486.45 L2352.76 47.2441 L172.015 47.2441  Z\" fill=\"#ffffff\" fill-rule=\"evenodd\" fill-opacity=\"1\"/>\n",
       "<defs>\n",
       "  <clipPath id=\"clip372\">\n",
       "    <rect x=\"172\" y=\"47\" width=\"2182\" height=\"1440\"/>\n",
       "  </clipPath>\n",
       "</defs>\n",
       "<polyline clip-path=\"url(#clip372)\" style=\"stroke:#000000; stroke-linecap:round; stroke-linejoin:round; stroke-width:2; stroke-opacity:0.1; fill:none\" points=\"436.799,1486.45 436.799,47.2441 \"/>\n",
       "<polyline clip-path=\"url(#clip372)\" style=\"stroke:#000000; stroke-linecap:round; stroke-linejoin:round; stroke-width:2; stroke-opacity:0.1; fill:none\" points=\"726.479,1486.45 726.479,47.2441 \"/>\n",
       "<polyline clip-path=\"url(#clip372)\" style=\"stroke:#000000; stroke-linecap:round; stroke-linejoin:round; stroke-width:2; stroke-opacity:0.1; fill:none\" points=\"1016.16,1486.45 1016.16,47.2441 \"/>\n",
       "<polyline clip-path=\"url(#clip372)\" style=\"stroke:#000000; stroke-linecap:round; stroke-linejoin:round; stroke-width:2; stroke-opacity:0.1; fill:none\" points=\"1305.84,1486.45 1305.84,47.2441 \"/>\n",
       "<polyline clip-path=\"url(#clip372)\" style=\"stroke:#000000; stroke-linecap:round; stroke-linejoin:round; stroke-width:2; stroke-opacity:0.1; fill:none\" points=\"1595.52,1486.45 1595.52,47.2441 \"/>\n",
       "<polyline clip-path=\"url(#clip372)\" style=\"stroke:#000000; stroke-linecap:round; stroke-linejoin:round; stroke-width:2; stroke-opacity:0.1; fill:none\" points=\"1885.2,1486.45 1885.2,47.2441 \"/>\n",
       "<polyline clip-path=\"url(#clip372)\" style=\"stroke:#000000; stroke-linecap:round; stroke-linejoin:round; stroke-width:2; stroke-opacity:0.1; fill:none\" points=\"2174.88,1486.45 2174.88,47.2441 \"/>\n",
       "<polyline clip-path=\"url(#clip370)\" style=\"stroke:#000000; stroke-linecap:round; stroke-linejoin:round; stroke-width:4; stroke-opacity:1; fill:none\" points=\"172.015,1486.45 2352.76,1486.45 \"/>\n",
       "<polyline clip-path=\"url(#clip370)\" style=\"stroke:#000000; stroke-linecap:round; stroke-linejoin:round; stroke-width:4; stroke-opacity:1; fill:none\" points=\"436.799,1486.45 436.799,1467.55 \"/>\n",
       "<polyline clip-path=\"url(#clip370)\" style=\"stroke:#000000; stroke-linecap:round; stroke-linejoin:round; stroke-width:4; stroke-opacity:1; fill:none\" points=\"726.479,1486.45 726.479,1467.55 \"/>\n",
       "<polyline clip-path=\"url(#clip370)\" style=\"stroke:#000000; stroke-linecap:round; stroke-linejoin:round; stroke-width:4; stroke-opacity:1; fill:none\" points=\"1016.16,1486.45 1016.16,1467.55 \"/>\n",
       "<polyline clip-path=\"url(#clip370)\" style=\"stroke:#000000; stroke-linecap:round; stroke-linejoin:round; stroke-width:4; stroke-opacity:1; fill:none\" points=\"1305.84,1486.45 1305.84,1467.55 \"/>\n",
       "<polyline clip-path=\"url(#clip370)\" style=\"stroke:#000000; stroke-linecap:round; stroke-linejoin:round; stroke-width:4; stroke-opacity:1; fill:none\" points=\"1595.52,1486.45 1595.52,1467.55 \"/>\n",
       "<polyline clip-path=\"url(#clip370)\" style=\"stroke:#000000; stroke-linecap:round; stroke-linejoin:round; stroke-width:4; stroke-opacity:1; fill:none\" points=\"1885.2,1486.45 1885.2,1467.55 \"/>\n",
       "<polyline clip-path=\"url(#clip370)\" style=\"stroke:#000000; stroke-linecap:round; stroke-linejoin:round; stroke-width:4; stroke-opacity:1; fill:none\" points=\"2174.88,1486.45 2174.88,1467.55 \"/>\n",
       "<path clip-path=\"url(#clip370)\" d=\"M431.452 1544.91 L447.771 1544.91 L447.771 1548.85 L425.827 1548.85 L425.827 1544.91 Q428.489 1542.16 433.072 1537.53 Q437.679 1532.88 438.859 1531.53 Q441.105 1529.01 441.984 1527.27 Q442.887 1525.51 442.887 1523.82 Q442.887 1521.07 440.943 1519.33 Q439.021 1517.6 435.92 1517.6 Q433.72 1517.6 431.267 1518.36 Q428.836 1519.13 426.058 1520.68 L426.058 1515.95 Q428.883 1514.82 431.336 1514.24 Q433.79 1513.66 435.827 1513.66 Q441.197 1513.66 444.392 1516.35 Q447.586 1519.03 447.586 1523.52 Q447.586 1525.65 446.776 1527.57 Q445.989 1529.47 443.882 1532.07 Q443.304 1532.74 440.202 1535.95 Q437.1 1539.15 431.452 1544.91 Z\" fill=\"#000000\" fill-rule=\"nonzero\" fill-opacity=\"1\" /><path clip-path=\"url(#clip370)\" d=\"M730.726 1530.21 Q734.083 1530.93 735.958 1533.2 Q737.856 1535.47 737.856 1538.8 Q737.856 1543.92 734.337 1546.72 Q730.819 1549.52 724.337 1549.52 Q722.161 1549.52 719.847 1549.08 Q717.555 1548.66 715.101 1547.81 L715.101 1543.29 Q717.046 1544.43 719.361 1545.01 Q721.675 1545.58 724.198 1545.58 Q728.597 1545.58 730.888 1543.85 Q733.203 1542.11 733.203 1538.8 Q733.203 1535.75 731.05 1534.03 Q728.921 1532.3 725.101 1532.3 L721.073 1532.3 L721.073 1528.45 L725.286 1528.45 Q728.735 1528.45 730.564 1527.09 Q732.393 1525.7 732.393 1523.11 Q732.393 1520.45 730.495 1519.03 Q728.62 1517.6 725.101 1517.6 Q723.18 1517.6 720.981 1518.01 Q718.782 1518.43 716.143 1519.31 L716.143 1515.14 Q718.805 1514.4 721.12 1514.03 Q723.458 1513.66 725.518 1513.66 Q730.842 1513.66 733.944 1516.09 Q737.046 1518.5 737.046 1522.62 Q737.046 1525.49 735.402 1527.48 Q733.759 1529.45 730.726 1530.21 Z\" fill=\"#000000\" fill-rule=\"nonzero\" fill-opacity=\"1\" /><path clip-path=\"url(#clip370)\" d=\"M1019.17 1518.36 L1007.36 1536.81 L1019.17 1536.81 L1019.17 1518.36 M1017.94 1514.29 L1023.82 1514.29 L1023.82 1536.81 L1028.75 1536.81 L1028.75 1540.7 L1023.82 1540.7 L1023.82 1548.85 L1019.17 1548.85 L1019.17 1540.7 L1003.57 1540.7 L1003.57 1536.19 L1017.94 1514.29 Z\" fill=\"#000000\" fill-rule=\"nonzero\" fill-opacity=\"1\" /><path clip-path=\"url(#clip370)\" d=\"M1296.12 1514.29 L1314.47 1514.29 L1314.47 1518.22 L1300.4 1518.22 L1300.4 1526.7 Q1301.42 1526.35 1302.43 1526.19 Q1303.45 1526 1304.47 1526 Q1310.26 1526 1313.64 1529.17 Q1317.02 1532.34 1317.02 1537.76 Q1317.02 1543.34 1313.55 1546.44 Q1310.07 1549.52 1303.75 1549.52 Q1301.58 1549.52 1299.31 1549.15 Q1297.06 1548.78 1294.66 1548.04 L1294.66 1543.34 Q1296.74 1544.47 1298.96 1545.03 Q1301.18 1545.58 1303.66 1545.58 Q1307.67 1545.58 1310 1543.48 Q1312.34 1541.37 1312.34 1537.76 Q1312.34 1534.15 1310 1532.04 Q1307.67 1529.94 1303.66 1529.94 Q1301.79 1529.94 1299.91 1530.35 Q1298.06 1530.77 1296.12 1531.65 L1296.12 1514.29 Z\" fill=\"#000000\" fill-rule=\"nonzero\" fill-opacity=\"1\" /><path clip-path=\"url(#clip370)\" d=\"M1595.92 1529.7 Q1592.77 1529.7 1590.92 1531.86 Q1589.09 1534.01 1589.09 1537.76 Q1589.09 1541.49 1590.92 1543.66 Q1592.77 1545.82 1595.92 1545.82 Q1599.07 1545.82 1600.9 1543.66 Q1602.75 1541.49 1602.75 1537.76 Q1602.75 1534.01 1600.9 1531.86 Q1599.07 1529.7 1595.92 1529.7 M1605.2 1515.05 L1605.2 1519.31 Q1603.44 1518.48 1601.64 1518.04 Q1599.86 1517.6 1598.1 1517.6 Q1593.47 1517.6 1591.01 1520.72 Q1588.58 1523.85 1588.24 1530.17 Q1589.6 1528.15 1591.66 1527.09 Q1593.72 1526 1596.2 1526 Q1601.41 1526 1604.42 1529.17 Q1607.45 1532.32 1607.45 1537.76 Q1607.45 1543.08 1604.3 1546.3 Q1601.15 1549.52 1595.92 1549.52 Q1589.93 1549.52 1586.76 1544.94 Q1583.58 1540.33 1583.58 1531.6 Q1583.58 1523.41 1587.47 1518.55 Q1591.36 1513.66 1597.91 1513.66 Q1599.67 1513.66 1601.45 1514.01 Q1603.26 1514.36 1605.2 1515.05 Z\" fill=\"#000000\" fill-rule=\"nonzero\" fill-opacity=\"1\" /><path clip-path=\"url(#clip370)\" d=\"M1874.08 1514.29 L1896.31 1514.29 L1896.31 1516.28 L1883.76 1548.85 L1878.88 1548.85 L1890.68 1518.22 L1874.08 1518.22 L1874.08 1514.29 Z\" fill=\"#000000\" fill-rule=\"nonzero\" fill-opacity=\"1\" /><path clip-path=\"url(#clip370)\" d=\"M2174.88 1532.44 Q2171.54 1532.44 2169.62 1534.22 Q2167.72 1536 2167.72 1539.13 Q2167.72 1542.25 2169.62 1544.03 Q2171.54 1545.82 2174.88 1545.82 Q2178.21 1545.82 2180.13 1544.03 Q2182.05 1542.23 2182.05 1539.13 Q2182.05 1536 2180.13 1534.22 Q2178.23 1532.44 2174.88 1532.44 M2170.2 1530.45 Q2167.19 1529.7 2165.5 1527.64 Q2163.83 1525.58 2163.83 1522.62 Q2163.83 1518.48 2166.77 1516.07 Q2169.74 1513.66 2174.88 1513.66 Q2180.04 1513.66 2182.98 1516.07 Q2185.92 1518.48 2185.92 1522.62 Q2185.92 1525.58 2184.23 1527.64 Q2182.56 1529.7 2179.57 1530.45 Q2182.95 1531.23 2184.83 1533.52 Q2186.73 1535.82 2186.73 1539.13 Q2186.73 1544.15 2183.65 1546.83 Q2180.59 1549.52 2174.88 1549.52 Q2169.16 1549.52 2166.08 1546.83 Q2163.02 1544.15 2163.02 1539.13 Q2163.02 1535.82 2164.92 1533.52 Q2166.82 1531.23 2170.2 1530.45 M2168.49 1523.06 Q2168.49 1525.75 2170.15 1527.25 Q2171.84 1528.76 2174.88 1528.76 Q2177.88 1528.76 2179.57 1527.25 Q2181.29 1525.75 2181.29 1523.06 Q2181.29 1520.38 2179.57 1518.87 Q2177.88 1517.37 2174.88 1517.37 Q2171.84 1517.37 2170.15 1518.87 Q2168.49 1520.38 2168.49 1523.06 Z\" fill=\"#000000\" fill-rule=\"nonzero\" fill-opacity=\"1\" /><polyline clip-path=\"url(#clip372)\" style=\"stroke:#000000; stroke-linecap:round; stroke-linejoin:round; stroke-width:2; stroke-opacity:0.1; fill:none\" points=\"172.015,1486.45 2352.76,1486.45 \"/>\n",
       "<polyline clip-path=\"url(#clip372)\" style=\"stroke:#000000; stroke-linecap:round; stroke-linejoin:round; stroke-width:2; stroke-opacity:0.1; fill:none\" points=\"172.015,1180.23 2352.76,1180.23 \"/>\n",
       "<polyline clip-path=\"url(#clip372)\" style=\"stroke:#000000; stroke-linecap:round; stroke-linejoin:round; stroke-width:2; stroke-opacity:0.1; fill:none\" points=\"172.015,874.021 2352.76,874.021 \"/>\n",
       "<polyline clip-path=\"url(#clip372)\" style=\"stroke:#000000; stroke-linecap:round; stroke-linejoin:round; stroke-width:2; stroke-opacity:0.1; fill:none\" points=\"172.015,567.807 2352.76,567.807 \"/>\n",
       "<polyline clip-path=\"url(#clip372)\" style=\"stroke:#000000; stroke-linecap:round; stroke-linejoin:round; stroke-width:2; stroke-opacity:0.1; fill:none\" points=\"172.015,261.594 2352.76,261.594 \"/>\n",
       "<polyline clip-path=\"url(#clip370)\" style=\"stroke:#000000; stroke-linecap:round; stroke-linejoin:round; stroke-width:4; stroke-opacity:1; fill:none\" points=\"172.015,1486.45 172.015,47.2441 \"/>\n",
       "<polyline clip-path=\"url(#clip370)\" style=\"stroke:#000000; stroke-linecap:round; stroke-linejoin:round; stroke-width:4; stroke-opacity:1; fill:none\" points=\"172.015,1486.45 190.912,1486.45 \"/>\n",
       "<polyline clip-path=\"url(#clip370)\" style=\"stroke:#000000; stroke-linecap:round; stroke-linejoin:round; stroke-width:4; stroke-opacity:1; fill:none\" points=\"172.015,1180.23 190.912,1180.23 \"/>\n",
       "<polyline clip-path=\"url(#clip370)\" style=\"stroke:#000000; stroke-linecap:round; stroke-linejoin:round; stroke-width:4; stroke-opacity:1; fill:none\" points=\"172.015,874.021 190.912,874.021 \"/>\n",
       "<polyline clip-path=\"url(#clip370)\" style=\"stroke:#000000; stroke-linecap:round; stroke-linejoin:round; stroke-width:4; stroke-opacity:1; fill:none\" points=\"172.015,567.807 190.912,567.807 \"/>\n",
       "<polyline clip-path=\"url(#clip370)\" style=\"stroke:#000000; stroke-linecap:round; stroke-linejoin:round; stroke-width:4; stroke-opacity:1; fill:none\" points=\"172.015,261.594 190.912,261.594 \"/>\n",
       "<path clip-path=\"url(#clip370)\" d=\"M124.07 1472.25 Q120.459 1472.25 118.631 1475.81 Q116.825 1479.35 116.825 1486.48 Q116.825 1493.59 118.631 1497.15 Q120.459 1500.7 124.07 1500.7 Q127.705 1500.7 129.51 1497.15 Q131.339 1493.59 131.339 1486.48 Q131.339 1479.35 129.51 1475.81 Q127.705 1472.25 124.07 1472.25 M124.07 1468.54 Q129.881 1468.54 132.936 1473.15 Q136.015 1477.73 136.015 1486.48 Q136.015 1495.21 132.936 1499.82 Q129.881 1504.4 124.07 1504.4 Q118.26 1504.4 115.182 1499.82 Q112.126 1495.21 112.126 1486.48 Q112.126 1477.73 115.182 1473.15 Q118.26 1468.54 124.07 1468.54 Z\" fill=\"#000000\" fill-rule=\"nonzero\" fill-opacity=\"1\" /><path clip-path=\"url(#clip370)\" d=\"M54.5569 1193.58 L62.1958 1193.58 L62.1958 1167.21 L53.8856 1168.88 L53.8856 1164.62 L62.1495 1162.95 L66.8254 1162.95 L66.8254 1193.58 L74.4642 1193.58 L74.4642 1197.51 L54.5569 1197.51 L54.5569 1193.58 Z\" fill=\"#000000\" fill-rule=\"nonzero\" fill-opacity=\"1\" /><path clip-path=\"url(#clip370)\" d=\"M93.9086 1166.03 Q90.2975 1166.03 88.4688 1169.6 Q86.6632 1173.14 86.6632 1180.27 Q86.6632 1187.38 88.4688 1190.94 Q90.2975 1194.48 93.9086 1194.48 Q97.5428 1194.48 99.3483 1190.94 Q101.177 1187.38 101.177 1180.27 Q101.177 1173.14 99.3483 1169.6 Q97.5428 1166.03 93.9086 1166.03 M93.9086 1162.33 Q99.7187 1162.33 102.774 1166.94 Q105.853 1171.52 105.853 1180.27 Q105.853 1189 102.774 1193.6 Q99.7187 1198.19 93.9086 1198.19 Q88.0984 1198.19 85.0197 1193.6 Q81.9642 1189 81.9642 1180.27 Q81.9642 1171.52 85.0197 1166.94 Q88.0984 1162.33 93.9086 1162.33 Z\" fill=\"#000000\" fill-rule=\"nonzero\" fill-opacity=\"1\" /><path clip-path=\"url(#clip370)\" d=\"M124.07 1166.03 Q120.459 1166.03 118.631 1169.6 Q116.825 1173.14 116.825 1180.27 Q116.825 1187.38 118.631 1190.94 Q120.459 1194.48 124.07 1194.48 Q127.705 1194.48 129.51 1190.94 Q131.339 1187.38 131.339 1180.27 Q131.339 1173.14 129.51 1169.6 Q127.705 1166.03 124.07 1166.03 M124.07 1162.33 Q129.881 1162.33 132.936 1166.94 Q136.015 1171.52 136.015 1180.27 Q136.015 1189 132.936 1193.6 Q129.881 1198.19 124.07 1198.19 Q118.26 1198.19 115.182 1193.6 Q112.126 1189 112.126 1180.27 Q112.126 1171.52 115.182 1166.94 Q118.26 1162.33 124.07 1162.33 Z\" fill=\"#000000\" fill-rule=\"nonzero\" fill-opacity=\"1\" /><path clip-path=\"url(#clip370)\" d=\"M57.7745 887.366 L74.0939 887.366 L74.0939 891.301 L52.1495 891.301 L52.1495 887.366 Q54.8115 884.611 59.3949 879.981 Q64.0013 875.329 65.1819 873.986 Q67.4272 871.463 68.3068 869.727 Q69.2096 867.968 69.2096 866.278 Q69.2096 863.523 67.2652 861.787 Q65.3439 860.051 62.2421 860.051 Q60.043 860.051 57.5893 860.815 Q55.1588 861.579 52.381 863.13 L52.381 858.407 Q55.2051 857.273 57.6588 856.694 Q60.1124 856.116 62.1495 856.116 Q67.5198 856.116 70.7142 858.801 Q73.9087 861.486 73.9087 865.977 Q73.9087 868.106 73.0985 870.028 Q72.3115 871.926 70.205 874.518 Q69.6263 875.19 66.5245 878.407 Q63.4226 881.602 57.7745 887.366 Z\" fill=\"#000000\" fill-rule=\"nonzero\" fill-opacity=\"1\" /><path clip-path=\"url(#clip370)\" d=\"M93.9086 859.819 Q90.2975 859.819 88.4688 863.384 Q86.6632 866.926 86.6632 874.055 Q86.6632 881.162 88.4688 884.727 Q90.2975 888.268 93.9086 888.268 Q97.5428 888.268 99.3483 884.727 Q101.177 881.162 101.177 874.055 Q101.177 866.926 99.3483 863.384 Q97.5428 859.819 93.9086 859.819 M93.9086 856.116 Q99.7187 856.116 102.774 860.722 Q105.853 865.306 105.853 874.055 Q105.853 882.782 102.774 887.389 Q99.7187 891.972 93.9086 891.972 Q88.0984 891.972 85.0197 887.389 Q81.9642 882.782 81.9642 874.055 Q81.9642 865.306 85.0197 860.722 Q88.0984 856.116 93.9086 856.116 Z\" fill=\"#000000\" fill-rule=\"nonzero\" fill-opacity=\"1\" /><path clip-path=\"url(#clip370)\" d=\"M124.07 859.819 Q120.459 859.819 118.631 863.384 Q116.825 866.926 116.825 874.055 Q116.825 881.162 118.631 884.727 Q120.459 888.268 124.07 888.268 Q127.705 888.268 129.51 884.727 Q131.339 881.162 131.339 874.055 Q131.339 866.926 129.51 863.384 Q127.705 859.819 124.07 859.819 M124.07 856.116 Q129.881 856.116 132.936 860.722 Q136.015 865.306 136.015 874.055 Q136.015 882.782 132.936 887.389 Q129.881 891.972 124.07 891.972 Q118.26 891.972 115.182 887.389 Q112.126 882.782 112.126 874.055 Q112.126 865.306 115.182 860.722 Q118.26 856.116 124.07 856.116 Z\" fill=\"#000000\" fill-rule=\"nonzero\" fill-opacity=\"1\" /><path clip-path=\"url(#clip370)\" d=\"M67.9133 566.453 Q71.2698 567.171 73.1448 569.439 Q75.0429 571.708 75.0429 575.041 Q75.0429 580.157 71.5244 582.958 Q68.0059 585.758 61.5245 585.758 Q59.3486 585.758 57.0338 585.319 Q54.7421 584.902 52.2884 584.046 L52.2884 579.532 Q54.2328 580.666 56.5477 581.245 Q58.8625 581.823 61.3856 581.823 Q65.7837 581.823 68.0754 580.087 Q70.3902 578.351 70.3902 575.041 Q70.3902 571.985 68.2374 570.272 Q66.1078 568.536 62.2884 568.536 L58.2606 568.536 L58.2606 564.694 L62.4735 564.694 Q65.9226 564.694 67.7513 563.328 Q69.58 561.939 69.58 559.347 Q69.58 556.685 67.6819 555.273 Q65.8069 553.837 62.2884 553.837 Q60.3671 553.837 58.168 554.254 Q55.969 554.671 53.3301 555.55 L53.3301 551.384 Q55.9921 550.643 58.3069 550.273 Q60.6449 549.902 62.705 549.902 Q68.0291 549.902 71.1309 552.333 Q74.2327 554.74 74.2327 558.86 Q74.2327 561.731 72.5892 563.722 Q70.9457 565.689 67.9133 566.453 Z\" fill=\"#000000\" fill-rule=\"nonzero\" fill-opacity=\"1\" /><path clip-path=\"url(#clip370)\" d=\"M93.9086 553.606 Q90.2975 553.606 88.4688 557.171 Q86.6632 560.712 86.6632 567.842 Q86.6632 574.948 88.4688 578.513 Q90.2975 582.055 93.9086 582.055 Q97.5428 582.055 99.3483 578.513 Q101.177 574.948 101.177 567.842 Q101.177 560.712 99.3483 557.171 Q97.5428 553.606 93.9086 553.606 M93.9086 549.902 Q99.7187 549.902 102.774 554.509 Q105.853 559.092 105.853 567.842 Q105.853 576.569 102.774 581.175 Q99.7187 585.758 93.9086 585.758 Q88.0984 585.758 85.0197 581.175 Q81.9642 576.569 81.9642 567.842 Q81.9642 559.092 85.0197 554.509 Q88.0984 549.902 93.9086 549.902 Z\" fill=\"#000000\" fill-rule=\"nonzero\" fill-opacity=\"1\" /><path clip-path=\"url(#clip370)\" d=\"M124.07 553.606 Q120.459 553.606 118.631 557.171 Q116.825 560.712 116.825 567.842 Q116.825 574.948 118.631 578.513 Q120.459 582.055 124.07 582.055 Q127.705 582.055 129.51 578.513 Q131.339 574.948 131.339 567.842 Q131.339 560.712 129.51 557.171 Q127.705 553.606 124.07 553.606 M124.07 549.902 Q129.881 549.902 132.936 554.509 Q136.015 559.092 136.015 567.842 Q136.015 576.569 132.936 581.175 Q129.881 585.758 124.07 585.758 Q118.26 585.758 115.182 581.175 Q112.126 576.569 112.126 567.842 Q112.126 559.092 115.182 554.509 Q118.26 549.902 124.07 549.902 Z\" fill=\"#000000\" fill-rule=\"nonzero\" fill-opacity=\"1\" /><path clip-path=\"url(#clip370)\" d=\"M66.5939 248.388 L54.7884 266.837 L66.5939 266.837 L66.5939 248.388 M65.367 244.314 L71.2466 244.314 L71.2466 266.837 L76.1772 266.837 L76.1772 270.725 L71.2466 270.725 L71.2466 278.874 L66.5939 278.874 L66.5939 270.725 L50.9921 270.725 L50.9921 266.212 L65.367 244.314 Z\" fill=\"#000000\" fill-rule=\"nonzero\" fill-opacity=\"1\" /><path clip-path=\"url(#clip370)\" d=\"M93.9086 247.392 Q90.2975 247.392 88.4688 250.957 Q86.6632 254.499 86.6632 261.628 Q86.6632 268.735 88.4688 272.3 Q90.2975 275.841 93.9086 275.841 Q97.5428 275.841 99.3483 272.3 Q101.177 268.735 101.177 261.628 Q101.177 254.499 99.3483 250.957 Q97.5428 247.392 93.9086 247.392 M93.9086 243.689 Q99.7187 243.689 102.774 248.295 Q105.853 252.878 105.853 261.628 Q105.853 270.355 102.774 274.962 Q99.7187 279.545 93.9086 279.545 Q88.0984 279.545 85.0197 274.962 Q81.9642 270.355 81.9642 261.628 Q81.9642 252.878 85.0197 248.295 Q88.0984 243.689 93.9086 243.689 Z\" fill=\"#000000\" fill-rule=\"nonzero\" fill-opacity=\"1\" /><path clip-path=\"url(#clip370)\" d=\"M124.07 247.392 Q120.459 247.392 118.631 250.957 Q116.825 254.499 116.825 261.628 Q116.825 268.735 118.631 272.3 Q120.459 275.841 124.07 275.841 Q127.705 275.841 129.51 272.3 Q131.339 268.735 131.339 261.628 Q131.339 254.499 129.51 250.957 Q127.705 247.392 124.07 247.392 M124.07 243.689 Q129.881 243.689 132.936 248.295 Q136.015 252.878 136.015 261.628 Q136.015 270.355 132.936 274.962 Q129.881 279.545 124.07 279.545 Q118.26 279.545 115.182 274.962 Q112.126 270.355 112.126 261.628 Q112.126 252.878 115.182 248.295 Q118.26 243.689 124.07 243.689 Z\" fill=\"#000000\" fill-rule=\"nonzero\" fill-opacity=\"1\" /><path clip-path=\"url(#clip372)\" d=\"M291.959 1483.39 L291.959 1486.45 L320.927 1486.45 L320.927 1483.39 L291.959 1483.39 L291.959 1483.39  Z\" fill=\"#009af9\" fill-rule=\"evenodd\" fill-opacity=\"1\"/>\n",
       "<polyline clip-path=\"url(#clip372)\" style=\"stroke:#000000; stroke-linecap:round; stroke-linejoin:round; stroke-width:4; stroke-opacity:1; fill:none\" points=\"291.959,1483.39 291.959,1486.45 320.927,1486.45 320.927,1483.39 291.959,1483.39 \"/>\n",
       "<path clip-path=\"url(#clip372)\" d=\"M320.927 1486.45 L320.927 1486.45 L349.895 1486.45 L349.895 1486.45 L320.927 1486.45 L320.927 1486.45  Z\" fill=\"#009af9\" fill-rule=\"evenodd\" fill-opacity=\"1\"/>\n",
       "<polyline clip-path=\"url(#clip372)\" style=\"stroke:#000000; stroke-linecap:round; stroke-linejoin:round; stroke-width:4; stroke-opacity:1; fill:none\" points=\"320.927,1486.45 320.927,1486.45 349.895,1486.45 320.927,1486.45 \"/>\n",
       "<path clip-path=\"url(#clip372)\" d=\"M349.895 1483.39 L349.895 1486.45 L378.863 1486.45 L378.863 1483.39 L349.895 1483.39 L349.895 1483.39  Z\" fill=\"#009af9\" fill-rule=\"evenodd\" fill-opacity=\"1\"/>\n",
       "<polyline clip-path=\"url(#clip372)\" style=\"stroke:#000000; stroke-linecap:round; stroke-linejoin:round; stroke-width:4; stroke-opacity:1; fill:none\" points=\"349.895,1483.39 349.895,1486.45 378.863,1486.45 378.863,1483.39 349.895,1483.39 \"/>\n",
       "<path clip-path=\"url(#clip372)\" d=\"M378.863 1486.45 L378.863 1486.45 L407.831 1486.45 L407.831 1486.45 L378.863 1486.45 L378.863 1486.45  Z\" fill=\"#009af9\" fill-rule=\"evenodd\" fill-opacity=\"1\"/>\n",
       "<polyline clip-path=\"url(#clip372)\" style=\"stroke:#000000; stroke-linecap:round; stroke-linejoin:round; stroke-width:4; stroke-opacity:1; fill:none\" points=\"378.863,1486.45 378.863,1486.45 407.831,1486.45 378.863,1486.45 \"/>\n",
       "<path clip-path=\"url(#clip372)\" d=\"M407.831 1483.39 L407.831 1486.45 L436.799 1486.45 L436.799 1483.39 L407.831 1483.39 L407.831 1483.39  Z\" fill=\"#009af9\" fill-rule=\"evenodd\" fill-opacity=\"1\"/>\n",
       "<polyline clip-path=\"url(#clip372)\" style=\"stroke:#000000; stroke-linecap:round; stroke-linejoin:round; stroke-width:4; stroke-opacity:1; fill:none\" points=\"407.831,1483.39 407.831,1486.45 436.799,1486.45 436.799,1483.39 407.831,1483.39 \"/>\n",
       "<path clip-path=\"url(#clip372)\" d=\"M436.799 1480.32 L436.799 1486.45 L465.767 1486.45 L465.767 1480.32 L436.799 1480.32 L436.799 1480.32  Z\" fill=\"#009af9\" fill-rule=\"evenodd\" fill-opacity=\"1\"/>\n",
       "<polyline clip-path=\"url(#clip372)\" style=\"stroke:#000000; stroke-linecap:round; stroke-linejoin:round; stroke-width:4; stroke-opacity:1; fill:none\" points=\"436.799,1480.32 436.799,1486.45 465.767,1486.45 465.767,1480.32 436.799,1480.32 \"/>\n",
       "<path clip-path=\"url(#clip372)\" d=\"M465.767 1471.14 L465.767 1486.45 L494.735 1486.45 L494.735 1471.14 L465.767 1471.14 L465.767 1471.14  Z\" fill=\"#009af9\" fill-rule=\"evenodd\" fill-opacity=\"1\"/>\n",
       "<polyline clip-path=\"url(#clip372)\" style=\"stroke:#000000; stroke-linecap:round; stroke-linejoin:round; stroke-width:4; stroke-opacity:1; fill:none\" points=\"465.767,1471.14 465.767,1486.45 494.735,1486.45 494.735,1471.14 465.767,1471.14 \"/>\n",
       "<path clip-path=\"url(#clip372)\" d=\"M494.735 1471.14 L494.735 1486.45 L523.703 1486.45 L523.703 1471.14 L494.735 1471.14 L494.735 1471.14  Z\" fill=\"#009af9\" fill-rule=\"evenodd\" fill-opacity=\"1\"/>\n",
       "<polyline clip-path=\"url(#clip372)\" style=\"stroke:#000000; stroke-linecap:round; stroke-linejoin:round; stroke-width:4; stroke-opacity:1; fill:none\" points=\"494.735,1471.14 494.735,1486.45 523.703,1486.45 523.703,1471.14 494.735,1471.14 \"/>\n",
       "<path clip-path=\"url(#clip372)\" d=\"M523.703 1474.2 L523.703 1486.45 L552.671 1486.45 L552.671 1474.2 L523.703 1474.2 L523.703 1474.2  Z\" fill=\"#009af9\" fill-rule=\"evenodd\" fill-opacity=\"1\"/>\n",
       "<polyline clip-path=\"url(#clip372)\" style=\"stroke:#000000; stroke-linecap:round; stroke-linejoin:round; stroke-width:4; stroke-opacity:1; fill:none\" points=\"523.703,1474.2 523.703,1486.45 552.671,1486.45 552.671,1474.2 523.703,1474.2 \"/>\n",
       "<path clip-path=\"url(#clip372)\" d=\"M552.671 1471.14 L552.671 1486.45 L581.639 1486.45 L581.639 1471.14 L552.671 1471.14 L552.671 1471.14  Z\" fill=\"#009af9\" fill-rule=\"evenodd\" fill-opacity=\"1\"/>\n",
       "<polyline clip-path=\"url(#clip372)\" style=\"stroke:#000000; stroke-linecap:round; stroke-linejoin:round; stroke-width:4; stroke-opacity:1; fill:none\" points=\"552.671,1471.14 552.671,1486.45 581.639,1486.45 581.639,1471.14 552.671,1471.14 \"/>\n",
       "<path clip-path=\"url(#clip372)\" d=\"M581.639 1437.45 L581.639 1486.45 L610.607 1486.45 L610.607 1437.45 L581.639 1437.45 L581.639 1437.45  Z\" fill=\"#009af9\" fill-rule=\"evenodd\" fill-opacity=\"1\"/>\n",
       "<polyline clip-path=\"url(#clip372)\" style=\"stroke:#000000; stroke-linecap:round; stroke-linejoin:round; stroke-width:4; stroke-opacity:1; fill:none\" points=\"581.639,1437.45 581.639,1486.45 610.607,1486.45 610.607,1437.45 581.639,1437.45 \"/>\n",
       "<path clip-path=\"url(#clip372)\" d=\"M610.607 1416.02 L610.607 1486.45 L639.575 1486.45 L639.575 1416.02 L610.607 1416.02 L610.607 1416.02  Z\" fill=\"#009af9\" fill-rule=\"evenodd\" fill-opacity=\"1\"/>\n",
       "<polyline clip-path=\"url(#clip372)\" style=\"stroke:#000000; stroke-linecap:round; stroke-linejoin:round; stroke-width:4; stroke-opacity:1; fill:none\" points=\"610.607,1416.02 610.607,1486.45 639.575,1486.45 639.575,1416.02 610.607,1416.02 \"/>\n",
       "<path clip-path=\"url(#clip372)\" d=\"M639.575 1440.52 L639.575 1486.45 L668.543 1486.45 L668.543 1440.52 L639.575 1440.52 L639.575 1440.52  Z\" fill=\"#009af9\" fill-rule=\"evenodd\" fill-opacity=\"1\"/>\n",
       "<polyline clip-path=\"url(#clip372)\" style=\"stroke:#000000; stroke-linecap:round; stroke-linejoin:round; stroke-width:4; stroke-opacity:1; fill:none\" points=\"639.575,1440.52 639.575,1486.45 668.543,1486.45 668.543,1440.52 639.575,1440.52 \"/>\n",
       "<path clip-path=\"url(#clip372)\" d=\"M668.543 1406.83 L668.543 1486.45 L697.511 1486.45 L697.511 1406.83 L668.543 1406.83 L668.543 1406.83  Z\" fill=\"#009af9\" fill-rule=\"evenodd\" fill-opacity=\"1\"/>\n",
       "<polyline clip-path=\"url(#clip372)\" style=\"stroke:#000000; stroke-linecap:round; stroke-linejoin:round; stroke-width:4; stroke-opacity:1; fill:none\" points=\"668.543,1406.83 668.543,1486.45 697.511,1486.45 697.511,1406.83 668.543,1406.83 \"/>\n",
       "<path clip-path=\"url(#clip372)\" d=\"M697.511 1342.53 L697.511 1486.45 L726.479 1486.45 L726.479 1342.53 L697.511 1342.53 L697.511 1342.53  Z\" fill=\"#009af9\" fill-rule=\"evenodd\" fill-opacity=\"1\"/>\n",
       "<polyline clip-path=\"url(#clip372)\" style=\"stroke:#000000; stroke-linecap:round; stroke-linejoin:round; stroke-width:4; stroke-opacity:1; fill:none\" points=\"697.511,1342.53 697.511,1486.45 726.479,1486.45 726.479,1342.53 697.511,1342.53 \"/>\n",
       "<path clip-path=\"url(#clip372)\" d=\"M726.479 1373.15 L726.479 1486.45 L755.446 1486.45 L755.446 1373.15 L726.479 1373.15 L726.479 1373.15  Z\" fill=\"#009af9\" fill-rule=\"evenodd\" fill-opacity=\"1\"/>\n",
       "<polyline clip-path=\"url(#clip372)\" style=\"stroke:#000000; stroke-linecap:round; stroke-linejoin:round; stroke-width:4; stroke-opacity:1; fill:none\" points=\"726.479,1373.15 726.479,1486.45 755.446,1486.45 755.446,1373.15 726.479,1373.15 \"/>\n",
       "<path clip-path=\"url(#clip372)\" d=\"M755.446 1318.03 L755.446 1486.45 L784.414 1486.45 L784.414 1318.03 L755.446 1318.03 L755.446 1318.03  Z\" fill=\"#009af9\" fill-rule=\"evenodd\" fill-opacity=\"1\"/>\n",
       "<polyline clip-path=\"url(#clip372)\" style=\"stroke:#000000; stroke-linecap:round; stroke-linejoin:round; stroke-width:4; stroke-opacity:1; fill:none\" points=\"755.446,1318.03 755.446,1486.45 784.414,1486.45 784.414,1318.03 755.446,1318.03 \"/>\n",
       "<path clip-path=\"url(#clip372)\" d=\"M784.414 1247.6 L784.414 1486.45 L813.382 1486.45 L813.382 1247.6 L784.414 1247.6 L784.414 1247.6  Z\" fill=\"#009af9\" fill-rule=\"evenodd\" fill-opacity=\"1\"/>\n",
       "<polyline clip-path=\"url(#clip372)\" style=\"stroke:#000000; stroke-linecap:round; stroke-linejoin:round; stroke-width:4; stroke-opacity:1; fill:none\" points=\"784.414,1247.6 784.414,1486.45 813.382,1486.45 813.382,1247.6 784.414,1247.6 \"/>\n",
       "<path clip-path=\"url(#clip372)\" d=\"M813.382 1198.61 L813.382 1486.45 L842.35 1486.45 L842.35 1198.61 L813.382 1198.61 L813.382 1198.61  Z\" fill=\"#009af9\" fill-rule=\"evenodd\" fill-opacity=\"1\"/>\n",
       "<polyline clip-path=\"url(#clip372)\" style=\"stroke:#000000; stroke-linecap:round; stroke-linejoin:round; stroke-width:4; stroke-opacity:1; fill:none\" points=\"813.382,1198.61 813.382,1486.45 842.35,1486.45 842.35,1198.61 813.382,1198.61 \"/>\n",
       "<path clip-path=\"url(#clip372)\" d=\"M842.35 1158.8 L842.35 1486.45 L871.318 1486.45 L871.318 1158.8 L842.35 1158.8 L842.35 1158.8  Z\" fill=\"#009af9\" fill-rule=\"evenodd\" fill-opacity=\"1\"/>\n",
       "<polyline clip-path=\"url(#clip372)\" style=\"stroke:#000000; stroke-linecap:round; stroke-linejoin:round; stroke-width:4; stroke-opacity:1; fill:none\" points=\"842.35,1158.8 842.35,1486.45 871.318,1486.45 871.318,1158.8 842.35,1158.8 \"/>\n",
       "<path clip-path=\"url(#clip372)\" d=\"M871.318 1021 L871.318 1486.45 L900.286 1486.45 L900.286 1021 L871.318 1021 L871.318 1021  Z\" fill=\"#009af9\" fill-rule=\"evenodd\" fill-opacity=\"1\"/>\n",
       "<polyline clip-path=\"url(#clip372)\" style=\"stroke:#000000; stroke-linecap:round; stroke-linejoin:round; stroke-width:4; stroke-opacity:1; fill:none\" points=\"871.318,1021 871.318,1486.45 900.286,1486.45 900.286,1021 871.318,1021 \"/>\n",
       "<path clip-path=\"url(#clip372)\" d=\"M900.286 1024.07 L900.286 1486.45 L929.254 1486.45 L929.254 1024.07 L900.286 1024.07 L900.286 1024.07  Z\" fill=\"#009af9\" fill-rule=\"evenodd\" fill-opacity=\"1\"/>\n",
       "<polyline clip-path=\"url(#clip372)\" style=\"stroke:#000000; stroke-linecap:round; stroke-linejoin:round; stroke-width:4; stroke-opacity:1; fill:none\" points=\"900.286,1024.07 900.286,1486.45 929.254,1486.45 929.254,1024.07 900.286,1024.07 \"/>\n",
       "<path clip-path=\"url(#clip372)\" d=\"M929.254 984.258 L929.254 1486.45 L958.222 1486.45 L958.222 984.258 L929.254 984.258 L929.254 984.258  Z\" fill=\"#009af9\" fill-rule=\"evenodd\" fill-opacity=\"1\"/>\n",
       "<polyline clip-path=\"url(#clip372)\" style=\"stroke:#000000; stroke-linecap:round; stroke-linejoin:round; stroke-width:4; stroke-opacity:1; fill:none\" points=\"929.254,984.258 929.254,1486.45 958.222,1486.45 958.222,984.258 929.254,984.258 \"/>\n",
       "<path clip-path=\"url(#clip372)\" d=\"M958.222 907.704 L958.222 1486.45 L987.19 1486.45 L987.19 907.704 L958.222 907.704 L958.222 907.704  Z\" fill=\"#009af9\" fill-rule=\"evenodd\" fill-opacity=\"1\"/>\n",
       "<polyline clip-path=\"url(#clip372)\" style=\"stroke:#000000; stroke-linecap:round; stroke-linejoin:round; stroke-width:4; stroke-opacity:1; fill:none\" points=\"958.222,907.704 958.222,1486.45 987.19,1486.45 987.19,907.704 958.222,907.704 \"/>\n",
       "<path clip-path=\"url(#clip372)\" d=\"M987.19 760.722 L987.19 1486.45 L1016.16 1486.45 L1016.16 760.722 L987.19 760.722 L987.19 760.722  Z\" fill=\"#009af9\" fill-rule=\"evenodd\" fill-opacity=\"1\"/>\n",
       "<polyline clip-path=\"url(#clip372)\" style=\"stroke:#000000; stroke-linecap:round; stroke-linejoin:round; stroke-width:4; stroke-opacity:1; fill:none\" points=\"987.19,760.722 987.19,1486.45 1016.16,1486.45 1016.16,760.722 987.19,760.722 \"/>\n",
       "<path clip-path=\"url(#clip372)\" d=\"M1016.16 717.852 L1016.16 1486.45 L1045.13 1486.45 L1045.13 717.852 L1016.16 717.852 L1016.16 717.852  Z\" fill=\"#009af9\" fill-rule=\"evenodd\" fill-opacity=\"1\"/>\n",
       "<polyline clip-path=\"url(#clip372)\" style=\"stroke:#000000; stroke-linecap:round; stroke-linejoin:round; stroke-width:4; stroke-opacity:1; fill:none\" points=\"1016.16,717.852 1016.16,1486.45 1045.13,1486.45 1045.13,717.852 1016.16,717.852 \"/>\n",
       "<path clip-path=\"url(#clip372)\" d=\"M1045.13 674.982 L1045.13 1486.45 L1074.09 1486.45 L1074.09 674.982 L1045.13 674.982 L1045.13 674.982  Z\" fill=\"#009af9\" fill-rule=\"evenodd\" fill-opacity=\"1\"/>\n",
       "<polyline clip-path=\"url(#clip372)\" style=\"stroke:#000000; stroke-linecap:round; stroke-linejoin:round; stroke-width:4; stroke-opacity:1; fill:none\" points=\"1045.13,674.982 1045.13,1486.45 1074.09,1486.45 1074.09,674.982 1045.13,674.982 \"/>\n",
       "<path clip-path=\"url(#clip372)\" d=\"M1074.09 540.248 L1074.09 1486.45 L1103.06 1486.45 L1103.06 540.248 L1074.09 540.248 L1074.09 540.248  Z\" fill=\"#009af9\" fill-rule=\"evenodd\" fill-opacity=\"1\"/>\n",
       "<polyline clip-path=\"url(#clip372)\" style=\"stroke:#000000; stroke-linecap:round; stroke-linejoin:round; stroke-width:4; stroke-opacity:1; fill:none\" points=\"1074.09,540.248 1074.09,1486.45 1103.06,1486.45 1103.06,540.248 1074.09,540.248 \"/>\n",
       "<path clip-path=\"url(#clip372)\" d=\"M1103.06 359.582 L1103.06 1486.45 L1132.03 1486.45 L1132.03 359.582 L1103.06 359.582 L1103.06 359.582  Z\" fill=\"#009af9\" fill-rule=\"evenodd\" fill-opacity=\"1\"/>\n",
       "<polyline clip-path=\"url(#clip372)\" style=\"stroke:#000000; stroke-linecap:round; stroke-linejoin:round; stroke-width:4; stroke-opacity:1; fill:none\" points=\"1103.06,359.582 1103.06,1486.45 1132.03,1486.45 1132.03,359.582 1103.06,359.582 \"/>\n",
       "<path clip-path=\"url(#clip372)\" d=\"M1132.03 304.463 L1132.03 1486.45 L1161 1486.45 L1161 304.463 L1132.03 304.463 L1132.03 304.463  Z\" fill=\"#009af9\" fill-rule=\"evenodd\" fill-opacity=\"1\"/>\n",
       "<polyline clip-path=\"url(#clip372)\" style=\"stroke:#000000; stroke-linecap:round; stroke-linejoin:round; stroke-width:4; stroke-opacity:1; fill:none\" points=\"1132.03,304.463 1132.03,1486.45 1161,1486.45 1161,304.463 1132.03,304.463 \"/>\n",
       "<path clip-path=\"url(#clip372)\" d=\"M1161 381.017 L1161 1486.45 L1189.97 1486.45 L1189.97 381.017 L1161 381.017 L1161 381.017  Z\" fill=\"#009af9\" fill-rule=\"evenodd\" fill-opacity=\"1\"/>\n",
       "<polyline clip-path=\"url(#clip372)\" style=\"stroke:#000000; stroke-linecap:round; stroke-linejoin:round; stroke-width:4; stroke-opacity:1; fill:none\" points=\"1161,381.017 1161,1486.45 1189.97,1486.45 1189.97,381.017 1161,381.017 \"/>\n",
       "<path clip-path=\"url(#clip372)\" d=\"M1189.97 279.966 L1189.97 1486.45 L1218.93 1486.45 L1218.93 279.966 L1189.97 279.966 L1189.97 279.966  Z\" fill=\"#009af9\" fill-rule=\"evenodd\" fill-opacity=\"1\"/>\n",
       "<polyline clip-path=\"url(#clip372)\" style=\"stroke:#000000; stroke-linecap:round; stroke-linejoin:round; stroke-width:4; stroke-opacity:1; fill:none\" points=\"1189.97,279.966 1189.97,1486.45 1218.93,1486.45 1218.93,279.966 1189.97,279.966 \"/>\n",
       "<path clip-path=\"url(#clip372)\" d=\"M1218.93 261.594 L1218.93 1486.45 L1247.9 1486.45 L1247.9 261.594 L1218.93 261.594 L1218.93 261.594  Z\" fill=\"#009af9\" fill-rule=\"evenodd\" fill-opacity=\"1\"/>\n",
       "<polyline clip-path=\"url(#clip372)\" style=\"stroke:#000000; stroke-linecap:round; stroke-linejoin:round; stroke-width:4; stroke-opacity:1; fill:none\" points=\"1218.93,261.594 1218.93,1486.45 1247.9,1486.45 1247.9,261.594 1218.93,261.594 \"/>\n",
       "<path clip-path=\"url(#clip372)\" d=\"M1247.9 264.656 L1247.9 1486.45 L1276.87 1486.45 L1276.87 264.656 L1247.9 264.656 L1247.9 264.656  Z\" fill=\"#009af9\" fill-rule=\"evenodd\" fill-opacity=\"1\"/>\n",
       "<polyline clip-path=\"url(#clip372)\" style=\"stroke:#000000; stroke-linecap:round; stroke-linejoin:round; stroke-width:4; stroke-opacity:1; fill:none\" points=\"1247.9,264.656 1247.9,1486.45 1276.87,1486.45 1276.87,264.656 1247.9,264.656 \"/>\n",
       "<path clip-path=\"url(#clip372)\" d=\"M1276.87 108.487 L1276.87 1486.45 L1305.84 1486.45 L1305.84 108.487 L1276.87 108.487 L1276.87 108.487  Z\" fill=\"#009af9\" fill-rule=\"evenodd\" fill-opacity=\"1\"/>\n",
       "<polyline clip-path=\"url(#clip372)\" style=\"stroke:#000000; stroke-linecap:round; stroke-linejoin:round; stroke-width:4; stroke-opacity:1; fill:none\" points=\"1276.87,108.487 1276.87,1486.45 1305.84,1486.45 1305.84,108.487 1276.87,108.487 \"/>\n",
       "<path clip-path=\"url(#clip372)\" d=\"M1305.84 47.2441 L1305.84 1486.45 L1334.81 1486.45 L1334.81 47.2441 L1305.84 47.2441 L1305.84 47.2441  Z\" fill=\"#009af9\" fill-rule=\"evenodd\" fill-opacity=\"1\"/>\n",
       "<polyline clip-path=\"url(#clip372)\" style=\"stroke:#000000; stroke-linecap:round; stroke-linejoin:round; stroke-width:4; stroke-opacity:1; fill:none\" points=\"1305.84,47.2441 1305.84,1486.45 1334.81,1486.45 1334.81,47.2441 1305.84,47.2441 \"/>\n",
       "<path clip-path=\"url(#clip372)\" d=\"M1334.81 200.351 L1334.81 1486.45 L1363.77 1486.45 L1363.77 200.351 L1334.81 200.351 L1334.81 200.351  Z\" fill=\"#009af9\" fill-rule=\"evenodd\" fill-opacity=\"1\"/>\n",
       "<polyline clip-path=\"url(#clip372)\" style=\"stroke:#000000; stroke-linecap:round; stroke-linejoin:round; stroke-width:4; stroke-opacity:1; fill:none\" points=\"1334.81,200.351 1334.81,1486.45 1363.77,1486.45 1363.77,200.351 1334.81,200.351 \"/>\n",
       "<path clip-path=\"url(#clip372)\" d=\"M1363.77 212.599 L1363.77 1486.45 L1392.74 1486.45 L1392.74 212.599 L1363.77 212.599 L1363.77 212.599  Z\" fill=\"#009af9\" fill-rule=\"evenodd\" fill-opacity=\"1\"/>\n",
       "<polyline clip-path=\"url(#clip372)\" style=\"stroke:#000000; stroke-linecap:round; stroke-linejoin:round; stroke-width:4; stroke-opacity:1; fill:none\" points=\"1363.77,212.599 1363.77,1486.45 1392.74,1486.45 1392.74,212.599 1363.77,212.599 \"/>\n",
       "<path clip-path=\"url(#clip372)\" d=\"M1392.74 209.537 L1392.74 1486.45 L1421.71 1486.45 L1421.71 209.537 L1392.74 209.537 L1392.74 209.537  Z\" fill=\"#009af9\" fill-rule=\"evenodd\" fill-opacity=\"1\"/>\n",
       "<polyline clip-path=\"url(#clip372)\" style=\"stroke:#000000; stroke-linecap:round; stroke-linejoin:round; stroke-width:4; stroke-opacity:1; fill:none\" points=\"1392.74,209.537 1392.74,1486.45 1421.71,1486.45 1421.71,209.537 1392.74,209.537 \"/>\n",
       "<path clip-path=\"url(#clip372)\" d=\"M1421.71 234.034 L1421.71 1486.45 L1450.68 1486.45 L1450.68 234.034 L1421.71 234.034 L1421.71 234.034  Z\" fill=\"#009af9\" fill-rule=\"evenodd\" fill-opacity=\"1\"/>\n",
       "<polyline clip-path=\"url(#clip372)\" style=\"stroke:#000000; stroke-linecap:round; stroke-linejoin:round; stroke-width:4; stroke-opacity:1; fill:none\" points=\"1421.71,234.034 1421.71,1486.45 1450.68,1486.45 1450.68,234.034 1421.71,234.034 \"/>\n",
       "<path clip-path=\"url(#clip372)\" d=\"M1450.68 338.147 L1450.68 1486.45 L1479.64 1486.45 L1479.64 338.147 L1450.68 338.147 L1450.68 338.147  Z\" fill=\"#009af9\" fill-rule=\"evenodd\" fill-opacity=\"1\"/>\n",
       "<polyline clip-path=\"url(#clip372)\" style=\"stroke:#000000; stroke-linecap:round; stroke-linejoin:round; stroke-width:4; stroke-opacity:1; fill:none\" points=\"1450.68,338.147 1450.68,1486.45 1479.64,1486.45 1479.64,338.147 1450.68,338.147 \"/>\n",
       "<path clip-path=\"url(#clip372)\" d=\"M1479.64 494.316 L1479.64 1486.45 L1508.61 1486.45 L1508.61 494.316 L1479.64 494.316 L1479.64 494.316  Z\" fill=\"#009af9\" fill-rule=\"evenodd\" fill-opacity=\"1\"/>\n",
       "<polyline clip-path=\"url(#clip372)\" style=\"stroke:#000000; stroke-linecap:round; stroke-linejoin:round; stroke-width:4; stroke-opacity:1; fill:none\" points=\"1479.64,494.316 1479.64,1486.45 1508.61,1486.45 1508.61,494.316 1479.64,494.316 \"/>\n",
       "<path clip-path=\"url(#clip372)\" d=\"M1508.61 515.751 L1508.61 1486.45 L1537.58 1486.45 L1537.58 515.751 L1508.61 515.751 L1508.61 515.751  Z\" fill=\"#009af9\" fill-rule=\"evenodd\" fill-opacity=\"1\"/>\n",
       "<polyline clip-path=\"url(#clip372)\" style=\"stroke:#000000; stroke-linecap:round; stroke-linejoin:round; stroke-width:4; stroke-opacity:1; fill:none\" points=\"1508.61,515.751 1508.61,1486.45 1537.58,1486.45 1537.58,515.751 1508.61,515.751 \"/>\n",
       "<path clip-path=\"url(#clip372)\" d=\"M1537.58 711.728 L1537.58 1486.45 L1566.55 1486.45 L1566.55 711.728 L1537.58 711.728 L1537.58 711.728  Z\" fill=\"#009af9\" fill-rule=\"evenodd\" fill-opacity=\"1\"/>\n",
       "<polyline clip-path=\"url(#clip372)\" style=\"stroke:#000000; stroke-linecap:round; stroke-linejoin:round; stroke-width:4; stroke-opacity:1; fill:none\" points=\"1537.58,711.728 1537.58,1486.45 1566.55,1486.45 1566.55,711.728 1537.58,711.728 \"/>\n",
       "<path clip-path=\"url(#clip372)\" d=\"M1566.55 727.038 L1566.55 1486.45 L1595.52 1486.45 L1595.52 727.038 L1566.55 727.038 L1566.55 727.038  Z\" fill=\"#009af9\" fill-rule=\"evenodd\" fill-opacity=\"1\"/>\n",
       "<polyline clip-path=\"url(#clip372)\" style=\"stroke:#000000; stroke-linecap:round; stroke-linejoin:round; stroke-width:4; stroke-opacity:1; fill:none\" points=\"1566.55,727.038 1566.55,1486.45 1595.52,1486.45 1595.52,727.038 1566.55,727.038 \"/>\n",
       "<path clip-path=\"url(#clip372)\" d=\"M1595.52 751.535 L1595.52 1486.45 L1624.48 1486.45 L1624.48 751.535 L1595.52 751.535 L1595.52 751.535  Z\" fill=\"#009af9\" fill-rule=\"evenodd\" fill-opacity=\"1\"/>\n",
       "<polyline clip-path=\"url(#clip372)\" style=\"stroke:#000000; stroke-linecap:round; stroke-linejoin:round; stroke-width:4; stroke-opacity:1; fill:none\" points=\"1595.52,751.535 1595.52,1486.45 1624.48,1486.45 1624.48,751.535 1595.52,751.535 \"/>\n",
       "<path clip-path=\"url(#clip372)\" d=\"M1624.48 877.083 L1624.48 1486.45 L1653.45 1486.45 L1653.45 877.083 L1624.48 877.083 L1624.48 877.083  Z\" fill=\"#009af9\" fill-rule=\"evenodd\" fill-opacity=\"1\"/>\n",
       "<polyline clip-path=\"url(#clip372)\" style=\"stroke:#000000; stroke-linecap:round; stroke-linejoin:round; stroke-width:4; stroke-opacity:1; fill:none\" points=\"1624.48,877.083 1624.48,1486.45 1653.45,1486.45 1653.45,877.083 1624.48,877.083 \"/>\n",
       "<path clip-path=\"url(#clip372)\" d=\"M1653.45 993.444 L1653.45 1486.45 L1682.42 1486.45 L1682.42 993.444 L1653.45 993.444 L1653.45 993.444  Z\" fill=\"#009af9\" fill-rule=\"evenodd\" fill-opacity=\"1\"/>\n",
       "<polyline clip-path=\"url(#clip372)\" style=\"stroke:#000000; stroke-linecap:round; stroke-linejoin:round; stroke-width:4; stroke-opacity:1; fill:none\" points=\"1653.45,993.444 1653.45,1486.45 1682.42,1486.45 1682.42,993.444 1653.45,993.444 \"/>\n",
       "<path clip-path=\"url(#clip372)\" d=\"M1682.42 1063.87 L1682.42 1486.45 L1711.39 1486.45 L1711.39 1063.87 L1682.42 1063.87 L1682.42 1063.87  Z\" fill=\"#009af9\" fill-rule=\"evenodd\" fill-opacity=\"1\"/>\n",
       "<polyline clip-path=\"url(#clip372)\" style=\"stroke:#000000; stroke-linecap:round; stroke-linejoin:round; stroke-width:4; stroke-opacity:1; fill:none\" points=\"1682.42,1063.87 1682.42,1486.45 1711.39,1486.45 1711.39,1063.87 1682.42,1063.87 \"/>\n",
       "<path clip-path=\"url(#clip372)\" d=\"M1711.39 1112.87 L1711.39 1486.45 L1740.36 1486.45 L1740.36 1112.87 L1711.39 1112.87 L1711.39 1112.87  Z\" fill=\"#009af9\" fill-rule=\"evenodd\" fill-opacity=\"1\"/>\n",
       "<polyline clip-path=\"url(#clip372)\" style=\"stroke:#000000; stroke-linecap:round; stroke-linejoin:round; stroke-width:4; stroke-opacity:1; fill:none\" points=\"1711.39,1112.87 1711.39,1486.45 1740.36,1486.45 1740.36,1112.87 1711.39,1112.87 \"/>\n",
       "<path clip-path=\"url(#clip372)\" d=\"M1740.36 1131.24 L1740.36 1486.45 L1769.32 1486.45 L1769.32 1131.24 L1740.36 1131.24 L1740.36 1131.24  Z\" fill=\"#009af9\" fill-rule=\"evenodd\" fill-opacity=\"1\"/>\n",
       "<polyline clip-path=\"url(#clip372)\" style=\"stroke:#000000; stroke-linecap:round; stroke-linejoin:round; stroke-width:4; stroke-opacity:1; fill:none\" points=\"1740.36,1131.24 1740.36,1486.45 1769.32,1486.45 1769.32,1131.24 1740.36,1131.24 \"/>\n",
       "<path clip-path=\"url(#clip372)\" d=\"M1769.32 1244.54 L1769.32 1486.45 L1798.29 1486.45 L1798.29 1244.54 L1769.32 1244.54 L1769.32 1244.54  Z\" fill=\"#009af9\" fill-rule=\"evenodd\" fill-opacity=\"1\"/>\n",
       "<polyline clip-path=\"url(#clip372)\" style=\"stroke:#000000; stroke-linecap:round; stroke-linejoin:round; stroke-width:4; stroke-opacity:1; fill:none\" points=\"1769.32,1244.54 1769.32,1486.45 1798.29,1486.45 1798.29,1244.54 1769.32,1244.54 \"/>\n",
       "<path clip-path=\"url(#clip372)\" d=\"M1798.29 1250.66 L1798.29 1486.45 L1827.26 1486.45 L1827.26 1250.66 L1798.29 1250.66 L1798.29 1250.66  Z\" fill=\"#009af9\" fill-rule=\"evenodd\" fill-opacity=\"1\"/>\n",
       "<polyline clip-path=\"url(#clip372)\" style=\"stroke:#000000; stroke-linecap:round; stroke-linejoin:round; stroke-width:4; stroke-opacity:1; fill:none\" points=\"1798.29,1250.66 1798.29,1486.45 1827.26,1486.45 1827.26,1250.66 1798.29,1250.66 \"/>\n",
       "<path clip-path=\"url(#clip372)\" d=\"M1827.26 1311.91 L1827.26 1486.45 L1856.23 1486.45 L1856.23 1311.91 L1827.26 1311.91 L1827.26 1311.91  Z\" fill=\"#009af9\" fill-rule=\"evenodd\" fill-opacity=\"1\"/>\n",
       "<polyline clip-path=\"url(#clip372)\" style=\"stroke:#000000; stroke-linecap:round; stroke-linejoin:round; stroke-width:4; stroke-opacity:1; fill:none\" points=\"1827.26,1311.91 1827.26,1486.45 1856.23,1486.45 1856.23,1311.91 1827.26,1311.91 \"/>\n",
       "<path clip-path=\"url(#clip372)\" d=\"M1856.23 1351.71 L1856.23 1486.45 L1885.2 1486.45 L1885.2 1351.71 L1856.23 1351.71 L1856.23 1351.71  Z\" fill=\"#009af9\" fill-rule=\"evenodd\" fill-opacity=\"1\"/>\n",
       "<polyline clip-path=\"url(#clip372)\" style=\"stroke:#000000; stroke-linecap:round; stroke-linejoin:round; stroke-width:4; stroke-opacity:1; fill:none\" points=\"1856.23,1351.71 1856.23,1486.45 1885.2,1486.45 1885.2,1351.71 1856.23,1351.71 \"/>\n",
       "<path clip-path=\"url(#clip372)\" d=\"M1885.2 1382.34 L1885.2 1486.45 L1914.16 1486.45 L1914.16 1382.34 L1885.2 1382.34 L1885.2 1382.34  Z\" fill=\"#009af9\" fill-rule=\"evenodd\" fill-opacity=\"1\"/>\n",
       "<polyline clip-path=\"url(#clip372)\" style=\"stroke:#000000; stroke-linecap:round; stroke-linejoin:round; stroke-width:4; stroke-opacity:1; fill:none\" points=\"1885.2,1382.34 1885.2,1486.45 1914.16,1486.45 1914.16,1382.34 1885.2,1382.34 \"/>\n",
       "<path clip-path=\"url(#clip372)\" d=\"M1914.16 1419.08 L1914.16 1486.45 L1943.13 1486.45 L1943.13 1419.08 L1914.16 1419.08 L1914.16 1419.08  Z\" fill=\"#009af9\" fill-rule=\"evenodd\" fill-opacity=\"1\"/>\n",
       "<polyline clip-path=\"url(#clip372)\" style=\"stroke:#000000; stroke-linecap:round; stroke-linejoin:round; stroke-width:4; stroke-opacity:1; fill:none\" points=\"1914.16,1419.08 1914.16,1486.45 1943.13,1486.45 1943.13,1419.08 1914.16,1419.08 \"/>\n",
       "<path clip-path=\"url(#clip372)\" d=\"M1943.13 1425.21 L1943.13 1486.45 L1972.1 1486.45 L1972.1 1425.21 L1943.13 1425.21 L1943.13 1425.21  Z\" fill=\"#009af9\" fill-rule=\"evenodd\" fill-opacity=\"1\"/>\n",
       "<polyline clip-path=\"url(#clip372)\" style=\"stroke:#000000; stroke-linecap:round; stroke-linejoin:round; stroke-width:4; stroke-opacity:1; fill:none\" points=\"1943.13,1425.21 1943.13,1486.45 1972.1,1486.45 1972.1,1425.21 1943.13,1425.21 \"/>\n",
       "<path clip-path=\"url(#clip372)\" d=\"M1972.1 1443.58 L1972.1 1486.45 L2001.07 1486.45 L2001.07 1443.58 L1972.1 1443.58 L1972.1 1443.58  Z\" fill=\"#009af9\" fill-rule=\"evenodd\" fill-opacity=\"1\"/>\n",
       "<polyline clip-path=\"url(#clip372)\" style=\"stroke:#000000; stroke-linecap:round; stroke-linejoin:round; stroke-width:4; stroke-opacity:1; fill:none\" points=\"1972.1,1443.58 1972.1,1486.45 2001.07,1486.45 2001.07,1443.58 1972.1,1443.58 \"/>\n",
       "<path clip-path=\"url(#clip372)\" d=\"M2001.07 1465.01 L2001.07 1486.45 L2030.04 1486.45 L2030.04 1465.01 L2001.07 1465.01 L2001.07 1465.01  Z\" fill=\"#009af9\" fill-rule=\"evenodd\" fill-opacity=\"1\"/>\n",
       "<polyline clip-path=\"url(#clip372)\" style=\"stroke:#000000; stroke-linecap:round; stroke-linejoin:round; stroke-width:4; stroke-opacity:1; fill:none\" points=\"2001.07,1465.01 2001.07,1486.45 2030.04,1486.45 2030.04,1465.01 2001.07,1465.01 \"/>\n",
       "<path clip-path=\"url(#clip372)\" d=\"M2030.04 1468.08 L2030.04 1486.45 L2059 1486.45 L2059 1468.08 L2030.04 1468.08 L2030.04 1468.08  Z\" fill=\"#009af9\" fill-rule=\"evenodd\" fill-opacity=\"1\"/>\n",
       "<polyline clip-path=\"url(#clip372)\" style=\"stroke:#000000; stroke-linecap:round; stroke-linejoin:round; stroke-width:4; stroke-opacity:1; fill:none\" points=\"2030.04,1468.08 2030.04,1486.45 2059,1486.45 2059,1468.08 2030.04,1468.08 \"/>\n",
       "<path clip-path=\"url(#clip372)\" d=\"M2059 1468.08 L2059 1486.45 L2087.97 1486.45 L2087.97 1468.08 L2059 1468.08 L2059 1468.08  Z\" fill=\"#009af9\" fill-rule=\"evenodd\" fill-opacity=\"1\"/>\n",
       "<polyline clip-path=\"url(#clip372)\" style=\"stroke:#000000; stroke-linecap:round; stroke-linejoin:round; stroke-width:4; stroke-opacity:1; fill:none\" points=\"2059,1468.08 2059,1486.45 2087.97,1486.45 2087.97,1468.08 2059,1468.08 \"/>\n",
       "<path clip-path=\"url(#clip372)\" d=\"M2087.97 1480.32 L2087.97 1486.45 L2116.94 1486.45 L2116.94 1480.32 L2087.97 1480.32 L2087.97 1480.32  Z\" fill=\"#009af9\" fill-rule=\"evenodd\" fill-opacity=\"1\"/>\n",
       "<polyline clip-path=\"url(#clip372)\" style=\"stroke:#000000; stroke-linecap:round; stroke-linejoin:round; stroke-width:4; stroke-opacity:1; fill:none\" points=\"2087.97,1480.32 2087.97,1486.45 2116.94,1486.45 2116.94,1480.32 2087.97,1480.32 \"/>\n",
       "<path clip-path=\"url(#clip372)\" d=\"M2116.94 1480.32 L2116.94 1486.45 L2145.91 1486.45 L2145.91 1480.32 L2116.94 1480.32 L2116.94 1480.32  Z\" fill=\"#009af9\" fill-rule=\"evenodd\" fill-opacity=\"1\"/>\n",
       "<polyline clip-path=\"url(#clip372)\" style=\"stroke:#000000; stroke-linecap:round; stroke-linejoin:round; stroke-width:4; stroke-opacity:1; fill:none\" points=\"2116.94,1480.32 2116.94,1486.45 2145.91,1486.45 2145.91,1480.32 2116.94,1480.32 \"/>\n",
       "<path clip-path=\"url(#clip372)\" d=\"M2145.91 1483.39 L2145.91 1486.45 L2174.88 1486.45 L2174.88 1483.39 L2145.91 1483.39 L2145.91 1483.39  Z\" fill=\"#009af9\" fill-rule=\"evenodd\" fill-opacity=\"1\"/>\n",
       "<polyline clip-path=\"url(#clip372)\" style=\"stroke:#000000; stroke-linecap:round; stroke-linejoin:round; stroke-width:4; stroke-opacity:1; fill:none\" points=\"2145.91,1483.39 2145.91,1486.45 2174.88,1486.45 2174.88,1483.39 2145.91,1483.39 \"/>\n",
       "<path clip-path=\"url(#clip372)\" d=\"M2174.88 1474.2 L2174.88 1486.45 L2203.84 1486.45 L2203.84 1474.2 L2174.88 1474.2 L2174.88 1474.2  Z\" fill=\"#009af9\" fill-rule=\"evenodd\" fill-opacity=\"1\"/>\n",
       "<polyline clip-path=\"url(#clip372)\" style=\"stroke:#000000; stroke-linecap:round; stroke-linejoin:round; stroke-width:4; stroke-opacity:1; fill:none\" points=\"2174.88,1474.2 2174.88,1486.45 2203.84,1486.45 2203.84,1474.2 2174.88,1474.2 \"/>\n",
       "<path clip-path=\"url(#clip372)\" d=\"M2203.84 1480.32 L2203.84 1486.45 L2232.81 1486.45 L2232.81 1480.32 L2203.84 1480.32 L2203.84 1480.32  Z\" fill=\"#009af9\" fill-rule=\"evenodd\" fill-opacity=\"1\"/>\n",
       "<polyline clip-path=\"url(#clip372)\" style=\"stroke:#000000; stroke-linecap:round; stroke-linejoin:round; stroke-width:4; stroke-opacity:1; fill:none\" points=\"2203.84,1480.32 2203.84,1486.45 2232.81,1486.45 2232.81,1480.32 2203.84,1480.32 \"/>\n",
       "<circle clip-path=\"url(#clip372)\" style=\"fill:#009af9; stroke:none; fill-opacity:0\" cx=\"306.443\" cy=\"1483.39\" r=\"2\"/>\n",
       "<circle clip-path=\"url(#clip372)\" style=\"fill:#009af9; stroke:none; fill-opacity:0\" cx=\"335.411\" cy=\"1486.45\" r=\"2\"/>\n",
       "<circle clip-path=\"url(#clip372)\" style=\"fill:#009af9; stroke:none; fill-opacity:0\" cx=\"364.379\" cy=\"1483.39\" r=\"2\"/>\n",
       "<circle clip-path=\"url(#clip372)\" style=\"fill:#009af9; stroke:none; fill-opacity:0\" cx=\"393.347\" cy=\"1486.45\" r=\"2\"/>\n",
       "<circle clip-path=\"url(#clip372)\" style=\"fill:#009af9; stroke:none; fill-opacity:0\" cx=\"422.315\" cy=\"1483.39\" r=\"2\"/>\n",
       "<circle clip-path=\"url(#clip372)\" style=\"fill:#009af9; stroke:none; fill-opacity:0\" cx=\"451.283\" cy=\"1480.32\" r=\"2\"/>\n",
       "<circle clip-path=\"url(#clip372)\" style=\"fill:#009af9; stroke:none; fill-opacity:0\" cx=\"480.251\" cy=\"1471.14\" r=\"2\"/>\n",
       "<circle clip-path=\"url(#clip372)\" style=\"fill:#009af9; stroke:none; fill-opacity:0\" cx=\"509.219\" cy=\"1471.14\" r=\"2\"/>\n",
       "<circle clip-path=\"url(#clip372)\" style=\"fill:#009af9; stroke:none; fill-opacity:0\" cx=\"538.187\" cy=\"1474.2\" r=\"2\"/>\n",
       "<circle clip-path=\"url(#clip372)\" style=\"fill:#009af9; stroke:none; fill-opacity:0\" cx=\"567.155\" cy=\"1471.14\" r=\"2\"/>\n",
       "<circle clip-path=\"url(#clip372)\" style=\"fill:#009af9; stroke:none; fill-opacity:0\" cx=\"596.123\" cy=\"1437.45\" r=\"2\"/>\n",
       "<circle clip-path=\"url(#clip372)\" style=\"fill:#009af9; stroke:none; fill-opacity:0\" cx=\"625.091\" cy=\"1416.02\" r=\"2\"/>\n",
       "<circle clip-path=\"url(#clip372)\" style=\"fill:#009af9; stroke:none; fill-opacity:0\" cx=\"654.059\" cy=\"1440.52\" r=\"2\"/>\n",
       "<circle clip-path=\"url(#clip372)\" style=\"fill:#009af9; stroke:none; fill-opacity:0\" cx=\"683.027\" cy=\"1406.83\" r=\"2\"/>\n",
       "<circle clip-path=\"url(#clip372)\" style=\"fill:#009af9; stroke:none; fill-opacity:0\" cx=\"711.995\" cy=\"1342.53\" r=\"2\"/>\n",
       "<circle clip-path=\"url(#clip372)\" style=\"fill:#009af9; stroke:none; fill-opacity:0\" cx=\"740.962\" cy=\"1373.15\" r=\"2\"/>\n",
       "<circle clip-path=\"url(#clip372)\" style=\"fill:#009af9; stroke:none; fill-opacity:0\" cx=\"769.93\" cy=\"1318.03\" r=\"2\"/>\n",
       "<circle clip-path=\"url(#clip372)\" style=\"fill:#009af9; stroke:none; fill-opacity:0\" cx=\"798.898\" cy=\"1247.6\" r=\"2\"/>\n",
       "<circle clip-path=\"url(#clip372)\" style=\"fill:#009af9; stroke:none; fill-opacity:0\" cx=\"827.866\" cy=\"1198.61\" r=\"2\"/>\n",
       "<circle clip-path=\"url(#clip372)\" style=\"fill:#009af9; stroke:none; fill-opacity:0\" cx=\"856.834\" cy=\"1158.8\" r=\"2\"/>\n",
       "<circle clip-path=\"url(#clip372)\" style=\"fill:#009af9; stroke:none; fill-opacity:0\" cx=\"885.802\" cy=\"1021\" r=\"2\"/>\n",
       "<circle clip-path=\"url(#clip372)\" style=\"fill:#009af9; stroke:none; fill-opacity:0\" cx=\"914.77\" cy=\"1024.07\" r=\"2\"/>\n",
       "<circle clip-path=\"url(#clip372)\" style=\"fill:#009af9; stroke:none; fill-opacity:0\" cx=\"943.738\" cy=\"984.258\" r=\"2\"/>\n",
       "<circle clip-path=\"url(#clip372)\" style=\"fill:#009af9; stroke:none; fill-opacity:0\" cx=\"972.706\" cy=\"907.704\" r=\"2\"/>\n",
       "<circle clip-path=\"url(#clip372)\" style=\"fill:#009af9; stroke:none; fill-opacity:0\" cx=\"1001.67\" cy=\"760.722\" r=\"2\"/>\n",
       "<circle clip-path=\"url(#clip372)\" style=\"fill:#009af9; stroke:none; fill-opacity:0\" cx=\"1030.64\" cy=\"717.852\" r=\"2\"/>\n",
       "<circle clip-path=\"url(#clip372)\" style=\"fill:#009af9; stroke:none; fill-opacity:0\" cx=\"1059.61\" cy=\"674.982\" r=\"2\"/>\n",
       "<circle clip-path=\"url(#clip372)\" style=\"fill:#009af9; stroke:none; fill-opacity:0\" cx=\"1088.58\" cy=\"540.248\" r=\"2\"/>\n",
       "<circle clip-path=\"url(#clip372)\" style=\"fill:#009af9; stroke:none; fill-opacity:0\" cx=\"1117.55\" cy=\"359.582\" r=\"2\"/>\n",
       "<circle clip-path=\"url(#clip372)\" style=\"fill:#009af9; stroke:none; fill-opacity:0\" cx=\"1146.51\" cy=\"304.463\" r=\"2\"/>\n",
       "<circle clip-path=\"url(#clip372)\" style=\"fill:#009af9; stroke:none; fill-opacity:0\" cx=\"1175.48\" cy=\"381.017\" r=\"2\"/>\n",
       "<circle clip-path=\"url(#clip372)\" style=\"fill:#009af9; stroke:none; fill-opacity:0\" cx=\"1204.45\" cy=\"279.966\" r=\"2\"/>\n",
       "<circle clip-path=\"url(#clip372)\" style=\"fill:#009af9; stroke:none; fill-opacity:0\" cx=\"1233.42\" cy=\"261.594\" r=\"2\"/>\n",
       "<circle clip-path=\"url(#clip372)\" style=\"fill:#009af9; stroke:none; fill-opacity:0\" cx=\"1262.39\" cy=\"264.656\" r=\"2\"/>\n",
       "<circle clip-path=\"url(#clip372)\" style=\"fill:#009af9; stroke:none; fill-opacity:0\" cx=\"1291.35\" cy=\"108.487\" r=\"2\"/>\n",
       "<circle clip-path=\"url(#clip372)\" style=\"fill:#009af9; stroke:none; fill-opacity:0\" cx=\"1320.32\" cy=\"47.2441\" r=\"2\"/>\n",
       "<circle clip-path=\"url(#clip372)\" style=\"fill:#009af9; stroke:none; fill-opacity:0\" cx=\"1349.29\" cy=\"200.351\" r=\"2\"/>\n",
       "<circle clip-path=\"url(#clip372)\" style=\"fill:#009af9; stroke:none; fill-opacity:0\" cx=\"1378.26\" cy=\"212.599\" r=\"2\"/>\n",
       "<circle clip-path=\"url(#clip372)\" style=\"fill:#009af9; stroke:none; fill-opacity:0\" cx=\"1407.23\" cy=\"209.537\" r=\"2\"/>\n",
       "<circle clip-path=\"url(#clip372)\" style=\"fill:#009af9; stroke:none; fill-opacity:0\" cx=\"1436.19\" cy=\"234.034\" r=\"2\"/>\n",
       "<circle clip-path=\"url(#clip372)\" style=\"fill:#009af9; stroke:none; fill-opacity:0\" cx=\"1465.16\" cy=\"338.147\" r=\"2\"/>\n",
       "<circle clip-path=\"url(#clip372)\" style=\"fill:#009af9; stroke:none; fill-opacity:0\" cx=\"1494.13\" cy=\"494.316\" r=\"2\"/>\n",
       "<circle clip-path=\"url(#clip372)\" style=\"fill:#009af9; stroke:none; fill-opacity:0\" cx=\"1523.1\" cy=\"515.751\" r=\"2\"/>\n",
       "<circle clip-path=\"url(#clip372)\" style=\"fill:#009af9; stroke:none; fill-opacity:0\" cx=\"1552.06\" cy=\"711.728\" r=\"2\"/>\n",
       "<circle clip-path=\"url(#clip372)\" style=\"fill:#009af9; stroke:none; fill-opacity:0\" cx=\"1581.03\" cy=\"727.038\" r=\"2\"/>\n",
       "<circle clip-path=\"url(#clip372)\" style=\"fill:#009af9; stroke:none; fill-opacity:0\" cx=\"1610\" cy=\"751.535\" r=\"2\"/>\n",
       "<circle clip-path=\"url(#clip372)\" style=\"fill:#009af9; stroke:none; fill-opacity:0\" cx=\"1638.97\" cy=\"877.083\" r=\"2\"/>\n",
       "<circle clip-path=\"url(#clip372)\" style=\"fill:#009af9; stroke:none; fill-opacity:0\" cx=\"1667.94\" cy=\"993.444\" r=\"2\"/>\n",
       "<circle clip-path=\"url(#clip372)\" style=\"fill:#009af9; stroke:none; fill-opacity:0\" cx=\"1696.9\" cy=\"1063.87\" r=\"2\"/>\n",
       "<circle clip-path=\"url(#clip372)\" style=\"fill:#009af9; stroke:none; fill-opacity:0\" cx=\"1725.87\" cy=\"1112.87\" r=\"2\"/>\n",
       "<circle clip-path=\"url(#clip372)\" style=\"fill:#009af9; stroke:none; fill-opacity:0\" cx=\"1754.84\" cy=\"1131.24\" r=\"2\"/>\n",
       "<circle clip-path=\"url(#clip372)\" style=\"fill:#009af9; stroke:none; fill-opacity:0\" cx=\"1783.81\" cy=\"1244.54\" r=\"2\"/>\n",
       "<circle clip-path=\"url(#clip372)\" style=\"fill:#009af9; stroke:none; fill-opacity:0\" cx=\"1812.78\" cy=\"1250.66\" r=\"2\"/>\n",
       "<circle clip-path=\"url(#clip372)\" style=\"fill:#009af9; stroke:none; fill-opacity:0\" cx=\"1841.74\" cy=\"1311.91\" r=\"2\"/>\n",
       "<circle clip-path=\"url(#clip372)\" style=\"fill:#009af9; stroke:none; fill-opacity:0\" cx=\"1870.71\" cy=\"1351.71\" r=\"2\"/>\n",
       "<circle clip-path=\"url(#clip372)\" style=\"fill:#009af9; stroke:none; fill-opacity:0\" cx=\"1899.68\" cy=\"1382.34\" r=\"2\"/>\n",
       "<circle clip-path=\"url(#clip372)\" style=\"fill:#009af9; stroke:none; fill-opacity:0\" cx=\"1928.65\" cy=\"1419.08\" r=\"2\"/>\n",
       "<circle clip-path=\"url(#clip372)\" style=\"fill:#009af9; stroke:none; fill-opacity:0\" cx=\"1957.62\" cy=\"1425.21\" r=\"2\"/>\n",
       "<circle clip-path=\"url(#clip372)\" style=\"fill:#009af9; stroke:none; fill-opacity:0\" cx=\"1986.58\" cy=\"1443.58\" r=\"2\"/>\n",
       "<circle clip-path=\"url(#clip372)\" style=\"fill:#009af9; stroke:none; fill-opacity:0\" cx=\"2015.55\" cy=\"1465.01\" r=\"2\"/>\n",
       "<circle clip-path=\"url(#clip372)\" style=\"fill:#009af9; stroke:none; fill-opacity:0\" cx=\"2044.52\" cy=\"1468.08\" r=\"2\"/>\n",
       "<circle clip-path=\"url(#clip372)\" style=\"fill:#009af9; stroke:none; fill-opacity:0\" cx=\"2073.49\" cy=\"1468.08\" r=\"2\"/>\n",
       "<circle clip-path=\"url(#clip372)\" style=\"fill:#009af9; stroke:none; fill-opacity:0\" cx=\"2102.46\" cy=\"1480.32\" r=\"2\"/>\n",
       "<circle clip-path=\"url(#clip372)\" style=\"fill:#009af9; stroke:none; fill-opacity:0\" cx=\"2131.42\" cy=\"1480.32\" r=\"2\"/>\n",
       "<circle clip-path=\"url(#clip372)\" style=\"fill:#009af9; stroke:none; fill-opacity:0\" cx=\"2160.39\" cy=\"1483.39\" r=\"2\"/>\n",
       "<circle clip-path=\"url(#clip372)\" style=\"fill:#009af9; stroke:none; fill-opacity:0\" cx=\"2189.36\" cy=\"1474.2\" r=\"2\"/>\n",
       "<circle clip-path=\"url(#clip372)\" style=\"fill:#009af9; stroke:none; fill-opacity:0\" cx=\"2218.33\" cy=\"1480.32\" r=\"2\"/>\n",
       "<path clip-path=\"url(#clip370)\" d=\"M2009.56 198.898 L2280.06 198.898 L2280.06 95.2176 L2009.56 95.2176  Z\" fill=\"#ffffff\" fill-rule=\"evenodd\" fill-opacity=\"1\"/>\n",
       "<polyline clip-path=\"url(#clip370)\" style=\"stroke:#000000; stroke-linecap:round; stroke-linejoin:round; stroke-width:4; stroke-opacity:1; fill:none\" points=\"2009.56,198.898 2280.06,198.898 2280.06,95.2176 2009.56,95.2176 2009.56,198.898 \"/>\n",
       "<path clip-path=\"url(#clip370)\" d=\"M2033.79 167.794 L2179.17 167.794 L2179.17 126.322 L2033.79 126.322 L2033.79 167.794  Z\" fill=\"#009af9\" fill-rule=\"evenodd\" fill-opacity=\"1\"/>\n",
       "<polyline clip-path=\"url(#clip370)\" style=\"stroke:#000000; stroke-linecap:round; stroke-linejoin:round; stroke-width:4; stroke-opacity:1; fill:none\" points=\"2033.79,167.794 2179.17,167.794 2179.17,126.322 2033.79,126.322 2033.79,167.794 \"/>\n",
       "<path clip-path=\"url(#clip370)\" d=\"M2217.25 166.745 Q2215.44 171.375 2213.73 172.787 Q2212.01 174.199 2209.14 174.199 L2205.74 174.199 L2205.74 170.634 L2208.24 170.634 Q2210 170.634 2210.97 169.8 Q2211.95 168.967 2213.13 165.865 L2213.89 163.921 L2203.4 138.412 L2207.92 138.412 L2216.02 158.689 L2224.12 138.412 L2228.64 138.412 L2217.25 166.745 Z\" fill=\"#000000\" fill-rule=\"nonzero\" fill-opacity=\"1\" /><path clip-path=\"url(#clip370)\" d=\"M2235.93 160.402 L2243.57 160.402 L2243.57 134.037 L2235.26 135.703 L2235.26 131.444 L2243.52 129.778 L2248.2 129.778 L2248.2 160.402 L2255.83 160.402 L2255.83 164.338 L2235.93 164.338 L2235.93 160.402 Z\" fill=\"#000000\" fill-rule=\"nonzero\" fill-opacity=\"1\" /></svg>\n"
      ]
     },
     "execution_count": 8,
     "metadata": {},
     "output_type": "execute_result"
    }
   ],
   "source": [
    "x = [sum(rand() for i in 1:10) for j in 1:10000]\n",
    "using Plots\n",
    "\n",
    "histogram(x, nbins = 100)"
   ]
  },
  {
   "cell_type": "markdown",
   "id": "eb945649",
   "metadata": {
    "slideshow": {
     "slide_type": "fragment"
    }
   },
   "source": [
    "5. Movimiento Browniano (esto quizá lo paso al final del curso)\n",
    " \n",
    "También veremos aquí algo sobre simulaciones (Dinámica Browniana)\n"
   ]
  },
  {
   "cell_type": "markdown",
   "id": "fa677bfb",
   "metadata": {
    "slideshow": {
     "slide_type": "fragment"
    }
   },
   "source": [
    "6. Entropía probabilística, pérdida de información, etc..."
   ]
  },
  {
   "cell_type": "markdown",
   "id": "97695522",
   "metadata": {
    "slideshow": {
     "slide_type": "fragment"
    }
   },
   "source": [
    "7. Ensambles Microcanónico, canónico y gran canónico. (como ejemplos, gas ideal, modelo de Ising, Van der Waals, etc...)\n",
    "\n",
    "También en este punto veremos algo sobre el algoritmo de Metrópolis. "
   ]
  },
  {
   "cell_type": "markdown",
   "id": "18a0240a",
   "metadata": {
    "slideshow": {
     "slide_type": "fragment"
    }
   },
   "source": [
    "8. Aplicaciones cuánticas (cuerpo negro, condensado de Bose, gas de Fermi, etc...)\n",
    "\n",
    "Si da tiempo, veremos algo sobre Monte-Carlo quántico. "
   ]
  },
  {
   "cell_type": "markdown",
   "id": "a60b4e1a",
   "metadata": {
    "slideshow": {
     "slide_type": "fragment"
    }
   },
   "source": [
    "9. Estadística Fuera de equilibrio (ecuación de Boltzmann, difusión, etc...)\n",
    "\n",
    "Esto en realidad no creo llegar a verlo. "
   ]
  },
  {
   "cell_type": "markdown",
   "id": "9f8b0d8a",
   "metadata": {
    "slideshow": {
     "slide_type": "subslide"
    }
   },
   "source": [
    "## Bibliografía"
   ]
  },
  {
   "cell_type": "markdown",
   "id": "ada24e9e",
   "metadata": {
    "slideshow": {
     "slide_type": "fragment"
    }
   },
   "source": [
    "Básica: \n",
    "\n",
    "1. Ross, 2015, A First Course in Probability,...\n",
    "2. Henry McKean, 2014, Probability The classical Limit Theorems,...\n",
    "3. Le Bellac, Mortessagne, Batrouni, 2001, Equilibriumn and Non-Equilibrium Statistical Thermodynamics,...\n",
    "\n",
    "Complementaria: \n",
    "\n",
    "4. García-Colín, 2005, Introducción a la Física estadística,...\n",
    "5. Livi y Politi, 2017, Non-Equilibrium Statistical Physics A Modern Perspective,...\n",
    "6. Reif F., 1968, Fundamentos de física estadística y térmica...\n",
    "7. Kittel, Kroemer, 1980 Thermal physics...\n",
    "8. Mandl, 1979, Física estadística...\n",
    "9. Kubo, 1974, Statistical mechanics...\n",
    "10. Pathria y Beale, 1996, Statistical Mechanics,...\n",
    "11. Landau y Lifshitz, 1964 , Física Estadistica (Vol 5),... "
   ]
  }
 ],
 "metadata": {
  "celltoolbar": "Slideshow",
  "kernelspec": {
   "display_name": "Julia 1.10.3",
   "language": "julia",
   "name": "julia-1.10"
  },
  "language_info": {
   "file_extension": ".jl",
   "mimetype": "application/julia",
   "name": "julia",
   "version": "1.10.3"
  }
 },
 "nbformat": 4,
 "nbformat_minor": 5
}
