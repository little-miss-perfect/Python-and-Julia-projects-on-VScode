{
 "cells": [
  {
   "cell_type": "markdown",
   "id": "b99ea182-4bee-4958-9d45-f6c769ab3180",
   "metadata": {},
   "source": [
    "\"librerías\""
   ]
  },
  {
   "cell_type": "code",
   "execution_count": null,
   "id": "7b234906-f997-42f4-8357-a42328aaa7a0",
   "metadata": {},
   "outputs": [],
   "source": []
  },
  {
   "cell_type": "markdown",
   "id": "137664b4-6dbf-440e-b1e2-2931e248a611",
   "metadata": {},
   "source": [
    "Metrópolis"
   ]
  },
  {
   "cell_type": "code",
   "execution_count": 93,
   "id": "48c59cd2-a372-4d87-8caf-4c635fa75081",
   "metadata": {},
   "outputs": [
    {
     "data": {
      "text/plain": [
       "metropolis (generic function with 1 method)"
      ]
     },
     "execution_count": 93,
     "metadata": {},
     "output_type": "execute_result"
    }
   ],
   "source": [
    "function metropolis_1(ΔH, σ, modificador!; β = 1, parametros...)\n",
    "    n = length(σ)\n",
    "    i = rand(1:n)\n",
    "    x = copy(σ[i])\n",
    "    x = modificador!(x, i, σ)\n",
    "    dH = ΔH(x,i, σ; parametros...)\n",
    "    p = exp(-β*dH)\n",
    "    if rand()< p\n",
    "        σ[i] = copy(x)\n",
    "    end\n",
    "    return σ\n",
    "end\n",
    "\n",
    "function metropolis(ΔH, σ, modificador!; N = 1, β = 1,  parametros...)\n",
    "    for i in 1:N\n",
    "        σ = metropolis_1(ΔH, σ, modificador!; β = β, parametros...)\n",
    "    end\n",
    "    return σ\n",
    "end\n"
   ]
  },
  {
   "cell_type": "markdown",
   "id": "5a30a7ae-33dd-4d4a-a26a-a28ddc440122",
   "metadata": {},
   "source": [
    "y para el sólido paramagnético tenemos que"
   ]
  },
  {
   "cell_type": "code",
   "execution_count": 94,
   "id": "1363a716-0f7e-4ee3-a586-01d925421381",
   "metadata": {},
   "outputs": [
    {
     "data": {
      "text/plain": [
       "ΔH (generic function with 1 method)"
      ]
     },
     "execution_count": 94,
     "metadata": {},
     "output_type": "execute_result"
    }
   ],
   "source": [
    "H(σ; B = 1, μ = 1) = -B*μ*sum(σ)\n",
    "ΔH(x, i, σ; B = 1, μ = 1) =-2B*μ*x"
   ]
  },
  {
   "cell_type": "code",
   "execution_count": 95,
   "id": "c2b85b6e-4387-4aa4-8c3e-c225337aa714",
   "metadata": {},
   "outputs": [
    {
     "data": {
      "text/plain": [
       "modificador! (generic function with 1 method)"
      ]
     },
     "execution_count": 95,
     "metadata": {},
     "output_type": "execute_result"
    }
   ],
   "source": [
    "function modificador!(x, i, σ) \n",
    "    x = -x\n",
    "end"
   ]
  },
  {
   "cell_type": "code",
   "execution_count": 96,
   "id": "fd04a96d-4cc7-42a7-afb6-60b887550639",
   "metadata": {},
   "outputs": [],
   "source": [
    "N = 1000\n",
    "βs = -10:0.0101:10\n",
    "M = zeros(length(βs))\n",
    "E = zeros(length(βs))\n",
    "i = 0\n",
    "for β in βs\n",
    "    i += 1\n",
    "    σ = rand([-1,1], N )\n",
    "    σ = metropolis(ΔH, σ, modificador!, N = 10N, β = β, B = 1, μ = 1)\n",
    "    M[i] = sum(σ)/N\n",
    "    E[i] = H(σ, B = 1, μ = 1)\n",
    "end "
   ]
  },
  {
   "cell_type": "markdown",
   "id": "14817fcc-9623-4c8e-bda7-3f38b75f4124",
   "metadata": {},
   "source": [
    "y las graficamos como"
   ]
  },
  {
   "cell_type": "code",
   "execution_count": 116,
   "id": "e7d1557b-f69a-4a46-977f-df931e5dc1eb",
   "metadata": {
    "editable": true,
    "scrolled": true,
    "slideshow": {
     "slide_type": "fragment"
    },
    "tags": []
   },
   "outputs": [],
   "source": [
    "#plot([1/β for β in βs], M, key = false)\n",
    "#plot!(xlabel = L\"T\", ylabel = L\"M\")\n",
    "#plot!(xlim = (-100,100))"
   ]
  },
  {
   "cell_type": "code",
   "execution_count": 98,
   "id": "e2390205-16a0-4656-8fc9-9f784d1b7c78",
   "metadata": {
    "slideshow": {
     "slide_type": "fragment"
    }
   },
   "outputs": [],
   "source": [
    "#plot([1/β for β in βs], E, key = false)\n",
    "#plot!(xlabel = L\"T\", ylabel = L\"E\")\n",
    "#plot!(xlim = (-100,100))"
   ]
  },
  {
   "cell_type": "code",
   "execution_count": 99,
   "id": "5700bd76-6a73-4717-bca3-eadcce47b230",
   "metadata": {
    "slideshow": {
     "slide_type": "fragment"
    }
   },
   "outputs": [],
   "source": [
    "#plot([β for β in βs], M, key = false)\n",
    "#plot!(xlabel = L\"β\", ylabel = L\"M\")"
   ]
  },
  {
   "cell_type": "code",
   "execution_count": 100,
   "id": "80196822-b8af-404f-9f71-6ec126fd9ce6",
   "metadata": {
    "slideshow": {
     "slide_type": "fragment"
    }
   },
   "outputs": [],
   "source": [
    "#plot([β for β in βs], E, key = false)\n",
    "#plot!(xlabel = L\"β\", ylabel = L\"E\")"
   ]
  },
  {
   "cell_type": "code",
   "execution_count": 101,
   "id": "ee0d117f-f2fa-4625-94af-7305486f30ca",
   "metadata": {},
   "outputs": [],
   "source": [
    "N = 1000\n",
    "n = 100\n",
    "βs = -10:0.0101:10\n",
    "Mp = zeros(length(βs))\n",
    "Ep = zeros(length(βs))\n",
    "σE = zeros(length(βs))\n",
    "σM = zeros(length(βs))\n",
    "i = 0\n",
    "for β in βs\n",
    "    E = [0.0 for j in 1:1000]\n",
    "    M = [0.0 for j in 1:1000]\n",
    "    i += 1\n",
    "    σ = rand([-1,1], N )\n",
    "    σ = metropolis(ΔH, σ, modificador!, N = 10N, β = β, B = 1, μ = 1)\n",
    "    for j in 1:n\n",
    "        σ = metropolis(ΔH, σ, modificador!, N = 100, β = β, B = 1, μ = 1)\n",
    "        E[j] = H(σ, B = 1, μ = 1)\n",
    "        M[j] = sum(σ)/N\n",
    "    end\n",
    "    Ep[i] = sum(E)/n\n",
    "    Mp[i] = sum(M)/n\n",
    "    σE[i] = sum(E.^2)/n - Ep[i]^2\n",
    "    σM[i] = sum(M.^2)/n - Mp[i]^2\n",
    "end "
   ]
  },
  {
   "cell_type": "code",
   "execution_count": 102,
   "id": "cc773a51-e793-4c87-9b3d-d91ea64d422d",
   "metadata": {
    "slideshow": {
     "slide_type": "fragment"
    }
   },
   "outputs": [],
   "source": [
    "#plot([1/β for β in βs], Mp, key = false)\n",
    "#plot!(xlabel = L\"T\", ylabel = L\"\\langle M \\rangle\")\n",
    "#plot!(xlim = (-100,100))"
   ]
  },
  {
   "cell_type": "code",
   "execution_count": 103,
   "id": "6d2ce43c-94f5-49b7-9af9-c57b1a1b8d3d",
   "metadata": {
    "slideshow": {
     "slide_type": "fragment"
    }
   },
   "outputs": [],
   "source": [
    "#plot([1/β for β in βs], Ep, key = false)\n",
    "#plot!(xlabel = L\"T\", ylabel = L\"\\langle E \\rangle\")\n",
    "#plot!(xlim = (-100,100))"
   ]
  },
  {
   "cell_type": "code",
   "execution_count": 104,
   "id": "3fd2cd83-5252-49d2-aa3e-37df7e35c535",
   "metadata": {
    "slideshow": {
     "slide_type": "fragment"
    }
   },
   "outputs": [],
   "source": [
    "#plot([1/β for β in βs], σE.*βs.^2, key = false)\n",
    "#plot!(xlabel = L\"T\", ylabel = L\"C_B\")\n",
    "#plot!(xlim = (-100,100))"
   ]
  },
  {
   "cell_type": "code",
   "execution_count": 105,
   "id": "75f13895-11a3-4d6a-bc6d-ab0bed389243",
   "metadata": {
    "slideshow": {
     "slide_type": "fragment"
    }
   },
   "outputs": [],
   "source": [
    "#plot([1/β for β in βs], σM.*βs.^2, key = false)\n",
    "#plot!(xlabel = L\"T\", ylabel = L\"\\chi_B\")\n",
    "#plot!(xlim = (-100,100))"
   ]
  },
  {
   "cell_type": "code",
   "execution_count": 106,
   "id": "cbccb443-744f-480e-9453-3cd920c43ce5",
   "metadata": {},
   "outputs": [
    {
     "ename": "LoadError",
     "evalue": "LoadError: UndefVarError: `@L_str` not defined in `Main`\nSuggestion: check for spelling errors or missing imports.\nin expression starting at In[106]:16",
     "output_type": "error",
     "traceback": [
      "LoadError: UndefVarError: `@L_str` not defined in `Main`\nSuggestion: check for spelling errors or missing imports.\nin expression starting at In[106]:16",
      ""
     ]
    }
   ],
   "source": [
    "N = 900\n",
    "n = 100\n",
    "βs = -4:0.04:4\n",
    "Mp = zeros(length(βs))\n",
    "Ep = zeros(length(βs))\n",
    "σE = zeros(length(βs))\n",
    "σM = zeros(length(βs))\n",
    "i = 0\n",
    "for β in βs\n",
    "    E = [0.0 for j in 1:1000]\n",
    "    M = [0.0 for j in 1:1000]\n",
    "    i += 1\n",
    "    σ = rand([-1,1], N )\n",
    "    σ = metropolis(ΔH, σ, modificador!, N = 10N, β = β, B = 1, μ = 1)\n",
    "    σr = reshape(σ, 30,30)\n",
    "    heatmap(1:30, 1:30, σr, show = :ijulia, title = L\"$\\beta$ = %$β\", aspect_ratio = 1)\n",
    "\n",
    "end "
   ]
  },
  {
   "cell_type": "markdown",
   "id": "934f7213-aa46-43dd-8461-c757a2b068f8",
   "metadata": {},
   "source": [
    "Ising 2D"
   ]
  },
  {
   "cell_type": "code",
   "execution_count": 107,
   "id": "9049b3e8-f8e3-4150-b666-cd9ba834acd6",
   "metadata": {},
   "outputs": [
    {
     "data": {
      "text/plain": [
       "9-element Vector{Vector{Int64}}:\n",
       " [3, 2, 7, 4]\n",
       " [1, 3, 8, 5]\n",
       " [2, 1, 9, 6]\n",
       " [6, 5, 1, 7]\n",
       " [4, 6, 2, 8]\n",
       " [5, 4, 3, 9]\n",
       " [9, 8, 4, 1]\n",
       " [7, 9, 5, 2]\n",
       " [8, 7, 6, 3]"
      ]
     },
     "execution_count": 107,
     "metadata": {},
     "output_type": "execute_result"
    }
   ],
   "source": [
    "function vecinoscuadrados(L)\n",
    "    filas = [floor(Int,(i-1)/L) for i in 1:L^2]\n",
    "    [[filas[i]*L+mod1(i-1,L), filas[i]*L+mod1(i+1,L), mod(filas[i]-1, L)*L+mod1(i,L),mod(filas[i]+1, L)*L+mod1(i,L)]\n",
    "        for i in 1:L^2]\n",
    "end\n",
    "vecinoscuadrados(3)"
   ]
  },
  {
   "cell_type": "code",
   "execution_count": 108,
   "id": "9cff461e-dec3-4f0a-85f2-ddca3bd5ef47",
   "metadata": {},
   "outputs": [
    {
     "data": {
      "text/plain": [
       "ΔH (generic function with 1 method)"
      ]
     },
     "execution_count": 108,
     "metadata": {},
     "output_type": "execute_result"
    }
   ],
   "source": [
    "function H(σ; B = 0, J = 1, vecinos = vecinoscuadrados(floor(Int, sqrt(length(σ))))) \n",
    "    -B*sum(σ)-0.5*J*sum(σ[j]*σ[i] for i in 1:length(σ) for j in vecinos[i])\n",
    "end\n",
    "    \n",
    "function ΔH(x, i, σ; B = 0, J = 1, vecinos = vecinoscuadrados(floor(Int, sqrt(length(σ))))) \n",
    "    -2(B*x+J*x*sum(σ[vecinos[i]]))\n",
    "end"
   ]
  },
  {
   "cell_type": "code",
   "execution_count": 109,
   "id": "aaa920b4-e09d-4adf-9a9b-7710d78bbd88",
   "metadata": {},
   "outputs": [
    {
     "ename": "LoadError",
     "evalue": "LoadError: UndefVarError: `@L_str` not defined in `Main`\nSuggestion: check for spelling errors or missing imports.\nin expression starting at In[109]:17",
     "output_type": "error",
     "traceback": [
      "LoadError: UndefVarError: `@L_str` not defined in `Main`\nSuggestion: check for spelling errors or missing imports.\nin expression starting at In[109]:17",
      ""
     ]
    }
   ],
   "source": [
    "L = 500\n",
    "N = L^2\n",
    "Ts = 2.6:-0.01:0\n",
    "Mp = zeros(length(Ts))\n",
    "Ep = zeros(length(Ts))\n",
    "σE = zeros(length(Ts))\n",
    "σM = zeros(length(Ts))\n",
    "i = 0\n",
    "vecinos = vecinoscuadrados(L)\n",
    "σ = rand([-1,1], N)\n",
    "for T in Ts\n",
    "    E = [0.0 for j in 1:1000]\n",
    "    M = [0.0 for j in 1:1000]\n",
    "    i += 1\n",
    "    σ = metropolis(ΔH, σ, modificador!, N = 10N, β = 1.0 ./T, B = 0.0, J = 1, vecinos = vecinos)\n",
    "    σr = reshape(σ, L,L)\n",
    "    heatmap(1:L, 1:L, σr, show = :ijulia, title = L\"$T$ = %$T\", aspect_ratio = 1)\n",
    "\n",
    "end "
   ]
  },
  {
   "cell_type": "code",
   "execution_count": 110,
   "id": "bd252d47-b71d-467f-a71b-07322b3a850c",
   "metadata": {},
   "outputs": [
    {
     "name": "stdout",
     "output_type": "stream",
     "text": [
      "T = 4.0\n",
      "T = 3.99\n",
      "T = 3.98\n",
      "T = 3.97\n",
      "T = 3.96\n",
      "T = 3.95\n",
      "T = 3.94\n",
      "T = 3.93\n",
      "T = 3.92\n",
      "T = 3.91\n",
      "T = 3.9\n",
      "T = 3.89\n",
      "T = 3.88\n",
      "T = 3.87\n",
      "T = 3.86\n",
      "T = 3.85\n",
      "T = 3.84\n",
      "T = 3.83\n",
      "T = 3.82\n",
      "T = 3.81\n",
      "T = 3.8\n",
      "T = 3.79\n",
      "T = 3.78\n",
      "T = 3.77\n",
      "T = 3.76\n",
      "T = 3.75\n",
      "T = 3.74\n",
      "T = 3.73\n",
      "T = 3.72\n",
      "T = 3.71\n",
      "T = 3.7\n",
      "T = 3.69\n",
      "T = 3.68\n",
      "T = 3.67\n",
      "T = 3.66\n",
      "T = 3.65\n",
      "T = 3.64\n",
      "T = 3.63\n",
      "T = 3.62\n",
      "T = 3.61\n",
      "T = 3.6\n",
      "T = 3.59\n",
      "T = 3.58\n",
      "T = 3.57\n",
      "T = 3.56\n",
      "T = 3.55\n",
      "T = 3.54\n",
      "T = 3.53\n",
      "T = 3.52\n",
      "T = 3.51\n",
      "T = 3.5\n",
      "T = 3.49\n",
      "T = 3.48\n",
      "T = 3.47\n",
      "T = 3.46\n",
      "T = 3.45\n",
      "T = 3.44\n",
      "T = 3.43\n",
      "T = 3.42\n",
      "T = 3.41\n",
      "T = 3.4\n",
      "T = 3.39\n",
      "T = 3.38\n",
      "T = 3.37\n",
      "T = 3.36\n",
      "T = 3.35\n",
      "T = 3.34\n",
      "T = 3.33\n",
      "T = 3.32\n",
      "T = 3.31\n",
      "T = 3.3\n",
      "T = 3.29\n",
      "T = 3.28\n",
      "T = 3.27\n",
      "T = 3.26\n",
      "T = 3.25\n",
      "T = 3.24\n",
      "T = 3.23\n",
      "T = 3.22\n",
      "T = 3.21\n",
      "T = 3.2\n",
      "T = 3.19\n",
      "T = 3.18\n",
      "T = 3.17\n",
      "T = 3.16\n",
      "T = 3.15\n",
      "T = 3.14\n",
      "T = 3.13\n",
      "T = 3.12\n",
      "T = 3.11\n",
      "T = 3.1\n",
      "T = 3.09\n",
      "T = 3.08\n",
      "T = 3.07\n",
      "T = 3.06\n",
      "T = 3.05\n",
      "T = 3.04\n",
      "T = 3.03\n",
      "T = 3.02\n",
      "T = 3.01\n",
      "T = 3.0\n",
      "T = 2.99\n",
      "T = 2.98\n",
      "T = 2.97\n",
      "T = 2.96\n",
      "T = 2.95\n",
      "T = 2.94\n",
      "T = 2.93\n",
      "T = 2.92\n",
      "T = 2.91\n",
      "T = 2.9\n",
      "T = 2.89\n",
      "T = 2.88\n",
      "T = 2.87\n",
      "T = 2.86\n",
      "T = 2.85\n",
      "T = 2.84\n",
      "T = 2.83\n",
      "T = 2.82\n",
      "T = 2.81\n",
      "T = 2.8\n",
      "T = 2.79\n",
      "T = 2.78\n",
      "T = 2.77\n",
      "T = 2.76\n",
      "T = 2.75\n",
      "T = 2.74\n",
      "T = 2.73\n",
      "T = 2.72\n",
      "T = 2.71\n",
      "T = 2.7\n",
      "T = 2.69\n",
      "T = 2.68\n",
      "T = 2.67\n",
      "T = 2.66\n",
      "T = 2.65\n",
      "T = 2.64\n",
      "T = 2.63\n",
      "T = 2.62\n",
      "T = 2.61\n",
      "T = 2.6\n",
      "T = 2.59\n",
      "T = 2.58\n",
      "T = 2.57\n",
      "T = 2.56\n",
      "T = 2.55\n",
      "T = 2.54\n",
      "T = 2.53\n",
      "T = 2.52\n",
      "T = 2.51\n",
      "T = 2.5\n",
      "T = 2.49\n",
      "T = 2.48\n",
      "T = 2.47\n",
      "T = 2.46\n",
      "T = 2.45\n",
      "T = 2.44\n",
      "T = 2.43\n",
      "T = 2.42\n",
      "T = 2.41\n",
      "T = 2.4\n",
      "T = 2.39\n",
      "T = 2.38\n",
      "T = 2.37\n",
      "T = 2.36\n",
      "T = 2.35\n",
      "T = 2.34\n",
      "T = 2.33\n",
      "T = 2.32\n",
      "T = 2.31\n",
      "T = 2.3\n",
      "T = 2.29\n",
      "T = 2.28\n",
      "T = 2.27\n",
      "T = 2.26\n",
      "T = 2.25\n",
      "T = 2.24\n",
      "T = 2.23\n",
      "T = 2.22\n",
      "T = 2.21\n",
      "T = 2.2\n",
      "T = 2.19\n",
      "T = 2.18\n",
      "T = 2.17\n",
      "T = 2.16\n",
      "T = 2.15\n",
      "T = 2.14\n",
      "T = 2.13\n",
      "T = 2.12\n",
      "T = 2.11\n",
      "T = 2.1\n",
      "T = 2.09\n",
      "T = 2.08\n",
      "T = 2.07\n",
      "T = 2.06\n",
      "T = 2.05\n",
      "T = 2.04\n",
      "T = 2.03\n",
      "T = 2.02\n",
      "T = 2.01\n",
      "T = 2.0\n",
      "T = 1.99\n",
      "T = 1.98\n",
      "T = 1.97\n",
      "T = 1.96\n",
      "T = 1.95\n",
      "T = 1.94\n",
      "T = 1.93\n",
      "T = 1.92\n",
      "T = 1.91\n",
      "T = 1.9\n",
      "T = 1.89\n",
      "T = 1.88\n",
      "T = 1.87\n",
      "T = 1.86\n",
      "T = 1.85\n",
      "T = 1.84\n",
      "T = 1.83\n",
      "T = 1.82\n",
      "T = 1.81\n",
      "T = 1.8\n",
      "T = 1.79\n",
      "T = 1.78\n",
      "T = 1.77\n",
      "T = 1.76\n",
      "T = 1.75\n",
      "T = 1.74\n",
      "T = 1.73\n",
      "T = 1.72\n",
      "T = 1.71\n",
      "T = 1.7\n",
      "T = 1.69\n",
      "T = 1.68\n",
      "T = 1.67\n",
      "T = 1.66\n",
      "T = 1.65\n",
      "T = 1.64\n",
      "T = 1.63\n",
      "T = 1.62\n",
      "T = 1.61\n",
      "T = 1.6\n",
      "T = 1.59\n",
      "T = 1.58\n",
      "T = 1.57\n",
      "T = 1.56\n",
      "T = 1.55\n",
      "T = 1.54\n",
      "T = 1.53\n",
      "T = 1.52\n",
      "T = 1.51\n",
      "T = 1.5\n",
      "T = 1.49\n",
      "T = 1.48\n",
      "T = 1.47\n",
      "T = 1.46\n",
      "T = 1.45\n",
      "T = 1.44\n",
      "T = 1.43\n",
      "T = 1.42\n",
      "T = 1.41\n",
      "T = 1.4\n",
      "T = 1.39\n",
      "T = 1.38\n",
      "T = 1.37\n",
      "T = 1.36\n",
      "T = 1.35\n",
      "T = 1.34\n",
      "T = 1.33\n",
      "T = 1.32\n",
      "T = 1.31\n",
      "T = 1.3\n",
      "T = 1.29\n",
      "T = 1.28\n",
      "T = 1.27\n",
      "T = 1.26\n",
      "T = 1.25\n",
      "T = 1.24\n",
      "T = 1.23\n",
      "T = 1.22\n",
      "T = 1.21\n",
      "T = 1.2\n",
      "T = 1.19\n",
      "T = 1.18\n",
      "T = 1.17\n",
      "T = 1.16\n",
      "T = 1.15\n",
      "T = 1.14\n",
      "T = 1.13\n",
      "T = 1.12\n",
      "T = 1.11\n",
      "T = 1.1\n",
      "T = 1.09\n",
      "T = 1.08\n",
      "T = 1.07\n",
      "T = 1.06\n",
      "T = 1.05\n",
      "T = 1.04\n",
      "T = 1.03\n",
      "T = 1.02\n",
      "T = 1.01\n",
      "T = 1.0\n",
      "T = 0.99\n",
      "T = 0.98\n",
      "T = 0.97\n",
      "T = 0.96\n",
      "T = 0.95\n",
      "T = 0.94\n",
      "T = 0.93\n",
      "T = 0.92\n",
      "T = 0.91\n",
      "T = 0.9\n",
      "T = 0.89\n",
      "T = 0.88\n",
      "T = 0.87\n",
      "T = 0.86\n",
      "T = 0.85\n",
      "T = 0.84\n",
      "T = 0.83\n",
      "T = 0.82\n",
      "T = 0.81\n",
      "T = 0.8\n",
      "T = 0.79\n",
      "T = 0.78\n",
      "T = 0.77\n",
      "T = 0.76\n",
      "T = 0.75\n",
      "T = 0.74\n",
      "T = 0.73\n",
      "T = 0.72\n",
      "T = 0.71\n",
      "T = 0.7\n",
      "T = 0.69\n",
      "T = 0.68\n",
      "T = 0.67\n",
      "T = 0.66\n",
      "T = 0.65\n",
      "T = 0.64\n",
      "T = 0.63\n",
      "T = 0.62\n",
      "T = 0.61\n",
      "T = 0.6\n",
      "T = 0.59\n",
      "T = 0.58\n",
      "T = 0.57\n",
      "T = 0.56\n",
      "T = 0.55\n",
      "T = 0.54\n",
      "T = 0.53\n",
      "T = 0.52\n",
      "T = 0.51\n",
      "T = 0.5\n",
      "T = 0.49\n",
      "T = 0.48\n",
      "T = 0.47\n",
      "T = 0.46\n",
      "T = 0.45\n",
      "T = 0.44\n",
      "T = 0.43\n",
      "T = 0.42\n",
      "T = 0.41\n",
      "T = 0.4\n",
      "T = 0.39\n",
      "T = 0.38\n",
      "T = 0.37\n",
      "T = 0.36\n",
      "T = 0.35\n",
      "T = 0.34\n",
      "T = 0.33\n",
      "T = 0.32\n",
      "T = 0.31\n",
      "T = 0.3\n",
      "T = 0.29\n",
      "T = 0.28\n",
      "T = 0.27\n",
      "T = 0.26\n",
      "T = 0.25\n",
      "T = 0.24\n",
      "T = 0.23\n",
      "T = 0.22\n",
      "T = 0.21\n",
      "T = 0.2\n",
      "T = 0.19\n",
      "T = 0.18\n",
      "T = 0.17\n",
      "T = 0.16\n",
      "T = 0.15\n",
      "T = 0.14\n",
      "T = 0.13\n",
      "T = 0.12\n",
      "T = 0.11\n",
      "T = 0.1\n",
      "T = 0.09\n",
      "T = 0.08\n",
      "T = 0.07\n",
      "T = 0.06\n",
      "T = 0.05\n",
      "T = 0.04\n",
      "T = 0.03\n",
      "T = 0.02\n",
      "T = 0.01\n",
      "T = 0.0\n"
     ]
    }
   ],
   "source": [
    "L = 50\n",
    "N = L^2\n",
    "vecinos = vecinoscuadrados(L)\n",
    "n = 1000\n",
    "Ts = 4:-0.01:0\n",
    "Mp = zeros(length(Ts))\n",
    "Ep = zeros(length(Ts))\n",
    "σE = zeros(length(Ts))\n",
    "σM = zeros(length(Ts))\n",
    "i = 0\n",
    "σ = rand([-1,1], N )\n",
    "for T in Ts\n",
    "    @show T\n",
    "    E = [0.0 for j in 1:n]\n",
    "    M = [0.0 for j in 1:n]\n",
    "    i += 1\n",
    "    σ = metropolis(ΔH, σ, modificador!, N = 500N, β = 1.0 ./T, B = 0.001, J = 1, vecinos = vecinos)\n",
    "    for j in 1:n\n",
    "        σ = metropolis(ΔH, σ, modificador!, N = N, β = 1.0 ./T, B = 0.001, J = 1, vecinos = vecinos)\n",
    "        E[j] = H(σ, B = 0, J = 1, vecinos = vecinos)\n",
    "        M[j] = sum(σ)/N\n",
    "    end\n",
    "    Ep[i] = sum(E)/n\n",
    "    Mp[i] = sum(M)/n\n",
    "    σE[i] = sum(E.^2)/n - Ep[i]^2\n",
    "    σM[i] = sum(M.^2)/n - Mp[i]^2\n",
    "end "
   ]
  },
  {
   "cell_type": "code",
   "execution_count": 111,
   "id": "59c385a4-0d1d-494e-8ee0-bbd248fce4b9",
   "metadata": {
    "slideshow": {
     "slide_type": "fragment"
    }
   },
   "outputs": [],
   "source": [
    "T₀(J) = 2J/(log(1+sqrt(2)))\n",
    "#plot(Ts, abs.(Mp), key = false)\n",
    "#plot!(xlabel = L\"T\", ylabel = L\"\\langle M \\rangle\")\n",
    "#plot!(xlim = (0,4))\n",
    "#vline!([T₀(1)])"
   ]
  },
  {
   "cell_type": "code",
   "execution_count": 112,
   "id": "a875acb1-7c53-4721-899f-23f04a7b0732",
   "metadata": {
    "slideshow": {
     "slide_type": "fragment"
    }
   },
   "outputs": [],
   "source": [
    "#plot(Ts, Ep, key = false)\n",
    "#plot!(xlabel = L\"T\", ylabel = L\"\\langle E \\rangle\")\n",
    "#plot!(xlim = (0,4))\n",
    "#vline!([T₀(1)])"
   ]
  },
  {
   "cell_type": "code",
   "execution_count": 113,
   "id": "53db03fc-5d80-47be-8e0e-670eff66c85a",
   "metadata": {
    "slideshow": {
     "slide_type": "fragment"
    }
   },
   "outputs": [],
   "source": [
    "#plot(Ts, σE./Ts.^2, key = false)\n",
    "#plot!(xlabel = L\"T\", ylabel = L\"C_v\")\n",
    "#plot!(xlim = (0,4))\n",
    "#vline!([T₀(1)])"
   ]
  },
  {
   "cell_type": "code",
   "execution_count": 114,
   "id": "67dab4c7-ea00-48e9-bc24-797cd883491a",
   "metadata": {
    "slideshow": {
     "slide_type": "fragment"
    }
   },
   "outputs": [],
   "source": [
    "#plot(Ts, σM./Ts.^2, key = false)\n",
    "#plot!(xlabel = L\"T\", ylabel = L\"\\chi\")\n",
    "#plot!(xlim = (0,4))\n",
    "#vline!([T₀(1)])"
   ]
  },
  {
   "cell_type": "code",
   "execution_count": null,
   "id": "4e280154-973d-41fc-ac5a-1efb29bd94d3",
   "metadata": {},
   "outputs": [],
   "source": []
  }
 ],
 "metadata": {
  "kernelspec": {
   "display_name": "Julia 1.11.1",
   "language": "julia",
   "name": "julia-1.11"
  },
  "language_info": {
   "file_extension": ".jl",
   "mimetype": "application/julia",
   "name": "julia",
   "version": "1.11.1"
  }
 },
 "nbformat": 4,
 "nbformat_minor": 5
}
