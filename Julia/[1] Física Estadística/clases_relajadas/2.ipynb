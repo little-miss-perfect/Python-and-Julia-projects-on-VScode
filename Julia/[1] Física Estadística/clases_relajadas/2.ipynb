{
 "cells": [
  {
   "cell_type": "code",
   "execution_count": 3,
   "id": "0eac7828-235b-42fa-b2a9-754ae39b1cb8",
   "metadata": {},
   "outputs": [
    {
     "data": {
      "text/plain": [
       "metropolis (generic function with 1 method)"
      ]
     },
     "execution_count": 3,
     "metadata": {},
     "output_type": "execute_result"
    }
   ],
   "source": [
    "function metropolis_1(ΔH, σ, modificador!; β=1, parametros...)\n",
    "\n",
    "    n = length(σ)\n",
    "    i = rand(1:n)\n",
    "    x = copy(σ[i])\n",
    "    x = modificador!(x, i, σ)\n",
    "    dH = ΔH(x, i, σ; parametros...)\n",
    "    p = exp(-β*dH)\n",
    "    if rand() < p\n",
    "        σ[i] = copy(x)\n",
    "    end\n",
    "    return σ\n",
    "end\n",
    "\n",
    "function metropolis(ΔH, σ, modificador!; N=1, β=1, parametros...)\n",
    "    for i in 1:N\n",
    "        σ = metropolis_1(ΔH, σ, modificador!; β=β, parametros...)\n",
    "    end\n",
    "    return σ\n",
    "end"
   ]
  },
  {
   "cell_type": "code",
   "execution_count": null,
   "id": "2586c35b-9eae-4f8d-93fe-0f86161f85b1",
   "metadata": {},
   "outputs": [],
   "source": []
  }
 ],
 "metadata": {
  "kernelspec": {
   "display_name": "Julia 1.11.1",
   "language": "julia",
   "name": "julia-1.11"
  },
  "language_info": {
   "file_extension": ".jl",
   "mimetype": "application/julia",
   "name": "julia",
   "version": "1.11.1"
  }
 },
 "nbformat": 4,
 "nbformat_minor": 5
}
