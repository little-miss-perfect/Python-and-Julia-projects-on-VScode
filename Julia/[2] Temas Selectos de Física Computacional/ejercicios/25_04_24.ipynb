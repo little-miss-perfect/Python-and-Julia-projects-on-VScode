{
 "cells": [
  {
   "cell_type": "code",
   "execution_count": null,
   "metadata": {},
   "outputs": [],
   "source": [
    "using NBInclude\n",
    "@nbinclude(\"25_03_27.ipynb\")"
   ]
  },
  {
   "cell_type": "code",
   "execution_count": null,
   "metadata": {},
   "outputs": [],
   "source": [
    "# make a structure which contains properties of a hard sphere, such as its position \"x\" or its velocity \"v\" and even its mass \"T\"\n",
    "\n",
    "mutable struct EsferaDura{T <: Real, N}  # the \"<:\" means that the datatype of \"T\" is such that \"T\" is an element of some subset of the set \"Real\" (which represents the real numbers); notice that here, \"N\" has no specified datatype, so that could be specified/decided later on\n",
    "    r::T\n",
    "    x::NTuple{N, T}  # this means that the datatype of \"x\" is an *array with \"N\" entries/elements of the datatype matching \"T\"\n",
    "    v::NTuple{N, T}  # same thing here for \"v\"\n",
    "    m::T\n",
    "    celda::::NTuple{N, Int}  # is there a typo here? probably, because we have \"::\" written twice; and to define a datatype, we only need one set/pair of \"::\"\n",
    "    i::Int\n",
    "end"
   ]
  },
  {
   "cell_type": "code",
   "execution_count": null,
   "metadata": {},
   "outputs": [
    {
     "data": {
      "text/plain": [
       "metropolis! (generic function with 1 method)"
      ]
     },
     "metadata": {},
     "output_type": "display_data"
    }
   ],
   "source": [
    "# this function assumes that the input \"sigma\" is some kind of array/list of the objects formed by the structure \"EsferaDura\"\n",
    "# it also allows multiple arguments and \"keyword arguments\" to be passed into the function (in case some block of code inside the function needs more \"stuff\")\n",
    "# while \"n\" tells us how many times we want the monte carlo simulation to run.\n",
    "\n",
    "function metropolis!(sigma, kT, delt_H::Function, seleccionador::Function,\n",
    "                        modificador!::Function, n, args...; kargs...)\n",
    "\n",
    "                        for k in 1:n  # since this is a monte carlo simulation, we need multiple trials to get a number close to what we want \n",
    "\n",
    "                            sigma1, args2... = seleccionador(sigma, args...)  # this unpacking seems to tell us that even though the function \"seleccionador\" \n",
    "                                                                              # may return more than one thing, we are only interested in the first thing it returns,\n",
    "                                                                              # which we call here \"sigma1\" (and which we should be careful setting as the first thing\n",
    "                                                                              # \"seleccionador\" returns when we define such a function; just so that everything is \n",
    "                                                                              # in accordance with each other). here, \"args2...\" represents everything else that such\n",
    "                                                                              # a function like \"seleccionador\" might return, right? but in the function \"metropolis!\"\n",
    "                                                                              # we seem to mainly care about only the first thing returned by \"seleccionador\"\n",
    "                            \n",
    "                            # in the following line... are we asking for some\n",
    "                            # kind of exponential distribution to be satisfied? \n",
    "                            # or why is it this method has something to do with \n",
    "                            # a uniform distribution? \n",
    "                            # to me, it looks like the methods we used in our probability\n",
    "                            # course to calculate integrals. \n",
    "                            # but it seems like a good question to ask.                                                  \n",
    "                            if rand() < exp(-delt_H(sigma, sigma1, args3...; kargs...) / kT)  # this is the heart of the function \"metropolis!\". \n",
    "                                                                                              # it's the probabilistic condition we'd like to have satisfied\n",
    "                                modificador!(sigma, sigma1, args4...)  # if such a condition is satisfied, we'd like to return some modification of \"sigma\".\n",
    "                            end\n",
    "                                                                       # note that \"modificador!\" might be expected to return a modified version of \"sigma\", \n",
    "                                                                       # in adition to some other stuff; for example, thinking of a physical setting: \n",
    "                                                                       # maybe \"modificador!\" returns the new modified state of \"sigma\" \n",
    "                                                                       # (e.g. it modifies the positions of the sphere objects of \"EsferaDura\"), \n",
    "                                                                       # but it also returns something like the entropy of the system of spheres\n",
    "                                                                       # and maybe it also returns the specific heat or some other physical quantity \n",
    "                                                                       # or maybe it even returns the premodified state described, here, by \"sigma\"\n",
    "                        end\n",
    "\n",
    "                        return sigma  # if such a condition as that of the \"if\" statement is not satisfied, then we'll just return the original unmodified version of \"sigma\"\n",
    "\n",
    "                    end"
   ]
  },
  {
   "cell_type": "code",
   "execution_count": 7,
   "metadata": {},
   "outputs": [
    {
     "data": {
      "text/plain": [
       "randab (generic function with 1 method)"
      ]
     },
     "metadata": {},
     "output_type": "display_data"
    }
   ],
   "source": [
    "# this function represents a uniform distribution in an interval \"(a, b)\" (instead of just \"(0, 1)\", like the function \"rand\" does)\n",
    "\n",
    "function randab(a, b)\n",
    "    return rand() * (b - a) + a\n",
    "end"
   ]
  },
  {
   "cell_type": "code",
   "execution_count": null,
   "metadata": {},
   "outputs": [
    {
     "data": {
      "text/plain": [
       "seleccionador (generic function with 2 methods)"
      ]
     },
     "metadata": {},
     "output_type": "display_data"
    }
   ],
   "source": [
    "# I'm guessing this function assumes that \"sigma\" is a list or an array of objects generated from the structure \"EsferaDura\"\n",
    "\n",
    "function seleccionador(sigma, delta = 0.1)\n",
    "\n",
    "    i = rand(1:length(sigma))  # find a random index within the array \"sigma\"\n",
    "    sigma_i = deepcopy(sigma[i])  # make a copy of the randomly chosen entry of \"sigma\"\n",
    "    d = length(sigma_i.x)  # here, we first access the atribute \"x\" from the i-th entry of \"sigma\"\n",
    "                           # (which should correspond to an object generated from the structure \"EsferaDura\")\n",
    "                           # which represents an array of the position of a sphere. \n",
    "                           # then, we take the length of said array, and intepret this length (of a \"vector\") \n",
    "                           # as the dimension of the space in which we consider our spheres to be in.\n",
    "    sigma_i.x = sigma_i.x .+ ntuple(i -> delta * randab(-0.5, 0.5), d)  # next, we rename the entries of the attribute \"x\" (i.e. the position)\n",
    "                                                                        # of the \"sigma_i\" sphere by randomly moving it \n",
    "                                                                        # in all possible directions. that's why we add a random position\n",
    "                                                                        # to each entry of the position \"vector\" denoted by \"sigma_i.x\"\n",
    "                                                                        # by using the \".+\" operator (it affects each entry) \n",
    "                                                                        # alongside an array of the same dimension as \"sigma_i.x\"\n",
    "                                                                        # whose entries are the random movements in the \"direction\" corresponding\n",
    "                                                                        # to said entry.\n",
    "                                                                        # note that the function \"i -> delta * randab(-0.5, 0.5)\"\n",
    "                                                                        # is equivalent to the Python \"lambda\" functions \n",
    "                                                                        # (which makes the code a bit shorter; \n",
    "                                                                        #  but a bit harder to think through on a first read).\n",
    "\n",
    "    sigma[i] = sigma_i  # finally, we rename the i-th entry of \"sigma\" as the previously modified \"sigma_i\"\n",
    "\n",
    "    return sigma, sigma_i, i  # and we returned the modified array \"sigma\", \n",
    "                              # as well as the modified element, and the index of the modified entry of the original array\n",
    "\n",
    "end"
   ]
  },
  {
   "cell_type": "code",
   "execution_count": null,
   "metadata": {},
   "outputs": [],
   "source": [
    "# this is thinking particularly of our \"sphere\" model for gas particles\n",
    "\n",
    "function modificador!(sigma, sigma1, args4...)  # we take as arguments the array/list of spheres as well as the modified array (\"sigma1\"),\n",
    "                                                # and give the chance to pass extra arguments (not \"keyword arguments\", though adding this\n",
    "                                                # always makes the function a bit more general)\n",
    "\n",
    "    sigma = sigma1  # thinkg of our model of spheres, this function \"modificador!\" says something like\n",
    "                    # \"okay, some condition has been previously met, and now I'll modify the original array to give the new one\"\n",
    "    \n",
    "    return sigma  # and we then return the updated array (which in our example, meant that the spheres' positions \"moved randomly\")\n",
    "\n",
    "end\n"
   ]
  },
  {
   "cell_type": "code",
   "execution_count": null,
   "metadata": {},
   "outputs": [],
   "source": [
    "# we still need to define the function \"delt_H\" in order to use the \"metropolis\" function.\n",
    "# but for that, we need the class notes which haven't been uploaded/shared yet :(\n"
   ]
  },
  {
   "cell_type": "code",
   "execution_count": 2,
   "metadata": {},
   "outputs": [],
   "source": [
    "# fin de la clase"
   ]
  }
 ],
 "metadata": {
  "kernelspec": {
   "display_name": "Julia 1.11.4",
   "language": "julia",
   "name": "julia-1.11"
  },
  "language_info": {
   "file_extension": ".jl",
   "mimetype": "application/julia",
   "name": "julia",
   "version": "1.11.4"
  }
 },
 "nbformat": 4,
 "nbformat_minor": 2
}
