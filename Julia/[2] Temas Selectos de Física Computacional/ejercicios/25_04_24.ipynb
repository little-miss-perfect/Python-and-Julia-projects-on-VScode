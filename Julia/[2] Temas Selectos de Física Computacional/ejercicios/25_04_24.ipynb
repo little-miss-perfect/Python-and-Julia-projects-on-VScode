{
 "cells": [
  {
   "cell_type": "code",
   "execution_count": null,
   "metadata": {},
   "outputs": [],
   "source": [
    "using NBInclude\n",
    "@nbinclude(\"25_03_27.ipynb\")"
   ]
  },
  {
   "cell_type": "code",
   "execution_count": null,
   "metadata": {},
   "outputs": [],
   "source": [
    "# make a structure which contains properties of a hard sphere, such as its position \"x\" or its velocity \"v\" and even its mass \"T\"\n",
    "\n",
    "mutable struct EsferaDura{T <: Real, N}  # the \"<:\" means that the datatype of \"T\" is such that \"T\" is an element of some subset of the set \"Real\" (which represents the real numbers); notice that here, \"N\" has no specified datatype, so that could be specified/decided later on\n",
    "    r::T\n",
    "    x::NTuple{N, T}\n",
    "    v::NTuple{N, T}\n",
    "    m::T\n",
    "    celda::::NTuple{N, Int}\n",
    "    i::Int\n",
    "end"
   ]
  },
  {
   "cell_type": "code",
   "execution_count": null,
   "metadata": {},
   "outputs": [
    {
     "data": {
      "text/plain": [
       "metropolis! (generic function with 1 method)"
      ]
     },
     "metadata": {},
     "output_type": "display_data"
    }
   ],
   "source": [
    "function metropolis!(sigma, kT, delt_H::Function, seleccionador::Function,\n",
    "                        modificador!::Function, n, args...; kargs...)\n",
    "\n",
    "                        for k in 1:n  # loop\n",
    "\n",
    "                            sigma1, args2... = seleccionador(sigma, args...)\n",
    "\n",
    "                            if rand() < exp(-delt_H(sigma, sigma1, args3...; kargs...) / kT)\n",
    "                                modificador!(sigma, sigma1, args4...)\n",
    "                            end\n",
    "\n",
    "                        end\n",
    "\n",
    "                        return sigma\n",
    "\n",
    "                    end"
   ]
  },
  {
   "cell_type": "code",
   "execution_count": 4,
   "metadata": {},
   "outputs": [
    {
     "data": {
      "text/plain": [
       "randab (generic function with 1 method)"
      ]
     },
     "metadata": {},
     "output_type": "display_data"
    }
   ],
   "source": [
    "function randab(a, b)\n",
    "    return rand() * (b - a) + a\n",
    "end"
   ]
  },
  {
   "cell_type": "code",
   "execution_count": null,
   "metadata": {},
   "outputs": [
    {
     "data": {
      "text/plain": [
       "seleccionador (generic function with 2 methods)"
      ]
     },
     "metadata": {},
     "output_type": "display_data"
    }
   ],
   "source": [
    "function seleccionador(sigma, delta = 0.1)\n",
    "\n",
    "    i = rand(1:length(sigma))\n",
    "    sigma_i = deepcopy(sigma[i])\n",
    "    d = length(sigma_i.x)\n",
    "    sigma_i.x = sigma_i.x .+ ntuple(i -> delta * randab(-0.5, 0.5), d)\n",
    "\n",
    "    sigma[i] = sigma_i\n",
    "\n",
    "    return sigma, sigma_i, i\n",
    "\n",
    "end"
   ]
  },
  {
   "cell_type": "code",
   "execution_count": null,
   "metadata": {},
   "outputs": [],
   "source": [
    "function modificador!(sigma, sigma1, args4...)\n",
    "\n",
    "    sigma = sigma1\n",
    "    \n",
    "    return sigma\n",
    "\n",
    "end\n"
   ]
  },
  {
   "cell_type": "code",
   "execution_count": 2,
   "metadata": {},
   "outputs": [],
   "source": [
    "# fin de la clase"
   ]
  }
 ],
 "metadata": {
  "kernelspec": {
   "display_name": "Julia 1.11.4",
   "language": "julia",
   "name": "julia-1.11"
  },
  "language_info": {
   "file_extension": ".jl",
   "mimetype": "application/julia",
   "name": "julia",
   "version": "1.11.4"
  }
 },
 "nbformat": 4,
 "nbformat_minor": 2
}
