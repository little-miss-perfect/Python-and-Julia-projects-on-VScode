{
 "cells": [
  {
   "cell_type": "code",
   "execution_count": 1,
   "id": "bba8643b",
   "metadata": {},
   "outputs": [
    {
     "name": "stderr",
     "output_type": "stream",
     "text": [
      "┌ Warning: Assignment to `p` in soft scope is ambiguous because a global variable by the same name exists: `p` will be treated as a new local. Disambiguate by using `local p` to suppress this warning or `global p` to assign to the existing global variable.\n",
      "└ @ nothing c:\\Users\\morni\\Desktop\\vscode workspace\\Julia\\[2] Temas Selectos de Física Computacional\\ejercicios\\25_03_27.ipynb:In[2]:6\n",
      "┌ Warning: Assignment to `problema` in soft scope is ambiguous because a global variable by the same name exists: `problema` will be treated as a new local. Disambiguate by using `local problema` to suppress this warning or `global problema` to assign to the existing global variable.\n",
      "└ @ nothing c:\\Users\\morni\\Desktop\\vscode workspace\\Julia\\[2] Temas Selectos de Física Computacional\\ejercicios\\25_03_27.ipynb:In[2]:8\n",
      "┌ Warning: Assignment to `sol_tot` in soft scope is ambiguous because a global variable by the same name exists: `sol_tot` will be treated as a new local. Disambiguate by using `local sol_tot` to suppress this warning or `global sol_tot` to assign to the existing global variable.\n",
      "└ @ nothing c:\\Users\\morni\\Desktop\\vscode workspace\\Julia\\[2] Temas Selectos de Física Computacional\\ejercicios\\25_03_27.ipynb:In[2]:10\n",
      "┌ Warning: Assignment to `sol_u` in soft scope is ambiguous because a global variable by the same name exists: `sol_u` will be treated as a new local. Disambiguate by using `local sol_u` to suppress this warning or `global sol_u` to assign to the existing global variable.\n",
      "└ @ nothing c:\\Users\\morni\\Desktop\\vscode workspace\\Julia\\[2] Temas Selectos de Física Computacional\\ejercicios\\25_03_27.ipynb:In[2]:13\n",
      "┌ Warning: Assignment to `t_val` in soft scope is ambiguous because a global variable by the same name exists: `t_val` will be treated as a new local. Disambiguate by using `local t_val` to suppress this warning or `global t_val` to assign to the existing global variable.\n",
      "└ @ nothing c:\\Users\\morni\\Desktop\\vscode workspace\\Julia\\[2] Temas Selectos de Física Computacional\\ejercicios\\25_03_27.ipynb:In[2]:17\n",
      "┌ Warning: Assignment to `sol_S` in soft scope is ambiguous because a global variable by the same name exists: `sol_S` will be treated as a new local. Disambiguate by using `local sol_S` to suppress this warning or `global sol_S` to assign to the existing global variable.\n",
      "└ @ nothing c:\\Users\\morni\\Desktop\\vscode workspace\\Julia\\[2] Temas Selectos de Física Computacional\\ejercicios\\25_03_27.ipynb:In[2]:19\n",
      "┌ Warning: Assignment to `sol_I` in soft scope is ambiguous because a global variable by the same name exists: `sol_I` will be treated as a new local. Disambiguate by using `local sol_I` to suppress this warning or `global sol_I` to assign to the existing global variable.\n",
      "└ @ nothing c:\\Users\\morni\\Desktop\\vscode workspace\\Julia\\[2] Temas Selectos de Física Computacional\\ejercicios\\25_03_27.ipynb:In[2]:20\n",
      "┌ Warning: Assignment to `sol_R` in soft scope is ambiguous because a global variable by the same name exists: `sol_R` will be treated as a new local. Disambiguate by using `local sol_R` to suppress this warning or `global sol_R` to assign to the existing global variable.\n",
      "└ @ nothing c:\\Users\\morni\\Desktop\\vscode workspace\\Julia\\[2] Temas Selectos de Física Computacional\\ejercicios\\25_03_27.ipynb:In[2]:21\n",
      "┌ Warning: Assignment to `p` in soft scope is ambiguous because a global variable by the same name exists: `p` will be treated as a new local. Disambiguate by using `local p` to suppress this warning or `global p` to assign to the existing global variable.\n",
      "└ @ nothing c:\\Users\\morni\\Desktop\\vscode workspace\\Julia\\[2] Temas Selectos de Física Computacional\\ejercicios\\25_03_27.ipynb:In[3]:6\n",
      "┌ Warning: Assignment to `problema` in soft scope is ambiguous because a global variable by the same name exists: `problema` will be treated as a new local. Disambiguate by using `local problema` to suppress this warning or `global problema` to assign to the existing global variable.\n",
      "└ @ nothing c:\\Users\\morni\\Desktop\\vscode workspace\\Julia\\[2] Temas Selectos de Física Computacional\\ejercicios\\25_03_27.ipynb:In[3]:8\n",
      "┌ Warning: Assignment to `sol_tot` in soft scope is ambiguous because a global variable by the same name exists: `sol_tot` will be treated as a new local. Disambiguate by using `local sol_tot` to suppress this warning or `global sol_tot` to assign to the existing global variable.\n",
      "└ @ nothing c:\\Users\\morni\\Desktop\\vscode workspace\\Julia\\[2] Temas Selectos de Física Computacional\\ejercicios\\25_03_27.ipynb:In[3]:10\n",
      "┌ Warning: Assignment to `sol_u` in soft scope is ambiguous because a global variable by the same name exists: `sol_u` will be treated as a new local. Disambiguate by using `local sol_u` to suppress this warning or `global sol_u` to assign to the existing global variable.\n",
      "└ @ nothing c:\\Users\\morni\\Desktop\\vscode workspace\\Julia\\[2] Temas Selectos de Física Computacional\\ejercicios\\25_03_27.ipynb:In[3]:13\n",
      "┌ Warning: Assignment to `t_val` in soft scope is ambiguous because a global variable by the same name exists: `t_val` will be treated as a new local. Disambiguate by using `local t_val` to suppress this warning or `global t_val` to assign to the existing global variable.\n",
      "└ @ nothing c:\\Users\\morni\\Desktop\\vscode workspace\\Julia\\[2] Temas Selectos de Física Computacional\\ejercicios\\25_03_27.ipynb:In[3]:17\n",
      "┌ Warning: Assignment to `sol_S` in soft scope is ambiguous because a global variable by the same name exists: `sol_S` will be treated as a new local. Disambiguate by using `local sol_S` to suppress this warning or `global sol_S` to assign to the existing global variable.\n",
      "└ @ nothing c:\\Users\\morni\\Desktop\\vscode workspace\\Julia\\[2] Temas Selectos de Física Computacional\\ejercicios\\25_03_27.ipynb:In[3]:19\n",
      "┌ Warning: Assignment to `sol_I` in soft scope is ambiguous because a global variable by the same name exists: `sol_I` will be treated as a new local. Disambiguate by using `local sol_I` to suppress this warning or `global sol_I` to assign to the existing global variable.\n",
      "└ @ nothing c:\\Users\\morni\\Desktop\\vscode workspace\\Julia\\[2] Temas Selectos de Física Computacional\\ejercicios\\25_03_27.ipynb:In[3]:20\n",
      "┌ Warning: Assignment to `sol_R` in soft scope is ambiguous because a global variable by the same name exists: `sol_R` will be treated as a new local. Disambiguate by using `local sol_R` to suppress this warning or `global sol_R` to assign to the existing global variable.\n",
      "└ @ nothing c:\\Users\\morni\\Desktop\\vscode workspace\\Julia\\[2] Temas Selectos de Física Computacional\\ejercicios\\25_03_27.ipynb:In[3]:21\n"
     ]
    },
    {
     "ename": "LoadError",
     "evalue": "LoadError: syntax: invalid \"::\" syntax around c:\\Users\\morni\\Desktop\\vscode workspace\\Julia\\[2] Temas Selectos de Física Computacional\\ejercicios\\25_04_24.ipynb:In[+2]:1\nin expression starting at c:\\Users\\morni\\Desktop\\vscode workspace\\Julia\\[2] Temas Selectos de Física Computacional\\ejercicios\\25_04_24.ipynb:In[+2]:1\nin expression starting at c:\\Users\\morni\\Desktop\\vscode workspace\\Julia\\[2] Temas Selectos de Física Computacional\\ejercicios\\25_04_29.ipynb:In[+1]:2\nin expression starting at c:\\Users\\morni\\Desktop\\vscode workspace\\Julia\\[2] Temas Selectos de Física Computacional\\ejercicios\\25_05_01.ipynb:In[+1]:2",
     "output_type": "error",
     "traceback": [
      "LoadError: syntax: invalid \"::\" syntax around c:\\Users\\morni\\Desktop\\vscode workspace\\Julia\\[2] Temas Selectos de Física Computacional\\ejercicios\\25_04_24.ipynb:In[+2]:1\n",
      "in expression starting at c:\\Users\\morni\\Desktop\\vscode workspace\\Julia\\[2] Temas Selectos de Física Computacional\\ejercicios\\25_04_24.ipynb:In[+2]:1\n",
      "in expression starting at c:\\Users\\morni\\Desktop\\vscode workspace\\Julia\\[2] Temas Selectos de Física Computacional\\ejercicios\\25_04_29.ipynb:In[+1]:2\n",
      "in expression starting at c:\\Users\\morni\\Desktop\\vscode workspace\\Julia\\[2] Temas Selectos de Física Computacional\\ejercicios\\25_05_01.ipynb:In[+1]:2\n",
      "\n",
      "Stacktrace:\n",
      " [1] top-level scope\n",
      "   @ c:\\Users\\morni\\Desktop\\vscode workspace\\Julia\\[2] Temas Selectos de Física Computacional\\ejercicios\\25_04_24.ipynb:In[+2]:1"
     ]
    }
   ],
   "source": [
    "using NBInclude\n",
    "@nbinclude(\"25_05_01.ipynb\")"
   ]
  },
  {
   "cell_type": "code",
   "execution_count": null,
   "id": "78ac9811",
   "metadata": {},
   "outputs": [],
   "source": []
  }
 ],
 "metadata": {
  "kernelspec": {
   "display_name": "Julia 1.11.4",
   "language": "julia",
   "name": "julia-1.11"
  },
  "language_info": {
   "file_extension": ".jl",
   "mimetype": "application/julia",
   "name": "julia",
   "version": "1.11.4"
  }
 },
 "nbformat": 4,
 "nbformat_minor": 5
}
